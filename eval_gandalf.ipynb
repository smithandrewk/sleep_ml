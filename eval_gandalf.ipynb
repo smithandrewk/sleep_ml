{
 "cells": [
  {
   "cell_type": "code",
   "execution_count": 3,
   "metadata": {},
   "outputs": [],
   "source": [
    "from torch import nn\n",
    "from torch.nn.functional import relu\n",
    "import torch\n",
    "import os\n",
    "from sklearn.model_selection import train_test_split\n",
    "\n",
    "import matplotlib.pyplot as plt\n",
    "from lib.models import Gandalf\n",
    "from lib.utils import *\n",
    "\n",
    "from torch.utils.data import DataLoader\n",
    "from sklearn.metrics import ConfusionMatrixDisplay,classification_report"
   ]
  },
  {
   "cell_type": "code",
   "execution_count": 15,
   "metadata": {},
   "outputs": [
    {
     "name": "stderr",
     "output_type": "stream",
     "text": [
      "/tmp/ipykernel_879779/2017346022.py:10: FutureWarning: You are using `torch.load` with `weights_only=False` (the current default value), which uses the default pickle module implicitly. It is possible to construct malicious pickle data which will execute arbitrary code during unpickling (See https://github.com/pytorch/pytorch/blob/main/SECURITY.md#untrusted-models for more details). In a future release, the default value for `weights_only` will be flipped to `True`. This limits the functions that could be executed during unpickling. Arbitrary objects will no longer be allowed to be loaded via this mode unless they are explicitly allowlisted by the user via `torch.serialization.add_safe_globals`. We recommend you start setting `weights_only=True` for any use case where you don't have full control of the loaded file. Please open an issue on GitHub for any issues related to this experimental feature.\n",
      "  model.load_state_dict(torch.load(f=f'{GANDALFS_PATH}/gandalf_{FOLD}/last_model.pt',map_location='cpu'))\n"
     ]
    },
    {
     "name": "stdout",
     "output_type": "stream",
     "text": [
      "testloader: 270 batches\n"
     ]
    },
    {
     "name": "stderr",
     "output_type": "stream",
     "text": [
      " 41%|████      | 111/270 [00:04<00:06, 24.30it/s]"
     ]
    }
   ],
   "source": [
    "FOLD = 0\n",
    "\n",
    "folds = get_leave_one_out_cv_ids_for_ekyn()\n",
    "train_ids,test_ids = folds[FOLD]\n",
    "X,y = load_eeg_label_pair(id=train_ids[0],condition='PF')\n",
    "testloader = DataLoader(Windowset(X,y),batch_size=32,shuffle=False)\n",
    "print(f'testloader: {len(testloader)} batches')\n",
    "\n",
    "model = Gandalf()\n",
    "model.load_state_dict(torch.load(f=f'{GANDALFS_PATH}/gandalf_{FOLD}/last_model.pt',map_location='cpu'))\n",
    "model.to(DEVICE)\n",
    "\n",
    "criterion = torch.nn.CrossEntropyLoss()\n",
    "loss,y_true,y_pred = evaluate(testloader,model,criterion,'cuda')\n",
    "ConfusionMatrixDisplay.from_predictions(y_true,y_pred)\n",
    "report = classification_report(y_true,y_pred,output_dict=True)"
   ]
  },
  {
   "cell_type": "code",
   "execution_count": 13,
   "metadata": {},
   "outputs": [
    {
     "name": "stderr",
     "output_type": "stream",
     "text": [
      "0it [00:00, ?it/s]/tmp/ipykernel_879082/573782102.py:9: FutureWarning: You are using `torch.load` with `weights_only=False` (the current default value), which uses the default pickle module implicitly. It is possible to construct malicious pickle data which will execute arbitrary code during unpickling (See https://github.com/pytorch/pytorch/blob/main/SECURITY.md#untrusted-models for more details). In a future release, the default value for `weights_only` will be flipped to `True`. This limits the functions that could be executed during unpickling. Arbitrary objects will no longer be allowed to be loaded via this mode unless they are explicitly allowlisted by the user via `torch.serialization.add_safe_globals`. We recommend you start setting `weights_only=True` for any use case where you don't have full control of the loaded file. Please open an issue on GitHub for any issues related to this experimental feature.\n",
      "  model.load_state_dict(torch.load(f=f'{GANDALFS_PATH}/gandalf_{FOLD}/best_model.pt',map_location='cpu'))\n",
      "100%|██████████| 270/270 [00:10<00:00, 24.84it/s]\n",
      "100%|██████████| 270/270 [00:10<00:00, 25.93it/s]\n",
      "1it [00:21, 21.67s/it]/tmp/ipykernel_879082/573782102.py:9: FutureWarning: You are using `torch.load` with `weights_only=False` (the current default value), which uses the default pickle module implicitly. It is possible to construct malicious pickle data which will execute arbitrary code during unpickling (See https://github.com/pytorch/pytorch/blob/main/SECURITY.md#untrusted-models for more details). In a future release, the default value for `weights_only` will be flipped to `True`. This limits the functions that could be executed during unpickling. Arbitrary objects will no longer be allowed to be loaded via this mode unless they are explicitly allowlisted by the user via `torch.serialization.add_safe_globals`. We recommend you start setting `weights_only=True` for any use case where you don't have full control of the loaded file. Please open an issue on GitHub for any issues related to this experimental feature.\n",
      "  model.load_state_dict(torch.load(f=f'{GANDALFS_PATH}/gandalf_{FOLD}/best_model.pt',map_location='cpu'))\n",
      "100%|██████████| 270/270 [00:09<00:00, 27.31it/s]\n",
      "100%|██████████| 270/270 [00:09<00:00, 27.20it/s]\n",
      "2it [00:41, 20.78s/it]/tmp/ipykernel_879082/573782102.py:9: FutureWarning: You are using `torch.load` with `weights_only=False` (the current default value), which uses the default pickle module implicitly. It is possible to construct malicious pickle data which will execute arbitrary code during unpickling (See https://github.com/pytorch/pytorch/blob/main/SECURITY.md#untrusted-models for more details). In a future release, the default value for `weights_only` will be flipped to `True`. This limits the functions that could be executed during unpickling. Arbitrary objects will no longer be allowed to be loaded via this mode unless they are explicitly allowlisted by the user via `torch.serialization.add_safe_globals`. We recommend you start setting `weights_only=True` for any use case where you don't have full control of the loaded file. Please open an issue on GitHub for any issues related to this experimental feature.\n",
      "  model.load_state_dict(torch.load(f=f'{GANDALFS_PATH}/gandalf_{FOLD}/best_model.pt',map_location='cpu'))\n",
      "100%|██████████| 270/270 [00:09<00:00, 27.24it/s]\n",
      "100%|██████████| 270/270 [00:09<00:00, 27.37it/s]\n",
      "3it [01:01, 20.48s/it]/tmp/ipykernel_879082/573782102.py:9: FutureWarning: You are using `torch.load` with `weights_only=False` (the current default value), which uses the default pickle module implicitly. It is possible to construct malicious pickle data which will execute arbitrary code during unpickling (See https://github.com/pytorch/pytorch/blob/main/SECURITY.md#untrusted-models for more details). In a future release, the default value for `weights_only` will be flipped to `True`. This limits the functions that could be executed during unpickling. Arbitrary objects will no longer be allowed to be loaded via this mode unless they are explicitly allowlisted by the user via `torch.serialization.add_safe_globals`. We recommend you start setting `weights_only=True` for any use case where you don't have full control of the loaded file. Please open an issue on GitHub for any issues related to this experimental feature.\n",
      "  model.load_state_dict(torch.load(f=f'{GANDALFS_PATH}/gandalf_{FOLD}/best_model.pt',map_location='cpu'))\n",
      "100%|██████████| 270/270 [00:09<00:00, 27.29it/s]\n",
      "100%|██████████| 270/270 [00:09<00:00, 27.17it/s]\n",
      "4it [01:22, 20.36s/it]/tmp/ipykernel_879082/573782102.py:9: FutureWarning: You are using `torch.load` with `weights_only=False` (the current default value), which uses the default pickle module implicitly. It is possible to construct malicious pickle data which will execute arbitrary code during unpickling (See https://github.com/pytorch/pytorch/blob/main/SECURITY.md#untrusted-models for more details). In a future release, the default value for `weights_only` will be flipped to `True`. This limits the functions that could be executed during unpickling. Arbitrary objects will no longer be allowed to be loaded via this mode unless they are explicitly allowlisted by the user via `torch.serialization.add_safe_globals`. We recommend you start setting `weights_only=True` for any use case where you don't have full control of the loaded file. Please open an issue on GitHub for any issues related to this experimental feature.\n",
      "  model.load_state_dict(torch.load(f=f'{GANDALFS_PATH}/gandalf_{FOLD}/best_model.pt',map_location='cpu'))\n",
      "100%|██████████| 270/270 [00:09<00:00, 27.32it/s]\n",
      "100%|██████████| 270/270 [00:09<00:00, 27.36it/s]\n",
      "5it [01:42, 20.27s/it]/tmp/ipykernel_879082/573782102.py:9: FutureWarning: You are using `torch.load` with `weights_only=False` (the current default value), which uses the default pickle module implicitly. It is possible to construct malicious pickle data which will execute arbitrary code during unpickling (See https://github.com/pytorch/pytorch/blob/main/SECURITY.md#untrusted-models for more details). In a future release, the default value for `weights_only` will be flipped to `True`. This limits the functions that could be executed during unpickling. Arbitrary objects will no longer be allowed to be loaded via this mode unless they are explicitly allowlisted by the user via `torch.serialization.add_safe_globals`. We recommend you start setting `weights_only=True` for any use case where you don't have full control of the loaded file. Please open an issue on GitHub for any issues related to this experimental feature.\n",
      "  model.load_state_dict(torch.load(f=f'{GANDALFS_PATH}/gandalf_{FOLD}/best_model.pt',map_location='cpu'))\n",
      "100%|██████████| 270/270 [00:09<00:00, 27.65it/s]\n",
      "100%|██████████| 270/270 [00:09<00:00, 27.35it/s]\n",
      "6it [02:02, 20.17s/it]/tmp/ipykernel_879082/573782102.py:9: FutureWarning: You are using `torch.load` with `weights_only=False` (the current default value), which uses the default pickle module implicitly. It is possible to construct malicious pickle data which will execute arbitrary code during unpickling (See https://github.com/pytorch/pytorch/blob/main/SECURITY.md#untrusted-models for more details). In a future release, the default value for `weights_only` will be flipped to `True`. This limits the functions that could be executed during unpickling. Arbitrary objects will no longer be allowed to be loaded via this mode unless they are explicitly allowlisted by the user via `torch.serialization.add_safe_globals`. We recommend you start setting `weights_only=True` for any use case where you don't have full control of the loaded file. Please open an issue on GitHub for any issues related to this experimental feature.\n",
      "  model.load_state_dict(torch.load(f=f'{GANDALFS_PATH}/gandalf_{FOLD}/best_model.pt',map_location='cpu'))\n",
      "100%|██████████| 270/270 [00:09<00:00, 27.39it/s]\n",
      "100%|██████████| 270/270 [00:09<00:00, 27.39it/s]\n",
      "7it [02:22, 20.13s/it]/tmp/ipykernel_879082/573782102.py:9: FutureWarning: You are using `torch.load` with `weights_only=False` (the current default value), which uses the default pickle module implicitly. It is possible to construct malicious pickle data which will execute arbitrary code during unpickling (See https://github.com/pytorch/pytorch/blob/main/SECURITY.md#untrusted-models for more details). In a future release, the default value for `weights_only` will be flipped to `True`. This limits the functions that could be executed during unpickling. Arbitrary objects will no longer be allowed to be loaded via this mode unless they are explicitly allowlisted by the user via `torch.serialization.add_safe_globals`. We recommend you start setting `weights_only=True` for any use case where you don't have full control of the loaded file. Please open an issue on GitHub for any issues related to this experimental feature.\n",
      "  model.load_state_dict(torch.load(f=f'{GANDALFS_PATH}/gandalf_{FOLD}/best_model.pt',map_location='cpu'))\n",
      "100%|██████████| 270/270 [00:09<00:00, 27.41it/s]\n",
      "100%|██████████| 270/270 [00:09<00:00, 27.34it/s]\n",
      "8it [02:42, 20.11s/it]/tmp/ipykernel_879082/573782102.py:9: FutureWarning: You are using `torch.load` with `weights_only=False` (the current default value), which uses the default pickle module implicitly. It is possible to construct malicious pickle data which will execute arbitrary code during unpickling (See https://github.com/pytorch/pytorch/blob/main/SECURITY.md#untrusted-models for more details). In a future release, the default value for `weights_only` will be flipped to `True`. This limits the functions that could be executed during unpickling. Arbitrary objects will no longer be allowed to be loaded via this mode unless they are explicitly allowlisted by the user via `torch.serialization.add_safe_globals`. We recommend you start setting `weights_only=True` for any use case where you don't have full control of the loaded file. Please open an issue on GitHub for any issues related to this experimental feature.\n",
      "  model.load_state_dict(torch.load(f=f'{GANDALFS_PATH}/gandalf_{FOLD}/best_model.pt',map_location='cpu'))\n",
      "100%|██████████| 270/270 [00:09<00:00, 27.37it/s]\n",
      "100%|██████████| 270/270 [00:09<00:00, 27.43it/s]\n",
      "9it [03:02, 20.09s/it]/tmp/ipykernel_879082/573782102.py:9: FutureWarning: You are using `torch.load` with `weights_only=False` (the current default value), which uses the default pickle module implicitly. It is possible to construct malicious pickle data which will execute arbitrary code during unpickling (See https://github.com/pytorch/pytorch/blob/main/SECURITY.md#untrusted-models for more details). In a future release, the default value for `weights_only` will be flipped to `True`. This limits the functions that could be executed during unpickling. Arbitrary objects will no longer be allowed to be loaded via this mode unless they are explicitly allowlisted by the user via `torch.serialization.add_safe_globals`. We recommend you start setting `weights_only=True` for any use case where you don't have full control of the loaded file. Please open an issue on GitHub for any issues related to this experimental feature.\n",
      "  model.load_state_dict(torch.load(f=f'{GANDALFS_PATH}/gandalf_{FOLD}/best_model.pt',map_location='cpu'))\n",
      "100%|██████████| 270/270 [00:09<00:00, 27.37it/s]\n",
      "100%|██████████| 270/270 [00:09<00:00, 27.45it/s]\n",
      "10it [03:22, 20.08s/it]/tmp/ipykernel_879082/573782102.py:9: FutureWarning: You are using `torch.load` with `weights_only=False` (the current default value), which uses the default pickle module implicitly. It is possible to construct malicious pickle data which will execute arbitrary code during unpickling (See https://github.com/pytorch/pytorch/blob/main/SECURITY.md#untrusted-models for more details). In a future release, the default value for `weights_only` will be flipped to `True`. This limits the functions that could be executed during unpickling. Arbitrary objects will no longer be allowed to be loaded via this mode unless they are explicitly allowlisted by the user via `torch.serialization.add_safe_globals`. We recommend you start setting `weights_only=True` for any use case where you don't have full control of the loaded file. Please open an issue on GitHub for any issues related to this experimental feature.\n",
      "  model.load_state_dict(torch.load(f=f'{GANDALFS_PATH}/gandalf_{FOLD}/best_model.pt',map_location='cpu'))\n",
      "100%|██████████| 270/270 [00:09<00:00, 27.46it/s]\n",
      "100%|██████████| 270/270 [00:09<00:00, 27.43it/s]\n",
      "11it [03:42, 20.06s/it]/tmp/ipykernel_879082/573782102.py:9: FutureWarning: You are using `torch.load` with `weights_only=False` (the current default value), which uses the default pickle module implicitly. It is possible to construct malicious pickle data which will execute arbitrary code during unpickling (See https://github.com/pytorch/pytorch/blob/main/SECURITY.md#untrusted-models for more details). In a future release, the default value for `weights_only` will be flipped to `True`. This limits the functions that could be executed during unpickling. Arbitrary objects will no longer be allowed to be loaded via this mode unless they are explicitly allowlisted by the user via `torch.serialization.add_safe_globals`. We recommend you start setting `weights_only=True` for any use case where you don't have full control of the loaded file. Please open an issue on GitHub for any issues related to this experimental feature.\n",
      "  model.load_state_dict(torch.load(f=f'{GANDALFS_PATH}/gandalf_{FOLD}/best_model.pt',map_location='cpu'))\n",
      "100%|██████████| 270/270 [00:09<00:00, 27.33it/s]\n",
      "100%|██████████| 270/270 [00:09<00:00, 27.41it/s]\n",
      "12it [04:02, 20.06s/it]/tmp/ipykernel_879082/573782102.py:9: FutureWarning: You are using `torch.load` with `weights_only=False` (the current default value), which uses the default pickle module implicitly. It is possible to construct malicious pickle data which will execute arbitrary code during unpickling (See https://github.com/pytorch/pytorch/blob/main/SECURITY.md#untrusted-models for more details). In a future release, the default value for `weights_only` will be flipped to `True`. This limits the functions that could be executed during unpickling. Arbitrary objects will no longer be allowed to be loaded via this mode unless they are explicitly allowlisted by the user via `torch.serialization.add_safe_globals`. We recommend you start setting `weights_only=True` for any use case where you don't have full control of the loaded file. Please open an issue on GitHub for any issues related to this experimental feature.\n",
      "  model.load_state_dict(torch.load(f=f'{GANDALFS_PATH}/gandalf_{FOLD}/best_model.pt',map_location='cpu'))\n",
      "100%|██████████| 270/270 [00:09<00:00, 27.20it/s]\n",
      "100%|██████████| 270/270 [00:09<00:00, 27.24it/s]\n",
      "13it [04:22, 20.10s/it]/tmp/ipykernel_879082/573782102.py:9: FutureWarning: You are using `torch.load` with `weights_only=False` (the current default value), which uses the default pickle module implicitly. It is possible to construct malicious pickle data which will execute arbitrary code during unpickling (See https://github.com/pytorch/pytorch/blob/main/SECURITY.md#untrusted-models for more details). In a future release, the default value for `weights_only` will be flipped to `True`. This limits the functions that could be executed during unpickling. Arbitrary objects will no longer be allowed to be loaded via this mode unless they are explicitly allowlisted by the user via `torch.serialization.add_safe_globals`. We recommend you start setting `weights_only=True` for any use case where you don't have full control of the loaded file. Please open an issue on GitHub for any issues related to this experimental feature.\n",
      "  model.load_state_dict(torch.load(f=f'{GANDALFS_PATH}/gandalf_{FOLD}/best_model.pt',map_location='cpu'))\n",
      "100%|██████████| 270/270 [00:09<00:00, 27.81it/s]\n",
      "100%|██████████| 270/270 [00:09<00:00, 28.17it/s]\n",
      "14it [04:42, 19.96s/it]/tmp/ipykernel_879082/573782102.py:9: FutureWarning: You are using `torch.load` with `weights_only=False` (the current default value), which uses the default pickle module implicitly. It is possible to construct malicious pickle data which will execute arbitrary code during unpickling (See https://github.com/pytorch/pytorch/blob/main/SECURITY.md#untrusted-models for more details). In a future release, the default value for `weights_only` will be flipped to `True`. This limits the functions that could be executed during unpickling. Arbitrary objects will no longer be allowed to be loaded via this mode unless they are explicitly allowlisted by the user via `torch.serialization.add_safe_globals`. We recommend you start setting `weights_only=True` for any use case where you don't have full control of the loaded file. Please open an issue on GitHub for any issues related to this experimental feature.\n",
      "  model.load_state_dict(torch.load(f=f'{GANDALFS_PATH}/gandalf_{FOLD}/best_model.pt',map_location='cpu'))\n",
      "100%|██████████| 270/270 [00:09<00:00, 28.01it/s]\n",
      "100%|██████████| 270/270 [00:10<00:00, 26.37it/s]\n",
      "15it [05:02, 20.04s/it]/tmp/ipykernel_879082/573782102.py:9: FutureWarning: You are using `torch.load` with `weights_only=False` (the current default value), which uses the default pickle module implicitly. It is possible to construct malicious pickle data which will execute arbitrary code during unpickling (See https://github.com/pytorch/pytorch/blob/main/SECURITY.md#untrusted-models for more details). In a future release, the default value for `weights_only` will be flipped to `True`. This limits the functions that could be executed during unpickling. Arbitrary objects will no longer be allowed to be loaded via this mode unless they are explicitly allowlisted by the user via `torch.serialization.add_safe_globals`. We recommend you start setting `weights_only=True` for any use case where you don't have full control of the loaded file. Please open an issue on GitHub for any issues related to this experimental feature.\n",
      "  model.load_state_dict(torch.load(f=f'{GANDALFS_PATH}/gandalf_{FOLD}/best_model.pt',map_location='cpu'))\n",
      "100%|██████████| 270/270 [00:10<00:00, 25.01it/s]\n",
      "100%|██████████| 270/270 [00:10<00:00, 24.64it/s]\n",
      "16it [05:24, 20.29s/it]\n"
     ]
    }
   ],
   "source": [
    "from sklearn.metrics import ConfusionMatrixDisplay,classification_report\n",
    "\n",
    "folds = get_leave_one_out_cv_ids_for_ekyn()\n",
    "criterion = torch.nn.CrossEntropyLoss()\n",
    "reports = []\n",
    "\n",
    "for FOLD,(train_ids,test_ids) in tqdm(enumerate(folds)):\n",
    "    model = Gandalf()\n",
    "    model.load_state_dict(torch.load(f=f'{GANDALFS_PATH}/gandalf_{FOLD}/best_model.pt',map_location='cpu',weights_only=False))\n",
    "    model.to(DEVICE)\n",
    "    for condition in ['Vehicle','PF']:\n",
    "        X,y = load_eeg_label_pair(id=test_ids[0],condition=condition)\n",
    "        testloader = DataLoader(Windowset(X,y),batch_size=32,shuffle=False)\n",
    "        loss,y_true,y_pred = evaluate(testloader,model,criterion,'cuda')\n",
    "        report = classification_report(y_true,y_pred,output_dict=True)\n",
    "        reports.append(report)"
   ]
  },
  {
   "cell_type": "code",
   "execution_count": 17,
   "metadata": {},
   "outputs": [
    {
     "data": {
      "text/plain": [
       "[0.7497158451653374,\n",
       " 0.7076714266654877,\n",
       " 0.697565175625257,\n",
       " 0.669308845133585,\n",
       " 0.730688764572463,\n",
       " 0.7454268895381664,\n",
       " 0.7263209654624437,\n",
       " 0.7366998788175567,\n",
       " 0.724037608298091,\n",
       " 0.6891391600753284,\n",
       " 0.6618482017433407,\n",
       " 0.5479359077335869,\n",
       " 0.7013755863201446,\n",
       " 0.7156419832181813,\n",
       " 0.6864939527264952,\n",
       " 0.6989276761877612,\n",
       " 0.7014350779884696,\n",
       " 0.7030651600632591,\n",
       " 0.6931989548124466,\n",
       " 0.7102414916358168,\n",
       " 0.6818893963497358,\n",
       " 0.6714282887079445,\n",
       " 0.6834193765549834,\n",
       " 0.675662099798097,\n",
       " 0.7368521473437685,\n",
       " 0.728086486477015,\n",
       " 0.6939968400587316,\n",
       " 0.7096473501308634,\n",
       " 0.6352741637010335,\n",
       " 0.6744911611440095,\n",
       " 0.6828716126577463,\n",
       " 0.6539611354388838]"
      ]
     },
     "execution_count": 17,
     "metadata": {},
     "output_type": "execute_result"
    }
   ],
   "source": [
    "[report['macro avg']['f1-score'] for report in reports]"
   ]
  },
  {
   "cell_type": "code",
   "execution_count": null,
   "metadata": {},
   "outputs": [],
   "source": []
  }
 ],
 "metadata": {
  "kernelspec": {
   "display_name": "Python 3",
   "language": "python",
   "name": "python3"
  },
  "language_info": {
   "codemirror_mode": {
    "name": "ipython",
    "version": 3
   },
   "file_extension": ".py",
   "mimetype": "text/x-python",
   "name": "python",
   "nbconvert_exporter": "python",
   "pygments_lexer": "ipython3",
   "version": "3.10.12"
  }
 },
 "nbformat": 4,
 "nbformat_minor": 2
}
