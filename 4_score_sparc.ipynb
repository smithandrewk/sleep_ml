{
 "cells": [
  {
   "cell_type": "code",
   "execution_count": null,
   "metadata": {},
   "outputs": [],
   "source": [
    "%load_ext autoreload\n",
    "%autoreload 2\n",
    "\n",
    "mapping = {\n",
    "    \"SPARC-10-M\":\"EEG 1\", \n",
    "    \"SPARC-11-M\":\"EEG 1\",\n",
    "    \"SPARC-12-M\":\"EEG 1\",\n",
    "    \"SPARC-13-M\":\"EEG 1\",\n",
    "    \"SPARC-14-M\":\"EEG 1\",\n",
    "    \"SPARC-15-M\":\"EEG 1\",\n",
    "    \"SPARC-17-M\":\"EEG 2\",\n",
    "    \"SPARC-18-M\":\"EEG 1\",\n",
    "    \"SPARC-2-F\":\"EEG 1\",\n",
    "    \"SPARC-4-F\":\"EEG 1\",\n",
    "    \"SPARC-5-F\":\"Channel-2\",\n",
    "    \"SPARC-8-F\":\"Channel-10\",\n",
    "    \"SPARC-9-F\":\"Channel-2\",\n",
    "    \"SPARC-10-F\":\"Channel-50\",\n",
    "    \"SPARC-11-F\":\"Channel-18\",\n",
    "    \"SPARC-12-F\":\"Channel-42\",\n",
    "    \"SPARC-13-F\":\"EEG 1\",\n",
    "    \"SPARC-14-F\":\"EEG 1\",\n",
    "    \"SPARC-15-F\":\"EEG 1\",\n",
    "    \"SPARC-16-F\":\"EEG 2\"\n",
    "}"
   ]
  },
  {
   "cell_type": "code",
   "execution_count": null,
   "metadata": {},
   "outputs": [],
   "source": [
    "from lib.utils import *\n",
    "from lib.models import *\n",
    "from lib.ekyn import *\n",
    "from lib.env import *\n",
    "from lib.datasets import *\n",
    "\n",
    "class FeatureSet(Dataset):\n",
    "    def __init__(self,X):\n",
    "        self.len = len(X)\n",
    "        self.X = cat([zeros(4,5000),X,zeros(4,5000)])\n",
    "\n",
    "    def __len__(self):\n",
    "        return self.len\n",
    "\n",
    "    def __getitem__(self, idx):\n",
    "        return self.X[idx:idx+9].flatten()"
   ]
  },
  {
   "cell_type": "code",
   "execution_count": null,
   "metadata": {},
   "outputs": [],
   "source": [
    "for id in get_ekyn_ids():\n",
    "    X,y = load_eeg_label_pairs(ids=[id])\n",
    "    print(X.std())"
   ]
  },
  {
   "cell_type": "code",
   "execution_count": null,
   "metadata": {},
   "outputs": [],
   "source": [
    "import os\n",
    "files = os.listdir(f'{DATA_PATH}/icv/edf')\n",
    "print(files)\n",
    "# file = 'SPARC-15-F'\n",
    "for file in files:\n",
    "    file = file.replace('.edf','')\n",
    "    print(file,mapping[file])\n",
    "    raw = read_raw_edf(f'{DATA_PATH}/icv/edf/{file}.edf',verbose=False)\n",
    "    eeg = raw.get_data(picks=mapping[file])\n",
    "    print(eeg.mean(),eeg.std())"
   ]
  },
  {
   "cell_type": "code",
   "execution_count": null,
   "metadata": {},
   "outputs": [],
   "source": [
    "5e-5\n",
    "5e-2\n",
    "# .00005\n",
    "# .05"
   ]
  },
  {
   "cell_type": "code",
   "execution_count": null,
   "metadata": {},
   "outputs": [],
   "source": [
    "import os\n",
    "files = os.listdir(f'{DATA_PATH}/icv/edf')\n",
    "print(files)\n",
    "# file = files[0]\n",
    "file = 'SPARC-12-F'\n",
    "file = file.replace('.edf','')\n",
    "print(file,mapping[file])\n",
    "raw = read_raw_edf(f'{DATA_PATH}/icv/edf/{file}.edf',verbose=False)\n",
    "raw.ch_names\n",
    "eeg = raw.get_data(picks=mapping[file])\n",
    "print(eeg.mean(),eeg.std())\n",
    "plt.plot(eeg.reshape(-1,5000)[:10].flatten())"
   ]
  },
  {
   "cell_type": "code",
   "execution_count": null,
   "metadata": {},
   "outputs": [],
   "source": [
    "eeg = eeg/1000"
   ]
  },
  {
   "cell_type": "code",
   "execution_count": null,
   "metadata": {},
   "outputs": [],
   "source": [
    "print(eeg.mean(),eeg.std())\n"
   ]
  },
  {
   "cell_type": "code",
   "execution_count": null,
   "metadata": {},
   "outputs": [],
   "source": [
    "eeg = eeg.reshape(-1,5000)\n",
    "eeg = torch.from_numpy(eeg).float()\n",
    "print(eeg.shape)\n",
    "dataloader = DataLoader(dataset=FeatureSet(eeg),batch_size=32,shuffle=False)"
   ]
  },
  {
   "cell_type": "code",
   "execution_count": null,
   "metadata": {},
   "outputs": [],
   "source": [
    "def score(dataloader,model,DEVICE=DEVICE):\n",
    "    with torch.no_grad():\n",
    "        y_pred = torch.Tensor()\n",
    "        y_logits = torch.Tensor()\n",
    "        for Xi in tqdm(dataloader):\n",
    "            Xi = Xi.to(DEVICE)\n",
    "            logits = model(Xi)\n",
    "            y_logits = torch.cat([y_logits,torch.softmax(logits,dim=1).detach().cpu()])\n",
    "            y_pred = torch.cat([y_pred,torch.softmax(logits,dim=1).argmax(axis=1).detach().cpu()])\n",
    "    return y_pred,y_logits"
   ]
  },
  {
   "cell_type": "code",
   "execution_count": null,
   "metadata": {},
   "outputs": [],
   "source": [
    "# for i in range(2,16):\n",
    "i = 0\n",
    "model = Gandalf()\n",
    "model.load_state_dict(torch.load(f=f'../models/gandalfs/gandalf_{i}/best_model.pt',map_location='cpu'))\n",
    "model.to(DEVICE);\n",
    "y_pred,y_logits = score(dataloader,model)"
   ]
  },
  {
   "cell_type": "code",
   "execution_count": 50,
   "metadata": {},
   "outputs": [
    {
     "name": "stdout",
     "output_type": "stream",
     "text": [
      "tensor([0.0723, 0.3832, 0.5446])\n"
     ]
    }
   ],
   "source": [
    "\n",
    "print(torch.bincount(y_pred.long())/len(y_pred))"
   ]
  },
  {
   "cell_type": "code",
   "execution_count": null,
   "metadata": {},
   "outputs": [],
   "source": [
    "plot_eeg_and_labels(eeg,torch.ones(len(eeg)),start=0,duration=300)"
   ]
  },
  {
   "cell_type": "code",
   "execution_count": null,
   "metadata": {},
   "outputs": [],
   "source": [
    "path = f'../data/ICV/csv'\n",
    "import os\n",
    "for file in os.listdir(f'{path}'):\n",
    "    df = pd.read_csv(f'{path}/{file}')\n",
    "    print(df['0'].value_counts(normalize=True))"
   ]
  }
 ],
 "metadata": {
  "kernelspec": {
   "display_name": "Python 3.10.12 64-bit",
   "language": "python",
   "name": "python3"
  },
  "language_info": {
   "codemirror_mode": {
    "name": "ipython",
    "version": 3
   },
   "file_extension": ".py",
   "mimetype": "text/x-python",
   "name": "python",
   "nbconvert_exporter": "python",
   "pygments_lexer": "ipython3",
   "version": "3.10.12"
  },
  "orig_nbformat": 4,
  "vscode": {
   "interpreter": {
    "hash": "916dbcbb3f70747c44a77c7bcd40155683ae19c65e1c03b4aa3499c5328201f1"
   }
  }
 },
 "nbformat": 4,
 "nbformat_minor": 2
}
