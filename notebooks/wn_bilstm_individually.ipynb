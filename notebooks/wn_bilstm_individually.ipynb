{
 "cells": [
  {
   "cell_type": "code",
   "execution_count": 3,
   "metadata": {},
   "outputs": [
    {
     "name": "stderr",
     "output_type": "stream",
     "text": [
      "100%|██████████| 32/32 [06:08<00:00, 11.50s/it]\n"
     ]
    }
   ],
   "source": [
    "from tqdm import tqdm\n",
    "from lib.utils import load_raw_list\n",
    "import os\n",
    "import torch\n",
    "from sklearn.model_selection import train_test_split\n",
    "from imblearn.over_sampling import SMOTE\n",
    "from torch.nn.functional import one_hot\n",
    "\n",
    "normalize = True\n",
    "balance = True\n",
    "windowsize = 9\n",
    "y_train_all = torch.Tensor()\n",
    "y_test_all = torch.Tensor()\n",
    "x_train_i = 0\n",
    "x_test_i = 0\n",
    "data_dir = f'w{windowsize}_bilstm'\n",
    "os.makedirs(data_dir)\n",
    "os.makedirs(f'{data_dir}/train')\n",
    "os.makedirs(f'{data_dir}/test')\n",
    "\n",
    "for fileindex in tqdm(range(32)):\n",
    "    X,y = load_raw_list([fileindex])\n",
    "\n",
    "    if(normalize):\n",
    "        # center, stretch\n",
    "        X = (X - X.mean(axis=1,keepdim=True))/X.std(axis=1,keepdim=True)\n",
    "        # drop row if any element is inf\n",
    "        not_inf_idx = torch.where(~X.isinf().any(axis=1))[0]\n",
    "        X,y = X[not_inf_idx], y[not_inf_idx]\n",
    "\n",
    "    cat = [X[:-(windowsize-1)]]\n",
    "\n",
    "    for i in range(1,(windowsize-1)):\n",
    "        cat.append(X[i:i-(windowsize-1)])\n",
    "    cat.append(X[(windowsize-1):])\n",
    "\n",
    "    X = torch.cat(cat,axis=1).float()\n",
    "    y = y[windowsize//2:-(windowsize//2)]\n",
    "\n",
    "    X_train,X_test,y_train,y_test = train_test_split(X,y,test_size=.5,shuffle=True,stratify=y,random_state=0)\n",
    "\n",
    "    if (balance):\n",
    "        sm = SMOTE(random_state=0)\n",
    "        X_train_res, y_train_res = sm.fit_resample(X_train, y_train.argmax(axis=1))\n",
    "\n",
    "    X_train_res = torch.from_numpy(X_train_res)\n",
    "    y_train_res_oh = one_hot(torch.from_numpy(y_train_res)).float()\n",
    "\n",
    "\n",
    "    y_train_all = torch.cat([y_train_all,y_train_res_oh])\n",
    "    y_test_all = torch.cat([y_test_all,y_test])\n",
    "\n",
    "    for Xi in X_train_res:\n",
    "        torch.save(Xi.clone(),f'{data_dir}/train/{x_train_i}.pt')\n",
    "        x_train_i += 1\n",
    "    for Xi in X_test:\n",
    "        torch.save(Xi.clone(),f'{data_dir}/test/{x_test_i}.pt')\n",
    "        x_test_i += 1\n",
    "torch.save(y_train_all,f'{data_dir}/y_train.pt')\n",
    "torch.save(y_test_all,f'{data_dir}/y_test.pt')"
   ]
  }
 ],
 "metadata": {
  "kernelspec": {
   "display_name": "Python 3.10.6 64-bit",
   "language": "python",
   "name": "python3"
  },
  "language_info": {
   "codemirror_mode": {
    "name": "ipython",
    "version": 3
   },
   "file_extension": ".py",
   "mimetype": "text/x-python",
   "name": "python",
   "nbconvert_exporter": "python",
   "pygments_lexer": "ipython3",
   "version": "3.10.6"
  },
  "orig_nbformat": 4,
  "vscode": {
   "interpreter": {
    "hash": "916dbcbb3f70747c44a77c7bcd40155683ae19c65e1c03b4aa3499c5328201f1"
   }
  }
 },
 "nbformat": 4,
 "nbformat_minor": 2
}
