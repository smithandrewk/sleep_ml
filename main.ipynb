{
 "cells": [
  {
   "cell_type": "code",
   "execution_count": 69,
   "metadata": {},
   "outputs": [],
   "source": [
    "from lib.ekyn import *\n",
    "from torch.utils.data import DataLoader,ConcatDataset,TensorDataset\n",
    "from lib.datasets import EpochedDataset\n",
    "from sklearn.model_selection import train_test_split\n",
    "import torch\n",
    "from lib.models import RegNetX\n",
    "import matplotlib.pyplot as plt\n",
    "from tqdm import tqdm\n",
    "from torch import nn\n",
    "from torch.nn.functional import relu\n",
    "\n",
    "CONFIG = {\n",
    "    'BATCH_SIZE':256,\n",
    "    'WINDOW_SIZE':5000,\n",
    "    'LEARNING_RATE':3e-4,\n",
    "    'TEST_SIZE':.25,\n",
    "    'DEVICE':'cuda',\n",
    "    'DEPTHI':[4,4,1,1],\n",
    "    'WIDTHI':[4,8,16,32],\n",
    "    'STEM_KERNEL_SIZE':7\n",
    "}\n",
    "\n",
    "class EpochedDataset(torch.utils.data.Dataset):\n",
    "    \"\"\"\n",
    "    Dataset for training w1 resnets with ekyn data\n",
    "    \"\"\"\n",
    "    def __init__(self,dataset='ekyn',id='A1-1',condition='Vehicle',robust=True):\n",
    "        if dataset == 'ekyn':\n",
    "            if robust:\n",
    "                X,y = load_ekyn_pt_robust(id=id,condition=condition)\n",
    "            else:\n",
    "                X,y = load_ekyn_pt(id=id,condition=condition)\n",
    "        elif dataset == 'snezana_mice':\n",
    "            if robust:\n",
    "                X,y = load_snezana_mice_pt_robust(id=id)\n",
    "            else:\n",
    "                X,y = load_snezana_mice_pt(id=id)\n",
    "        self.X = X\n",
    "        self.y = y\n",
    "        self.id = id\n",
    "\n",
    "    def __len__(self):\n",
    "        return len(self.y)\n",
    "\n",
    "    def __getitem__(self, idx):\n",
    "        return (self.X[idx:idx+1],self.y[idx])\n",
    "\n",
    "snezana_mice_ids = get_snezana_mice_ids()\n",
    "ekyn_ids = get_ekyn_ids()\n",
    "\n",
    "trainloader = DataLoader(\n",
    "    ConcatDataset(\n",
    "        [\n",
    "            EpochedDataset(\n",
    "                dataset='ekyn',id=id,condition='Vehicle'\n",
    "                ) for id in ekyn_ids[:4]\n",
    "        ] + \n",
    "        [\n",
    "            EpochedDataset(\n",
    "                dataset='snezana_mice',id=id\n",
    "                ) for id in snezana_mice_ids[:4]\n",
    "        ]\n",
    "        ),batch_size=CONFIG['BATCH_SIZE'],shuffle=True\n",
    "    )\n",
    "# devloader = DataLoader(\n",
    "#     ConcatDataset(\n",
    "#         [\n",
    "#             EpochedDataset(\n",
    "#                 dataset='ekyn',id=id,condition='Vehicle'\n",
    "#                 ) for id in ekyn_ids[4:5]\n",
    "#         ] + \n",
    "#         [\n",
    "#             EpochedDataset(\n",
    "#                 dataset='snezana_mice',id=id\n",
    "#                 ) for id in snezana_mice_ids[4:5]\n",
    "#         ]\n",
    "#         ),batch_size=CONFIG['BATCH_SIZE'],shuffle=True\n",
    "#     )\n",
    "ekynloader = DataLoader(\n",
    "    ConcatDataset(\n",
    "        [\n",
    "            EpochedDataset(\n",
    "                dataset='ekyn',id=id,condition='Vehicle'\n",
    "                ) for id in ekyn_ids[4:8]\n",
    "        ]\n",
    "        ),batch_size=CONFIG['BATCH_SIZE'],shuffle=True\n",
    "    )\n",
    "miceloader = DataLoader(\n",
    "    ConcatDataset(\n",
    "        [\n",
    "            EpochedDataset(\n",
    "                dataset='snezana_mice',id=id\n",
    "                ) for id in snezana_mice_ids[4:8]\n",
    "        ]\n",
    "        ),batch_size=CONFIG['BATCH_SIZE'],shuffle=True\n",
    "    )"
   ]
  },
  {
   "cell_type": "code",
   "execution_count": 70,
   "metadata": {},
   "outputs": [
    {
     "name": "stdout",
     "output_type": "stream",
     "text": [
      "3639\n"
     ]
    }
   ],
   "source": [
    "from lib.models import YBlock,RegNetY\n",
    "import math\n",
    "model = RegNetY(depth=CONFIG['DEPTHI'],width=CONFIG['WIDTHI'],stem_kernel_size=CONFIG['STEM_KERNEL_SIZE'])\n",
    "criterion = torch.nn.CrossEntropyLoss()\n",
    "# criterion = nn.CrossEntropyLoss(weight=torch.tensor([18.3846,  2.2810,  1.9716]))\n",
    "optimizer = torch.optim.AdamW(model.parameters(),lr=CONFIG['LEARNING_RATE'])\n",
    "model.to(CONFIG['DEVICE']);\n",
    "criterion.to(CONFIG['DEVICE']);\n",
    "print(sum([p.flatten().size()[0] for p in list(model.parameters())]))"
   ]
  },
  {
   "cell_type": "code",
   "execution_count": 71,
   "metadata": {},
   "outputs": [
    {
     "name": "stderr",
     "output_type": "stream",
     "text": [
      " 23%|██▎       | 227/1000 [31:15<1:50:49,  8.60s/it]"
     ]
    }
   ],
   "source": [
    "lossi = []\n",
    "trainlossi = []\n",
    "trainf1 = []\n",
    "devlossi = []\n",
    "devf1 = []\n",
    "ekynlossi = []\n",
    "ekynf1 = []\n",
    "micelossi = []\n",
    "micef1 = []\n",
    "model.train()\n",
    "from lib.utils import training_loop,development_loop\n",
    "for i in tqdm(range(1000)):\n",
    "    loss,f1 = training_loop(model=model,trainloader=trainloader,criterion=criterion,optimizer=optimizer,device=CONFIG['DEVICE'])\n",
    "    trainlossi.append(loss)\n",
    "    trainf1.append(f1)\n",
    "\n",
    "    # loss,f1 = development_loop(model=model,devloader=devloader,criterion=criterion,device=CONFIG['DEVICE'])\n",
    "    # devlossi.append(loss)\n",
    "    # devf1.append(f1)\n",
    "\n",
    "    loss,f1 = development_loop(model=model,devloader=ekynloader,criterion=criterion,device=CONFIG['DEVICE'])\n",
    "    ekynlossi.append(loss)\n",
    "    ekynf1.append(f1)\n",
    "\n",
    "    loss,f1 = development_loop(model=model,devloader=miceloader,criterion=criterion,device=CONFIG['DEVICE'])\n",
    "    micelossi.append(loss)\n",
    "    micef1.append(f1)\n",
    "\n",
    "    fig,ax = plt.subplots(nrows=1,ncols=2,figsize=(20,4))\n",
    "    ax[0].plot(trainlossi)\n",
    "    # ax[0].plot(devlossi)\n",
    "    ax[0].plot(ekynlossi)\n",
    "    ax[0].plot(micelossi)\n",
    "    ax[1].plot(trainf1)\n",
    "    # ax[1].plot(devf1)\n",
    "    ax[1].plot(ekynf1)\n",
    "    ax[1].plot(micef1)\n",
    "    plt.savefig('loss.jpg')\n",
    "    plt.close()"
   ]
  },
  {
   "cell_type": "code",
   "execution_count": 52,
   "metadata": {},
   "outputs": [
    {
     "name": "stderr",
     "output_type": "stream",
     "text": [
      "100%|██████████| 608/608 [00:02<00:00, 248.15it/s]\n"
     ]
    },
    {
     "name": "stdout",
     "output_type": "stream",
     "text": [
      "              precision    recall  f1-score   support\n",
      "\n",
      "         0.0       0.72      0.28      0.40      6479\n",
      "         1.0       0.94      0.93      0.93     59363\n",
      "         2.0       0.91      0.95      0.93     89678\n",
      "\n",
      "    accuracy                           0.92    155520\n",
      "   macro avg       0.85      0.72      0.76    155520\n",
      "weighted avg       0.91      0.92      0.91    155520\n",
      "\n",
      "0.2228319067753067\n"
     ]
    },
    {
     "data": {
      "image/png": "[encoded data removed]",
      "text/plain": [
       "<Figure size 640x480 with 2 Axes>"
      ]
     },
     "metadata": {},
     "output_type": "display_data"
    }
   ],
   "source": [
    "from lib.utils import evaluate\n",
    "from sklearn.metrics import ConfusionMatrixDisplay,classification_report\n",
    "\n",
    "loss,report,y_true,y_pred,y_logits = evaluate(dataloader=trainloader,model=model,criterion=criterion,DEVICE=CONFIG['DEVICE'])\n",
    "ConfusionMatrixDisplay.from_predictions(y_true,y_pred,normalize='true')\n",
    "print(classification_report(y_true,y_pred))\n",
    "print(loss)"
   ]
  },
  {
   "cell_type": "code",
   "execution_count": 53,
   "metadata": {},
   "outputs": [
    {
     "name": "stderr",
     "output_type": "stream",
     "text": [
      "100%|██████████| 169/169 [00:00<00:00, 231.73it/s]\n"
     ]
    },
    {
     "name": "stdout",
     "output_type": "stream",
     "text": [
      "              precision    recall  f1-score   support\n",
      "\n",
      "         0.0       0.59      0.29      0.39      2099\n",
      "         1.0       0.92      0.96      0.94     18599\n",
      "         2.0       0.91      0.92      0.91     22502\n",
      "\n",
      "    accuracy                           0.91     43200\n",
      "   macro avg       0.81      0.72      0.75     43200\n",
      "weighted avg       0.90      0.91      0.90     43200\n",
      "\n",
      "0.247026745472434\n"
     ]
    },
    {
     "data": {
      "image/png": "[encoded data removed]",
      "text/plain": [
       "<Figure size 640x480 with 2 Axes>"
      ]
     },
     "metadata": {},
     "output_type": "display_data"
    }
   ],
   "source": [
    "loss,report,y_true,y_pred,y_logits = evaluate(dataloader=devloader,model=model,criterion=criterion,DEVICE=CONFIG['DEVICE'])\n",
    "ConfusionMatrixDisplay.from_predictions(y_true,y_pred,normalize='true')\n",
    "print(classification_report(y_true,y_pred))\n",
    "print(loss)"
   ]
  },
  {
   "cell_type": "code",
   "execution_count": 62,
   "metadata": {},
   "outputs": [
    {
     "name": "stderr",
     "output_type": "stream",
     "text": [
      "100%|██████████| 169/169 [00:00<00:00, 244.62it/s]\n"
     ]
    },
    {
     "name": "stdout",
     "output_type": "stream",
     "text": [
      "              precision    recall  f1-score   support\n",
      "\n",
      "         0.0       0.59      0.29      0.39      2099\n",
      "         1.0       0.92      0.96      0.94     18599\n",
      "         2.0       0.91      0.92      0.91     22502\n",
      "\n",
      "    accuracy                           0.91     43200\n",
      "   macro avg       0.81      0.72      0.75     43200\n",
      "weighted avg       0.90      0.91      0.90     43200\n",
      "\n",
      "0.24705574304394468\n"
     ]
    },
    {
     "data": {
      "image/png": "[encoded data removed]",
      "text/plain": [
       "<Figure size 640x480 with 2 Axes>"
      ]
     },
     "metadata": {},
     "output_type": "display_data"
    }
   ],
   "source": [
    "testloader = DataLoader(\n",
    "    ConcatDataset(\n",
    "        [\n",
    "            EpochedDataset(\n",
    "                dataset='ekyn',id=id,condition='Vehicle'\n",
    "                ) for id in ekyn_ids[4:5]\n",
    "        ] + \n",
    "        [\n",
    "            EpochedDataset(\n",
    "                dataset='snezana_mice',id=id\n",
    "                ) for id in snezana_mice_ids[4:5]\n",
    "        ]\n",
    "        ),batch_size=CONFIG['BATCH_SIZE'],shuffle=True\n",
    "    )\n",
    "loss,report,y_true,y_pred,y_logits = evaluate(dataloader=testloader,model=model,criterion=criterion,DEVICE=CONFIG['DEVICE'])\n",
    "ConfusionMatrixDisplay.from_predictions(y_true,y_pred,normalize='true')\n",
    "print(classification_report(y_true,y_pred))\n",
    "print(loss)"
   ]
  },
  {
   "cell_type": "code",
   "execution_count": 54,
   "metadata": {},
   "outputs": [
    {
     "name": "stderr",
     "output_type": "stream",
     "text": [
      "100%|██████████| 34/34 [00:00<00:00, 200.11it/s]\n",
      "100%|██████████| 135/135 [00:00<00:00, 258.79it/s]\n"
     ]
    }
   ],
   "source": [
    "import pandas as pd\n",
    "df = pd.DataFrame()\n",
    "\n",
    "for id in ekyn_ids[4:5]:\n",
    "    testloader = DataLoader(EpochedDataset(dataset='ekyn',id=id,condition='Vehicle'),batch_size=CONFIG['BATCH_SIZE'],shuffle=True)\n",
    "    loss,report,y_true,y_pred,y_logits = evaluate(dataloader=testloader,model=model,criterion=criterion,DEVICE=CONFIG['DEVICE'])\n",
    "    report['id'] = id\n",
    "    df = pd.concat([df,pd.Series(report)],axis=1)\n",
    "for id in snezana_mice_ids[4:5]:\n",
    "    testloader = DataLoader(EpochedDataset(dataset='snezana_mice',id=id),batch_size=CONFIG['BATCH_SIZE'],shuffle=True)\n",
    "    loss,report,y_true,y_pred,y_logits = evaluate(dataloader=testloader,model=model,criterion=criterion,DEVICE=CONFIG['DEVICE'])\n",
    "    report['id'] = id\n",
    "    df = pd.concat([df,pd.Series(report)],axis=1)"
   ]
  },
  {
   "cell_type": "code",
   "execution_count": 60,
   "metadata": {},
   "outputs": [
    {
     "data": {
      "text/html": [
       "<div>\n",
       "<style scoped>\n",
       "    .dataframe tbody tr th:only-of-type {\n",
       "        vertical-align: middle;\n",
       "    }\n",
       "\n",
       "    .dataframe tbody tr th {\n",
       "        vertical-align: top;\n",
       "    }\n",
       "\n",
       "    .dataframe thead th {\n",
       "        text-align: right;\n",
       "    }\n",
       "</style>\n",
       "<table border=\"1\" class=\"dataframe\">\n",
       "  <thead>\n",
       "    <tr style=\"text-align: right;\">\n",
       "      <th></th>\n",
       "      <th>0</th>\n",
       "      <th>0</th>\n",
       "    </tr>\n",
       "  </thead>\n",
       "  <tbody>\n",
       "    <tr>\n",
       "      <th>precision</th>\n",
       "      <td>0.696862</td>\n",
       "      <td>0.833935</td>\n",
       "    </tr>\n",
       "    <tr>\n",
       "      <th>recall</th>\n",
       "      <td>0.660574</td>\n",
       "      <td>0.742733</td>\n",
       "    </tr>\n",
       "    <tr>\n",
       "      <th>f1</th>\n",
       "      <td>0.66713</td>\n",
       "      <td>0.770407</td>\n",
       "    </tr>\n",
       "    <tr>\n",
       "      <th>id</th>\n",
       "      <td>B3-1</td>\n",
       "      <td>21-HET-13</td>\n",
       "    </tr>\n",
       "  </tbody>\n",
       "</table>\n",
       "</div>"
      ],
      "text/plain": [
       "                  0          0\n",
       "precision  0.696862   0.833935\n",
       "recall     0.660574   0.742733\n",
       "f1          0.66713   0.770407\n",
       "id             B3-1  21-HET-13"
      ]
     },
     "execution_count": 60,
     "metadata": {},
     "output_type": "execute_result"
    }
   ],
   "source": [
    "df"
   ]
  }
 ],
 "metadata": {
  "kernelspec": {
   "display_name": "Python 3.10.6 64-bit",
   "language": "python",
   "name": "python3"
  },
  "language_info": {
   "codemirror_mode": {
    "name": "ipython",
    "version": 3
   },
   "file_extension": ".py",
   "mimetype": "text/x-python",
   "name": "python",
   "nbconvert_exporter": "python",
   "pygments_lexer": "ipython3",
   "version": "3.10.12"
  },
  "orig_nbformat": 4,
  "vscode": {
   "interpreter": {
    "hash": "916dbcbb3f70747c44a77c7bcd40155683ae19c65e1c03b4aa3499c5328201f1"
   }
  }
 },
 "nbformat": 4,
 "nbformat_minor": 2
}
