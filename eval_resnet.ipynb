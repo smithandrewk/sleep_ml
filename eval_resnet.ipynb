{
 "cells": [
  {
   "cell_type": "code",
   "execution_count": null,
   "metadata": {},
   "outputs": [],
   "source": [
    "from sklearn.model_selection import train_test_split\n",
    "from sklearn.metrics import ConfusionMatrixDisplay\n",
    "from lib.ekyn import *\n",
    "from lib.env import *\n",
    "import copy\n",
    "from sage.utils import *\n",
    "import os\n",
    "\n",
    "MODEL_ID = f'2024_27_08_17_01_30'\n",
    "print(MODEL_ID)\n",
    "state = torch.load(f'{BEAST_EXPERIMENTS_PATH}/{MODEL_ID}/state.pt',map_location='cpu',weights_only=False)\n",
    "\n",
    "model = copy.deepcopy(state['model'])\n",
    "model.load_state_dict(state['best_model_wts'])\n",
    "trainloader,testloader = get_epoched_dataloaders(batch_size=state['batch_size'],robust=state['robust'])\n",
    "\n",
    "# trainloader,testloader = get_epoched_dataloaders_loo(batch_size=state['batch_size'],robust=state['robust'],fold=state['fold'])\n",
    "# trainloader,testloader = get_epoched_dataloaders_shuffle_split(\n",
    "#     batch_size=state['batch_size'],\n",
    "#     test_size=.2\n",
    "#     )\n",
    "loss,y_true,y_pred = evaluate(dataloader=testloader,model=model,criterion=state['criterion'],device='cuda')"
   ]
  },
  {
   "cell_type": "code",
   "execution_count": null,
   "metadata": {},
   "outputs": [],
   "source": [
    "state['robust']"
   ]
  },
  {
   "cell_type": "code",
   "execution_count": null,
   "metadata": {},
   "outputs": [],
   "source": [
    "ConfusionMatrixDisplay.from_predictions(y_true,y_pred,normalize='true',colorbar=False)\n",
    "plt.title(f'f1 : {f1_score(y_true,y_pred,average=\"macro\"):.3f}')"
   ]
  }
 ],
 "metadata": {
  "kernelspec": {
   "display_name": "Python 3",
   "language": "python",
   "name": "python3"
  },
  "language_info": {
   "codemirror_mode": {
    "name": "ipython",
    "version": 3
   },
   "file_extension": ".py",
   "mimetype": "text/x-python",
   "name": "python",
   "nbconvert_exporter": "python",
   "pygments_lexer": "ipython3",
   "version": "3.10.12"
  }
 },
 "nbformat": 4,
 "nbformat_minor": 2
}
