{
 "cells": [
  {
   "cell_type": "code",
   "execution_count": null,
   "metadata": {},
   "outputs": [],
   "source": [
    "import argparse\n",
    "import os\n",
    "import requests\n",
    "from datetime import datetime\n",
    "import json\n",
    "from tqdm import tqdm\n",
    "\n",
    "from lib.utils import *\n",
    "from lib.datasets import WindowedEEGDataset\n",
    "from torch.utils.data import DataLoader,TensorDataset\n",
    "from torch.nn.functional import softmax,batch_norm,relu\n",
    "from torch import nn\n",
    "import torch\n",
    "from lib.models import ResNet\n",
    "\n",
    "device = 'cuda'\n",
    "data_dir = 'data_pt'\n",
    "warmstart = False"
   ]
  },
  {
   "cell_type": "code",
   "execution_count": null,
   "metadata": {},
   "outputs": [],
   "source": [
    "idx = torch.arange(0,276399-5)\n",
    "from sklearn.model_selection import train_test_split\n",
    "train_idx,dev_idx = train_test_split(idx,test_size=.2)\n",
    "trainloader = DataLoader(train_idx,batch_size=256,shuffle=True)\n",
    "devloader = DataLoader(dev_idx,batch_size=32,shuffle=False)\n",
    "dataset = WindowedEEGDataset(dir='data/pt_collapsed/',labels='data/pt_collapsed/labels.pt')"
   ]
  },
  {
   "cell_type": "code",
   "execution_count": null,
   "metadata": {},
   "outputs": [],
   "source": [
    "class CNNLSTM(nn.Module):\n",
    "    def __init__(self) -> None:\n",
    "        super().__init__()\n",
    "        self.resnet = ResNet().cuda()\n",
    "        self.lstm = nn.LSTM(3,3)\n",
    "        self.fc1 = nn.Linear(3,3)\n",
    "    def forward(self,x_2d):\n",
    "        x = torch.Tensor().cuda()\n",
    "        for t in range(x_2d.size(1)):\n",
    "            x_i = self.resnet(x_2d[:,t,:,:])\n",
    "            x = torch.cat([x,x_i.unsqueeze(0)])\n",
    "        out,_ = self.lstm(x)\n",
    "        x = self.fc1(out)        \n",
    "        return x.view(-1,5,3)"
   ]
  },
  {
   "cell_type": "code",
   "execution_count": null,
   "metadata": {},
   "outputs": [],
   "source": [
    "model = CNNLSTM().cuda()\n",
    "# model = ResNet().cuda()\n",
    "criterion = nn.CrossEntropyLoss()\n",
    "optimizer = torch.optim.Adam(model.parameters(),lr=3e-4)\n",
    "train_losses = []\n",
    "dev_losses = []"
   ]
  },
  {
   "cell_type": "code",
   "execution_count": null,
   "metadata": {},
   "outputs": [],
   "source": [
    "lossi = []\n",
    "trainloader_iter = iter(trainloader)"
   ]
  },
  {
   "cell_type": "code",
   "execution_count": null,
   "metadata": {},
   "outputs": [],
   "source": [
    "X,y = dataset[next(trainloader_iter)]"
   ]
  },
  {
   "cell_type": "code",
   "execution_count": null,
   "metadata": {},
   "outputs": [],
   "source": [
    "model.train()\n",
    "for i in range(1000):\n",
    "    logits = model(X.cuda())\n",
    "    loss = criterion(logits,y.cuda())\n",
    "    optimizer.zero_grad()\n",
    "    loss.backward()\n",
    "    optimizer.step()\n",
    "print(loss)\n",
    "# 2.3177"
   ]
  },
  {
   "cell_type": "code",
   "execution_count": null,
   "metadata": {},
   "outputs": [],
   "source": [
    "y_true = torch.Tensor().cuda()\n",
    "y_pred = torch.Tensor().cuda()\n",
    "model.eval()\n",
    "X,y = X.cuda(),y.cuda()\n",
    "logits = model(X)\n",
    "y_pred_i = torch.softmax(logits,dim=2).argmax(dim=2).flatten()\n",
    "y_true_i = y.argmax(dim=2).flatten()\n",
    "y_true = torch.cat([y_true,y_true_i])\n",
    "y_pred = torch.cat([y_pred,y_pred_i])\n",
    "cms(y_true=y_true.detach().cpu(),y_pred=y_pred.detach().cpu(),current_date=None)"
   ]
  },
  {
   "cell_type": "code",
   "execution_count": null,
   "metadata": {},
   "outputs": [],
   "source": [
    "dev_iter = iter(devloader)\n",
    "y_true = torch.Tensor().cuda()\n",
    "y_pred = torch.Tensor().cuda()\n",
    "model.eval()\n",
    "for i in range(10):\n",
    "    X,y = dataset[next(dev_iter)]\n",
    "    X,y = X.cuda(),y.cuda()\n",
    "    logits = model(X)\n",
    "    y_pred_i = torch.softmax(logits,dim=2).argmax(dim=2).flatten()\n",
    "    y_true_i = y.argmax(dim=2).flatten()\n",
    "    y_true = torch.cat([y_true,y_true_i])\n",
    "    y_pred = torch.cat([y_pred,y_pred_i])"
   ]
  },
  {
   "cell_type": "code",
   "execution_count": null,
   "metadata": {},
   "outputs": [],
   "source": [
    "cms(y_true=y_true.detach().cpu(),y_pred=y_pred.detach().cpu(),current_date=None)"
   ]
  },
  {
   "cell_type": "code",
   "execution_count": null,
   "metadata": {},
   "outputs": [],
   "source": [
    "for idx in trainloader:\n",
    "    X,y = dataset[idx]\n",
    "    X,y = X.cuda(),y.cuda()\n",
    "    model.train()\n",
    "    logits = model(X)\n",
    "    loss = criterion(logits,y.cuda())\n",
    "    optimizer.zero_grad()\n",
    "    loss.backward()\n",
    "    optimizer.step()\n",
    "    lossi.append(loss.item())"
   ]
  },
  {
   "cell_type": "code",
   "execution_count": null,
   "metadata": {},
   "outputs": [],
   "source": [
    "plt.plot(lossi)"
   ]
  },
  {
   "cell_type": "code",
   "execution_count": null,
   "metadata": {},
   "outputs": [],
   "source": [
    "for epoch in tqdm(range(100)):\n",
    "    total_loss = 0\n",
    "    model.train()\n",
    "    for X,y in trainloader:\n",
    "        logits = model(X.view(-1,1,500).cuda())\n",
    "        loss = criterion(logits,y.cuda())\n",
    "        optimizer.zero_grad()\n",
    "        loss.backward()\n",
    "        optimizer.step()\n",
    "        total_loss += loss.item()\n",
    "    train_losses.append(total_loss/len(trainloader))\n",
    "    model.eval()\n",
    "    testing_loss = 0\n",
    "    for (X,y) in testloader:\n",
    "        X,y = X.to(device), y.to(device)\n",
    "        logits = model(X.view(-1,1,500))\n",
    "        loss = criterion(logits,y)\n",
    "        testing_loss += loss.item()\n",
    "    dev_losses.append(testing_loss/len(testloader))"
   ]
  },
  {
   "cell_type": "code",
   "execution_count": null,
   "metadata": {},
   "outputs": [],
   "source": [
    "plt.plot(train_losses)\n",
    "plt.plot(dev_losses)"
   ]
  },
  {
   "cell_type": "code",
   "execution_count": null,
   "metadata": {},
   "outputs": [],
   "source": []
  }
 ],
 "metadata": {
  "kernelspec": {
   "display_name": "Python 3.10.6 64-bit",
   "language": "python",
   "name": "python3"
  },
  "language_info": {
   "codemirror_mode": {
    "name": "ipython",
    "version": 3
   },
   "file_extension": ".py",
   "mimetype": "text/x-python",
   "name": "python",
   "nbconvert_exporter": "python",
   "pygments_lexer": "ipython3",
   "version": "3.10.6"
  },
  "orig_nbformat": 4,
  "vscode": {
   "interpreter": {
    "hash": "916dbcbb3f70747c44a77c7bcd40155683ae19c65e1c03b4aa3499c5328201f1"
   }
  }
 },
 "nbformat": 4,
 "nbformat_minor": 2
}
