{
 "cells": [
  {
   "cell_type": "code",
   "execution_count": 24,
   "metadata": {},
   "outputs": [
    {
     "name": "stdout",
     "output_type": "stream",
     "text": [
      "The autoreload extension is already loaded. To reload it, use:\n",
      "  %reload_ext autoreload\n"
     ]
    }
   ],
   "source": [
    "%load_ext autoreload\n",
    "%autoreload 2\n",
    "\n",
    "from lib.ekyn import *\n",
    "import matplotlib.pyplot as plt\n",
    "from lib.models import MLP\n",
    "from torch.utils.data import DataLoader,ConcatDataset\n",
    "from lib.deep_learning_utils import count_params\n",
    "import torch\n",
    "import os\n",
    "from lib.env import DATA_PATH\n",
    "from sklearn.model_selection import train_test_split\n",
    "\n",
    "if not os.path.isdir(f'{DATA_PATH}/projects'):\n",
    "    os.makedirs(f'{DATA_PATH}/projects')\n",
    "\n",
    "existing_projects = sorted([int(dir) for dir in os.listdir(f'{DATA_PATH}/projects')])\n",
    "if len(existing_projects) == 0:\n",
    "    PROJECT_ID = 0\n",
    "else:\n",
    "    PROJECT_ID = existing_projects[-1] + 1\n",
    "\n",
    "PROJECT_PATH = f'{DATA_PATH}/projects/{PROJECT_ID}'\n",
    "if not os.path.isdir(PROJECT_PATH):\n",
    "    os.makedirs(PROJECT_PATH)\n",
    "\n",
    "CONFIG = {\n",
    "    'BATCH_SIZE':2048,\n",
    "    'TRAIN_IDS':[],\n",
    "    'TEST_IDS':[]\n",
    "}"
   ]
  },
  {
   "cell_type": "code",
   "execution_count": 25,
   "metadata": {},
   "outputs": [],
   "source": [
    "ids = get_ekyn_ids()\n",
    "conditions = ['Vehicle','PF']"
   ]
  },
  {
   "cell_type": "code",
   "execution_count": 26,
   "metadata": {},
   "outputs": [
    {
     "name": "stdout",
     "output_type": "stream",
     "text": [
      "208896\n",
      "69632\n"
     ]
    }
   ],
   "source": [
    "CONFIG['TRAIN_IDS'],CONFIG['TEST_IDS'] = train_test_split(get_ekyn_ids(),test_size=.25,random_state=0)\n",
    "\n",
    "trainloader = DataLoader(\n",
    "    dataset=ConcatDataset(\n",
    "    [EpochedDataset(id=id,condition=condition) for id in CONFIG['TRAIN_IDS'] for condition in conditions]\n",
    "    ),\n",
    "    batch_size=CONFIG['BATCH_SIZE'],\n",
    "    shuffle=True\n",
    ")\n",
    "devloader = DataLoader(\n",
    "    dataset=ConcatDataset(\n",
    "    [EpochedDataset(id=id,condition=condition) for id in CONFIG['TEST_IDS'] for condition in conditions]\n",
    "    ),\n",
    "    batch_size=CONFIG['BATCH_SIZE'],\n",
    "    shuffle=False\n",
    ")\n",
    "print(len(trainloader)*CONFIG['BATCH_SIZE'])\n",
    "print(len(devloader)*CONFIG['BATCH_SIZE'])"
   ]
  },
  {
   "cell_type": "code",
   "execution_count": 41,
   "metadata": {},
   "outputs": [
    {
     "name": "stdout",
     "output_type": "stream",
     "text": [
      "8187 parameters\n"
     ]
    }
   ],
   "source": [
    "from lib.models import ResidualBlock\n",
    "from torch import nn\n",
    "class Frodo(nn.Module):\n",
    "    \"\"\"\n",
    "    the little wanderer\n",
    "    \"\"\"\n",
    "    def __init__(self,n_features) -> None:\n",
    "        super().__init__()\n",
    "        self.n_features = n_features\n",
    "        self.block1 = ResidualBlock(1,8,n_features)\n",
    "        self.block2 = ResidualBlock(8,16,n_features)\n",
    "        self.block3 = ResidualBlock(16,16,n_features)\n",
    "\n",
    "        self.gap = nn.AvgPool1d(kernel_size=n_features)\n",
    "        self.fc1 = nn.Linear(in_features=16,out_features=3)\n",
    "    def forward(self,x,classification=True):\n",
    "        x = x.view(-1,1,self.n_features)\n",
    "        x = self.block1(x)\n",
    "        x = self.block2(x)\n",
    "        x = self.block3(x)\n",
    "        x = self.gap(x)\n",
    "        if(classification):\n",
    "            x = self.fc1(x.squeeze())\n",
    "            return x\n",
    "        else:\n",
    "            return x.squeeze()\n",
    "model = Frodo(n_features=1000)\n",
    "model.cuda()\n",
    "model = torch.compile(model)\n",
    "torch.set_float32_matmul_precision('high')\n",
    "print(f'{count_params(model)} parameters')\n",
    "criterion = torch.nn.CrossEntropyLoss()\n",
    "optimizer = torch.optim.AdamW(model.parameters(),lr=3e-4,weight_decay=1e-4)\n",
    "scheduler = torch.optim.lr_scheduler.ReduceLROnPlateau(optimizer, mode='min', factor=0.5, patience=10)"
   ]
  },
  {
   "cell_type": "code",
   "execution_count": 42,
   "metadata": {},
   "outputs": [
    {
     "name": "stderr",
     "output_type": "stream",
     "text": [
      "  0%|          | 0/1000 [00:00<?, ?it/s]"
     ]
    },
    {
     "name": "stderr",
     "output_type": "stream",
     "text": [
      " 18%|█▊        | 178/1000 [14:52<1:08:41,  5.01s/it]\n"
     ]
    },
    {
     "ename": "KeyboardInterrupt",
     "evalue": "",
     "output_type": "error",
     "traceback": [
      "\u001b[0;31m---------------------------------------------------------------------------\u001b[0m",
      "\u001b[0;31mKeyboardInterrupt\u001b[0m                         Traceback (most recent call last)",
      "Cell \u001b[0;32mIn[42], line 10\u001b[0m\n\u001b[1;32m      8\u001b[0m \u001b[38;5;28;01mfrom\u001b[39;00m \u001b[38;5;21;01mlib\u001b[39;00m\u001b[38;5;21;01m.\u001b[39;00m\u001b[38;5;21;01mdeep_learning_utils\u001b[39;00m \u001b[38;5;28;01mimport\u001b[39;00m training_loop,development_loop\n\u001b[1;32m      9\u001b[0m \u001b[38;5;28;01mfor\u001b[39;00m i \u001b[38;5;129;01min\u001b[39;00m tqdm(\u001b[38;5;28mrange\u001b[39m(\u001b[38;5;241m1000\u001b[39m)):\n\u001b[0;32m---> 10\u001b[0m     loss,f1 \u001b[38;5;241m=\u001b[39m \u001b[43mtraining_loop\u001b[49m\u001b[43m(\u001b[49m\u001b[43mmodel\u001b[49m\u001b[38;5;241;43m=\u001b[39;49m\u001b[43mmodel\u001b[49m\u001b[43m,\u001b[49m\u001b[43mtrainloader\u001b[49m\u001b[38;5;241;43m=\u001b[39;49m\u001b[43mtrainloader\u001b[49m\u001b[43m,\u001b[49m\u001b[43mcriterion\u001b[49m\u001b[38;5;241;43m=\u001b[39;49m\u001b[43mcriterion\u001b[49m\u001b[43m,\u001b[49m\u001b[43moptimizer\u001b[49m\u001b[38;5;241;43m=\u001b[39;49m\u001b[43moptimizer\u001b[49m\u001b[43m,\u001b[49m\u001b[43mdevice\u001b[49m\u001b[38;5;241;43m=\u001b[39;49m\u001b[38;5;124;43m'\u001b[39;49m\u001b[38;5;124;43mcuda\u001b[39;49m\u001b[38;5;124;43m'\u001b[39;49m\u001b[43m)\u001b[49m\n\u001b[1;32m     11\u001b[0m     trainlossi\u001b[38;5;241m.\u001b[39mappend(loss)\n\u001b[1;32m     12\u001b[0m     trainf1\u001b[38;5;241m.\u001b[39mappend(f1)\n",
      "File \u001b[0;32m~/sleep_ml/lib/deep_learning_utils.py:46\u001b[0m, in \u001b[0;36mtraining_loop\u001b[0;34m(model, trainloader, criterion, optimizer, device)\u001b[0m\n\u001b[1;32m     44\u001b[0m     loss\u001b[38;5;241m.\u001b[39mbackward()\n\u001b[1;32m     45\u001b[0m     optimizer\u001b[38;5;241m.\u001b[39mstep()\n\u001b[0;32m---> 46\u001b[0m     loss_tr_total \u001b[38;5;241m+\u001b[39m\u001b[38;5;241m=\u001b[39m \u001b[43mloss\u001b[49m\u001b[38;5;241;43m.\u001b[39;49m\u001b[43mitem\u001b[49m\u001b[43m(\u001b[49m\u001b[43m)\u001b[49m\n\u001b[1;32m     47\u001b[0m     y_pred\u001b[38;5;241m.\u001b[39mappend(torch\u001b[38;5;241m.\u001b[39msoftmax(logits,dim\u001b[38;5;241m=\u001b[39m\u001b[38;5;241m1\u001b[39m)\u001b[38;5;241m.\u001b[39margmax(axis\u001b[38;5;241m=\u001b[39m\u001b[38;5;241m1\u001b[39m)\u001b[38;5;241m.\u001b[39mdetach()\u001b[38;5;241m.\u001b[39mcpu())\n\u001b[1;32m     48\u001b[0m y_true \u001b[38;5;241m=\u001b[39m torch\u001b[38;5;241m.\u001b[39mcat(y_true)\n",
      "\u001b[0;31mKeyboardInterrupt\u001b[0m: "
     ]
    }
   ],
   "source": [
    "lossi = []\n",
    "trainlossi = []\n",
    "trainf1 = []\n",
    "devlossi = []\n",
    "devf1 = []\n",
    "model.train()\n",
    "from tqdm import tqdm\n",
    "from lib.deep_learning_utils import training_loop,development_loop\n",
    "for i in tqdm(range(1000)):\n",
    "    loss,f1 = training_loop(model=model,trainloader=trainloader,criterion=criterion,optimizer=optimizer,device='cuda')\n",
    "    trainlossi.append(loss)\n",
    "    trainf1.append(f1)\n",
    "\n",
    "    loss,f1 = development_loop(model=model,devloader=devloader,criterion=criterion,device='cuda')\n",
    "    devlossi.append(loss)\n",
    "    devf1.append(f1)\n",
    "    scheduler.step(loss)\n",
    "\n",
    "    fig,ax = plt.subplots(nrows=1,ncols=2,figsize=(13,4),dpi=200)\n",
    "    ax[0].plot(trainlossi)\n",
    "    ax[0].plot(devlossi)\n",
    "    ax[0].set_title(label='loss',fontweight='bold')\n",
    "    ax[0].set_xlabel('Epoch')\n",
    "    ax[1].plot(trainf1)\n",
    "    ax[1].plot(devf1)\n",
    "    ax[1].set_title(label='f1',fontweight='bold')\n",
    "    ax[1].set_xlabel('Epoch')\n",
    "\n",
    "    plt.savefig('loss.jpg')\n",
    "    plt.close()"
   ]
  },
  {
   "cell_type": "code",
   "execution_count": null,
   "metadata": {},
   "outputs": [],
   "source": [
    "torch.save(model.state_dict(),f'{PROJECT_PATH}/model.last.pt')"
   ]
  },
  {
   "cell_type": "code",
   "execution_count": 44,
   "metadata": {},
   "outputs": [
    {
     "name": "stderr",
     "output_type": "stream",
     "text": [
      "  0%|          | 0/34 [00:00<?, ?it/s]"
     ]
    },
    {
     "name": "stderr",
     "output_type": "stream",
     "text": [
      "100%|██████████| 34/34 [00:00<00:00, 68.92it/s]\n"
     ]
    },
    {
     "name": "stdout",
     "output_type": "stream",
     "text": [
      "              precision    recall  f1-score   support\n",
      "\n",
      "         0.0       0.57      0.63      0.60      3504\n",
      "         1.0       0.94      0.91      0.92     31617\n",
      "         2.0       0.89      0.91      0.90     33999\n",
      "\n",
      "    accuracy                           0.89     69120\n",
      "   macro avg       0.80      0.81      0.81     69120\n",
      "weighted avg       0.89      0.89      0.89     69120\n",
      "\n",
      "0.27874743741224794\n"
     ]
    },
    {
     "data": {
      "image/png": "[encoded data removed]",
      "text/plain": [
       "<Figure size 640x480 with 2 Axes>"
      ]
     },
     "metadata": {},
     "output_type": "display_data"
    }
   ],
   "source": [
    "from lib.deep_learning_utils import evaluate\n",
    "from sklearn.metrics import ConfusionMatrixDisplay,classification_report\n",
    "\n",
    "loss,report,y_true,y_pred,y_logits = evaluate(dataloader=devloader,model=model,criterion=criterion)\n",
    "ConfusionMatrixDisplay.from_predictions(y_true,y_pred,normalize='true')\n",
    "plt.savefig(f'{PROJECT_PATH}/cm.jpg')\n",
    "print(classification_report(y_true,y_pred))\n",
    "print(loss)"
   ]
  }
 ],
 "metadata": {
  "kernelspec": {
   "display_name": ".env",
   "language": "python",
   "name": "python3"
  },
  "language_info": {
   "codemirror_mode": {
    "name": "ipython",
    "version": 3
   },
   "file_extension": ".py",
   "mimetype": "text/x-python",
   "name": "python",
   "nbconvert_exporter": "python",
   "pygments_lexer": "ipython3",
   "version": "3.12.3"
  }
 },
 "nbformat": 4,
 "nbformat_minor": 2
}
