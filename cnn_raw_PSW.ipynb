{
 "cells": [
  {
   "cell_type": "code",
   "execution_count": 65,
   "metadata": {},
   "outputs": [],
   "source": [
    "# Imports\n",
    "from lib.utils import *\n",
    "from sklearn.model_selection import train_test_split\n",
    "from sklearn.metrics import confusion_matrix\n",
    "from sklearn.metrics import ConfusionMatrixDisplay\n",
    "from sklearn.metrics import f1_score\n",
    "import matplotlib.pyplot as plt\n",
    "import pandas as pd\n",
    "import numpy as np\n",
    "import torch\n",
    "from torch import nn\n",
    "from torch.nn.functional import relu,one_hot\n",
    "from tqdm import tqdm\n",
    "device = 'cuda'\n",
    "torch.cuda.empty_cache()"
   ]
  },
  {
   "cell_type": "code",
   "execution_count": 66,
   "metadata": {},
   "outputs": [],
   "source": [
    "X,y = load_raw_list([20])"
   ]
  },
  {
   "cell_type": "code",
   "execution_count": 67,
   "metadata": {},
   "outputs": [],
   "source": [
    "X_train,X_test,y_train,y_test = train_test_split(X,y,test_size=.2,shuffle=True,stratify=y,random_state=0)"
   ]
  },
  {
   "cell_type": "code",
   "execution_count": 68,
   "metadata": {},
   "outputs": [],
   "source": [
    "y_train_one_hot = one_hot(y_train,num_classes=3).reshape(-1,3).float()\n",
    "y_test_one_hot = one_hot(y_test,num_classes=3).reshape(-1,3).float()\n",
    "X_train = X_train.reshape(-1,1,5000)\n",
    "y_train_one_hot = y_train_one_hot\n",
    "X_test = X_test.reshape(-1,1,5000)\n",
    "y_test_one_hot = y_test_one_hot\n",
    "from torch.utils.data import TensorDataset\n",
    "training_data = TensorDataset(X_train,y_train_one_hot)\n",
    "testing_data = TensorDataset(X_test,y_test_one_hot)\n",
    "from torch.utils.data import DataLoader\n",
    "train_dataloader = DataLoader(training_data, batch_size=256, shuffle=True)\n",
    "test_dataloader = DataLoader(testing_data, batch_size=256, shuffle=True)"
   ]
  },
  {
   "cell_type": "code",
   "execution_count": 69,
   "metadata": {},
   "outputs": [
    {
     "name": "stdout",
     "output_type": "stream",
     "text": [
      "Parameter containing:\n",
      "tensor([0.1000, 1.0000, 1.0000], requires_grad=True)\n"
     ]
    }
   ],
   "source": [
    "class MLP(nn.Module):\n",
    "    def __init__(self) -> None:\n",
    "        super().__init__()\n",
    "        self.c1 = nn.Conv1d(1, 16, kernel_size=100, stride=10, padding=1)\n",
    "        self.c2 = nn.Conv1d(16, 8, kernel_size=100, stride=10, padding=1)\n",
    "        self.fc1 = nn.Linear(56, 3)\n",
    "        self.fc1.bias = torch.nn.Parameter(data=torch.Tensor([.1,1,1]))\n",
    "        print(self.fc1.bias)\n",
    "\n",
    "    def forward(self,x):\n",
    "        x = self.c1(x)\n",
    "        x = nn.functional.relu(x)\n",
    "        x = nn.functional.max_pool1d(x, kernel_size=2)\n",
    "        x = self.c2(x)\n",
    "        x = nn.functional.relu(x)\n",
    "        x = nn.functional.max_pool1d(x, kernel_size=2)\n",
    "        x = x.view(-1, 56)\n",
    "        x = self.fc1(x)\n",
    "        \n",
    "        return x\n",
    "model = MLP().cuda()\n",
    "criterion = nn.CrossEntropyLoss()\n",
    "optimizer = torch.optim.Adam(model.parameters())"
   ]
  },
  {
   "cell_type": "code",
   "execution_count": 70,
   "metadata": {},
   "outputs": [
    {
     "data": {
      "text/plain": [
       "torch.Size([1, 3])"
      ]
     },
     "execution_count": 70,
     "metadata": {},
     "output_type": "execute_result"
    }
   ],
   "source": [
    "model(X_train[0].reshape(-1,1,5000).cuda()).shape"
   ]
  },
  {
   "cell_type": "code",
   "execution_count": 71,
   "metadata": {},
   "outputs": [],
   "source": [
    "train_losses = []\n",
    "test_losses = []"
   ]
  },
  {
   "cell_type": "code",
   "execution_count": 72,
   "metadata": {},
   "outputs": [
    {
     "data": {
      "text/plain": [
       "0.9249359435505338"
      ]
     },
     "execution_count": 72,
     "metadata": {},
     "output_type": "execute_result"
    }
   ],
   "source": [
    "training_loss = 0\n",
    "model.train()\n",
    "for (X,y) in train_dataloader:\n",
    "    X,y = X.to(device), y.to(device)\n",
    "    logits = model(X)\n",
    "    loss = criterion(logits,y)\n",
    "    training_loss += loss.item()\n",
    "training_loss/len(train_dataloader)"
   ]
  },
  {
   "cell_type": "code",
   "execution_count": 86,
   "metadata": {},
   "outputs": [
    {
     "name": "stdout",
     "output_type": "stream",
     "text": [
      "Epoch 0 Train: 0.37124548024601406 Test: 0.409230785710471\n",
      "Epoch 10 Train: 0.36293737314365526 Test: 0.40611124677317484\n",
      "Epoch 20 Train: 0.36461164333202223 Test: 0.4034661991255624\n",
      "Epoch 30 Train: 0.36195788118574357 Test: 0.40391749143600464\n",
      "Epoch 40 Train: 0.37238644118662234 Test: 0.4165143072605133\n",
      "Epoch 50 Train: 0.3611436442092613 Test: 0.4026781405721392\n",
      "Epoch 60 Train: 0.3610813132038823 Test: 0.40669576610837666\n",
      "Epoch 70 Train: 0.3581997917758094 Test: 0.4052925067288535\n",
      "Epoch 80 Train: 0.36138567990726894 Test: 0.40567499824932646\n",
      "Epoch 90 Train: 0.3572400488235332 Test: 0.41067638993263245\n",
      "Epoch 100 Train: 0.3586890465683407 Test: 0.4108704924583435\n",
      "Epoch 110 Train: 0.356265252938977 Test: 0.40671879053115845\n",
      "Epoch 120 Train: 0.3583173773906849 Test: 0.41639111723218647\n",
      "Epoch 130 Train: 0.3542693610544558 Test: 0.4140183670180185\n",
      "Epoch 140 Train: 0.35628050013824747 Test: 0.4058205229895456\n",
      "Epoch 150 Train: 0.35351025506302164 Test: 0.4103418418339321\n",
      "Epoch 160 Train: 0.35403257939550614 Test: 0.40919796909604755\n",
      "Epoch 170 Train: 0.3535964290301005 Test: 0.4105492787701743\n",
      "Epoch 180 Train: 0.3509785345307103 Test: 0.41188967653683256\n",
      "Epoch 190 Train: 0.372882761337139 Test: 0.41081676312855314\n"
     ]
    }
   ],
   "source": [
    "for epoch in range(200):\n",
    "    training_loss = 0\n",
    "    model.train()\n",
    "    for (X,y) in train_dataloader:\n",
    "        X,y = X.to(device), y.to(device)\n",
    "        logits = model(X)\n",
    "        loss = criterion(logits,y)\n",
    "        optimizer.zero_grad()\n",
    "        loss.backward()\n",
    "        optimizer.step()\n",
    "        training_loss += loss.item()\n",
    "    if(epoch%10 == 0):\n",
    "        train_losses.append(training_loss/len(train_dataloader))\n",
    "        model.eval()\n",
    "        testing_loss = 0\n",
    "        for (X,y) in test_dataloader:\n",
    "            X,y = X.to(device), y.to(device)\n",
    "            logits = model(X)\n",
    "            loss = criterion(logits,y)\n",
    "            testing_loss += loss.item()\n",
    "        test_losses.append(testing_loss/len(test_dataloader))\n",
    "        print(f'Epoch {epoch} Train: {training_loss/len(train_dataloader)} Test: {testing_loss/len(test_dataloader)}')"
   ]
  },
  {
   "cell_type": "code",
   "execution_count": 82,
   "metadata": {},
   "outputs": [
    {
     "data": {
      "image/png": "[encoded data removed]",
      "text/plain": [
       "<Figure size 640x480 with 1 Axes>"
      ]
     },
     "metadata": {},
     "output_type": "display_data"
    }
   ],
   "source": [
    "plt.plot(train_losses,label='train')\n",
    "plt.plot(test_losses,label='validation')\n",
    "plt.savefig('loss.jpg',dpi=200)"
   ]
  },
  {
   "cell_type": "code",
   "execution_count": 83,
   "metadata": {},
   "outputs": [],
   "source": [
    "import seaborn as sns\n",
    "sm = nn.Softmax(dim=1)\n",
    "y_pred_train = []\n",
    "y_pred_test = []\n",
    "for sample in X_train:\n",
    "    y_pred_train.append(sm(model(sample.cuda())).argmax(axis=1).item())\n",
    "for sample in X_test:\n",
    "    y_pred_test.append(sm(model(sample.cuda())).argmax(axis=1).item())"
   ]
  },
  {
   "cell_type": "code",
   "execution_count": 85,
   "metadata": {},
   "outputs": [
    {
     "data": {
      "text/plain": [
       "0.8738425925925926"
      ]
     },
     "execution_count": 85,
     "metadata": {},
     "output_type": "execute_result"
    },
    {
     "data": {
      "image/png": "[encoded data removed]",
      "text/plain": [
       "<Figure size 1000x500 with 3 Axes>"
      ]
     },
     "metadata": {},
     "output_type": "display_data"
    }
   ],
   "source": [
    "from sklearn.metrics import confusion_matrix\n",
    "fig,axes = plt.subplots(1,3,sharey=True,figsize=(10,5))\n",
    "sns.heatmap(confusion_matrix(y_test,y_pred_test,normalize='true'),annot=True,ax=axes[0],cbar=False,fmt='.2f')\n",
    "sns.heatmap(confusion_matrix(y_test,y_pred_test,normalize='pred'),annot=True,ax=axes[1],cbar=False,fmt='.2f')\n",
    "sns.heatmap(confusion_matrix(y_test,y_pred_test,normalize='all'),annot=True,ax=axes[2],cbar=False,fmt='.2f')\n",
    "axes[0].set_title('Recall')\n",
    "axes[1].set_title('Precision')\n",
    "axes[2].set_title('Count')\n",
    "axes[0].set_xticklabels(['P','S','W'])\n",
    "axes[1].set_xticklabels(['P','S','W'])\n",
    "axes[2].set_xticklabels(['P','S','W'])\n",
    "axes[0].set_yticklabels(['P','S','W'])\n",
    "plt.savefig('cm.jpg',dpi=200,bbox_inches='tight')\n",
    "from sklearn.metrics import balanced_accuracy_score,accuracy_score\n",
    "accuracy_score(y_true=y_test,y_pred=y_pred_test)"
   ]
  },
  {
   "cell_type": "code",
   "execution_count": null,
   "metadata": {},
   "outputs": [],
   "source": [
    "fig,axes = plt.subplots(nrows=len(model.c1.weight),ncols=1,figsize=(32,18))\n",
    "for i in range(len(model.c1.weight)):\n",
    "    axes[i].plot(model.c1.weight[i].squeeze().detach().cpu())\n",
    "plt.savefig('kernels.jpg',dpi=500)"
   ]
  },
  {
   "cell_type": "code",
   "execution_count": null,
   "metadata": {},
   "outputs": [],
   "source": [
    "torch.save(obj=model,f='model.pt')"
   ]
  }
 ],
 "metadata": {
  "kernelspec": {
   "display_name": "Python 3.10.6 64-bit",
   "language": "python",
   "name": "python3"
  },
  "language_info": {
   "codemirror_mode": {
    "name": "ipython",
    "version": 3
   },
   "file_extension": ".py",
   "mimetype": "text/x-python",
   "name": "python",
   "nbconvert_exporter": "python",
   "pygments_lexer": "ipython3",
   "version": "3.10.6"
  },
  "orig_nbformat": 4,
  "vscode": {
   "interpreter": {
    "hash": "916dbcbb3f70747c44a77c7bcd40155683ae19c65e1c03b4aa3499c5328201f1"
   }
  }
 },
 "nbformat": 4,
 "nbformat_minor": 2
}
