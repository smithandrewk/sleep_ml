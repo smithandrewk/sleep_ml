{
 "cells": [
  {
   "cell_type": "code",
   "execution_count": 1,
   "metadata": {},
   "outputs": [
    {
     "name": "stderr",
     "output_type": "stream",
     "text": [
      "/home/andrew/.local/lib/python3.10/site-packages/tqdm/auto.py:22: TqdmWarning: IProgress not found. Please update jupyter and ipywidgets. See https://ipywidgets.readthedocs.io/en/stable/user_install.html\n",
      "  from .autonotebook import tqdm as notebook_tqdm\n"
     ]
    }
   ],
   "source": [
    "# Imports\n",
    "from lib.utils import *\n",
    "from sklearn.model_selection import train_test_split\n",
    "from sklearn.metrics import confusion_matrix\n",
    "from sklearn.metrics import ConfusionMatrixDisplay\n",
    "from sklearn.metrics import f1_score\n",
    "import matplotlib.pyplot as plt\n",
    "import pandas as pd\n",
    "import numpy as np\n",
    "import torch\n",
    "from torch import nn\n",
    "from torch.nn.functional import relu,one_hot\n",
    "from tqdm import tqdm\n",
    "device = 'cuda'\n",
    "torch.cuda.empty_cache()"
   ]
  },
  {
   "cell_type": "code",
   "execution_count": 2,
   "metadata": {},
   "outputs": [],
   "source": [
    "X,y = load_raw_list([20,21,22,23,24,25,26])"
   ]
  },
  {
   "cell_type": "code",
   "execution_count": 3,
   "metadata": {},
   "outputs": [],
   "source": [
    "X_train,X_test,y_train,y_test = train_test_split(X,y,test_size=.2,shuffle=True,stratify=y,random_state=0)"
   ]
  },
  {
   "cell_type": "code",
   "execution_count": 4,
   "metadata": {},
   "outputs": [],
   "source": [
    "y_train_one_hot = one_hot(y_train,num_classes=3).reshape(-1,3).float()\n",
    "y_test_one_hot = one_hot(y_test,num_classes=3).reshape(-1,3).float()\n",
    "X_train = X_train.reshape(-1,1,5000)\n",
    "y_train_one_hot = y_train_one_hot\n",
    "X_test = X_test.reshape(-1,1,5000)\n",
    "y_test_one_hot = y_test_one_hot\n",
    "from torch.utils.data import TensorDataset\n",
    "training_data = TensorDataset(X_train,y_train_one_hot)\n",
    "testing_data = TensorDataset(X_test,y_test_one_hot)\n",
    "from torch.utils.data import DataLoader\n",
    "train_dataloader = DataLoader(training_data, batch_size=128, shuffle=True)\n",
    "test_dataloader = DataLoader(testing_data, batch_size=128, shuffle=True)"
   ]
  },
  {
   "cell_type": "code",
   "execution_count": 5,
   "metadata": {},
   "outputs": [],
   "source": [
    "class MLP(nn.Module):\n",
    "    def __init__(self) -> None:\n",
    "        super().__init__()\n",
    "        self.c1 = nn.Conv1d(1, 16, kernel_size=100, stride=10, padding=1)\n",
    "        self.c2 = nn.Conv1d(16, 8, kernel_size=100, stride=10, padding=1)\n",
    "        self.fc1 = nn.Linear(56, 3)\n",
    "\n",
    "    def forward(self,x):\n",
    "        x = self.c1(x)\n",
    "        x = nn.functional.relu(x)\n",
    "        x = nn.functional.max_pool1d(x, kernel_size=2)\n",
    "        x = self.c2(x)\n",
    "        x = nn.functional.relu(x)\n",
    "        x = nn.functional.max_pool1d(x, kernel_size=2)\n",
    "        x = x.view(-1, 56)\n",
    "        x = self.fc1(x)\n",
    "        \n",
    "        return x\n",
    "model = MLP().cuda()\n",
    "criterion = nn.CrossEntropyLoss()\n",
    "optimizer = torch.optim.Adam(model.parameters())"
   ]
  },
  {
   "cell_type": "code",
   "execution_count": 6,
   "metadata": {},
   "outputs": [
    {
     "data": {
      "text/plain": [
       "torch.Size([1, 3])"
      ]
     },
     "execution_count": 6,
     "metadata": {},
     "output_type": "execute_result"
    }
   ],
   "source": [
    "model(X_train[0].reshape(-1,1,5000).cuda()).shape"
   ]
  },
  {
   "cell_type": "code",
   "execution_count": 18,
   "metadata": {},
   "outputs": [],
   "source": [
    "train_losses = []\n",
    "test_losses = []"
   ]
  },
  {
   "cell_type": "code",
   "execution_count": 19,
   "metadata": {},
   "outputs": [
    {
     "name": "stdout",
     "output_type": "stream",
     "text": [
      "Epoch 0 Train: 0.2916802725700474\n",
      "Epoch 0 Train: 0.2916802725700474 Test: 0.3189436145518955\n",
      "Epoch 1 Train: 0.29125673816632974\n",
      "Epoch 2 Train: 0.29215345519875724\n",
      "Epoch 3 Train: 0.2973155232649001\n",
      "Epoch 4 Train: 0.29388014408488755\n",
      "Epoch 5 Train: 0.29114908997028593\n",
      "Epoch 6 Train: 0.2955342994007484\n",
      "Epoch 7 Train: 0.2938920826744781\n",
      "Epoch 8 Train: 0.29440880566835403\n",
      "Epoch 9 Train: 0.2917356070071932\n",
      "Epoch 10 Train: 0.29212938410737527\n",
      "Epoch 10 Train: 0.29212938410737527 Test: 0.31473382068307776\n",
      "Epoch 11 Train: 0.29212006780678634\n",
      "Epoch 12 Train: 0.2941511530409414\n",
      "Epoch 13 Train: 0.2907316051620655\n",
      "Epoch 14 Train: 0.2932422461096572\n",
      "Epoch 15 Train: 0.29594724136527883\n",
      "Epoch 16 Train: 0.28891478784421765\n",
      "Epoch 17 Train: 0.29461204879498354\n",
      "Epoch 18 Train: 0.2892317887415331\n",
      "Epoch 19 Train: 0.29439902691929426\n",
      "Epoch 20 Train: 0.2925606333310642\n",
      "Epoch 20 Train: 0.2925606333310642 Test: 0.31832611200056576\n",
      "Epoch 21 Train: 0.2941213519800277\n",
      "Epoch 22 Train: 0.292583568465142\n",
      "Epoch 23 Train: 0.28810867813056107\n",
      "Epoch 24 Train: 0.29067417159282344\n",
      "Epoch 25 Train: 0.29438786074598\n",
      "Epoch 26 Train: 0.2918464631315262\n",
      "Epoch 27 Train: 0.2912703093791765\n",
      "Epoch 28 Train: 0.2902520508677871\n",
      "Epoch 29 Train: 0.29266488808330404\n",
      "Epoch 30 Train: 0.2900478053029883\n",
      "Epoch 30 Train: 0.2900478053029883 Test: 0.3291169500664661\n",
      "Epoch 31 Train: 0.2914493688475833\n",
      "Epoch 32 Train: 0.2905109346937881\n",
      "Epoch 33 Train: 0.2915812102023256\n",
      "Epoch 34 Train: 0.28767397934718736\n",
      "Epoch 35 Train: 0.2931584892843766\n",
      "Epoch 36 Train: 0.2914311159303579\n",
      "Epoch 37 Train: 0.2858214526185914\n",
      "Epoch 38 Train: 0.2893480753141736\n",
      "Epoch 39 Train: 0.29562620136630596\n",
      "Epoch 40 Train: 0.2895947672702648\n",
      "Epoch 40 Train: 0.2895947672702648 Test: 0.3327513326155512\n",
      "Epoch 41 Train: 0.29225303583517276\n",
      "Epoch 42 Train: 0.29082008593139197\n",
      "Epoch 43 Train: 0.2874581226832652\n",
      "Epoch 44 Train: 0.29738115294585155\n",
      "Epoch 45 Train: 0.29684797591633266\n",
      "Epoch 46 Train: 0.2906981601365029\n",
      "Epoch 47 Train: 0.2887391049079794\n",
      "Epoch 48 Train: 0.28890273605704936\n",
      "Epoch 49 Train: 0.2927607769373233\n"
     ]
    }
   ],
   "source": [
    "for epoch in range(50):\n",
    "    training_loss = 0\n",
    "    model.train()\n",
    "    for (X,y) in train_dataloader:\n",
    "        X,y = X.to(device), y.to(device)\n",
    "        logits = model(X)\n",
    "        loss = criterion(logits,y)\n",
    "        optimizer.zero_grad()\n",
    "        loss.backward()\n",
    "        optimizer.step()\n",
    "        training_loss += loss.item()\n",
    "    if(epoch%10 == 0):\n",
    "        train_losses.append(training_loss/len(train_dataloader))\n",
    "        model.eval()\n",
    "        testing_loss = 0\n",
    "        for (X,y) in test_dataloader:\n",
    "            X,y = X.to(device), y.to(device)\n",
    "            logits = model(X)\n",
    "            loss = criterion(logits,y)\n",
    "            testing_loss += loss.item()\n",
    "        test_losses.append(testing_loss/len(test_dataloader))\n",
    "        print(f'Epoch {epoch} Train: {training_loss/len(train_dataloader)} Test: {testing_loss/len(test_dataloader)}')"
   ]
  },
  {
   "cell_type": "code",
   "execution_count": 20,
   "metadata": {},
   "outputs": [
    {
     "data": {
      "image/png": "[encoded data removed]",
      "text/plain": [
       "<Figure size 640x480 with 1 Axes>"
      ]
     },
     "metadata": {},
     "output_type": "display_data"
    }
   ],
   "source": [
    "plt.plot(train_losses,label='train')\n",
    "plt.plot(test_losses,label='validation')\n",
    "plt.savefig('loss.jpg',dpi=200)"
   ]
  },
  {
   "cell_type": "code",
   "execution_count": 21,
   "metadata": {},
   "outputs": [],
   "source": [
    "import seaborn as sns\n",
    "sm = nn.Softmax(dim=1)\n",
    "y_pred_train = []\n",
    "y_pred_test = []\n",
    "for sample in X_train:\n",
    "    y_pred_train.append(sm(model(sample.cuda())).argmax(axis=1).item())\n",
    "for sample in X_test:\n",
    "    y_pred_test.append(sm(model(sample.cuda())).argmax(axis=1).item())"
   ]
  },
  {
   "cell_type": "code",
   "execution_count": 22,
   "metadata": {},
   "outputs": [
    {
     "data": {
      "image/png": "[encoded data removed]",
      "text/plain": [
       "<Figure size 1000x500 with 2 Axes>"
      ]
     },
     "metadata": {},
     "output_type": "display_data"
    }
   ],
   "source": [
    "fig,axes = plt.subplots(nrows=1,ncols=2,sharey=True,figsize=(10,5),dpi=100)\n",
    "sns.heatmap(confusion_matrix(y_train,y_pred_train,normalize='true'),ax=axes[0],annot=True,cbar=False)\n",
    "sns.heatmap(confusion_matrix(y_test,y_pred_test,normalize='true'),ax=axes[1],annot=True,cbar=False)\n",
    "axes[0].set_title('Train')\n",
    "axes[0].set_yticklabels(['P','S','W'])\n",
    "axes[0].set_xticklabels(['P','S','W'])\n",
    "axes[1].set_title('Test')\n",
    "axes[1].set_xticklabels(['P','S','W'])\n",
    "plt.savefig('cm.jpg',dpi=200)"
   ]
  },
  {
   "cell_type": "code",
   "execution_count": null,
   "metadata": {},
   "outputs": [],
   "source": [
    "fig,axes = plt.subplots(nrows=len(model.c1.weight),ncols=1,figsize=(32,18))\n",
    "for i in range(len(model.c1.weight)):\n",
    "    axes[i].plot(model.c1.weight[i].squeeze().detach().cpu())\n",
    "plt.savefig('kernels.jpg',dpi=500)"
   ]
  },
  {
   "cell_type": "code",
   "execution_count": null,
   "metadata": {},
   "outputs": [],
   "source": [
    "torch.save(obj=model,f='model.pt')"
   ]
  }
 ],
 "metadata": {
  "kernelspec": {
   "display_name": "Python 3.10.6 64-bit",
   "language": "python",
   "name": "python3"
  },
  "language_info": {
   "codemirror_mode": {
    "name": "ipython",
    "version": 3
   },
   "file_extension": ".py",
   "mimetype": "text/x-python",
   "name": "python",
   "nbconvert_exporter": "python",
   "pygments_lexer": "ipython3",
   "version": "3.10.6"
  },
  "orig_nbformat": 4,
  "vscode": {
   "interpreter": {
    "hash": "916dbcbb3f70747c44a77c7bcd40155683ae19c65e1c03b4aa3499c5328201f1"
   }
  }
 },
 "nbformat": 4,
 "nbformat_minor": 2
}
