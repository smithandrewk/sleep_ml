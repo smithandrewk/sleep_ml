{
 "cells": [
  {
   "cell_type": "code",
   "execution_count": 1,
   "metadata": {},
   "outputs": [],
   "source": [
    "from lib.ekyn import *\n",
    "from sage.utils import *\n",
    "from sage.models import *\n",
    "from lib.env import *\n",
    "import datetime\n",
    "import copy"
   ]
  },
  {
   "cell_type": "code",
   "execution_count": 2,
   "metadata": {},
   "outputs": [],
   "source": [
    "hyperparameters = {\n",
    "    'experiment_group_id':'encoder',\n",
    "    'weight_decay':1e-2,\n",
    "    'lr':3e-4,\n",
    "    'batch_size':512,\n",
    "    'robust':True,\n",
    "    'norm':'layer',\n",
    "    'dropout':.1,\n",
    "    'stem_kernel_size':3,\n",
    "    'widthi':[64],\n",
    "    'depthi':[4],\n",
    "    'n_output_neurons':3,\n",
    "    'patience':100,\n",
    "    'epochs':25,\n",
    "    'device':f'cuda',\n",
    "    'dataloaders':'leave_one_out',\n",
    "    'dev_set':True,\n",
    "    'fold':0\n",
    "}"
   ]
  },
  {
   "cell_type": "code",
   "execution_count": 3,
   "metadata": {},
   "outputs": [
    {
     "name": "stdout",
     "output_type": "stream",
     "text": [
      "Getting Downsampled Data at 100 Hz!\n",
      "train_ids ['F1-1', 'C1-0', 'A1-1', 'E1-0', 'A4-0', 'B1-0', 'E4-0', 'F1-0', 'C4-1', 'D1-0', 'B3-1', 'A1-0', 'C4-0', 'F5-1']\n",
      "dev_ids ['E4-1']\n",
      "test_ids ['E2-1']\n",
      "102915 params\n"
     ]
    }
   ],
   "source": [
    "def get_epoched_dataloaders_loo(batch_size=512,shuffle_train=True,shuffle_test=False,robust=True,fold=0,dev_set=True,**kwargs):\n",
    "    folds = get_leave_one_out_cv_ids_for_ekyn()\n",
    "    train_ids,test_ids = folds[fold]\n",
    "    if dev_set:\n",
    "        dev_ids = [train_ids[-1]]\n",
    "        del train_ids[-1]\n",
    "        devloader = get_epoched_dataloader_for_ids(ids=dev_ids,batch_size=batch_size,shuffle=shuffle_train,robust=robust)\n",
    "\n",
    "    trainloader = get_epoched_dataloader_for_ids(ids=train_ids,batch_size=batch_size,shuffle=shuffle_train,robust=robust)\n",
    "    testloader = get_epoched_dataloader_for_ids(ids=test_ids,batch_size=batch_size,shuffle=shuffle_test,robust=robust)\n",
    "    \n",
    "    print('train_ids',train_ids)\n",
    "    print('dev_ids',dev_ids)\n",
    "    print('test_ids',test_ids)\n",
    "    \n",
    "    if dev_set:\n",
    "        return {'trainloader':trainloader,'devloader':devloader,'testloader':testloader}\n",
    "    return {'trainloader':trainloader,'testloader':testloader}\n",
    "    \n",
    "def get_dataloaders(dataloaders,robust,**kwargs):\n",
    "    if robust:\n",
    "        print(\"Getting Downsampled Data at 100 Hz!\")\n",
    "    if dataloaders=='leave_one_out':\n",
    "        return get_epoched_dataloaders_loo(**kwargs)\n",
    "    \n",
    "dataloaders = get_dataloaders(**hyperparameters)\n",
    "model = ResNetv2(block=ResBlockv2,**hyperparameters)\n",
    "criterion = nn.CrossEntropyLoss()\n",
    "optimizer = torch.optim.AdamW(params=model.parameters(),lr=hyperparameters['lr'],weight_decay=hyperparameters['weight_decay'])\n",
    "scheduler = torch.optim.lr_scheduler.ReduceLROnPlateau(optimizer, mode='min', factor=0.5, patience=50)"
   ]
  },
  {
   "cell_type": "code",
   "execution_count": 4,
   "metadata": {},
   "outputs": [],
   "source": [
    "state = {\n",
    "    'start_time':datetime.datetime.now().strftime(\"%Y_%d_%m_%H_%M_%S\"),\n",
    "    'execution_time':0,\n",
    "    'trainlossi':[],\n",
    "    'devlossi':[],\n",
    "    'testlossi':[],\n",
    "    'best_dev_loss':torch.inf,\n",
    "    'model':model,\n",
    "    'scheduler':scheduler,\n",
    "    'criterion':criterion,\n",
    "    'optimizer':optimizer,\n",
    "    'best_model_wts':copy.deepcopy(model.state_dict()),\n",
    "}"
   ]
  },
  {
   "cell_type": "code",
   "execution_count": 5,
   "metadata": {},
   "outputs": [],
   "source": [
    "for key in hyperparameters:\n",
    "    state[key] = hyperparameters[key]"
   ]
  },
  {
   "cell_type": "code",
   "execution_count": 6,
   "metadata": {},
   "outputs": [],
   "source": [
    "os.makedirs(f'{TMP_EXPERIMENTS_PATH}/{state[\"start_time\"]}')"
   ]
  },
  {
   "cell_type": "code",
   "execution_count": 9,
   "metadata": {},
   "outputs": [
    {
     "name": "stderr",
     "output_type": "stream",
     "text": [
      "train: 0.2621, dev: 0.2842, best_dev: 0.2795:  12%|█▏        | 3/25 [00:44<05:29, 15.00s/it]"
     ]
    }
   ],
   "source": [
    "# TODO : allow for multiple dataloaders\n",
    "# TODO : f1 score each epoch and add to plot_loss\n",
    "# TODO : add best model epoch\n",
    "# TODO : use a torch generator\n",
    "for state in train(state,**dataloaders):\n",
    "    state['model'].eval()\n",
    "    with torch.no_grad():\n",
    "        loss_total = 0\n",
    "        for Xi,yi in dataloaders['testloader']:\n",
    "            Xi,yi = Xi.to(state['device']),yi.to(state['device'])\n",
    "            logits = state['model'](Xi)\n",
    "            loss = state['criterion'](logits,yi)\n",
    "            loss_total += loss.item()\n",
    "\n",
    "        state['testlossi'].append(loss_total/len(dataloaders['testloader']))\n",
    "    plot_loss(state,TMP_EXPERIMENTS_PATH)\n",
    "    torch.save(state, f'{TMP_EXPERIMENTS_PATH}/{state[\"start_time\"]}/state.pt')\n",
    "torch.save(state, f'{TMP_EXPERIMENTS_PATH}/{state[\"start_time\"]}/state.pt')"
   ]
  },
  {
   "cell_type": "code",
   "execution_count": 8,
   "metadata": {},
   "outputs": [
    {
     "ename": "NameError",
     "evalue": "name 'devloader' is not defined",
     "output_type": "error",
     "traceback": [
      "\u001b[0;31m---------------------------------------------------------------------------\u001b[0m",
      "\u001b[0;31mNameError\u001b[0m                                 Traceback (most recent call last)",
      "Cell \u001b[0;32mIn[8], line 9\u001b[0m\n\u001b[1;32m      6\u001b[0m fig, axes \u001b[38;5;241m=\u001b[39m plt\u001b[38;5;241m.\u001b[39msubplots(nrows\u001b[38;5;241m=\u001b[39m\u001b[38;5;241m2\u001b[39m, ncols\u001b[38;5;241m=\u001b[39m\u001b[38;5;241m2\u001b[39m, sharex\u001b[38;5;241m=\u001b[39m\u001b[38;5;28;01mTrue\u001b[39;00m, figsize\u001b[38;5;241m=\u001b[39m(\u001b[38;5;241m10\u001b[39m, \u001b[38;5;241m8\u001b[39m))\n\u001b[1;32m      8\u001b[0m \u001b[38;5;66;03m# Loop through dataloaders and normalization types\u001b[39;00m\n\u001b[0;32m----> 9\u001b[0m \u001b[38;5;28;01mfor\u001b[39;00m i, (dataloader, loader_name) \u001b[38;5;129;01min\u001b[39;00m \u001b[38;5;28menumerate\u001b[39m(\u001b[38;5;28mzip\u001b[39m([\u001b[43mdevloader\u001b[49m, testloader], [\u001b[38;5;124m'\u001b[39m\u001b[38;5;124mDev\u001b[39m\u001b[38;5;124m'\u001b[39m, \u001b[38;5;124m'\u001b[39m\u001b[38;5;124mTest\u001b[39m\u001b[38;5;124m'\u001b[39m])):\n\u001b[1;32m     10\u001b[0m     \u001b[38;5;28;01mfor\u001b[39;00m j, norm \u001b[38;5;129;01min\u001b[39;00m \u001b[38;5;28menumerate\u001b[39m([\u001b[38;5;124m'\u001b[39m\u001b[38;5;124mtrue\u001b[39m\u001b[38;5;124m'\u001b[39m, \u001b[38;5;124m'\u001b[39m\u001b[38;5;124mpred\u001b[39m\u001b[38;5;124m'\u001b[39m]):\n\u001b[1;32m     11\u001b[0m         \u001b[38;5;66;03m# Evaluate the model\u001b[39;00m\n\u001b[1;32m     12\u001b[0m         loss, y_true, y_pred \u001b[38;5;241m=\u001b[39m evaluate(dataloader\u001b[38;5;241m=\u001b[39mdataloader, model\u001b[38;5;241m=\u001b[39mmodel, criterion\u001b[38;5;241m=\u001b[39mstate[\u001b[38;5;124m'\u001b[39m\u001b[38;5;124mcriterion\u001b[39m\u001b[38;5;124m'\u001b[39m], device\u001b[38;5;241m=\u001b[39m\u001b[38;5;124m'\u001b[39m\u001b[38;5;124mcuda\u001b[39m\u001b[38;5;124m'\u001b[39m)\n",
      "\u001b[0;31mNameError\u001b[0m: name 'devloader' is not defined"
     ]
    },
    {
     "data": {
      "image/png": "[encoded data removed]",
      "text/plain": [
       "<Figure size 1000x800 with 4 Axes>"
      ]
     },
     "metadata": {},
     "output_type": "display_data"
    }
   ],
   "source": [
    "from sklearn.metrics import ConfusionMatrixDisplay, f1_score\n",
    "import matplotlib.pyplot as plt\n",
    "\n",
    "# Assuming evaluate, devloader, testloader, model, and state are defined\n",
    "\n",
    "fig, axes = plt.subplots(nrows=2, ncols=2, sharex=True, figsize=(10, 8))\n",
    "\n",
    "# Loop through dataloaders and normalization types\n",
    "for i, (dataloader, loader_name) in enumerate(zip([devloader, testloader], ['Dev', 'Test'])):\n",
    "    for j, norm in enumerate(['true', 'pred']):\n",
    "        # Evaluate the model\n",
    "        loss, y_true, y_pred = evaluate(dataloader=dataloader, model=model, criterion=state['criterion'], device='cuda')\n",
    "\n",
    "        # Plot the confusion matrix\n",
    "        ConfusionMatrixDisplay.from_predictions(y_true, y_pred, normalize=norm, colorbar=False, ax=axes[i, j])\n",
    "        \n",
    "        # Set title and labels with more descriptive information\n",
    "        f1 = f1_score(y_true, y_pred, average='macro')\n",
    "        norm_type = 'Recall' if norm == 'true' else 'Precision'\n",
    "        axes[i, j].set_title(f'{loader_name} - {norm_type} (F1: {f1:.3f})')\n",
    "\n",
    "# Set the overall labels for the axes\n",
    "axes[0, 0].set_xlabel('Predicted Label')\n",
    "axes[0, 0].set_ylabel('True Label')\n",
    "axes[1, 0].set_xlabel('Predicted Label')\n",
    "axes[1, 0].set_ylabel('True Label')\n",
    "\n",
    "# Adjust layout to avoid overlapping elements\n",
    "plt.tight_layout()\n",
    "plt.show()\n"
   ]
  },
  {
   "cell_type": "code",
   "execution_count": null,
   "metadata": {},
   "outputs": [],
   "source": []
  }
 ],
 "metadata": {
  "kernelspec": {
   "display_name": "Python 3",
   "language": "python",
   "name": "python3"
  },
  "language_info": {
   "codemirror_mode": {
    "name": "ipython",
    "version": 3
   },
   "file_extension": ".py",
   "mimetype": "text/x-python",
   "name": "python",
   "nbconvert_exporter": "python",
   "pygments_lexer": "ipython3",
   "version": "3.10.12"
  }
 },
 "nbformat": 4,
 "nbformat_minor": 2
}
