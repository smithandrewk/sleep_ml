{
 "cells": [
  {
   "cell_type": "code",
   "execution_count": null,
   "metadata": {},
   "outputs": [],
   "source": [
    "from lib.ekyn import *\n",
    "import torch\n",
    "from sklearn.model_selection import train_test_split\n",
    "from sklearn.preprocessing import RobustScaler\n",
    "import matplotlib.pyplot as plt\n",
    "import pandas as pd\n",
    "import seaborn as sns\n",
    "from torch import nn\n",
    "from torch.nn.functional import relu\n",
    "from lib.models import *\n",
    "from lib.deep_learning_utils import evaluate\n",
    "from sklearn.metrics import ConfusionMatrixDisplay,classification_report,f1_score\n",
    "import numpy as np\n",
    "from sklearn.model_selection import train_test_split\n",
    "import copy\n",
    "from tqdm import tqdm\n"
   ]
  },
  {
   "cell_type": "code",
   "execution_count": null,
   "metadata": {},
   "outputs": [],
   "source": [
    "ekyn_ids = get_ekyn_ids()\n",
    "snezana_mice_ids = get_snezana_mice_ids()\n",
    "\n",
    "ekyn_ids = np.array(ekyn_ids)\n",
    "snezana_mice_ids = np.array(snezana_mice_ids)\n",
    "\n",
    "ekyn_train_ids,ekyn_test_ids = train_test_split(ekyn_ids,test_size=.2,shuffle=True,random_state=0)\n",
    "snezana_mice_train_ids,snezana_mice_test_ids = train_test_split(snezana_mice_ids,test_size=.2,shuffle=True,random_state=0)\n",
    "\n",
    "train_ids = {'ekyn':ekyn_train_ids,'snezana_mice':snezana_mice_train_ids}\n",
    "test_ids  = {'ekyn':ekyn_test_ids,'snezana_mice':snezana_mice_test_ids}\n",
    "batch_size = 512\n",
    "\n",
    "from torch.utils.data import DataLoader,ConcatDataset\n",
    "trainloader = DataLoader(\n",
    "        dataset=ConcatDataset(\n",
    "        [EpochedDataset(id=id,condition=condition,robust=True,downsampled=True) for id in train_ids['ekyn'] for condition in CONDITIONS] \n",
    "        + [EpochedDataset(id=id,snezana_mice=True) for id in train_ids['snezana_mice']]\n",
    "        ),\n",
    "        batch_size=batch_size,\n",
    "        shuffle=True,\n",
    "        num_workers=1\n",
    "    )\n",
    "\n",
    "testloader = DataLoader(\n",
    "        dataset=ConcatDataset(\n",
    "        [EpochedDataset(id=id,condition=condition,robust=True,downsampled=True) for id in test_ids['ekyn'] for condition in CONDITIONS] \n",
    "        + [EpochedDataset(id=id,snezana_mice=True) for id in test_ids['snezana_mice']]\n",
    "        ),\n",
    "        batch_size=batch_size,\n",
    "        shuffle=True,\n",
    "        num_workers=1\n",
    "    )\n",
    "print(train_ids)\n",
    "print(test_ids)\n",
    "print(len(ekyn_ids),len(snezana_mice_ids))\n",
    "print(f'{len(trainloader)} training batches {len(testloader)} testing batches')\n",
    "print(f'{len(trainloader)*batch_size} training samples {len(testloader)*batch_size} testing samples')\n",
    "print(f'{len(trainloader)*batch_size*10/3600:.2f} training hours {len(testloader)*batch_size*10/3600:.2f} testing hours')"
   ]
  },
  {
   "cell_type": "code",
   "execution_count": 47,
   "metadata": {},
   "outputs": [],
   "source": [
    "model = ResNetv2(block=ResBlockv2,widthi=[64,128,256,512],depthi=[2,2,2,2],n_output_neurons=3)\n",
    "criterion = nn.CrossEntropyLoss()\n",
    "optimizer = torch.optim.AdamW(model.parameters(),lr=3e-4, weight_decay=1e-4)\n",
    "scheduler = torch.optim.lr_scheduler.ReduceLROnPlateau(optimizer, mode='min', factor=0.5, patience=10)"
   ]
  },
  {
   "cell_type": "code",
   "execution_count": 48,
   "metadata": {},
   "outputs": [],
   "source": [
    "trainlossi = []\n",
    "testlossi = []\n",
    "best_model_wts = copy.deepcopy(model.state_dict())\n",
    "best_dev_loss = torch.inf"
   ]
  },
  {
   "cell_type": "code",
   "execution_count": 49,
   "metadata": {},
   "outputs": [
    {
     "name": "stderr",
     "output_type": "stream",
     "text": [
      "  0%|          | 0/100 [00:00<?, ?it/s]"
     ]
    },
    {
     "name": "stderr",
     "output_type": "stream",
     "text": [
      "  1%|          | 1/100 [02:42<4:27:56, 162.39s/it]"
     ]
    },
    {
     "name": "stdout",
     "output_type": "stream",
     "text": [
      "0.1882094792072377\n"
     ]
    },
    {
     "name": "stderr",
     "output_type": "stream",
     "text": [
      "  2%|▏         | 2/100 [05:26<4:26:27, 163.14s/it]"
     ]
    },
    {
     "name": "stdout",
     "output_type": "stream",
     "text": [
      "0.1808765554846177\n"
     ]
    },
    {
     "name": "stderr",
     "output_type": "stream",
     "text": [
      "  2%|▏         | 2/100 [07:35<6:11:51, 227.67s/it]\n"
     ]
    },
    {
     "ename": "KeyboardInterrupt",
     "evalue": "",
     "output_type": "error",
     "traceback": [
      "\u001b[0;31m---------------------------------------------------------------------------\u001b[0m",
      "\u001b[0;31mKeyboardInterrupt\u001b[0m                         Traceback (most recent call last)",
      "Cell \u001b[0;32mIn[49], line 12\u001b[0m\n\u001b[1;32m     10\u001b[0m     loss\u001b[38;5;241m.\u001b[39mbackward()\n\u001b[1;32m     11\u001b[0m     optimizer\u001b[38;5;241m.\u001b[39mstep()\n\u001b[0;32m---> 12\u001b[0m     trainlossi\u001b[38;5;241m.\u001b[39mappend(\u001b[43mloss\u001b[49m\u001b[38;5;241;43m.\u001b[39;49m\u001b[43mitem\u001b[49m\u001b[43m(\u001b[49m\u001b[43m)\u001b[49m)\n\u001b[1;32m     14\u001b[0m model\u001b[38;5;241m.\u001b[39meval()\n\u001b[1;32m     15\u001b[0m \u001b[38;5;28;01mwith\u001b[39;00m torch\u001b[38;5;241m.\u001b[39mno_grad():\n",
      "\u001b[0;31mKeyboardInterrupt\u001b[0m: "
     ]
    }
   ],
   "source": [
    "model.to('cuda')\n",
    "\n",
    "for i in tqdm(range(100)):\n",
    "    model.train()\n",
    "    for Xi,yi in trainloader:\n",
    "        Xi,yi = Xi.to('cuda'),yi.to('cuda')\n",
    "        logits = model(Xi)\n",
    "        loss = criterion(logits,yi)\n",
    "        optimizer.zero_grad()\n",
    "        loss.backward()\n",
    "        optimizer.step()\n",
    "        trainlossi.append(loss.item())\n",
    "\n",
    "    model.eval()\n",
    "    with torch.no_grad():\n",
    "        loss_total = 0\n",
    "        for Xi,yi in testloader:\n",
    "            Xi,yi = Xi.to('cuda'),yi.to('cuda')\n",
    "            logits = model(Xi)\n",
    "            loss = criterion(logits,yi)\n",
    "            loss_total += loss.item()\n",
    "        testlossi.append(loss_total/len(testloader))\n",
    "    \n",
    "    if testlossi[-1] < best_dev_loss:\n",
    "        best_dev_loss = testlossi[-1]\n",
    "        best_model_wts = copy.deepcopy(model.state_dict())\n",
    "    \n",
    "    print(best_dev_loss)\n",
    "    plt.figure()\n",
    "    plt.plot(torch.linspace(0,len(testlossi),len(trainlossi)),trainlossi)\n",
    "    plt.plot(torch.linspace(0,len(testlossi),len(testlossi) + 1),[trainlossi[0]] + testlossi)\n",
    "    plt.savefig('loss.jpg')\n",
    "    plt.close()"
   ]
  },
  {
   "cell_type": "code",
   "execution_count": 38,
   "metadata": {},
   "outputs": [
    {
     "data": {
      "text/plain": [
       "0.16487576898805884"
      ]
     },
     "execution_count": 38,
     "metadata": {},
     "output_type": "execute_result"
    }
   ],
   "source": [
    "best_dev_loss"
   ]
  },
  {
   "cell_type": "code",
   "execution_count": 37,
   "metadata": {},
   "outputs": [
    {
     "name": "stdout",
     "output_type": "stream",
     "text": [
      "0.11789811214529225\n",
      "0.1705022142238752\n"
     ]
    },
    {
     "data": {
      "text/plain": [
       "Text(0.5, 1.0, 'testf1 : 0.876')"
      ]
     },
     "execution_count": 37,
     "metadata": {},
     "output_type": "execute_result"
    },
    {
     "data": {
      "image/png": "[encoded data removed]",
      "text/plain": [
       "<Figure size 800x400 with 2 Axes>"
      ]
     },
     "metadata": {},
     "output_type": "display_data"
    }
   ],
   "source": [
    "fig,axes = plt.subplots(nrows=1,ncols=2,figsize=(8,4))\n",
    "loss,y_true,y_pred = evaluate(dataloader=trainloader,model=model,criterion=criterion,device='cuda')\n",
    "print(loss)\n",
    "ConfusionMatrixDisplay.from_predictions(y_true,y_pred,normalize='true',ax=axes[0],colorbar=False)\n",
    "axes[0].set_title(f'trainf1 : {f1_score(y_true,y_pred,average=\"macro\"):.3f}')\n",
    "loss,y_true,y_pred = evaluate(dataloader=testloader,model=model,criterion=criterion,device='cuda')\n",
    "print(loss)\n",
    "ConfusionMatrixDisplay.from_predictions(y_true,y_pred,normalize='true',ax=axes[1],colorbar=False)\n",
    "axes[1].set_title(f'testf1 : {f1_score(y_true,y_pred,average=\"macro\"):.3f}')\n",
    "# first block 4\n",
    "# 0.15651415670436988 \n",
    "# 0.17776457286082847\n",
    "# first block 8\n",
    "# 0.14261297114022264\n",
    "# 0.17632858462388454\n",
    "# first block 16\n",
    "# 0.12881732295086315\n",
    "# 0.1683129257734678\n"
   ]
  },
  {
   "cell_type": "code",
   "execution_count": null,
   "metadata": {},
   "outputs": [],
   "source": []
  }
 ],
 "metadata": {
  "kernelspec": {
   "display_name": "Python 3.10.12 64-bit",
   "language": "python",
   "name": "python3"
  },
  "language_info": {
   "codemirror_mode": {
    "name": "ipython",
    "version": 3
   },
   "file_extension": ".py",
   "mimetype": "text/x-python",
   "name": "python",
   "nbconvert_exporter": "python",
   "pygments_lexer": "ipython3",
   "version": "3.11.9"
  },
  "vscode": {
   "interpreter": {
    "hash": "916dbcbb3f70747c44a77c7bcd40155683ae19c65e1c03b4aa3499c5328201f1"
   }
  }
 },
 "nbformat": 4,
 "nbformat_minor": 2
}
