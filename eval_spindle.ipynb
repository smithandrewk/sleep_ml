{
 "cells": [
  {
   "cell_type": "code",
   "execution_count": 1,
   "metadata": {},
   "outputs": [],
   "source": [
    "from lib.utils import *\n",
    "from lib.models import *\n",
    "from lib.ekyn import *\n",
    "from lib.env import *\n",
    "from lib.datasets import *"
   ]
  },
  {
   "cell_type": "code",
   "execution_count": 9,
   "metadata": {},
   "outputs": [],
   "source": [
    "class Gandalf(nn.Module):\n",
    "    def __init__(self) -> None:\n",
    "        super().__init__()\n",
    "        self.encoder = Frodo(n_features=5000,device=DEVICE).to(DEVICE)\n",
    "        self.lstm = nn.LSTM(16,32,bidirectional=True)\n",
    "        self.fc1 = nn.Linear(64,3)\n",
    "    def forward(self,x_2d,classification=True):\n",
    "        x_2d = x_2d.view(-1,9,1,5000)\n",
    "        x = torch.Tensor().to(DEVICE)\n",
    "        for t in range(x_2d.size(1)):\n",
    "            xi = self.encoder(x_2d[:,t,:,:],classification=False)\n",
    "            x = torch.cat([x,xi.unsqueeze(0)],dim=0)\n",
    "        out,_ = self.lstm(x)\n",
    "        if(classification):\n",
    "            x = self.fc1(out[-1])\n",
    "        else:\n",
    "            x = out[-1]\n",
    "        return x\n",
    "model = Gandalf()\n",
    "model.load_state_dict(torch.load(f'gandalf_spindle_fold_0/best_model.pt'))\n",
    "model.to(DEVICE)\n",
    "criterion = torch.nn.CrossEntropyLoss()"
   ]
  },
  {
   "cell_type": "code",
   "execution_count": 7,
   "metadata": {},
   "outputs": [
    {
     "name": "stdout",
     "output_type": "stream",
     "text": [
      "Extracting EDF parameters from /home/andrew/sleep/data/spindle/CohortD/recordings/D6.edf...\n",
      "EDF file detected\n",
      "Setting channel info structure...\n",
      "Creating raw.info structure...\n"
     ]
    }
   ],
   "source": [
    "FOLD = 0\n",
    "ids = ['A1','A2','A3','A4','B1','B2','B3','B4','C1','C2','C3','C4','C5','C6','C7','C8','D1','D2','D3','D4','D5','D6']\n",
    "test_id = ids[FOLD]\n",
    "ids.remove(test_id)\n",
    "subjects = [load_spindle_eeg_label_pair(cohort=id[0],subject=id[1]) for id in [test_id]]\n",
    "Xs = [subject[0] for subject in subjects]\n",
    "ys = [subject[1] for subject in subjects]\n",
    "devloader = DataLoader(dataset=SSDataset(Xs,ys,range(8640)),batch_size=32,shuffle=False)"
   ]
  },
  {
   "cell_type": "code",
   "execution_count": 10,
   "metadata": {},
   "outputs": [
    {
     "name": "stderr",
     "output_type": "stream",
     "text": [
      "100%|██████████| 270/270 [00:22<00:00, 11.88it/s]\n"
     ]
    },
    {
     "data": {
      "text/plain": [
       "(0.10503444508153566,\n",
       " {'precision': 0.8851501768842093,\n",
       "  'recall': 0.9438842513114314,\n",
       "  'f1': 0.9096107987033584},\n",
       " tensor([1., 1., 1.,  ..., 2., 2., 2.]),\n",
       " tensor([1., 1., 1.,  ..., 2., 2., 2.]),\n",
       " tensor([[1.9276e-04, 9.3401e-01, 6.5802e-02],\n",
       "         [2.7791e-04, 9.2710e-01, 7.2618e-02],\n",
       "         [4.9142e-04, 8.4240e-01, 1.5711e-01],\n",
       "         ...,\n",
       "         [3.0795e-04, 4.8863e-03, 9.9481e-01],\n",
       "         [3.6640e-04, 1.8196e-02, 9.8144e-01],\n",
       "         [4.6634e-04, 1.5415e-01, 8.4538e-01]]))"
      ]
     },
     "execution_count": 10,
     "metadata": {},
     "output_type": "execute_result"
    }
   ],
   "source": [
    "evaluate(devloader,model,criterion,DEVICE)"
   ]
  }
 ],
 "metadata": {
  "kernelspec": {
   "display_name": "Python 3.10.12 64-bit",
   "language": "python",
   "name": "python3"
  },
  "language_info": {
   "codemirror_mode": {
    "name": "ipython",
    "version": 3
   },
   "file_extension": ".py",
   "mimetype": "text/x-python",
   "name": "python",
   "nbconvert_exporter": "python",
   "pygments_lexer": "ipython3",
   "version": "3.10.12"
  },
  "orig_nbformat": 4,
  "vscode": {
   "interpreter": {
    "hash": "916dbcbb3f70747c44a77c7bcd40155683ae19c65e1c03b4aa3499c5328201f1"
   }
  }
 },
 "nbformat": 4,
 "nbformat_minor": 2
}
