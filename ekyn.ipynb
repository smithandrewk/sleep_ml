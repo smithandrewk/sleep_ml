{
 "cells": [
  {
   "cell_type": "code",
   "execution_count": null,
   "metadata": {},
   "outputs": [],
   "source": [
    "from lib.ekyn import *\n",
    "import torch\n",
    "from sklearn.model_selection import train_test_split\n",
    "from sklearn.preprocessing import RobustScaler\n",
    "import matplotlib.pyplot as plt\n",
    "import pandas as pd\n",
    "import seaborn as sns\n",
    "from torch import nn\n",
    "from torch.nn.functional import relu\n",
    "from lib.models import *\n",
    "from lib.deep_learning_utils import evaluate"
   ]
  },
  {
   "cell_type": "code",
   "execution_count": null,
   "metadata": {},
   "outputs": [],
   "source": [
    "df = pd.DataFrame()\n",
    "\n",
    "plt.figure(figsize=(14,8))\n",
    "for id in ekyn_ids[:10]:\n",
    "    print(id)\n",
    "    X,y = load_ekyn_pt_robust(id=id,condition='Vehicle')\n",
    "    std,mean = torch.std_mean(X[torch.where(y.argmax(axis=1) == 1)[0]]\n",
    ",dim=1)\n",
    "    sns.ecdfplot(std,linewidth=2,label=id,color='blue')\n",
    "\n",
    "# df_long = df.melt()\n",
    "# df_long[['id','condition']] = df_long.variable.str.split('_',expand=True)\n",
    "# sns.ecdfplot(df_long[df_long.condition == 'Vehicle'],x='value',hue='id',linestyle='-')\n",
    "# sns.ecdfplot(df_long[df_long.condition == 'PF'],x='value',hue='id',linestyle='--')\n",
    "# std,mean = torch.std_mean(eeg,dim=1)\n",
    "\n",
    "plt.legend()\n",
    "plt.xlim([0,2])"
   ]
  },
  {
   "cell_type": "code",
   "execution_count": null,
   "metadata": {},
   "outputs": [],
   "source": [
    "X.shape"
   ]
  },
  {
   "cell_type": "code",
   "execution_count": null,
   "metadata": {},
   "outputs": [],
   "source": [
    "df = pd.DataFrame()\n",
    "\n",
    "plt.figure(figsize=(14,8))\n",
    "for id in idx:\n",
    "    for condition in ['Vehicle','PF']:\n",
    "        X,y = load_ekyn_pt(idx=id,condition=condition)\n",
    "        std,mean = torch.std_mean(X,dim=1)\n",
    "        df[f'{id}_{condition}'] = std\n",
    "df_long = df.melt()\n",
    "df_long[['id','condition']] = df_long.variable.str.split('_',expand=True)\n",
    "sns.ecdfplot(df_long[df_long.condition == 'Vehicle'],x='value',hue='id',linestyle='-')\n",
    "sns.ecdfplot(df_long[df_long.condition == 'PF'],x='value',hue='id',linestyle='--')\n",
    "std,mean = torch.std_mean(eeg,dim=1)\n",
    "sns.ecdfplot(std,linewidth=2)\n",
    "\n",
    "\n",
    "plt.xlim([0,.0002])"
   ]
  },
  {
   "cell_type": "code",
   "execution_count": null,
   "metadata": {},
   "outputs": [],
   "source": [
    "idx = get_ekyn_ids()\n",
    "# train_idx,test_idx = train_test_split(get_ekyn_ids(),test_size=.25,random_state=0)\n",
    "train_idx = get_ekyn_ids()\n",
    "test_idx = [train_idx[12]]\n",
    "train_idx.remove(test_idx[0])\n",
    "print(train_idx,test_idx)\n",
    "print(len(train_idx),len(test_idx))"
   ]
  },
  {
   "cell_type": "code",
   "execution_count": null,
   "metadata": {},
   "outputs": [],
   "source": [
    "df = pd.DataFrame()\n",
    "\n",
    "for id in idx:\n",
    "    for condition in ['Vehicle','PF']:\n",
    "        X,y = load_ekyn_pt(idx=id,condition=condition)\n",
    "        df[f'{id}_{condition}'] = torch.bincount(y.argmax(axis=1))/len(y)"
   ]
  },
  {
   "cell_type": "code",
   "execution_count": null,
   "metadata": {},
   "outputs": [],
   "source": [
    "df = df.T"
   ]
  },
  {
   "cell_type": "code",
   "execution_count": null,
   "metadata": {},
   "outputs": [],
   "source": [
    "plt.figure(figsize=(7.2,7.2),dpi=200)\n",
    "sns.boxplot(data=df)"
   ]
  },
  {
   "cell_type": "code",
   "execution_count": null,
   "metadata": {},
   "outputs": [],
   "source": [
    "s = df.describe()[1]\n",
    "w = df.describe()[2]\n",
    "iqr_s = s['75%'] - s['25%']\n",
    "iqr_w = w['75%'] - w['25%']\n",
    "lower_outlier_s = s['25%'] - (1.5*iqr_s)\n",
    "upper_outlier_w = w['75%'] + (1.5*iqr_w)\n",
    "lower_outlier_s"
   ]
  },
  {
   "cell_type": "code",
   "execution_count": null,
   "metadata": {},
   "outputs": [],
   "source": [
    "df[(df[1] < lower_outlier_s) | (df[2] > upper_outlier_w)]"
   ]
  },
  {
   "cell_type": "code",
   "execution_count": null,
   "metadata": {},
   "outputs": [],
   "source": [
    "from mne.io import read_raw_edf\n",
    "\n",
    "eeg = torch.from_numpy(read_raw_edf(f'./24-AGING-2.edf').get_data(picks=['EEG 1'])[0]).float().reshape(-1,5000)"
   ]
  },
  {
   "cell_type": "code",
   "execution_count": null,
   "metadata": {},
   "outputs": [],
   "source": [
    "df = pd.DataFrame()\n",
    "\n",
    "plt.figure(figsize=(14,8))\n",
    "for id in idx:\n",
    "    for condition in ['Vehicle','PF']:\n",
    "        X,y = load_ekyn_pt(idx=id,condition=condition)\n",
    "        std,mean = torch.std_mean(X,dim=1)\n",
    "        df[f'{id}_{condition}'] = std\n",
    "df_long = df.melt()\n",
    "df_long[['id','condition']] = df_long.variable.str.split('_',expand=True)\n",
    "sns.ecdfplot(df_long[df_long.condition == 'Vehicle'],x='value',hue='id',linestyle='-')\n",
    "sns.ecdfplot(df_long[df_long.condition == 'PF'],x='value',hue='id',linestyle='--')\n",
    "std,mean = torch.std_mean(eeg,dim=1)\n",
    "sns.ecdfplot(std,linewidth=2)\n",
    "\n",
    "\n",
    "plt.xlim([0,.0002])"
   ]
  }
 ],
 "metadata": {
  "kernelspec": {
   "display_name": "Python 3.10.12 64-bit",
   "language": "python",
   "name": "python3"
  },
  "language_info": {
   "codemirror_mode": {
    "name": "ipython",
    "version": 3
   },
   "file_extension": ".py",
   "mimetype": "text/x-python",
   "name": "python",
   "nbconvert_exporter": "python",
   "pygments_lexer": "ipython3",
   "version": "3.10.12"
  },
  "vscode": {
   "interpreter": {
    "hash": "916dbcbb3f70747c44a77c7bcd40155683ae19c65e1c03b4aa3499c5328201f1"
   }
  }
 },
 "nbformat": 4,
 "nbformat_minor": 2
}
