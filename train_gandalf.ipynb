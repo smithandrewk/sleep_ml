{
 "cells": [
  {
   "cell_type": "code",
   "execution_count": null,
   "metadata": {},
   "outputs": [],
   "source": [
    "from torch import nn\n",
    "from torch.nn.functional import relu\n",
    "import torch\n",
    "import os\n",
    "from sklearn.model_selection import train_test_split\n",
    "from random import seed, shuffle\n",
    "from tqdm import tqdm\n",
    "import matplotlib.pyplot as plt\n",
    "from torch.nn.functional import relu\n",
    "import torch\n",
    "import os\n",
    "from sklearn.model_selection import train_test_split\n",
    "import matplotlib.pyplot as plt\n",
    "from lib.models import Gandalf\n",
    "from lib.utils import *\n",
    "from torch.utils.data import DataLoader\n",
    "from sklearn.metrics import ConfusionMatrixDisplay,classification_report\n",
    "\n",
    "FOLD = 0\n",
    "folds = get_leave_one_out_cv_ids_for_ekyn()\n",
    "train_ids,test_ids = folds[FOLD]\n",
    "print(train_ids,test_ids)\n",
    "subjects = [load_eeg_label_pair(id=id,condition=condition) for id in train_ids for condition in ['Vehicle','PF']]\n",
    "Xs = [subject[0] for subject in subjects]\n",
    "ys = [subject[1] for subject in subjects]\n",
    "train_idx,test_idx = train_test_split(range(len(subjects)*8640),test_size=.1,random_state=0,shuffle=True)\n",
    "trainloader = DataLoader(dataset=SSDataset(Xs,ys,train_idx),batch_size=128,shuffle=True)\n",
    "devloader = DataLoader(dataset=SSDataset(Xs,ys,test_idx),batch_size=32,shuffle=True)\n",
    "del subjects\n",
    "del Xs\n",
    "del ys\n",
    "print(f'trainloader: {len(trainloader)} batches')\n",
    "print(f'devloader: {len(devloader)} batches')\n",
    "model = Gandalf()\n",
    "criterion = torch.nn.CrossEntropyLoss()\n",
    "optimizer = torch.optim.Adam(model.parameters(),lr=3e-4)"
   ]
  },
  {
   "cell_type": "code",
   "execution_count": null,
   "metadata": {},
   "outputs": [],
   "source": [
    "model.to(DEVICE)\n",
    "lossi = []\n",
    "# for i in range(1):\n",
    "for Xi,yi in tqdm(trainloader):\n",
    "    Xi,yi = Xi.to(DEVICE),yi.to(DEVICE)\n",
    "    logits = model(Xi)\n",
    "    loss = criterion(logits,yi)\n",
    "    optimizer.zero_grad()\n",
    "    loss.backward()\n",
    "    optimizer.step()\n",
    "    lossi.append(loss.item())"
   ]
  },
  {
   "cell_type": "code",
   "execution_count": null,
   "metadata": {},
   "outputs": [],
   "source": []
  }
 ],
 "metadata": {
  "kernelspec": {
   "display_name": "Python 3",
   "language": "python",
   "name": "python3"
  },
  "language_info": {
   "codemirror_mode": {
    "name": "ipython",
    "version": 3
   },
   "file_extension": ".py",
   "mimetype": "text/x-python",
   "name": "python",
   "nbconvert_exporter": "python",
   "pygments_lexer": "ipython3",
   "version": "3.10.12"
  }
 },
 "nbformat": 4,
 "nbformat_minor": 2
}
