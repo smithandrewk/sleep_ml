{
 "cells": [
  {
   "cell_type": "code",
   "execution_count": null,
   "metadata": {},
   "outputs": [],
   "source": [
    "from lib.utils import *\n",
    "def train_test_confusion_matrices(X_train,X_test,y_train,y_test,clf,title):\n",
    "    fig,axes = plt.subplots(nrows=1,ncols=2,figsize=(7.2,4.45),dpi=500,sharex=True,sharey=True)\n",
    "    y_pred = clf.predict(X_train)\n",
    "    cm = confusion_matrix(y_train,y_pred,normalize='true')\n",
    "    sns.heatmap(ax=axes[0],data=cm,annot=True)\n",
    "    y_pred = clf.predict(X_test)\n",
    "    cm = confusion_matrix(y_test,y_pred,normalize='true')\n",
    "    sns.heatmap(ax=axes[1],data=cm,annot=True)\n",
    "    fig.supxlabel('Predicted Label')\n",
    "    fig.supylabel('True Label')\n",
    "    axes[0].set_title(f'Training Data')\n",
    "    axes[1].set_title(f'Testing Data')\n",
    "    plt.suptitle(f'{title}',fontweight='heavy')\n",
    "    plt.savefig(f'figures/{title}_train_test.jpg',dpi=200,bbox_inches='tight')\n",
    "def test_confusion_matrix(X_test,y_test,clf,title):\n",
    "    plt.figure(figsize=(5,5),dpi=500)\n",
    "    y_pred = clf.predict(X_test)\n",
    "    cm = confusion_matrix(y_test,y_pred,normalize='true')\n",
    "    sns.heatmap(data=cm,annot=True)\n",
    "    plt.xlabel('Predicted Label')\n",
    "    plt.ylabel('True Label')\n",
    "    plt.title(f'{title}',fontweight='heavy')\n",
    "    plt.savefig(f'figures/{title}_test.jpg',dpi=200,bbox_inches='tight')"
   ]
  },
  {
   "cell_type": "code",
   "execution_count": null,
   "metadata": {},
   "outputs": [],
   "source": [
    "df = load_all_psd()\n",
    "X = df.drop('label',axis=1)\n",
    "y = df['label']"
   ]
  },
  {
   "cell_type": "code",
   "execution_count": null,
   "metadata": {},
   "outputs": [],
   "source": [
    "X_train,X_test,y_train,y_test = train_test_split(X,y,test_size=.2,shuffle=True,stratify=y,random_state=0)"
   ]
  },
  {
   "cell_type": "markdown",
   "metadata": {},
   "source": [
    "# Imbalanced"
   ]
  },
  {
   "cell_type": "code",
   "execution_count": null,
   "metadata": {},
   "outputs": [],
   "source": [
    "from sklearn.tree import DecisionTreeClassifier\n",
    "clf = DecisionTreeClassifier()\n",
    "clf.fit(X_train,y_train)\n",
    "train_test_confusion_matrices(X_train,X_test,y_train,y_test,clf,f'DT_all_80_20_imbalanced')\n",
    "test_confusion_matrix(X_test,y_test,clf,f'DT_all_80_20_imbalanced')"
   ]
  },
  {
   "cell_type": "code",
   "execution_count": null,
   "metadata": {},
   "outputs": [],
   "source": [
    "from sklearn.ensemble import RandomForestClassifier\n",
    "clf = RandomForestClassifier()\n",
    "clf.fit(X_train,y_train)\n",
    "train_test_confusion_matrices(X_train,X_test,y_train,y_test,clf,f'RF_all_80_20_imbalanced')\n",
    "test_confusion_matrix(X_test,y_test,clf,f'RF_all_80_20_imbalanced')"
   ]
  },
  {
   "cell_type": "code",
   "execution_count": null,
   "metadata": {},
   "outputs": [],
   "source": [
    "from sklearn.neighbors import KNeighborsClassifier\n",
    "clf = KNeighborsClassifier()\n",
    "clf.fit(X_train,y_train)\n",
    "train_test_confusion_matrices(X_train,X_test,y_train,y_test,clf,f'KNN_all_80_20_imbalanced')\n",
    "test_confusion_matrix(X_test,y_test,clf,f'KNN_all_80_20_imbalanced')"
   ]
  },
  {
   "cell_type": "markdown",
   "metadata": {},
   "source": [
    "# Balance by Class Weight"
   ]
  },
  {
   "cell_type": "code",
   "execution_count": null,
   "metadata": {},
   "outputs": [],
   "source": [
    "from sklearn.tree import DecisionTreeClassifier\n",
    "clf = DecisionTreeClassifier(class_weight='balanced')\n",
    "clf.fit(X_train,y_train)\n",
    "train_test_confusion_matrices(X_train,X_test,y_train,y_test,clf,f'DT_all_80_20_class_weight')\n",
    "test_confusion_matrix(X_test,y_test,clf,f'DT_all_80_20_class_weight')"
   ]
  },
  {
   "cell_type": "code",
   "execution_count": null,
   "metadata": {},
   "outputs": [],
   "source": [
    "from sklearn.ensemble import RandomForestClassifier\n",
    "clf = RandomForestClassifier(class_weight='balanced')\n",
    "clf.fit(X_train,y_train)\n",
    "train_test_confusion_matrices(X_train,X_test,y_train,y_test,clf,f'RF_all_80_20_class_weight')\n",
    "test_confusion_matrix(X_test,y_test,clf,f'RF_all_80_20_class_weight')"
   ]
  },
  {
   "cell_type": "markdown",
   "metadata": {},
   "source": [
    "# SMOTE"
   ]
  },
  {
   "cell_type": "code",
   "execution_count": null,
   "metadata": {},
   "outputs": [],
   "source": [
    "from imblearn.over_sampling import SMOTE"
   ]
  },
  {
   "cell_type": "code",
   "execution_count": null,
   "metadata": {},
   "outputs": [],
   "source": [
    "sm = SMOTE(random_state=0)\n",
    "X_train_res, y_train_res = sm.fit_resample(X_train, y_train)"
   ]
  },
  {
   "cell_type": "code",
   "execution_count": null,
   "metadata": {},
   "outputs": [],
   "source": [
    "from sklearn.tree import DecisionTreeClassifier\n",
    "clf = DecisionTreeClassifier()\n",
    "clf.fit(X_train,y_train)\n",
    "train_test_confusion_matrices(X_train,X_test,y_train,y_test,clf,f'DT_all_80_20_smote')\n",
    "test_confusion_matrix(X_test,y_test,clf,f'DT_all_80_20_smote')"
   ]
  },
  {
   "cell_type": "code",
   "execution_count": null,
   "metadata": {},
   "outputs": [],
   "source": [
    "from sklearn.ensemble import RandomForestClassifier\n",
    "clf = RandomForestClassifier()\n",
    "clf.fit(X_train,y_train)\n",
    "train_test_confusion_matrices(X_train,X_test,y_train,y_test,clf,f'RF_all_80_20_smote')\n",
    "test_confusion_matrix(X_test,y_test,clf,f'RF_all_80_20_smote')"
   ]
  },
  {
   "cell_type": "code",
   "execution_count": null,
   "metadata": {},
   "outputs": [],
   "source": [
    "from sklearn.neighbors import KNeighborsClassifier\n",
    "clf = KNeighborsClassifier()\n",
    "clf.fit(X_train,y_train)\n",
    "train_test_confusion_matrices(X_train,X_test,y_train,y_test,clf,f'KNN_all_80_20_smote')\n",
    "test_confusion_matrix(X_test,y_test,clf,f'KNN_all_80_20_smote')"
   ]
  }
 ],
 "metadata": {
  "kernelspec": {
   "display_name": "Python 3.10.6 64-bit",
   "language": "python",
   "name": "python3"
  },
  "language_info": {
   "codemirror_mode": {
    "name": "ipython",
    "version": 3
   },
   "file_extension": ".py",
   "mimetype": "text/x-python",
   "name": "python",
   "nbconvert_exporter": "python",
   "pygments_lexer": "ipython3",
   "version": "3.10.6"
  },
  "orig_nbformat": 4,
  "vscode": {
   "interpreter": {
    "hash": "916dbcbb3f70747c44a77c7bcd40155683ae19c65e1c03b4aa3499c5328201f1"
   }
  }
 },
 "nbformat": 4,
 "nbformat_minor": 2
}
