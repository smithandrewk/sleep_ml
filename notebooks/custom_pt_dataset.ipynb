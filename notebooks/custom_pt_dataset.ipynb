{
 "cells": [
  {
   "cell_type": "code",
   "execution_count": null,
   "metadata": {},
   "outputs": [],
   "source": [
    "import torch\n",
    "from lib.utils import load_raw_list,load_psd,load_raw\n",
    "from torch.nn.functional import one_hot\n",
    "import pandas as pd\n",
    "import numpy as np\n",
    "from tqdm import tqdm\n",
    "idx = 0\n",
    "i = 0\n",
    "zeros = []\n",
    "y_final = torch.Tensor()"
   ]
  },
  {
   "cell_type": "code",
   "execution_count": null,
   "metadata": {},
   "outputs": [],
   "source": [
    "## Run this cell with range from 0 to 10, 10 to 20, 20 to 30, 30 to 32\n",
    "ret = pd.DataFrame()\n",
    "idxs = list(range(15,32))\n",
    "raw = load_raw(idxs[0])\n",
    "df = load_psd(idxs[0])\n",
    "eeg = raw.get_data(picks='EEG')[0]\n",
    "X = pd.DataFrame(eeg.reshape(-1,5000))\n",
    "y = df['label']\n",
    "\n",
    "append = pd.concat([y,X],axis=1)\n",
    "ret = pd.concat([ret,append])\n",
    "for i in idxs[1:]:\n",
    "    raw = load_raw(i)\n",
    "    df = load_psd(i)\n",
    "    eeg = raw.get_data(picks='EEG')[0]\n",
    "    X = pd.DataFrame(eeg.reshape(-1,5000))\n",
    "    y = df['label']\n",
    "\n",
    "    append = pd.concat([y,X],axis=1)\n",
    "    ret = pd.concat([ret,append])\n",
    "\n",
    "ret = ret.reset_index(drop=True)\n",
    "ret = ret[ret['label'] != 'X']\n",
    "\n",
    "y = np.array(pd.Categorical(ret.pop('label')).codes)\n",
    "X = ret.to_numpy()\n",
    "\n",
    "X = torch.from_numpy(X).float()\n",
    "y = torch.from_numpy(y).reshape(-1,1).long()"
   ]
  },
  {
   "cell_type": "code",
   "execution_count": null,
   "metadata": {},
   "outputs": [],
   "source": [
    "for sample,label in tqdm(zip(X,y)):\n",
    "    sample = sample-sample.mean()\n",
    "    if(sample.std().item()==0):\n",
    "        zeros.append(i)\n",
    "        i+=1\n",
    "        continue\n",
    "    sample = sample/sample.std()\n",
    "    torch.save(sample.clone(),f'data_pt/{idx}.pt')\n",
    "    y_final = torch.cat([y_final,label])\n",
    "    i+=1\n",
    "    idx += 1"
   ]
  },
  {
   "cell_type": "code",
   "execution_count": null,
   "metadata": {},
   "outputs": [],
   "source": [
    "y = one_hot(y_final.reshape(-1,1).long(),num_classes=3).reshape(-1,3).float()"
   ]
  },
  {
   "cell_type": "code",
   "execution_count": null,
   "metadata": {},
   "outputs": [],
   "source": [
    "torch.save(y,'data_pt/labels.pt')"
   ]
  },
  {
   "cell_type": "code",
   "execution_count": null,
   "metadata": {},
   "outputs": [],
   "source": [
    "len(y)==idx"
   ]
  },
  {
   "cell_type": "code",
   "execution_count": null,
   "metadata": {},
   "outputs": [],
   "source": [
    "idx"
   ]
  },
  {
   "cell_type": "code",
   "execution_count": null,
   "metadata": {},
   "outputs": [],
   "source": [
    "from sklearn.model_selection import train_test_split\n",
    "import torch\n",
    "y = torch.load('data_pt/labels.pt')\n",
    "train_idx,test_idx,_,_ = train_test_split(range(len(y)),y,shuffle=True,test_size=.2,random_state=0)"
   ]
  },
  {
   "cell_type": "code",
   "execution_count": null,
   "metadata": {},
   "outputs": [],
   "source": [
    "os.system('mkdir data_pt/train')\n",
    "os.system('mkdir data_pt/test')\n",
    "\n",
    "for i,idx in enumerate(train_idx):\n",
    "    os.system(f'mv data_pt/{idx}.pt data_pt/train/{i}.pt')\n",
    "for i,idx in enumerate(test_idx):\n",
    "    os.system(f'mv data_pt/{idx}.pt data_pt/test/{i}.pt')\n",
    "torch.save(y[train_idx],'data_pt/y_train.pt')\n",
    "torch.save(y[test_idx],'data_pt/y_test.pt')"
   ]
  },
  {
   "cell_type": "code",
   "execution_count": null,
   "metadata": {},
   "outputs": [],
   "source": [
    "# random oversampling\n",
    "import pandas as pd\n",
    "y_train_df = pd.DataFrame(torch.load(f'data/pt_bal/y_train.pt').argmax(axis=1).numpy())"
   ]
  },
  {
   "cell_type": "code",
   "execution_count": null,
   "metadata": {},
   "outputs": [],
   "source": [
    "from numpy.random import randint\n",
    "y_train_df.value_counts()"
   ]
  },
  {
   "cell_type": "code",
   "execution_count": null,
   "metadata": {},
   "outputs": [],
   "source": [
    "import numpy as np\n",
    "nmajority = y_train_df.value_counts()[2]\n",
    "sidx = np.array(y_train_df[y_train_df[0] == 1].index)\n",
    "pidx = np.array(y_train_df[y_train_df[0] == 0].index)"
   ]
  },
  {
   "cell_type": "code",
   "execution_count": null,
   "metadata": {},
   "outputs": [],
   "source": [
    "n_s = len(sidx)\n",
    "n_p = len(pidx)\n",
    "n_train = len(y_train_df)"
   ]
  },
  {
   "cell_type": "code",
   "execution_count": null,
   "metadata": {},
   "outputs": [],
   "source": [
    "n_train"
   ]
  },
  {
   "cell_type": "code",
   "execution_count": null,
   "metadata": {},
   "outputs": [],
   "source": [
    "cur_idx = n_train"
   ]
  },
  {
   "cell_type": "code",
   "execution_count": null,
   "metadata": {},
   "outputs": [],
   "source": [
    "y_train = list(y_train_df.to_numpy().flatten())"
   ]
  },
  {
   "cell_type": "code",
   "execution_count": null,
   "metadata": {},
   "outputs": [],
   "source": [
    "for i in range(nmajority-n_p):\n",
    "    rand_idx = np.random.choice(pidx)\n",
    "    os.system(f'cp data/pt_bal/train/{rand_idx}.pt data/pt_bal/train/{cur_idx}.pt')\n",
    "    cur_idx += 1\n",
    "    y_train.append(0)"
   ]
  },
  {
   "cell_type": "code",
   "execution_count": null,
   "metadata": {},
   "outputs": [],
   "source": [
    "for i in range(nmajority-n_s):\n",
    "    rand_idx = np.random.choice(sidx)\n",
    "    os.system(f'cp data/pt_bal/train/{rand_idx}.pt data/pt_bal/train/{cur_idx}.pt')\n",
    "    cur_idx += 1\n",
    "    y_train.append(1)"
   ]
  },
  {
   "cell_type": "code",
   "execution_count": null,
   "metadata": {},
   "outputs": [],
   "source": [
    "y = np.array(pd.Categorical(y_train).codes)\n",
    "y = torch.from_numpy(y).reshape(-1,1).long()\n",
    "from torch.nn.functional import one_hot\n",
    "y = one_hot(y,num_classes=3).reshape(-1,3).float()\n",
    "torch.save(y,'data/pt_bal/y_train.pt')"
   ]
  },
  {
   "cell_type": "code",
   "execution_count": null,
   "metadata": {},
   "outputs": [],
   "source": [
    "# norm\n",
    "dir = 'pt'\n",
    "import torch\n",
    "import matplotlib.pyplot as plt\n",
    "stds = []\n",
    "for file in os.listdir(f'data/{dir}/train'):\n",
    "    X = torch.load(f'data/{dir}/train/{file}')\n",
    "    X_centered = X-X.mean()\n",
    "    if(X_centered.std().item() == 0):\n",
    "        print(\"0 std\",file)\n",
    "        stds.append(file)\n",
    "    # X_streched = X/X_centered.std()"
   ]
  },
  {
   "cell_type": "code",
   "execution_count": null,
   "metadata": {},
   "outputs": [],
   "source": [
    "for file in stds:\n",
    "    plt.plot(torch.load(f'data/{dir}/train/{file}'))"
   ]
  },
  {
   "cell_type": "code",
   "execution_count": 1,
   "metadata": {},
   "outputs": [
    {
     "name": "stderr",
     "output_type": "stream",
     "text": [
      "/home/andrew/.local/lib/python3.10/site-packages/tqdm/auto.py:22: TqdmWarning: IProgress not found. Please update jupyter and ipywidgets. See https://ipywidgets.readthedocs.io/en/stable/user_install.html\n",
      "  from .autonotebook import tqdm as notebook_tqdm\n"
     ]
    }
   ],
   "source": [
    "from lib.utils import load_raw_list,load_psd,load_raw\n",
    "X,y = load_raw_list([0])"
   ]
  },
  {
   "cell_type": "code",
   "execution_count": 6,
   "metadata": {},
   "outputs": [],
   "source": [
    "import torch"
   ]
  },
  {
   "cell_type": "code",
   "execution_count": 7,
   "metadata": {},
   "outputs": [],
   "source": [
    "X = torch.cat([X[:-2],X[1:-1],X[2:]],axis=1)\n",
    "y = y[1:-1]"
   ]
  },
  {
   "cell_type": "code",
   "execution_count": 10,
   "metadata": {},
   "outputs": [
    {
     "data": {
      "text/plain": [
       "torch.Size([8638, 3])"
      ]
     },
     "execution_count": 10,
     "metadata": {},
     "output_type": "execute_result"
    }
   ],
   "source": [
    "y.shape"
   ]
  },
  {
   "cell_type": "code",
   "execution_count": null,
   "metadata": {},
   "outputs": [],
   "source": [
    "import torch\n",
    "\n",
    "# i = 0\n",
    "# for fileindex in tqdm(range(32)):\n",
    "#     X,y = load_raw_list([fileindex])\n",
    "#     X = torch.cat([X[:-2],X[1:-1],X[2:]],axis=1)\n",
    "#     y = y[1:-1]\n",
    "#     for (Xi,yi) in zip(X,y):\n",
    "#         torch.save((Xi.clone(),yi.clone()),f'windowed/{i}.pt')\n",
    "#         i += 1"
   ]
  }
 ],
 "metadata": {
  "kernelspec": {
   "display_name": "Python 3.10.6 64-bit",
   "language": "python",
   "name": "python3"
  },
  "language_info": {
   "codemirror_mode": {
    "name": "ipython",
    "version": 3
   },
   "file_extension": ".py",
   "mimetype": "text/x-python",
   "name": "python",
   "nbconvert_exporter": "python",
   "pygments_lexer": "ipython3",
   "version": "3.10.6"
  },
  "orig_nbformat": 4,
  "vscode": {
   "interpreter": {
    "hash": "916dbcbb3f70747c44a77c7bcd40155683ae19c65e1c03b4aa3499c5328201f1"
   }
  }
 },
 "nbformat": 4,
 "nbformat_minor": 2
}
