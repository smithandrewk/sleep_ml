{
 "cells": [
  {
   "cell_type": "code",
   "execution_count": 133,
   "metadata": {},
   "outputs": [],
   "source": [
    "from lib.utils import *"
   ]
  },
  {
   "cell_type": "code",
   "execution_count": 134,
   "metadata": {},
   "outputs": [],
   "source": [
    "df = load_psd_list(range(0,32))\n",
    "y = df.pop('label')\n",
    "X = df.to_numpy()"
   ]
  },
  {
   "cell_type": "code",
   "execution_count": 163,
   "metadata": {},
   "outputs": [],
   "source": [
    "from sklearn.model_selection import train_test_split\n",
    "X_train,X_test,y_train,y_test = train_test_split(X,y,test_size=.2,shuffle=True,random_state=0)"
   ]
  },
  {
   "cell_type": "code",
   "execution_count": 166,
   "metadata": {},
   "outputs": [],
   "source": [
    "X_win = []\n",
    "y_win = []\n",
    "for i in range(len(X_train)-4):\n",
    "    X_win.append(X_train[i:i+5].flatten())\n",
    "    if(len(y_train[i:i+5].mode()) == 0):\n",
    "        y_win.append(y_train[i+2])\n",
    "    else:\n",
    "        y_win.append(y_train[i:i+5].mode()[0])\n",
    "X_win = np.array(X_win)\n",
    "y_win = np.array(y_win)\n",
    "df_win = pd.concat([pd.DataFrame(y_win,columns=['label']),pd.DataFrame(X_win)],axis=1)\n"
   ]
  },
  {
   "cell_type": "code",
   "execution_count": 180,
   "metadata": {},
   "outputs": [],
   "source": []
  },
  {
   "cell_type": "code",
   "execution_count": 181,
   "metadata": {},
   "outputs": [
    {
     "data": {
      "text/plain": [
       "W    112033\n",
       "S    104956\n",
       "P      4191\n",
       "Name: label, dtype: int64"
      ]
     },
     "execution_count": 181,
     "metadata": {},
     "output_type": "execute_result"
    }
   ],
   "source": [
    "df_win['label'].value_counts()"
   ]
  },
  {
   "cell_type": "code",
   "execution_count": 182,
   "metadata": {},
   "outputs": [],
   "source": [
    "df_win = df_win[df_win['label'] != 'X']\n",
    "## Balance df_train\n",
    "## Concatenate P Class\n",
    "df_win_P = pd.DataFrame()\n",
    "for i in range(25):\n",
    "    df_win_P = pd.concat([df_win_P,df_win[df_win['label'] == 'P']])\n",
    "df_win_S = df_win[df_win['label'] == 'S']\n",
    "df_win_W = df_win[df_win['label'] == 'W']\n",
    "df_train = pd.concat([df_win_P,df_win_S,df_win_W]).reset_index(drop=True)"
   ]
  },
  {
   "cell_type": "code",
   "execution_count": 183,
   "metadata": {},
   "outputs": [],
   "source": [
    "y_train = df_train.pop('label')\n",
    "X_train = df_train"
   ]
  },
  {
   "cell_type": "code",
   "execution_count": 184,
   "metadata": {},
   "outputs": [
    {
     "data": {
      "text/plain": [
       "W    112033\n",
       "S    104956\n",
       "P    104775\n",
       "Name: label, dtype: int64"
      ]
     },
     "execution_count": 184,
     "metadata": {},
     "output_type": "execute_result"
    }
   ],
   "source": [
    "y_train.value_counts()"
   ]
  },
  {
   "cell_type": "code",
   "execution_count": 185,
   "metadata": {},
   "outputs": [
    {
     "data": {
      "text/plain": [
       "W    27707\n",
       "S    24619\n",
       "P     2959\n",
       "X       11\n",
       "Name: label, dtype: int64"
      ]
     },
     "execution_count": 185,
     "metadata": {},
     "output_type": "execute_result"
    }
   ],
   "source": [
    "y_test.value_counts()"
   ]
  },
  {
   "cell_type": "code",
   "execution_count": 85,
   "metadata": {},
   "outputs": [],
   "source": [
    "# ## Balance df_train\n",
    "# ## Concatenate P Class\n",
    "# df_train = pd.concat([y_train,X_train],axis=1)\n",
    "# df_win_P = pd.DataFrame()\n",
    "# for i in range(9):\n",
    "#     df_win_P = pd.concat([df_win_P,df_train[df_train['label'] == 'P']])\n",
    "# df_win_S = df_train[df_train['label'] == 'S']\n",
    "# df_win_W = df_train[df_train['label'] == 'W']\n",
    "# df_train = pd.concat([df_win_P,df_win_S,df_win_W]).reset_index(drop=True)"
   ]
  },
  {
   "cell_type": "code",
   "execution_count": 186,
   "metadata": {},
   "outputs": [
    {
     "data": {
      "text/html": [
       "<style>#sk-container-id-6 {color: black;background-color: white;}#sk-container-id-6 pre{padding: 0;}#sk-container-id-6 div.sk-toggleable {background-color: white;}#sk-container-id-6 label.sk-toggleable__label {cursor: pointer;display: block;width: 100%;margin-bottom: 0;padding: 0.3em;box-sizing: border-box;text-align: center;}#sk-container-id-6 label.sk-toggleable__label-arrow:before {content: \"▸\";float: left;margin-right: 0.25em;color: #696969;}#sk-container-id-6 label.sk-toggleable__label-arrow:hover:before {color: black;}#sk-container-id-6 div.sk-estimator:hover label.sk-toggleable__label-arrow:before {color: black;}#sk-container-id-6 div.sk-toggleable__content {max-height: 0;max-width: 0;overflow: hidden;text-align: left;background-color: #f0f8ff;}#sk-container-id-6 div.sk-toggleable__content pre {margin: 0.2em;color: black;border-radius: 0.25em;background-color: #f0f8ff;}#sk-container-id-6 input.sk-toggleable__control:checked~div.sk-toggleable__content {max-height: 200px;max-width: 100%;overflow: auto;}#sk-container-id-6 input.sk-toggleable__control:checked~label.sk-toggleable__label-arrow:before {content: \"▾\";}#sk-container-id-6 div.sk-estimator input.sk-toggleable__control:checked~label.sk-toggleable__label {background-color: #d4ebff;}#sk-container-id-6 div.sk-label input.sk-toggleable__control:checked~label.sk-toggleable__label {background-color: #d4ebff;}#sk-container-id-6 input.sk-hidden--visually {border: 0;clip: rect(1px 1px 1px 1px);clip: rect(1px, 1px, 1px, 1px);height: 1px;margin: -1px;overflow: hidden;padding: 0;position: absolute;width: 1px;}#sk-container-id-6 div.sk-estimator {font-family: monospace;background-color: #f0f8ff;border: 1px dotted black;border-radius: 0.25em;box-sizing: border-box;margin-bottom: 0.5em;}#sk-container-id-6 div.sk-estimator:hover {background-color: #d4ebff;}#sk-container-id-6 div.sk-parallel-item::after {content: \"\";width: 100%;border-bottom: 1px solid gray;flex-grow: 1;}#sk-container-id-6 div.sk-label:hover label.sk-toggleable__label {background-color: #d4ebff;}#sk-container-id-6 div.sk-serial::before {content: \"\";position: absolute;border-left: 1px solid gray;box-sizing: border-box;top: 0;bottom: 0;left: 50%;z-index: 0;}#sk-container-id-6 div.sk-serial {display: flex;flex-direction: column;align-items: center;background-color: white;padding-right: 0.2em;padding-left: 0.2em;position: relative;}#sk-container-id-6 div.sk-item {position: relative;z-index: 1;}#sk-container-id-6 div.sk-parallel {display: flex;align-items: stretch;justify-content: center;background-color: white;position: relative;}#sk-container-id-6 div.sk-item::before, #sk-container-id-6 div.sk-parallel-item::before {content: \"\";position: absolute;border-left: 1px solid gray;box-sizing: border-box;top: 0;bottom: 0;left: 50%;z-index: -1;}#sk-container-id-6 div.sk-parallel-item {display: flex;flex-direction: column;z-index: 1;position: relative;background-color: white;}#sk-container-id-6 div.sk-parallel-item:first-child::after {align-self: flex-end;width: 50%;}#sk-container-id-6 div.sk-parallel-item:last-child::after {align-self: flex-start;width: 50%;}#sk-container-id-6 div.sk-parallel-item:only-child::after {width: 0;}#sk-container-id-6 div.sk-dashed-wrapped {border: 1px dashed gray;margin: 0 0.4em 0.5em 0.4em;box-sizing: border-box;padding-bottom: 0.4em;background-color: white;}#sk-container-id-6 div.sk-label label {font-family: monospace;font-weight: bold;display: inline-block;line-height: 1.2em;}#sk-container-id-6 div.sk-label-container {text-align: center;}#sk-container-id-6 div.sk-container {/* jupyter's `normalize.less` sets `[hidden] { display: none; }` but bootstrap.min.css set `[hidden] { display: none !important; }` so we also need the `!important` here to be able to override the default hidden behavior on the sphinx rendered scikit-learn.org. See: https://github.com/scikit-learn/scikit-learn/issues/21755 */display: inline-block !important;position: relative;}#sk-container-id-6 div.sk-text-repr-fallback {display: none;}</style><div id=\"sk-container-id-6\" class=\"sk-top-container\"><div class=\"sk-text-repr-fallback\"><pre>RandomForestClassifier()</pre><b>In a Jupyter environment, please rerun this cell to show the HTML representation or trust the notebook. <br />On GitHub, the HTML representation is unable to render, please try loading this page with nbviewer.org.</b></div><div class=\"sk-container\" hidden><div class=\"sk-item\"><div class=\"sk-estimator sk-toggleable\"><input class=\"sk-toggleable__control sk-hidden--visually\" id=\"sk-estimator-id-6\" type=\"checkbox\" checked><label for=\"sk-estimator-id-6\" class=\"sk-toggleable__label sk-toggleable__label-arrow\">RandomForestClassifier</label><div class=\"sk-toggleable__content\"><pre>RandomForestClassifier()</pre></div></div></div></div></div>"
      ],
      "text/plain": [
       "RandomForestClassifier()"
      ]
     },
     "execution_count": 186,
     "metadata": {},
     "output_type": "execute_result"
    }
   ],
   "source": [
    "from sklearn.ensemble import RandomForestClassifier\n",
    "clf = RandomForestClassifier()\n",
    "clf.fit(X_train,y_train)"
   ]
  },
  {
   "cell_type": "code",
   "execution_count": 194,
   "metadata": {},
   "outputs": [],
   "source": [
    "X_win = []\n",
    "for i in range(len(X_test)-4):\n",
    "    X_win.append(X_test[i:i+5].flatten())\n",
    "X_win = np.array(X_win)\n",
    "df_win = pd.DataFrame(X_win)"
   ]
  },
  {
   "cell_type": "code",
   "execution_count": 195,
   "metadata": {},
   "outputs": [
    {
     "data": {
      "text/html": [
       "<div>\n",
       "<style scoped>\n",
       "    .dataframe tbody tr th:only-of-type {\n",
       "        vertical-align: middle;\n",
       "    }\n",
       "\n",
       "    .dataframe tbody tr th {\n",
       "        vertical-align: top;\n",
       "    }\n",
       "\n",
       "    .dataframe thead th {\n",
       "        text-align: right;\n",
       "    }\n",
       "</style>\n",
       "<table border=\"1\" class=\"dataframe\">\n",
       "  <thead>\n",
       "    <tr style=\"text-align: right;\">\n",
       "      <th></th>\n",
       "      <th>0</th>\n",
       "      <th>1</th>\n",
       "      <th>2</th>\n",
       "      <th>3</th>\n",
       "      <th>4</th>\n",
       "      <th>5</th>\n",
       "      <th>6</th>\n",
       "      <th>7</th>\n",
       "      <th>8</th>\n",
       "      <th>9</th>\n",
       "      <th>...</th>\n",
       "      <th>200</th>\n",
       "      <th>201</th>\n",
       "      <th>202</th>\n",
       "      <th>203</th>\n",
       "      <th>204</th>\n",
       "      <th>205</th>\n",
       "      <th>206</th>\n",
       "      <th>207</th>\n",
       "      <th>208</th>\n",
       "      <th>209</th>\n",
       "    </tr>\n",
       "  </thead>\n",
       "  <tbody>\n",
       "    <tr>\n",
       "      <th>0</th>\n",
       "      <td>56.373286</td>\n",
       "      <td>33.884410</td>\n",
       "      <td>45.614903</td>\n",
       "      <td>29.864785</td>\n",
       "      <td>68.545176</td>\n",
       "      <td>62.810024</td>\n",
       "      <td>23.926744</td>\n",
       "      <td>16.406577</td>\n",
       "      <td>27.855448</td>\n",
       "      <td>12.411921</td>\n",
       "      <td>...</td>\n",
       "      <td>2.504983</td>\n",
       "      <td>0.934974</td>\n",
       "      <td>2.014938</td>\n",
       "      <td>3.404944</td>\n",
       "      <td>1.938154</td>\n",
       "      <td>1.393437</td>\n",
       "      <td>1.612583</td>\n",
       "      <td>3.095069</td>\n",
       "      <td>-0.490097</td>\n",
       "      <td>0.100994</td>\n",
       "    </tr>\n",
       "    <tr>\n",
       "      <th>1</th>\n",
       "      <td>628.658579</td>\n",
       "      <td>49.121355</td>\n",
       "      <td>28.429807</td>\n",
       "      <td>15.827240</td>\n",
       "      <td>14.750122</td>\n",
       "      <td>29.109612</td>\n",
       "      <td>25.209231</td>\n",
       "      <td>25.178287</td>\n",
       "      <td>19.317421</td>\n",
       "      <td>17.010655</td>\n",
       "      <td>...</td>\n",
       "      <td>9.110069</td>\n",
       "      <td>1.986282</td>\n",
       "      <td>4.102164</td>\n",
       "      <td>5.461799</td>\n",
       "      <td>1.413264</td>\n",
       "      <td>8.753748</td>\n",
       "      <td>4.973849</td>\n",
       "      <td>5.797971</td>\n",
       "      <td>0.085464</td>\n",
       "      <td>0.100994</td>\n",
       "    </tr>\n",
       "    <tr>\n",
       "      <th>2</th>\n",
       "      <td>63.621896</td>\n",
       "      <td>10.613201</td>\n",
       "      <td>34.310398</td>\n",
       "      <td>30.352352</td>\n",
       "      <td>6.723852</td>\n",
       "      <td>41.645248</td>\n",
       "      <td>25.758708</td>\n",
       "      <td>16.857055</td>\n",
       "      <td>37.184440</td>\n",
       "      <td>26.550146</td>\n",
       "      <td>...</td>\n",
       "      <td>6.835208</td>\n",
       "      <td>5.759874</td>\n",
       "      <td>2.391183</td>\n",
       "      <td>5.258511</td>\n",
       "      <td>4.023782</td>\n",
       "      <td>3.066995</td>\n",
       "      <td>3.734468</td>\n",
       "      <td>3.809667</td>\n",
       "      <td>-3.469650</td>\n",
       "      <td>0.100299</td>\n",
       "    </tr>\n",
       "    <tr>\n",
       "      <th>3</th>\n",
       "      <td>123.793604</td>\n",
       "      <td>183.237855</td>\n",
       "      <td>231.699961</td>\n",
       "      <td>167.717778</td>\n",
       "      <td>111.516289</td>\n",
       "      <td>200.961361</td>\n",
       "      <td>192.218348</td>\n",
       "      <td>71.098446</td>\n",
       "      <td>62.456006</td>\n",
       "      <td>129.744704</td>\n",
       "      <td>...</td>\n",
       "      <td>1.834948</td>\n",
       "      <td>3.251616</td>\n",
       "      <td>3.700143</td>\n",
       "      <td>0.731026</td>\n",
       "      <td>0.829136</td>\n",
       "      <td>2.001569</td>\n",
       "      <td>2.264746</td>\n",
       "      <td>2.275043</td>\n",
       "      <td>4.563276</td>\n",
       "      <td>0.000992</td>\n",
       "    </tr>\n",
       "    <tr>\n",
       "      <th>4</th>\n",
       "      <td>36.848998</td>\n",
       "      <td>83.019006</td>\n",
       "      <td>58.285596</td>\n",
       "      <td>25.878696</td>\n",
       "      <td>27.004562</td>\n",
       "      <td>52.769337</td>\n",
       "      <td>47.603808</td>\n",
       "      <td>66.578021</td>\n",
       "      <td>77.194981</td>\n",
       "      <td>31.509393</td>\n",
       "      <td>...</td>\n",
       "      <td>4.314792</td>\n",
       "      <td>6.159041</td>\n",
       "      <td>3.197873</td>\n",
       "      <td>1.715016</td>\n",
       "      <td>2.800716</td>\n",
       "      <td>5.394814</td>\n",
       "      <td>1.380438</td>\n",
       "      <td>3.014608</td>\n",
       "      <td>0.336524</td>\n",
       "      <td>0.000992</td>\n",
       "    </tr>\n",
       "    <tr>\n",
       "      <th>...</th>\n",
       "      <td>...</td>\n",
       "      <td>...</td>\n",
       "      <td>...</td>\n",
       "      <td>...</td>\n",
       "      <td>...</td>\n",
       "      <td>...</td>\n",
       "      <td>...</td>\n",
       "      <td>...</td>\n",
       "      <td>...</td>\n",
       "      <td>...</td>\n",
       "      <td>...</td>\n",
       "      <td>...</td>\n",
       "      <td>...</td>\n",
       "      <td>...</td>\n",
       "      <td>...</td>\n",
       "      <td>...</td>\n",
       "      <td>...</td>\n",
       "      <td>...</td>\n",
       "      <td>...</td>\n",
       "      <td>...</td>\n",
       "      <td>...</td>\n",
       "    </tr>\n",
       "    <tr>\n",
       "      <th>55287</th>\n",
       "      <td>228.276921</td>\n",
       "      <td>1532.897998</td>\n",
       "      <td>892.132090</td>\n",
       "      <td>1901.274064</td>\n",
       "      <td>681.846109</td>\n",
       "      <td>344.708121</td>\n",
       "      <td>594.560962</td>\n",
       "      <td>159.197698</td>\n",
       "      <td>118.374238</td>\n",
       "      <td>244.425203</td>\n",
       "      <td>...</td>\n",
       "      <td>2.654339</td>\n",
       "      <td>3.236239</td>\n",
       "      <td>1.626562</td>\n",
       "      <td>1.868649</td>\n",
       "      <td>2.163002</td>\n",
       "      <td>1.550764</td>\n",
       "      <td>2.212396</td>\n",
       "      <td>3.141495</td>\n",
       "      <td>-1.273809</td>\n",
       "      <td>0.601001</td>\n",
       "    </tr>\n",
       "    <tr>\n",
       "      <th>55288</th>\n",
       "      <td>13.676562</td>\n",
       "      <td>29.949658</td>\n",
       "      <td>26.775957</td>\n",
       "      <td>11.904391</td>\n",
       "      <td>14.601871</td>\n",
       "      <td>19.286695</td>\n",
       "      <td>10.869863</td>\n",
       "      <td>6.997551</td>\n",
       "      <td>4.203373</td>\n",
       "      <td>10.175224</td>\n",
       "      <td>...</td>\n",
       "      <td>25.186109</td>\n",
       "      <td>15.589896</td>\n",
       "      <td>9.632606</td>\n",
       "      <td>23.106594</td>\n",
       "      <td>23.540245</td>\n",
       "      <td>4.732120</td>\n",
       "      <td>13.432779</td>\n",
       "      <td>7.956694</td>\n",
       "      <td>0.129365</td>\n",
       "      <td>0.000992</td>\n",
       "    </tr>\n",
       "    <tr>\n",
       "      <th>55289</th>\n",
       "      <td>64.859072</td>\n",
       "      <td>73.740469</td>\n",
       "      <td>62.683304</td>\n",
       "      <td>47.193162</td>\n",
       "      <td>94.625618</td>\n",
       "      <td>32.964846</td>\n",
       "      <td>46.887941</td>\n",
       "      <td>17.216814</td>\n",
       "      <td>45.700252</td>\n",
       "      <td>40.909440</td>\n",
       "      <td>...</td>\n",
       "      <td>5.022984</td>\n",
       "      <td>19.024421</td>\n",
       "      <td>5.510763</td>\n",
       "      <td>13.629301</td>\n",
       "      <td>9.763695</td>\n",
       "      <td>4.659634</td>\n",
       "      <td>5.483944</td>\n",
       "      <td>3.515438</td>\n",
       "      <td>-0.334896</td>\n",
       "      <td>0.000992</td>\n",
       "    </tr>\n",
       "    <tr>\n",
       "      <th>55290</th>\n",
       "      <td>243.628026</td>\n",
       "      <td>120.695013</td>\n",
       "      <td>36.249554</td>\n",
       "      <td>81.915246</td>\n",
       "      <td>53.197918</td>\n",
       "      <td>60.873704</td>\n",
       "      <td>14.566245</td>\n",
       "      <td>17.956123</td>\n",
       "      <td>46.223805</td>\n",
       "      <td>19.397678</td>\n",
       "      <td>...</td>\n",
       "      <td>3.743800</td>\n",
       "      <td>1.564205</td>\n",
       "      <td>1.378417</td>\n",
       "      <td>1.104593</td>\n",
       "      <td>2.129037</td>\n",
       "      <td>2.723845</td>\n",
       "      <td>2.504902</td>\n",
       "      <td>1.232122</td>\n",
       "      <td>1.145471</td>\n",
       "      <td>0.000992</td>\n",
       "    </tr>\n",
       "    <tr>\n",
       "      <th>55291</th>\n",
       "      <td>39.406184</td>\n",
       "      <td>27.534322</td>\n",
       "      <td>25.523469</td>\n",
       "      <td>22.164908</td>\n",
       "      <td>37.772754</td>\n",
       "      <td>16.732127</td>\n",
       "      <td>13.852523</td>\n",
       "      <td>11.068932</td>\n",
       "      <td>10.068160</td>\n",
       "      <td>31.364633</td>\n",
       "      <td>...</td>\n",
       "      <td>0.743033</td>\n",
       "      <td>0.313254</td>\n",
       "      <td>1.107435</td>\n",
       "      <td>0.466050</td>\n",
       "      <td>0.639403</td>\n",
       "      <td>1.066711</td>\n",
       "      <td>0.366803</td>\n",
       "      <td>1.242161</td>\n",
       "      <td>-0.959876</td>\n",
       "      <td>0.000992</td>\n",
       "    </tr>\n",
       "  </tbody>\n",
       "</table>\n",
       "<p>55292 rows × 210 columns</p>\n",
       "</div>"
      ],
      "text/plain": [
       "              0            1           2            3           4    \\\n",
       "0       56.373286    33.884410   45.614903    29.864785   68.545176   \n",
       "1      628.658579    49.121355   28.429807    15.827240   14.750122   \n",
       "2       63.621896    10.613201   34.310398    30.352352    6.723852   \n",
       "3      123.793604   183.237855  231.699961   167.717778  111.516289   \n",
       "4       36.848998    83.019006   58.285596    25.878696   27.004562   \n",
       "...           ...          ...         ...          ...         ...   \n",
       "55287  228.276921  1532.897998  892.132090  1901.274064  681.846109   \n",
       "55288   13.676562    29.949658   26.775957    11.904391   14.601871   \n",
       "55289   64.859072    73.740469   62.683304    47.193162   94.625618   \n",
       "55290  243.628026   120.695013   36.249554    81.915246   53.197918   \n",
       "55291   39.406184    27.534322   25.523469    22.164908   37.772754   \n",
       "\n",
       "              5           6           7           8           9    ...  \\\n",
       "0       62.810024   23.926744   16.406577   27.855448   12.411921  ...   \n",
       "1       29.109612   25.209231   25.178287   19.317421   17.010655  ...   \n",
       "2       41.645248   25.758708   16.857055   37.184440   26.550146  ...   \n",
       "3      200.961361  192.218348   71.098446   62.456006  129.744704  ...   \n",
       "4       52.769337   47.603808   66.578021   77.194981   31.509393  ...   \n",
       "...           ...         ...         ...         ...         ...  ...   \n",
       "55287  344.708121  594.560962  159.197698  118.374238  244.425203  ...   \n",
       "55288   19.286695   10.869863    6.997551    4.203373   10.175224  ...   \n",
       "55289   32.964846   46.887941   17.216814   45.700252   40.909440  ...   \n",
       "55290   60.873704   14.566245   17.956123   46.223805   19.397678  ...   \n",
       "55291   16.732127   13.852523   11.068932   10.068160   31.364633  ...   \n",
       "\n",
       "             200        201       202        203        204       205  \\\n",
       "0       2.504983   0.934974  2.014938   3.404944   1.938154  1.393437   \n",
       "1       9.110069   1.986282  4.102164   5.461799   1.413264  8.753748   \n",
       "2       6.835208   5.759874  2.391183   5.258511   4.023782  3.066995   \n",
       "3       1.834948   3.251616  3.700143   0.731026   0.829136  2.001569   \n",
       "4       4.314792   6.159041  3.197873   1.715016   2.800716  5.394814   \n",
       "...          ...        ...       ...        ...        ...       ...   \n",
       "55287   2.654339   3.236239  1.626562   1.868649   2.163002  1.550764   \n",
       "55288  25.186109  15.589896  9.632606  23.106594  23.540245  4.732120   \n",
       "55289   5.022984  19.024421  5.510763  13.629301   9.763695  4.659634   \n",
       "55290   3.743800   1.564205  1.378417   1.104593   2.129037  2.723845   \n",
       "55291   0.743033   0.313254  1.107435   0.466050   0.639403  1.066711   \n",
       "\n",
       "             206       207       208       209  \n",
       "0       1.612583  3.095069 -0.490097  0.100994  \n",
       "1       4.973849  5.797971  0.085464  0.100994  \n",
       "2       3.734468  3.809667 -3.469650  0.100299  \n",
       "3       2.264746  2.275043  4.563276  0.000992  \n",
       "4       1.380438  3.014608  0.336524  0.000992  \n",
       "...          ...       ...       ...       ...  \n",
       "55287   2.212396  3.141495 -1.273809  0.601001  \n",
       "55288  13.432779  7.956694  0.129365  0.000992  \n",
       "55289   5.483944  3.515438 -0.334896  0.000992  \n",
       "55290   2.504902  1.232122  1.145471  0.000992  \n",
       "55291   0.366803  1.242161 -0.959876  0.000992  \n",
       "\n",
       "[55292 rows x 210 columns]"
      ]
     },
     "execution_count": 195,
     "metadata": {},
     "output_type": "execute_result"
    }
   ],
   "source": [
    "df_win"
   ]
  },
  {
   "cell_type": "code",
   "execution_count": 196,
   "metadata": {},
   "outputs": [],
   "source": [
    "y_pred = clf.predict(df_win)\n",
    "# clf.score(X_test,y_test)"
   ]
  },
  {
   "cell_type": "code",
   "execution_count": 214,
   "metadata": {},
   "outputs": [],
   "source": [
    "y_distilled = [\"X\",\"X\",\"X\",\"X\"]\n",
    "for i in range(0,len(y_pred)-4):\n",
    "    y_distilled.append(pd.DataFrame(y_pred[i:i+5]).mode()[0][0])\n"
   ]
  },
  {
   "cell_type": "code",
   "execution_count": 218,
   "metadata": {},
   "outputs": [],
   "source": [
    "y_distilled = y_distilled + [\"X\",\"X\",\"X\",\"X\"]"
   ]
  },
  {
   "cell_type": "code",
   "execution_count": 227,
   "metadata": {},
   "outputs": [],
   "source": [
    "y_test = y_test.reset_index(drop=True)"
   ]
  },
  {
   "cell_type": "code",
   "execution_count": 233,
   "metadata": {},
   "outputs": [],
   "source": [
    "\n",
    "df = pd.concat([pd.DataFrame(y_distilled),y_test],axis=1)\n",
    "df = df[(df != \"X\").all(axis=1)]\n",
    "y_pred = df.iloc[:,0]\n",
    "y_test = df.iloc[:,1]"
   ]
  },
  {
   "cell_type": "code",
   "execution_count": 234,
   "metadata": {},
   "outputs": [
    {
     "data": {
      "text/plain": [
       "array([[    2,  1014,  1941],\n",
       "       [    1, 14723,  9893],\n",
       "       [    0,  8452, 19251]])"
      ]
     },
     "execution_count": 234,
     "metadata": {},
     "output_type": "execute_result"
    }
   ],
   "source": [
    "confusion_matrix(y_true=y_test,y_pred=y_pred)"
   ]
  },
  {
   "cell_type": "code",
   "execution_count": 237,
   "metadata": {},
   "outputs": [
    {
     "data": {
      "text/plain": [
       "0.6146498543698102"
      ]
     },
     "execution_count": 237,
     "metadata": {},
     "output_type": "execute_result"
    }
   ],
   "source": [
    "\n"
   ]
  },
  {
   "cell_type": "code",
   "execution_count": 235,
   "metadata": {},
   "outputs": [
    {
     "data": {
      "image/png": "[encoded data removed]",
      "text/plain": [
       "<Figure size 1000x500 with 3 Axes>"
      ]
     },
     "metadata": {},
     "output_type": "display_data"
    }
   ],
   "source": [
    "from sklearn.metrics import confusion_matrix\n",
    "fig,axes = plt.subplots(1,3,sharey=True,figsize=(10,5))\n",
    "sns.heatmap(confusion_matrix(y_test,y_pred,normalize='true'),annot=True,ax=axes[0],cbar=False,fmt='.2f')\n",
    "sns.heatmap(confusion_matrix(y_test,y_pred,normalize='pred'),annot=True,ax=axes[1],cbar=False,fmt='.2f')\n",
    "sns.heatmap(confusion_matrix(y_test,y_pred),annot=True,ax=axes[2],cbar=False,fmt='d')\n",
    "axes[0].set_title('Recall')\n",
    "axes[1].set_title('Precision')\n",
    "axes[2].set_title('Count')\n",
    "axes[0].set_xticklabels(['P','S','W'])\n",
    "axes[1].set_xticklabels(['P','S','W'])\n",
    "axes[2].set_xticklabels(['P','S','W'])\n",
    "axes[0].set_yticklabels(['P','S','W'])\n",
    "plt.savefig('cm.jpg',dpi=200,bbox_inches='tight')\n",
    "from sklearn.metrics import balanced_accuracy_score,accuracy_score\n",
    "accuracy_score(y_true=y_test,y_pred=y_pred)"
   ]
  }
 ],
 "metadata": {
  "kernelspec": {
   "display_name": "Python 3.10.6 64-bit",
   "language": "python",
   "name": "python3"
  },
  "language_info": {
   "codemirror_mode": {
    "name": "ipython",
    "version": 3
   },
   "file_extension": ".py",
   "mimetype": "text/x-python",
   "name": "python",
   "nbconvert_exporter": "python",
   "pygments_lexer": "ipython3",
   "version": "3.10.6"
  },
  "orig_nbformat": 4,
  "vscode": {
   "interpreter": {
    "hash": "916dbcbb3f70747c44a77c7bcd40155683ae19c65e1c03b4aa3499c5328201f1"
   }
  }
 },
 "nbformat": 4,
 "nbformat_minor": 2
}
