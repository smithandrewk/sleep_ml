{
 "cells": [
  {
   "cell_type": "code",
   "execution_count": null,
   "metadata": {},
   "outputs": [],
   "source": [
    "from lib.utils import load_raw_list\n",
    "import torch\n",
    "from tqdm import tqdm\n",
    "i = 0\n",
    "for fileindex in tqdm(range(32)):\n",
    "    X,y = load_raw_list([fileindex])\n",
    "    for (Xi,yi) in zip(X,y):\n",
    "        torch.save((Xi.clone(),yi.clone()),f'windowsize_1/{i}.pt')\n",
    "        i += 1"
   ]
  }
 ],
 "metadata": {
  "kernelspec": {
   "display_name": "Python 3.10.6 64-bit",
   "language": "python",
   "name": "python3"
  },
  "language_info": {
   "name": "python",
   "version": "3.10.6"
  },
  "orig_nbformat": 4,
  "vscode": {
   "interpreter": {
    "hash": "916dbcbb3f70747c44a77c7bcd40155683ae19c65e1c03b4aa3499c5328201f1"
   }
  }
 },
 "nbformat": 4,
 "nbformat_minor": 2
}
