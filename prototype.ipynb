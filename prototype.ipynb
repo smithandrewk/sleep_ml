{
 "cells": [
  {
   "cell_type": "code",
   "execution_count": 2,
   "metadata": {},
   "outputs": [],
   "source": [
    "from lib.utils import *\n",
    "from lib.models import *\n",
    "from lib.ekyn import *\n",
    "from lib.env import *\n",
    "from lib.datasets import *"
   ]
  },
  {
   "cell_type": "code",
   "execution_count": 3,
   "metadata": {},
   "outputs": [],
   "source": [
    "trainloader = DataLoader(dataset=ShuffleSplitDataset(),batch_size=32,shuffle=True)\n",
    "devloader = DataLoader(dataset=ShuffleSplitDataset(training=False),batch_size=32,shuffle=True)"
   ]
  },
  {
   "cell_type": "code",
   "execution_count": 4,
   "metadata": {},
   "outputs": [],
   "source": [
    "class MODEL(nn.Module):\n",
    "    def __init__(self, *args, **kwargs) -> None:\n",
    "        super().__init__(*args, **kwargs)\n",
    "        self.fc1 = nn.Linear(45000,3)\n",
    "    def forward(self,x):\n",
    "        return self.fc1(x)\n",
    "model = MODEL().to(DEVICE)"
   ]
  },
  {
   "cell_type": "code",
   "execution_count": 5,
   "metadata": {},
   "outputs": [
    {
     "name": "stdout",
     "output_type": "stream",
     "text": [
      "Params:  135003\n"
     ]
    }
   ],
   "source": [
    "criterion = torch.nn.CrossEntropyLoss()\n",
    "optimizer = torch.optim.Adam(model.parameters(),lr=3e-4)\n",
    "params = sum([p.flatten().size()[0] for p in list(model.parameters())])\n",
    "print(\"Params: \",params)"
   ]
  },
  {
   "cell_type": "code",
   "execution_count": 6,
   "metadata": {},
   "outputs": [
    {
     "name": "stderr",
     "output_type": "stream",
     "text": [
      "\u001b[94m Train Loss: 0.8617\u001b[93m Dev Loss: 0.8618\u001b[0m:  20%|██        | 4/20 [02:56<11:47, 44.22s/it]\n"
     ]
    },
    {
     "ename": "KeyboardInterrupt",
     "evalue": "",
     "output_type": "error",
     "traceback": [
      "\u001b[0;31m---------------------------------------------------------------------------\u001b[0m",
      "\u001b[0;31mKeyboardInterrupt\u001b[0m                         Traceback (most recent call last)",
      "Cell \u001b[0;32mIn[6], line 1\u001b[0m\n\u001b[0;32m----> 1\u001b[0m optimization_loop(model,trainloader,devloader,criterion,optimizer,epochs\u001b[39m=\u001b[39;49m\u001b[39m20\u001b[39;49m,DEVICE\u001b[39m=\u001b[39;49mDEVICE)\n",
      "File \u001b[0;32m~/andrew/sleep/sleep_ml/lib/utils.py:339\u001b[0m, in \u001b[0;36moptimization_loop\u001b[0;34m(model, trainloader, devloader, criterion, optimizer, epochs, DEVICE)\u001b[0m\n\u001b[1;32m    336\u001b[0m pbar \u001b[39m=\u001b[39m tqdm(\u001b[39mrange\u001b[39m(epochs))\n\u001b[1;32m    338\u001b[0m \u001b[39mfor\u001b[39;00m epoch \u001b[39min\u001b[39;00m pbar:\n\u001b[0;32m--> 339\u001b[0m     loss_tr\u001b[39m.\u001b[39mappend(training_loop(model,trainloader,criterion,optimizer,DEVICE))\n\u001b[1;32m    340\u001b[0m     loss_dev\u001b[39m.\u001b[39mappend(development_loop(model,devloader,criterion,DEVICE))\n\u001b[1;32m    342\u001b[0m     pbar\u001b[39m.\u001b[39mset_description(\u001b[39mf\u001b[39m\u001b[39m'\u001b[39m\u001b[39m\\033\u001b[39;00m\u001b[39m[94m Train Loss: \u001b[39m\u001b[39m{\u001b[39;00mloss_tr[\u001b[39m-\u001b[39m\u001b[39m1\u001b[39m]\u001b[39m:\u001b[39;00m\u001b[39m.4f\u001b[39m\u001b[39m}\u001b[39;00m\u001b[39m\\033\u001b[39;00m\u001b[39m[93m Dev Loss: \u001b[39m\u001b[39m{\u001b[39;00mloss_dev[\u001b[39m-\u001b[39m\u001b[39m1\u001b[39m]\u001b[39m:\u001b[39;00m\u001b[39m.4f\u001b[39m\u001b[39m}\u001b[39;00m\u001b[39m\\033\u001b[39;00m\u001b[39m[0m\u001b[39m\u001b[39m'\u001b[39m)\n",
      "File \u001b[0;32m~/andrew/sleep/sleep_ml/lib/utils.py:352\u001b[0m, in \u001b[0;36mtraining_loop\u001b[0;34m(model, trainloader, criterion, optimizer, DEVICE)\u001b[0m\n\u001b[1;32m    350\u001b[0m loss_tr_total \u001b[39m=\u001b[39m \u001b[39m0\u001b[39m\n\u001b[1;32m    351\u001b[0m \u001b[39mfor\u001b[39;00m (X_tr,y_tr) \u001b[39min\u001b[39;00m trainloader:\n\u001b[0;32m--> 352\u001b[0m     X_tr,y_tr \u001b[39m=\u001b[39m X_tr\u001b[39m.\u001b[39;49mto(DEVICE),y_tr\u001b[39m.\u001b[39mto(DEVICE)\n\u001b[1;32m    353\u001b[0m     logits \u001b[39m=\u001b[39m model(X_tr)\n\u001b[1;32m    354\u001b[0m     loss \u001b[39m=\u001b[39m criterion(logits,y_tr)\n",
      "\u001b[0;31mKeyboardInterrupt\u001b[0m: "
     ]
    }
   ],
   "source": [
    "optimization_loop(model,trainloader,devloader,criterion,optimizer,epochs=20,DEVICE=DEVICE)"
   ]
  },
  {
   "cell_type": "code",
   "execution_count": null,
   "metadata": {},
   "outputs": [],
   "source": [
    "loss,metrics,y_true,y_pred,logits = evaluate(dataloader,model,criterion,DEVICE)\n",
    "cm_grid(y_true=y_true,y_pred=y_pred)\n",
    "print(metrics) \n",
    "print(loss)"
   ]
  },
  {
   "cell_type": "code",
   "execution_count": null,
   "metadata": {},
   "outputs": [],
   "source": [
    "with torch.no_grad():\n",
    "    y_true = torch.Tensor()\n",
    "    y_pred = torch.Tensor()\n",
    "    y_logits = torch.Tensor()\n",
    "    loss_total = 0\n",
    "    for (Xi,yi) in devloader:\n",
    "        y_true = torch.cat([y_true,yi.argmax(axis=1)])\n",
    "\n",
    "        Xi,yi = Xi.to(DEVICE),yi.to(DEVICE)\n",
    "        logits = model(Xi,classification=False)\n",
    "        # loss = criterion(logits,yi)\n",
    "        # loss_total += loss.item()\n",
    "        \n",
    "        y_logits = torch.cat([y_logits,torch.softmax(logits,dim=1).detach().cpu()])\n",
    "        # y_pred = torch.cat([y_pred,torch.softmax(logits,dim=1).argmax(axis=1).detach().cpu()])\n"
   ]
  },
  {
   "cell_type": "code",
   "execution_count": null,
   "metadata": {},
   "outputs": [],
   "source": [
    "from sklearn.manifold import TSNE\n",
    "tsne = TSNE(n_components=2)\n",
    "# logits_tsne = tsne.fit_transform(X_dev)\n",
    "logits_tsne = tsne.fit_transform(y_logits.detach().cpu())\n",
    "df = pd.DataFrame(logits_tsne)\n",
    "df['y'] = y_true\n",
    "sns.scatterplot(data=df,x=0,y=1,hue='y')"
   ]
  }
 ],
 "metadata": {
  "kernelspec": {
   "display_name": "Python 3.10.6 64-bit",
   "language": "python",
   "name": "python3"
  },
  "language_info": {
   "codemirror_mode": {
    "name": "ipython",
    "version": 3
   },
   "file_extension": ".py",
   "mimetype": "text/x-python",
   "name": "python",
   "nbconvert_exporter": "python",
   "pygments_lexer": "ipython3",
   "version": "3.11.4"
  },
  "orig_nbformat": 4,
  "vscode": {
   "interpreter": {
    "hash": "916dbcbb3f70747c44a77c7bcd40155683ae19c65e1c03b4aa3499c5328201f1"
   }
  }
 },
 "nbformat": 4,
 "nbformat_minor": 2
}
