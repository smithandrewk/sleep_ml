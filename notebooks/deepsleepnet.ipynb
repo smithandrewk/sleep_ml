{
 "cells": [
  {
   "cell_type": "code",
   "execution_count": 56,
   "metadata": {},
   "outputs": [],
   "source": [
    "from lib.utils import *\n",
    "X,y = load_eeg_label_pair()"
   ]
  },
  {
   "cell_type": "code",
   "execution_count": 109,
   "metadata": {},
   "outputs": [],
   "source": [
    "import torch\n",
    "from torch import nn\n",
    "class DeepSleepNet(nn.Module):\n",
    "    def __init__(self) -> None:\n",
    "        super().__init__()\n",
    "        self.c1 = self._cnn(1,250,64,32)\n",
    "        self.mp1 = nn.MaxPool1d(8,8)\n",
    "        self.d1 = nn.Dropout1d(p=.5)\n",
    "        self.c2 = self._cnn(64,6,128,1)\n",
    "        self.c3 = self._cnn(128,6,128,1)\n",
    "        self.c4 = self._cnn(128,6,128,1)\n",
    "        self.mp2 = nn.MaxPool1d(8,8)\n",
    "        # concat\n",
    "        self.d2 = nn.Dropout1d(p=.5)\n",
    "        # res branch\n",
    "        self.res_fc = nn.Linear(in_features=128,out_features=1024)\n",
    "        # temporal\n",
    "        self.lstm1 = nn.LSTM(128,512,bidirectional=True)\n",
    "        self.d3 = nn.Dropout1d(p=.5)\n",
    "        self.lstm2 = nn.LSTM(1024,512,bidirectional=True)\n",
    "        self.d4 = nn.Dropout1d(p=.5)\n",
    "\n",
    "        self.d5 = nn.Dropout1d(p=.5)\n",
    "\n",
    "\n",
    "    def _cnn(self,fan_in,filter_size,fan_out,stride):\n",
    "        return nn.Sequential(\n",
    "            nn.Conv1d(fan_in,fan_out,filter_size,stride),\n",
    "            nn.BatchNorm1d(fan_out),\n",
    "            nn.ReLU()\n",
    "        )\n",
    "    def forward(self,x):\n",
    "        x = x.view(-1,1,5000)\n",
    "        x = self.c1(x)\n",
    "        x = self.mp1(x)\n",
    "        x = self.d1(x)\n",
    "        x = self.c2(x)\n",
    "        x = self.c3(x)\n",
    "        x = self.mp2(x)\n",
    "        x = x.squeeze(2)\n",
    "        res = self.d1(x)\n",
    "        h,_ = self.lstm1(x)\n",
    "        x = self.d3(h)\n",
    "        h,_ = self.lstm2(x)\n",
    "        x = self.d4(h)\n",
    "        \n",
    "        x = x + self.res_fc(res)\n",
    "        x = self.d5(x)\n",
    "        return x\n",
    "model = DeepSleepNet()"
   ]
  },
  {
   "cell_type": "code",
   "execution_count": 108,
   "metadata": {},
   "outputs": [],
   "source": [
    "x = model(X)"
   ]
  },
  {
   "cell_type": "code",
   "execution_count": 106,
   "metadata": {},
   "outputs": [
    {
     "data": {
      "text/plain": [
       "torch.Size([8640, 1024])"
      ]
     },
     "execution_count": 106,
     "metadata": {},
     "output_type": "execute_result"
    }
   ],
   "source": [
    "x.shape"
   ]
  }
 ],
 "metadata": {
  "kernelspec": {
   "display_name": "Python 3.10.6 64-bit",
   "language": "python",
   "name": "python3"
  },
  "language_info": {
   "codemirror_mode": {
    "name": "ipython",
    "version": 3
   },
   "file_extension": ".py",
   "mimetype": "text/x-python",
   "name": "python",
   "nbconvert_exporter": "python",
   "pygments_lexer": "ipython3",
   "version": "3.10.6"
  },
  "orig_nbformat": 4,
  "vscode": {
   "interpreter": {
    "hash": "916dbcbb3f70747c44a77c7bcd40155683ae19c65e1c03b4aa3499c5328201f1"
   }
  }
 },
 "nbformat": 4,
 "nbformat_minor": 2
}
