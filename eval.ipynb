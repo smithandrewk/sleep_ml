{
 "cells": [
  {
   "cell_type": "code",
   "execution_count": null,
   "metadata": {},
   "outputs": [],
   "source": [
    "from lib.ekyn import *\n",
    "from sage.utils import *\n",
    "from sage.models import *\n",
    "from sklearn.metrics import ConfusionMatrixDisplay,f1_score\n",
    "import pandas as pd\n",
    "import os\n",
    "states = {}\n",
    "for experiment in os.listdir(f'experiments'):\n",
    "    print(experiment)\n",
    "    state = torch.load(f'experiments/{experiment}/state.pt')\n",
    "    states[experiment] = state\n",
    "df = pd.DataFrame([states[experiment] for experiment in states],columns=['start_time','experiment_group_id','sequence_length','best_dev_loss','best_dev_f1','robust','wd','widthi','depthi','batch_size','early_stopping','execution_time','trainlossi','testlossi']).sort_values(by='start_time',ascending=False)\n",
    "df.reset_index(drop=True,inplace=True)\n",
    "# plot_train_and_test_loss_in_plotly(df.loc[[18,17,16,15,9]])\n",
    "df = df.iloc[:5]\n",
    "display(df)\n",
    "plot_loss_curves(df,moving_window_length=1)"
   ]
  },
  {
   "cell_type": "code",
   "execution_count": null,
   "metadata": {},
   "outputs": [],
   "source": [
    "df.sort_values(by='best_dev_loss')"
   ]
  },
  {
   "cell_type": "code",
   "execution_count": null,
   "metadata": {},
   "outputs": [],
   "source": [
    "MODEL_ID = 0\n",
    "\n",
    "from sklearn.model_selection import train_test_split\n",
    "from lib.ekyn import *\n",
    "\n",
    "ekyn_ids = get_ekyn_ids()\n",
    "train_ids,test_ids = train_test_split(ekyn_ids,test_size=.2,shuffle=True,random_state=0)\n",
    "print(train_ids,test_ids)\n",
    "\n",
    "state = torch.load(f'experiments/{df.loc[MODEL_ID,\"start_time\"]}/state.pt',weights_only=False)\n",
    "\n",
    "model = copy.deepcopy(state['model'])\n",
    "model.load_state_dict(state['best_model_wts'])\n",
    "\n",
    "# trainloader,testloader = get_dataloaders(batch_size=state['batch_size'],robust=state['robust'])\n",
    "trainloader,testloader = get_sequenced_dataloaders(batch_size=state['batch_size'],sequence_length=state['sequence_length'],stride=state['training_stride'])\n",
    "\n",
    "loss,y_true,y_pred = evaluate(dataloader=testloader,model=model,criterion=state['criterion'],device='cuda')\n",
    "ConfusionMatrixDisplay.from_predictions(y_true,y_pred,normalize='true',colorbar=False)\n",
    "plt.title(f'f1 : {f1_score(y_true,y_pred,average=\"macro\"):.3f}')"
   ]
  },
  {
   "cell_type": "code",
   "execution_count": null,
   "metadata": {},
   "outputs": [],
   "source": [
    "import matplotlib.pyplot as plt\n",
    "import seaborn as sns\n",
    "from sklearn.metrics import f1_score\n",
    "\n",
    "# Assuming df is populated with necessary data\n",
    "df = {}\n",
    "\n",
    "# Initialize the figure and axes\n",
    "fig, axes = plt.subplots(nrows=1, ncols=2, figsize=(14, 8))\n",
    "\n",
    "# Loop through test IDs\n",
    "for id in test_ids:\n",
    "    # Load data and perform necessary calculations\n",
    "    X, y = load_ekyn_pt(id=id, condition='PF')\n",
    "\n",
    "    # ECDF plot\n",
    "    std, mean = torch.std_mean(X[torch.where(y.argmax(axis=1) == 1)[0]], dim=1)\n",
    "    sns.ecdfplot(std, linewidth=2, label=id, ax=axes[0])\n",
    "\n",
    "    # Calculate F1 score\n",
    "    dataloader = get_epoched_dataloader_for_ids(ids=[id],robust=state['robust'])\n",
    "    loss, y_true, y_pred = evaluate(dataloader=dataloader, model=model, criterion=state['criterion'], device='cuda')\n",
    "    f1 = float(f1_score(y_true, y_pred, average=\"macro\"))\n",
    "\n",
    "    # Bar plot\n",
    "    sns.barplot(x=[id], y=[f1], ax=axes[1])  # Plotting F1 score for each ID\n",
    "\n",
    "\n",
    "# for id in train_ids:\n",
    "#     # Load data and perform necessary calculations\n",
    "#     X, y = load_ekyn_pt(id=id, condition='PF')\n",
    "\n",
    "#     # ECDF plot\n",
    "#     std, mean = torch.std_mean(X[torch.where(y.argmax(axis=1) == 1)[0]], dim=1)\n",
    "#     sns.ecdfplot(std, linewidth=.5, label=id, ax=axes[0],color='black')\n",
    "\n",
    "# Final adjustments\n",
    "axes[0].legend()\n",
    "axes[0].set_xlim([0, .000150])\n",
    "axes[1].set_ylim([0, 1])  # Adjust y-axis limits for the bar plot\n",
    "\n",
    "# Display the plot\n",
    "plt.tight_layout()\n",
    "plt.show()\n"
   ]
  },
  {
   "cell_type": "code",
   "execution_count": null,
   "metadata": {},
   "outputs": [],
   "source": []
  }
 ],
 "metadata": {
  "kernelspec": {
   "display_name": "Python 3 (ipykernel)",
   "language": "python",
   "name": "python3"
  },
  "language_info": {
   "codemirror_mode": {
    "name": "ipython",
    "version": 3
   },
   "file_extension": ".py",
   "mimetype": "text/x-python",
   "name": "python",
   "nbconvert_exporter": "python",
   "pygments_lexer": "ipython3",
   "version": "3.10.12"
  }
 },
 "nbformat": 4,
 "nbformat_minor": 2
}
