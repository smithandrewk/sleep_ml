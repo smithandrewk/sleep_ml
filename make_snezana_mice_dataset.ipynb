{
 "cells": [
  {
   "cell_type": "code",
   "execution_count": 58,
   "metadata": {},
   "outputs": [],
   "source": [
    "from os import listdir\n",
    "from torch import load\n",
    "from lib.env import DATA_PATH\n",
    "from mne.io import read_raw_edf\n",
    "import torch\n",
    "import pandas as pd\n",
    "from os import makedirs\n",
    "from lib.ekyn import *\n",
    "import seaborn as sns\n",
    "import matplotlib.pyplot as plt\n",
    "from sklearn.preprocessing import RobustScaler\n",
    "\n",
    "SNEZANA_MICE_IDS_IN_EEG1 = ['21-HET-1','21-HET-2','21-HET-3','21-HET-4','21-HET-5','21-HET-7','21-HET-8','21-KO-1','21-KO-2','21-KO-3','21-KO-4','21-KO-5','21-KO-6','21-KO-7','21-KO-8','21-KO-9','21-KO-10','21-KO-11','21-KO-12','21-WK-1','21-WK-2','21-WK-3','21-WK-4','21-WK-5','21-WK-8','21-WK-9','21-WK-11','21-WK-12','21-WT-1','21-WT-2','21-WT-3','21-WT-4','21-WT-5','21-WT-6','21-WT-7','21-WT-8','21-WT-9','21-WT-10','21-WT-12','381','386']"
   ]
  },
  {
   "cell_type": "code",
   "execution_count": 80,
   "metadata": {},
   "outputs": [],
   "source": [
    "makedirs(f'{DATA_PATH}/pt_snezana_mice')\n",
    "raw_snezana_mice_ids = sorted(list(set([id.split('.')[0] for id in listdir(f'{DATA_PATH}/raw_snezana_mice')])))\n",
    "for id in raw_snezana_mice_ids:\n",
    "    raw = read_raw_edf(f'{DATA_PATH}/raw_snezana_mice/{id}.edf')\n",
    "    if id in SNEZANA_MICE_IDS_IN_EEG1:\n",
    "        eeg = raw.get_data(picks='EEG 1')\n",
    "    else:\n",
    "        eeg = raw.get_data(picks='EEG 2')\n",
    "    eeg = eeg.reshape(-1,5000)\n",
    "    X = torch.from_numpy(eeg).float()\n",
    "    df = pd.read_excel(f'{DATA_PATH}/raw_snezana_mice/{id}.xlsx')\n",
    "    df = df.drop(0).reset_index(drop=True)\n",
    "    df['Rodent Sleep'] = df['Rodent Sleep'].ffill()\n",
    "    y = torch.nn.functional.one_hot(torch.from_numpy(pd.Categorical(df['Rodent Sleep']).codes.copy()).long()).float()\n",
    "    torch.save((X,y),f'{DATA_PATH}/pt_snezana_mice/{id}.pt')"
   ]
  },
  {
   "cell_type": "code",
   "execution_count": 60,
   "metadata": {},
   "outputs": [],
   "source": [
    "makedirs(f'{DATA_PATH}/pt_snezana_mice_robust')\n",
    "snezana_mice_ids = sorted(list(set([id.split('.')[0] for id in listdir(f'{DATA_PATH}/pt_snezana_mice')])))\n",
    "\n",
    "for id in snezana_mice_ids:\n",
    "    X,y = load_snezana_mice_pt(id)\n",
    "    Xt = torch.from_numpy(RobustScaler().fit_transform(X)).float()\n",
    "    torch.save((Xt,y),f'{DATA_PATH}/pt_snezana_mice_robust/{id}.pt')"
   ]
  }
 ],
 "metadata": {
  "kernelspec": {
   "display_name": "Python 3.10.12 64-bit",
   "language": "python",
   "name": "python3"
  },
  "language_info": {
   "codemirror_mode": {
    "name": "ipython",
    "version": 3
   },
   "file_extension": ".py",
   "mimetype": "text/x-python",
   "name": "python",
   "nbconvert_exporter": "python",
   "pygments_lexer": "ipython3",
   "version": "3.10.12"
  },
  "orig_nbformat": 4,
  "vscode": {
   "interpreter": {
    "hash": "916dbcbb3f70747c44a77c7bcd40155683ae19c65e1c03b4aa3499c5328201f1"
   }
  }
 },
 "nbformat": 4,
 "nbformat_minor": 2
}
