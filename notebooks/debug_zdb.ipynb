{
 "cells": [
  {
   "cell_type": "code",
   "execution_count": 118,
   "metadata": {},
   "outputs": [],
   "source": [
    "import os\n",
    "import sqlite3\n",
    "from sqlite3 import Error\n",
    "files = os.listdir(f'../data/aging/0_raw_zdb/')"
   ]
  },
  {
   "cell_type": "code",
   "execution_count": 119,
   "metadata": {},
   "outputs": [
    {
     "name": "stdout",
     "output_type": "stream",
     "text": [
      "22-AGING-1.zdb\n",
      "True\n",
      "22-AGING-16.zdb\n",
      "True\n",
      "22-AGING-9.zdb\n",
      "True\n",
      "22-AGING-13.zdb\n",
      "True\n",
      "22-AGING-10.zdb\n",
      "True\n",
      "22-AGING-6.zdb\n",
      "True\n",
      "22-AGING-17.zdb\n",
      "True\n",
      "22-AGING-8.zdb\n",
      "True\n",
      "22-AGING-3.zdb\n",
      "True\n",
      "22-AGING-12.zdb\n",
      "True\n",
      "22-AGING-15.zdb\n",
      "True\n",
      "22-AGING-5.zdb\n",
      "True\n",
      "22-AGING-11.zdb\n",
      "True\n",
      "22-AGING-14.zdb\n",
      "True\n",
      "22-AGING-4.zdb\n",
      "True\n",
      "22-AGING-7.zdb\n",
      "True\n"
     ]
    }
   ],
   "source": [
    "for file in files:\n",
    "    print(file)\n",
    "    try:\n",
    "        conn = sqlite3.connect(f'../data/aging/0_raw_zdb/{file}')\n",
    "    except Error as e:\n",
    "        print(e)\n",
    "    cur = conn.cursor()\n",
    "    #drop this table - creates issues\n",
    "    query = \"DROP TABLE IF EXISTS temporary_scoring_marker;\"\n",
    "    cur.execute(query)\n",
    "    #get recordingstart\n",
    "    query = \"SELECT value FROM internal_property WHERE key='RecordingStart'\"\n",
    "    cur.execute(query)\n",
    "    result = cur.fetchall()\n",
    "    # print(result)\n",
    "    recording_start = int(result[0][0])\n",
    "    #get keyid of scoring\n",
    "    query = \"SELECT MAX(id) FROM scoring_revision WHERE name='Machine Data'\"\n",
    "    cur.execute(query)\n",
    "    result = cur.fetchall()\n",
    "    keyid = result[0][0]\n",
    "    # print(result)\n",
    "    #get starting point for scoring\n",
    "    query = \"SELECT id FROM scoring_marker WHERE type LIKE 'Sleep%' AND key_id='\"+str(keyid)+\"';\"\n",
    "    cur.execute(query)\n",
    "    result = cur.fetchall()\n",
    "    startid = result[0][0]\n",
    "    # print(result)\n",
    "    #get start time to crreate epochs\n",
    "    query = 'SELECT starts_at FROM scoring_marker WHERE id = '+str(startid)+\";\"\n",
    "    cur.execute(query)\n",
    "    result = cur.fetchall()\n",
    "    start_time = result[0][0]\n",
    "    stop_time = 0\n",
    "    # print(result)\n",
    "    # print(start_time == recording_start)\n",
    "    # print(recording_start,start_time)\n",
    "    recording_start = recording_start - (recording_start % 100000000)\n",
    "    # print(recording_start,start_time)\n",
    "    print(recording_start == start_time)"
   ]
  },
  {
   "cell_type": "code",
   "execution_count": null,
   "metadata": {},
   "outputs": [],
   "source": []
  }
 ],
 "metadata": {
  "kernelspec": {
   "display_name": "Python 3.10.6 64-bit",
   "language": "python",
   "name": "python3"
  },
  "language_info": {
   "codemirror_mode": {
    "name": "ipython",
    "version": 3
   },
   "file_extension": ".py",
   "mimetype": "text/x-python",
   "name": "python",
   "nbconvert_exporter": "python",
   "pygments_lexer": "ipython3",
   "version": "3.10.6"
  },
  "orig_nbformat": 4,
  "vscode": {
   "interpreter": {
    "hash": "916dbcbb3f70747c44a77c7bcd40155683ae19c65e1c03b4aa3499c5328201f1"
   }
  }
 },
 "nbformat": 4,
 "nbformat_minor": 2
}
