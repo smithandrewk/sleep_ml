{
 "cells": [
  {
   "cell_type": "code",
   "execution_count": null,
   "metadata": {},
   "outputs": [],
   "source": [
    "from lib.utils import *\n",
    "from lib.models import *\n",
    "from lib.ekyn import *\n",
    "from lib.env import *\n",
    "from lib.datasets import *"
   ]
  },
  {
   "cell_type": "code",
   "execution_count": null,
   "metadata": {},
   "outputs": [],
   "source": [
    "folds = get_leave_one_out_cv_ids_for_ekyn()\n",
    "criterion = torch.nn.CrossEntropyLoss()\n",
    "all_metrics = pd.DataFrame()\n",
    "all_stats = pd.DataFrame()\n",
    "stage_propotions = pd.DataFrame()\n",
    "recall_cm = torch.zeros((3,3))\n",
    "precision_cm = torch.zeros((3,3))\n",
    "for i,(train_ids,test_ids) in enumerate(folds):\n",
    "    for condition in ['Vehicle','PF']:\n",
    "        X,y = load_eeg_label_pair(id=test_ids[0],condition=condition)\n",
    "        testloader = DataLoader(Windowset(X,y),batch_size=32,shuffle=False)\n",
    "        model = Gandalf()\n",
    "        model.load_state_dict(torch.load(f=f'../models/gandalfs/gandalf_{i}/best_model.pt',map_location='cpu'))\n",
    "        model.to(DEVICE)\n",
    "        loss,metrics,y_true,y_pred,logits = evaluate(testloader,model,criterion,DEVICE)\n",
    "        recall_cm += confusion_matrix(y_true=y_true,y_pred=y_pred,normalize='true')\n",
    "        precision_cm += confusion_matrix(y_true=y_true,y_pred=y_pred,normalize='pred')\n",
    "        all_metrics = pd.concat([all_metrics,pd.Series(metrics,name=f'{i}')],axis=1)\n",
    "        stage_propotions = pd.concat([stage_propotions,pd.Series((torch.bincount(y_pred.long())/8640).tolist()+['Predicted'],name=f'{i}')],axis=1)\n",
    "        stage_propotions = pd.concat([stage_propotions,pd.Series((torch.bincount(y_true.long())/8640).tolist()+['Reference'],name=f'{i}')],axis=1)\n",
    "        df = pd.DataFrame(y_true)\n",
    "        df.loc[df[0] == 2,0] = 'W'\n",
    "        df.loc[df[0] == 1,0] = 'S'\n",
    "        df.loc[df[0] == 0,0] = 'P'\n",
    "        stats = get_bout_statistics_for_predictions(df[0]).reset_index().melt(id_vars='index')\n",
    "        stats['type'] = 'Reference'\n",
    "        all_stats = pd.concat([all_stats,stats],axis=1)\n",
    "        df = pd.DataFrame(y_pred)\n",
    "        df.loc[df[0] == 2,0] = 'W'\n",
    "        df.loc[df[0] == 1,0] = 'S'\n",
    "        df.loc[df[0] == 0,0] = 'P'\n",
    "        stats = get_bout_statistics_for_predictions(df[0]).reset_index().melt(id_vars='index')\n",
    "        stats['type'] = 'Predicted'\n",
    "        all_stats = pd.concat([all_stats,stats],axis=1)\n"
   ]
  },
  {
   "cell_type": "code",
   "execution_count": null,
   "metadata": {},
   "outputs": [],
   "source": [
    "with torch.no_grad():\n",
    "    y_true = torch.Tensor()\n",
    "    y_pred = torch.Tensor()\n",
    "    y_logits = torch.Tensor()\n",
    "    y_features = torch.Tensor()\n",
    "    loss_total = 0\n",
    "    for (Xi,yi) in tqdm(testloader):\n",
    "        y_true = torch.cat([y_true,yi.argmax(axis=1)])\n",
    "\n",
    "        Xi,yi = Xi.to(DEVICE),yi.to(DEVICE)\n",
    "        logits = model(Xi)\n",
    "        loss = criterion(logits,yi)\n",
    "        loss_total += loss.item()\n",
    "        \n",
    "        y_logits = torch.cat([y_logits,torch.softmax(logits,dim=1).detach().cpu()])\n",
    "        y_pred = torch.cat([y_pred,torch.softmax(logits,dim=1).argmax(axis=1).detach().cpu()])\n",
    "        y_features = torch.cat([y_features,model(Xi,classification=False).detach().cpu()])"
   ]
  },
  {
   "cell_type": "code",
   "execution_count": null,
   "metadata": {},
   "outputs": [],
   "source": [
    "from sklearn.manifold import TSNE\n",
    "tsne = TSNE(init='pca')\n",
    "X = tsne.fit_transform(y_features)\n",
    "tsne_df = pd.DataFrame(X)\n",
    "tsne_df['y'] = y_true\n",
    "tsne_df = tsne_df.sort_values(by='y')\n",
    "tsne_df.loc[tsne_df['y'] == 2,'y'] = 'W'\n",
    "tsne_df.loc[tsne_df['y'] == 1,'y'] = 'S'\n",
    "tsne_df.loc[tsne_df['y'] == 0,'y'] = 'P'"
   ]
  },
  {
   "cell_type": "code",
   "execution_count": null,
   "metadata": {},
   "outputs": [],
   "source": [
    "import seaborn as sns\n",
    "sns.set_theme('paper')\n",
    "sns.set_style('whitegrid')\n",
    "fig,axes = plt.subplots(nrows=2,ncols=2,figsize=(8,8),dpi=200)\n",
    "sns.boxplot(data=stage_propotions.T.melt(id_vars=3),x='variable',y='value',hue=3,ax=axes[1,1])\n",
    "sns.boxplot(data=all_metrics.T.melt(),y='value',x='variable',ax=axes[0,0])\n",
    "sns.heatmap(recall_cm/32,annot=True,fmt='.2f',cbar=False,cmap='Blues',ax=axes[1,0])\n",
    "sns.scatterplot(data=tsne_df,x=0,y=1,hue='y',s=8,ax=axes[0,1])\n",
    "\n",
    "axes[0,0].set_ylim(.5,1)\n",
    "axes[1,1].set_ylim(-.05,1)\n",
    "axes[0,0].set_ylabel('Score')\n",
    "axes[0,0].set_xlabel('Metric (averaged over n=16 folds)')\n",
    "axes[1,0].set_xticklabels(labels=['P','S','W'])\n",
    "axes[1,0].set_yticklabels(labels=['P','S','W'])\n",
    "axes[1,1].set_xticklabels(labels=['P','S','W'])\n",
    "axes[0,1].set_xlabel('t-SNE embedding of spatiotemporal feature maps')\n",
    "axes[0,1].set_ylabel('')\n",
    "axes[1,0].set_xlabel('Predicted')\n",
    "axes[1,0].set_ylabel('Reference')\n",
    "axes[1,1].set_xlabel('Stage')\n",
    "axes[1,1].set(ylabel='Proportion of total recording time')\n",
    "axes[0,0].legend()\n",
    "axes[1,1].legend()\n",
    "axes[0,1].legend()\n",
    "axes[0,1].set_xticks([])\n",
    "axes[0,1].set_yticks([])\n",
    "plt.margins(x=0,y=0)\n",
    "plt.savefig('grid.svg',bbox_inches='tight')"
   ]
  },
  {
   "cell_type": "code",
   "execution_count": null,
   "metadata": {},
   "outputs": [],
   "source": [
    "all_stats = pd.DataFrame(all_stats.to_numpy().reshape(-1,4))"
   ]
  },
  {
   "cell_type": "code",
   "execution_count": null,
   "metadata": {},
   "outputs": [],
   "source": [
    "all_stats = pd.DataFrame(all_stats.to_numpy().reshape(-1,8))\n",
    "all_stats"
   ]
  },
  {
   "cell_type": "code",
   "execution_count": null,
   "metadata": {},
   "outputs": [],
   "source": [
    "all_stats[all_stats[0] == 'total'] "
   ]
  },
  {
   "cell_type": "code",
   "execution_count": null,
   "metadata": {},
   "outputs": [],
   "source": [
    "all_stats[2] = all_stats[2].astype(float)\n",
    "all_stats[6] = all_stats[6].astype(float)\n",
    "all_stats = all_stats.rename({2:'x',6:'y'},axis=1)"
   ]
  },
  {
   "cell_type": "code",
   "execution_count": null,
   "metadata": {},
   "outputs": [],
   "source": [
    "import seaborn as sns\n",
    "sns.set_theme('paper')\n",
    "sns.set_style('whitegrid')\n",
    "fig,axes = plt.subplots(nrows=3,ncols=3,figsize=(9,9),dpi=200)\n",
    "\n",
    "axes[0,0].set_title('Total Bout Duration')\n",
    "axes[0,1].set_title('Average Bout Duration')\n",
    "axes[0,2].set_title('Number of Bouts')\n",
    "sns.regplot(data=all_stats[(all_stats[0] == 'total') & (all_stats[1] == 'P')],x='x',y='y',ax=axes[0,0])\n",
    "axes[0,0].set_xlim([0,150])\n",
    "axes[0,0].set_ylim([0,150])\n",
    "axes[0,0].set_xlabel('')\n",
    "axes[0,0].set_ylabel('Reference (paradoxical)')\n",
    "\n",
    "sns.regplot(data=all_stats[(all_stats[0] == 'total') & (all_stats[1] == 'S')],x='x',y='y',ax=axes[0,1])\n",
    "axes[0,1].set_xlim([300,900])\n",
    "axes[0,1].set_ylim([300,900])\n",
    "axes[0,1].set_xlabel('')\n",
    "axes[0,1].set_ylabel('')\n",
    "\n",
    "sns.regplot(data=all_stats[(all_stats[0] == 'total') & (all_stats[1] == 'W')],x='x',y='y',ax=axes[0,2])\n",
    "axes[0,2].set_xlim([500,1200])\n",
    "axes[0,2].set_ylim([500,1200])\n",
    "axes[0,2].set_xlabel('')\n",
    "axes[0,2].set_ylabel('')\n",
    "\n",
    "sns.regplot(data=all_stats[(all_stats[0] == 'average') & (all_stats[1] == 'P')],x='x',y='y',ax=axes[1,0])\n",
    "axes[1,0].set_xlim([0,150])\n",
    "axes[1,0].set_ylim([0,150])\n",
    "axes[1,0].set_xlabel('')\n",
    "axes[1,0].set_ylabel('Reference (slow wave)')\n",
    "\n",
    "sns.regplot(data=all_stats[(all_stats[0] == 'average') & (all_stats[1] == 'S')],x='x',y='y',ax=axes[1,1])\n",
    "axes[1,1].set_xlim([50,350])\n",
    "axes[1,1].set_ylim([50,350])\n",
    "axes[1,1].set_xlabel('')\n",
    "axes[1,1].set_ylabel('')\n",
    "\n",
    "sns.regplot(data=all_stats[(all_stats[0] == 'average') & (all_stats[1] == 'W')],x='x',y='y',ax=axes[1,2])\n",
    "axes[1,2].set_xlim([100,500])\n",
    "axes[1,2].set_ylim([100,500])\n",
    "axes[1,2].set_xlabel('')\n",
    "axes[1,2].set_ylabel('')\n",
    "\n",
    "sns.regplot(data=all_stats[(all_stats[0] == 'counts') & (all_stats[1] == 'P')],x='x',y='y',ax=axes[2,0])\n",
    "axes[2,0].set_xlim([0,160])\n",
    "axes[2,0].set_ylim([0,160])\n",
    "axes[2,0].set_xlabel('Predicted')\n",
    "axes[2,0].set_ylabel('Reference (wakefulness)')\n",
    "\n",
    "sns.regplot(data=all_stats[(all_stats[0] == 'counts') & (all_stats[1] == 'S')],x='x',y='y',ax=axes[2,1])\n",
    "axes[2,1].set_xlim([100,400])\n",
    "axes[2,1].set_ylim([100,400])\n",
    "axes[2,1].set_xlabel('Predicted')\n",
    "axes[2,1].set_ylabel('')\n",
    "\n",
    "sns.regplot(data=all_stats[(all_stats[0] == 'counts') & (all_stats[1] == 'W')],x='x',y='y',ax=axes[2,2])\n",
    "axes[2,2].set_xlim([100,400])\n",
    "axes[2,2].set_ylim([100,400])\n",
    "axes[2,2].set_xlabel('Predicted')\n",
    "axes[2,2].set_ylabel('')\n",
    "\n",
    "plt.margins(x=0,y=0)\n",
    "plt.savefig('reg.svg',bbox_inches='tight')"
   ]
  }
 ],
 "metadata": {
  "kernelspec": {
   "display_name": "Python 3.10.6 64-bit",
   "language": "python",
   "name": "python3"
  },
  "language_info": {
   "codemirror_mode": {
    "name": "ipython",
    "version": 3
   },
   "file_extension": ".py",
   "mimetype": "text/x-python",
   "name": "python",
   "nbconvert_exporter": "python",
   "pygments_lexer": "ipython3",
   "version": "3.10.12"
  },
  "orig_nbformat": 4,
  "vscode": {
   "interpreter": {
    "hash": "916dbcbb3f70747c44a77c7bcd40155683ae19c65e1c03b4aa3499c5328201f1"
   }
  }
 },
 "nbformat": 4,
 "nbformat_minor": 2
}
