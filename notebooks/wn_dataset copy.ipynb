{
 "cells": [
  {
   "cell_type": "code",
   "execution_count": 2,
   "metadata": {},
   "outputs": [
    {
     "name": "stderr",
     "output_type": "stream",
     "text": [
      "100%|██████████| 3/3 [00:10<00:00,  3.40s/it]\n"
     ]
    }
   ],
   "source": [
    "\"\"\"\n",
    "    creates a windowed dataset from 10-second EEG epochs. special case 2 not allowed. otherwise, labels are assigned to the center epoch in the window.\n",
    "\"\"\"\n",
    "from tqdm import tqdm\n",
    "from lib.utils import load_raw_list\n",
    "import os\n",
    "import torch\n",
    "from sklearn.model_selection import train_test_split\n",
    "from torch.nn.functional import one_hot\n",
    "import random\n",
    "\n",
    "for fileindex in tqdm(files):\n",
    "    X,y = load_raw_list([fileindex])\n",
    "\n",
    "\n",
    "    if(windowsize == 1):\n",
    "        windowsize = 1\n",
    "    else:\n",
    "        # windowing\n",
    "        # only works for odd windows, puts label at center\n",
    "        cat = [X[:-(windowsize-1)]]\n",
    "        for i in range(1,(windowsize-1)):\n",
    "            cat.append(X[i:i-(windowsize-1)])\n",
    "        cat.append(X[(windowsize-1):])\n",
    "        X = torch.cat(cat,axis=1).float()\n",
    "        # centered label\n",
    "        if(centered):\n",
    "            y = y[windowsize//2:-(windowsize//2)]\n",
    "        # right-aligned label\n",
    "        else:\n",
    "            y = y[windowsize-1:]\n",
    "\n"
   ]
  }
 ],
 "metadata": {
  "kernelspec": {
   "display_name": "Python 3.10.6 64-bit",
   "language": "python",
   "name": "python3"
  },
  "language_info": {
   "codemirror_mode": {
    "name": "ipython",
    "version": 3
   },
   "file_extension": ".py",
   "mimetype": "text/x-python",
   "name": "python",
   "nbconvert_exporter": "python",
   "pygments_lexer": "ipython3",
   "version": "3.10.6"
  },
  "orig_nbformat": 4,
  "vscode": {
   "interpreter": {
    "hash": "916dbcbb3f70747c44a77c7bcd40155683ae19c65e1c03b4aa3499c5328201f1"
   }
  }
 },
 "nbformat": 4,
 "nbformat_minor": 2
}
