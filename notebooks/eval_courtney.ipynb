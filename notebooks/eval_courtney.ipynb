{
 "cells": [
  {
   "cell_type": "code",
   "execution_count": null,
   "metadata": {},
   "outputs": [],
   "source": [
    "from lib.utils import *\n",
    "from lib.models import *\n",
    "from lib.ekyn import *\n",
    "from lib.env import *\n",
    "from lib.datasets import *"
   ]
  },
  {
   "cell_type": "code",
   "execution_count": 37,
   "metadata": {},
   "outputs": [
    {
     "name": "stdout",
     "output_type": "stream",
     "text": [
      "21-WK-10\n",
      "eeg2\n"
     ]
    },
    {
     "name": "stderr",
     "output_type": "stream",
     "text": [
      "/home/andrew/.local/lib/python3.10/site-packages/openpyxl/styles/stylesheet.py:226: UserWarning: Workbook contains no default style, apply openpyxl's default\n",
      "  warn(\"Workbook contains no default style, apply openpyxl's default\")\n",
      "100%|██████████| 1080/1080 [00:43<00:00, 25.01it/s]\n",
      "/home/andrew/.local/lib/python3.10/site-packages/sklearn/metrics/_classification.py:1308: UndefinedMetricWarning: Precision is ill-defined and being set to 0.0 in labels with no predicted samples. Use `zero_division` parameter to control this behavior.\n",
      "  _warn_prf(average, modifier, msg_start, len(result))\n"
     ]
    }
   ],
   "source": [
    "ids = get_ids()\n",
    "ID = ids[1]\n",
    "print(ID)\n",
    "X,y = load_feature_label_pair_snezana(ID)\n",
    "model = Gandalf()\n",
    "model.load_state_dict(torch.load(f=f'../spindle_gandalfs/gandalf_spindle_fold_00/best_model.pt',map_location='cpu'))\n",
    "model.to(DEVICE)\n",
    "criterion = torch.nn.CrossEntropyLoss()\n",
    "dataloader = DataLoader(Windowset(X,y),batch_size=32,shuffle=False)\n",
    "loss,report,y_true,y_pred,logits = evaluate(dataloader,model,criterion,DEVICE)"
   ]
  },
  {
   "cell_type": "code",
   "execution_count": 38,
   "metadata": {},
   "outputs": [
    {
     "data": {
      "text/plain": [
       "{'precision': 0.18612075617283952,\n",
       " 'recall': 0.3333333333333333,\n",
       " 'f1': 0.23886712343180397}"
      ]
     },
     "execution_count": 38,
     "metadata": {},
     "output_type": "execute_result"
    }
   ],
   "source": [
    "report"
   ]
  },
  {
   "cell_type": "code",
   "execution_count": 39,
   "metadata": {},
   "outputs": [
    {
     "data": {
      "image/png": "[encoded data removed]",
      "text/plain": [
       "<Figure size 500x500 with 4 Axes>"
      ]
     },
     "metadata": {},
     "output_type": "display_data"
    }
   ],
   "source": [
    "cm_grid(y_true,y_pred)"
   ]
  },
  {
   "cell_type": "code",
   "execution_count": null,
   "metadata": {},
   "outputs": [],
   "source": [
    "all_metrics = pd.DataFrame()\n",
    "ids = get_ids()\n",
    "model = Gandalf()\n",
    "model.load_state_dict(torch.load(f=f'../spindle_gandalfs/gandalf_spindle_fold_02/best_model.pt',map_location='cpu'))\n",
    "criterion = torch.nn.CrossEntropyLoss()\n",
    "model.to(DEVICE)\n",
    "\n",
    "for ID in tqdm(ids):\n",
    "    X,y = load_feature_label_pair_snezana(ID)\n",
    "    dataloader = DataLoader(Windowset(X,y),batch_size=32,shuffle=False)\n",
    "    loss,report,y_true,y_pred,logits = evaluate(dataloader,model,criterion,DEVICE)\n",
    "    all_metrics = pd.concat([all_metrics,pd.Series(report,name=f'{ID}')],axis=1)\n"
   ]
  },
  {
   "cell_type": "code",
   "execution_count": 41,
   "metadata": {},
   "outputs": [],
   "source": [
    "all_metrics.T.to_csv('spindle_gandalf_2_on_snezana_mice.csv',index=False)"
   ]
  },
  {
   "cell_type": "code",
   "execution_count": 40,
   "metadata": {},
   "outputs": [
    {
     "data": {
      "text/html": [
       "<div>\n",
       "<style scoped>\n",
       "    .dataframe tbody tr th:only-of-type {\n",
       "        vertical-align: middle;\n",
       "    }\n",
       "\n",
       "    .dataframe tbody tr th {\n",
       "        vertical-align: top;\n",
       "    }\n",
       "\n",
       "    .dataframe thead th {\n",
       "        text-align: right;\n",
       "    }\n",
       "</style>\n",
       "<table border=\"1\" class=\"dataframe\">\n",
       "  <thead>\n",
       "    <tr style=\"text-align: right;\">\n",
       "      <th></th>\n",
       "      <th>precision</th>\n",
       "      <th>recall</th>\n",
       "      <th>f1</th>\n",
       "    </tr>\n",
       "  </thead>\n",
       "  <tbody>\n",
       "    <tr>\n",
       "      <th>count</th>\n",
       "      <td>58.000000</td>\n",
       "      <td>58.000000</td>\n",
       "      <td>58.000000</td>\n",
       "    </tr>\n",
       "    <tr>\n",
       "      <th>mean</th>\n",
       "      <td>0.184589</td>\n",
       "      <td>0.333339</td>\n",
       "      <td>0.227515</td>\n",
       "    </tr>\n",
       "    <tr>\n",
       "      <th>std</th>\n",
       "      <td>0.059635</td>\n",
       "      <td>0.000039</td>\n",
       "      <td>0.012612</td>\n",
       "    </tr>\n",
       "    <tr>\n",
       "      <th>min</th>\n",
       "      <td>0.138349</td>\n",
       "      <td>0.333333</td>\n",
       "      <td>0.195540</td>\n",
       "    </tr>\n",
       "    <tr>\n",
       "      <th>25%</th>\n",
       "      <td>0.164265</td>\n",
       "      <td>0.333333</td>\n",
       "      <td>0.219631</td>\n",
       "    </tr>\n",
       "    <tr>\n",
       "      <th>50%</th>\n",
       "      <td>0.174055</td>\n",
       "      <td>0.333333</td>\n",
       "      <td>0.228035</td>\n",
       "    </tr>\n",
       "    <tr>\n",
       "      <th>75%</th>\n",
       "      <td>0.182299</td>\n",
       "      <td>0.333333</td>\n",
       "      <td>0.234611</td>\n",
       "    </tr>\n",
       "    <tr>\n",
       "      <th>max</th>\n",
       "      <td>0.496407</td>\n",
       "      <td>0.333625</td>\n",
       "      <td>0.270858</td>\n",
       "    </tr>\n",
       "  </tbody>\n",
       "</table>\n",
       "</div>"
      ],
      "text/plain": [
       "       precision     recall         f1\n",
       "count  58.000000  58.000000  58.000000\n",
       "mean    0.184589   0.333339   0.227515\n",
       "std     0.059635   0.000039   0.012612\n",
       "min     0.138349   0.333333   0.195540\n",
       "25%     0.164265   0.333333   0.219631\n",
       "50%     0.174055   0.333333   0.228035\n",
       "75%     0.182299   0.333333   0.234611\n",
       "max     0.496407   0.333625   0.270858"
      ]
     },
     "execution_count": 40,
     "metadata": {},
     "output_type": "execute_result"
    }
   ],
   "source": [
    "all_metrics.T.describe()"
   ]
  },
  {
   "cell_type": "code",
   "execution_count": 30,
   "metadata": {},
   "outputs": [
    {
     "data": {
      "text/plain": [
       "<Axes: xlabel='variable', ylabel='value'>"
      ]
     },
     "execution_count": 30,
     "metadata": {},
     "output_type": "execute_result"
    },
    {
     "data": {
      "image/png": "[encoded data removed]",
      "text/plain": [
       "<Figure size 640x480 with 1 Axes>"
      ]
     },
     "metadata": {},
     "output_type": "display_data"
    }
   ],
   "source": [
    "sns.boxplot(data=all_metrics.T.melt(),y='value',x='variable')"
   ]
  },
  {
   "cell_type": "code",
   "execution_count": null,
   "metadata": {},
   "outputs": [],
   "source": [
    "def get_bout_statistics_for_predictions(pred):\n",
    "    if pred.dtype is torch.float32:\n",
    "        pred = pd.DataFrame(pred)\n",
    "        pred.loc[pred[0] == 2,0] = 'W'\n",
    "        pred.loc[pred[0] == 1,0] = 'S'\n",
    "        pred.loc[pred[0] == 0,0] = 'P'\n",
    "        pred = pred[0]\n",
    "    bout_lengths = {\n",
    "    'P':[],\n",
    "    'S':[],\n",
    "    'W':[],\n",
    "    'X':[],\n",
    "    'A':[]\n",
    "    }\n",
    "    transition_matrix = pd.DataFrame(np.zeros((5,5)),columns=['P','S','W','X','A'],index=['P','S','W','X','A'])\n",
    "\n",
    "    current_state = 'A'\n",
    "    current_length = 0\n",
    "    for epoch in pred:\n",
    "        transition_matrix.loc[current_state,epoch] += 1\n",
    "        if(epoch != current_state):\n",
    "            bout_lengths[current_state].append(current_length)\n",
    "            current_state = epoch\n",
    "            current_length = 0\n",
    "        current_length += 1\n",
    "    bout_lengths[current_state].append(current_length)\n",
    "    bout_lengths.pop('X')\n",
    "    bout_lengths.pop('A')\n",
    "    total = {key:sum(bout_lengths[key])*10/60 for key in bout_lengths}\n",
    "    average = {key:np.mean(bout_lengths[key])*10 for key in bout_lengths}\n",
    "    counts = {key:len(bout_lengths[key]) for key in bout_lengths}\n",
    "    \n",
    "    return pd.DataFrame([pd.Series(total,name='total'),pd.Series(average,name='average'),pd.Series(counts,name='counts')])"
   ]
  },
  {
   "cell_type": "code",
   "execution_count": null,
   "metadata": {},
   "outputs": [],
   "source": [
    "stats = get_bout_statistics_for_predictions(y_true)\n",
    "stats"
   ]
  },
  {
   "cell_type": "code",
   "execution_count": null,
   "metadata": {},
   "outputs": [],
   "source": [
    "stats = get_bout_statistics_for_predictions(y_pred)\n",
    "stats"
   ]
  },
  {
   "cell_type": "code",
   "execution_count": null,
   "metadata": {},
   "outputs": [],
   "source": [
    "import plotly.express as px\n",
    "fig = px.line(data_frame=pd.DataFrame([y_pred.numpy(),y_true.numpy()]).T)\n",
    "fig.show(renderer='browser')"
   ]
  },
  {
   "cell_type": "code",
   "execution_count": null,
   "metadata": {},
   "outputs": [],
   "source": [
    "for filename in ids:\n",
    "    print(filename)\n",
    "    if filename == '22-Oct-A':\n",
    "        continue\n",
    "    fs = 500\n",
    "    raw = read_raw_edf((f'../data/courtney_aug_oct_2022_baseline_recordings/1_raw_edf/{filename}.edf'),verbose=False)\n",
    "    measurement_date = raw.info[\"meas_date\"]\n",
    "    eeg = raw.get_data(picks='EEG 1')[0]\n",
    "    df = pd.read_excel(f'../data/courtney_aug_oct_2022_baseline_recordings/2_labels/CW {filename} Baseline.xls')\n",
    "    df = df.drop(0).reset_index(drop=True)\n",
    "    df = fix_gaps(df)\n",
    "    df.loc[df['Label'] == 'X','Label'] = NA\n",
    "    df = df.fillna(method='ffill')\n",
    "    print(df['Start Time'].diff().value_counts())\n",
    "    print(df['Label'].value_counts())\n",
    "    start_time = df['Start Time'][0]\n",
    "    end_time = df.iloc[-1,0]\n",
    "    length = (end_time - start_time)\n",
    "    times = [start_time + datetime.timedelta(seconds=10*i) for  i in range(int((length.days*86400 + length.seconds)/10)+1)]\n",
    "    print(len(times))\n",
    "    print(times[0])\n",
    "    print(times[-1])\n",
    "    eeg = raw.get_data(picks='EEG 1')[0]\n",
    "    print(eeg.shape[0]/500)\n",
    "    measurement_date = measurement_date.replace(tzinfo=None)\n",
    "    offset = df.iloc[0,0] - measurement_date\n",
    "    eeg = eeg[offset.seconds*500:]\n",
    "    print(eeg.shape[0]/500)\n",
    "    eeg = eeg[:len(times)*5000]\n",
    "    print(eeg.shape[0]/500)\n",
    "    eeg = from_numpy(eeg.reshape(-1, 5000)).float()\n",
    "    print(eeg.shape)\n",
    "    y = one_hot(from_numpy(Categorical(df['Label']).codes.copy()).long()).float()\n",
    "    dataloader = DataLoader(Windowset(eeg,y),batch_size=32,shuffle=False)\n",
    "    loss,metrics,y_true,y_pred,logits = evaluate(dataloader,model,criterion,DEVICE)\n",
    "    all_metrics = pd.concat([all_metrics,pd.Series(metrics,name=f'{filename}')],axis=1)"
   ]
  }
 ],
 "metadata": {
  "kernelspec": {
   "display_name": "Python 3.10.6 64-bit",
   "language": "python",
   "name": "python3"
  },
  "language_info": {
   "codemirror_mode": {
    "name": "ipython",
    "version": 3
   },
   "file_extension": ".py",
   "mimetype": "text/x-python",
   "name": "python",
   "nbconvert_exporter": "python",
   "pygments_lexer": "ipython3",
   "version": "3.10.12"
  },
  "orig_nbformat": 4,
  "vscode": {
   "interpreter": {
    "hash": "916dbcbb3f70747c44a77c7bcd40155683ae19c65e1c03b4aa3499c5328201f1"
   }
  }
 },
 "nbformat": 4,
 "nbformat_minor": 2
}
