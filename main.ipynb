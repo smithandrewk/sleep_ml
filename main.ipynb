{
 "cells": [
  {
   "cell_type": "code",
   "execution_count": 3,
   "metadata": {},
   "outputs": [
    {
     "name": "stdout",
     "output_type": "stream",
     "text": [
      "Running main.py\n"
     ]
    }
   ],
   "source": [
    "\n",
    "print(\"Running main.py\")\n",
    "\n",
    "## Imports\n",
    "from lib.utils import *\n",
    "from lib.models import MLP\n",
    "from torch.utils.data import TensorDataset\n",
    "from torch.utils.data import DataLoader\n",
    "from tqdm import tqdm\n",
    "import argparse\n",
    "import os\n",
    "\n",
    "\n",
    "## Load Data\n",
    "X,y = load_raw_list([20])\n",
    "X = X.flatten()[::10]\n",
    "X = X.reshape(-1,500)\n",
    "X_train,X_test,y_train,y_test = train_test_split(X,y,test_size=.2,shuffle=True,stratify=y,random_state=0)"
   ]
  },
  {
   "cell_type": "code",
   "execution_count": null,
   "metadata": {},
   "outputs": [],
   "source": [
    "\n",
    "y_train_one_hot = one_hot(y_train,num_classes=3).reshape(-1,3).float()\n",
    "y_test_one_hot = one_hot(y_test,num_classes=3).reshape(-1,3).float()\n",
    "train_dataloader = DataLoader(TensorDataset(X_train,y_train_one_hot), batch_size=256, shuffle=True)\n",
    "test_dataloader = DataLoader(TensorDataset(X_test,y_test_one_hot), batch_size=256, shuffle=False)\n",
    "\n",
    "device = 'cuda'\n",
    "\n",
    "model = MLP()\n",
    "\n",
    "model.to(device)\n",
    "\n",
    "criterion = nn.CrossEntropyLoss()\n",
    "optimizer = torch.optim.Adam(model.parameters())\n",
    "training_losses = []\n",
    "testing_losses = []\n",
    "\n",
    "# Get initial loss\n",
    "total_loss = 0\n",
    "for (X,y) in train_dataloader:\n",
    "    X,y = X.to(device),y.to(device)\n",
    "    logits = model(X)\n",
    "    print(logits.dtype,y.dtype)\n",
    "    loss = criterion(logits,y)\n",
    "    total_loss += loss.item()\n",
    "print(\"initial loss\",total_loss/len(train_dataloader))\n"
   ]
  },
  {
   "cell_type": "code",
   "execution_count": null,
   "metadata": {},
   "outputs": [],
   "source": [
    "\n",
    "pbar = tqdm(range(args.epochs))\n",
    "for epoch in pbar:\n",
    "    training_loss = 0\n",
    "    for (X,y) in train_dataloader:\n",
    "        X,y = X.to(device),y.to(device)\n",
    "        logits = model(X)\n",
    "        loss = criterion(logits,y)\n",
    "        optimizer.zero_grad()\n",
    "        loss.backward()\n",
    "        optimizer.step()\n",
    "        training_loss += loss.item()\n",
    "    training_loss = training_loss/len(train_dataloader)\n",
    "    training_losses.append(training_loss)\n",
    "    model.eval()\n",
    "    testing_loss = 0\n",
    "    for (X,y) in test_dataloader:\n",
    "        X,y = X.to(device), y.to(device)\n",
    "        logits = model(X)\n",
    "        loss = criterion(logits,y)\n",
    "        testing_loss += loss.item()\n",
    "    testing_loss = testing_loss/len(test_dataloader)\n",
    "    testing_losses.append(testing_loss)\n",
    "    pbar.set_description(f'\\033[94mDev Loss: {training_loss:.4f}\\033[93m Val Loss: {testing_loss:.2f}\\033[0m')\n",
    "\n",
    "plt.plot(training_losses)\n",
    "plt.plot(testing_losses)\n",
    "plt.savefig('loss.jpg')\n",
    "\n",
    "from datetime import datetime\n",
    "current_date = str(datetime.now()).replace(' ','_')\n",
    "if not os.path.isdir('models'):\n",
    "    os.system('mkdir models')\n",
    "torch.save(model.state_dict(), f=f'models/{current_date}.pt')\n",
    "torch.save(model.state_dict(), f=f'model.pt')\n"
   ]
  }
 ],
 "metadata": {
  "kernelspec": {
   "display_name": "Python 3.10.6 64-bit",
   "language": "python",
   "name": "python3"
  },
  "language_info": {
   "codemirror_mode": {
    "name": "ipython",
    "version": 3
   },
   "file_extension": ".py",
   "mimetype": "text/x-python",
   "name": "python",
   "nbconvert_exporter": "python",
   "pygments_lexer": "ipython3",
   "version": "3.10.6"
  },
  "orig_nbformat": 4,
  "vscode": {
   "interpreter": {
    "hash": "916dbcbb3f70747c44a77c7bcd40155683ae19c65e1c03b4aa3499c5328201f1"
   }
  }
 },
 "nbformat": 4,
 "nbformat_minor": 2
}
