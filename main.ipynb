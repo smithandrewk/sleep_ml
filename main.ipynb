{
 "cells": [
  {
   "cell_type": "code",
   "execution_count": null,
   "metadata": {},
   "outputs": [],
   "source": [
    "from sklearn.tree import DecisionTreeClassifier\n",
    "from lib.utils import load_raw,load_psd\n",
    "from sklearn.model_selection import train_test_split\n",
    "from sklearn.metrics import confusion_matrix\n",
    "from sklearn.metrics import ConfusionMatrixDisplay\n",
    "from sklearn.metrics import f1_score\n",
    "import matplotlib.pyplot as plt\n",
    "import pandas as pd\n",
    "import numpy as np\n",
    "import torch\n",
    "from torch import nn\n",
    "from torch.nn.functional import relu,one_hot"
   ]
  },
  {
   "cell_type": "code",
   "execution_count": null,
   "metadata": {},
   "outputs": [],
   "source": [
    "raw = load_raw(2)\n",
    "df = load_psd(2)"
   ]
  },
  {
   "cell_type": "code",
   "execution_count": null,
   "metadata": {},
   "outputs": [],
   "source": [
    "eeg = raw.get_data(picks='EEG')[0]"
   ]
  },
  {
   "cell_type": "code",
   "execution_count": null,
   "metadata": {},
   "outputs": [],
   "source": [
    "X = eeg.reshape(-1,5000)\n",
    "y = np.array(pd.Categorical(df['label']).codes)\n",
    "X = torch.from_numpy(X).float()\n",
    "y = torch.from_numpy(y).reshape(-1,1).long()"
   ]
  },
  {
   "cell_type": "code",
   "execution_count": null,
   "metadata": {},
   "outputs": [],
   "source": [
    "X_train,X_test,y_train,y_test = train_test_split(X,y,test_size=.2,shuffle=True,stratify=y)"
   ]
  },
  {
   "cell_type": "code",
   "execution_count": 134,
   "metadata": {},
   "outputs": [],
   "source": [
    "class MLP(nn.Module):\n",
    "    def __init__(self) -> None:\n",
    "        super().__init__()\n",
    "        self.c1 = nn.Conv1d(in_channels=1,out_channels=1,kernel_size=3)\n",
    "        self.mp1 = nn.MaxPool1d(kernel_size=2)\n",
    "        self.c2 = nn.Conv1d(in_channels=1,out_channels=1,kernel_size=3)\n",
    "        self.mp2 = nn.MaxPool1d(kernel_size=2)\n",
    "        self.c3 = nn.Conv1d(in_channels=1,out_channels=1,kernel_size=3)\n",
    "        self.mp3 = nn.MaxPool1d(kernel_size=2)\n",
    "        self.flatten = nn.Flatten()\n",
    "        self.d1 = nn.Linear(623,3)\n",
    "\n",
    "    def forward(self,x):\n",
    "        x = self.c1(x)\n",
    "        x = self.mp1(x)\n",
    "        x = self.c2(x)\n",
    "        x = self.mp2(x)\n",
    "        x = self.c3(x)\n",
    "        x = self.mp3(x)\n",
    "        x = self.flatten(x)\n",
    "        x = self.d1(x)\n",
    "        return x\n",
    "model = MLP()\n",
    "criterion = nn.CrossEntropyLoss()\n",
    "optimizer = torch.optim.Adam(model.parameters())"
   ]
  },
  {
   "cell_type": "code",
   "execution_count": 135,
   "metadata": {},
   "outputs": [],
   "source": [
    "input = X_train[0]"
   ]
  },
  {
   "cell_type": "code",
   "execution_count": 136,
   "metadata": {},
   "outputs": [
    {
     "data": {
      "text/plain": [
       "[<matplotlib.lines.Line2D at 0x7fbdcb9ba770>]"
      ]
     },
     "execution_count": 136,
     "metadata": {},
     "output_type": "execute_result"
    },
    {
     "data": {
      "image/png": "[encoded data removed]",
      "text/plain": [
       "<Figure size 640x480 with 1 Axes>"
      ]
     },
     "metadata": {},
     "output_type": "display_data"
    }
   ],
   "source": [
    "output = model(input.reshape(-1,1,5000))\n",
    "plt.plot(output.squeeze().detach())"
   ]
  },
  {
   "cell_type": "code",
   "execution_count": 137,
   "metadata": {},
   "outputs": [
    {
     "data": {
      "text/plain": [
       "torch.Size([1, 3])"
      ]
     },
     "execution_count": 137,
     "metadata": {},
     "output_type": "execute_result"
    }
   ],
   "source": [
    "output.shape"
   ]
  },
  {
   "cell_type": "code",
   "execution_count": 138,
   "metadata": {},
   "outputs": [],
   "source": [
    "y_train_one_hot = one_hot(y_train,num_classes=3).reshape(-1,3).float()\n",
    "y_test_one_hot = one_hot(y_test,num_classes=3).reshape(-1,3).float()"
   ]
  },
  {
   "cell_type": "code",
   "execution_count": 139,
   "metadata": {},
   "outputs": [],
   "source": [
    "train_losses= []\n",
    "test_losses = []"
   ]
  },
  {
   "cell_type": "code",
   "execution_count": 140,
   "metadata": {},
   "outputs": [],
   "source": [
    "# X_train = X_train.cuda()\n",
    "# y_train_one_hot = y_train_one_hot.cuda()\n",
    "# X_test = X_test.cuda()\n",
    "# y_test_one_hot = y_test_one_hot.cuda()\n",
    "X_train = X_train.reshape(-1,1,5000)\n",
    "y_train_one_hot = y_train_one_hot\n",
    "X_test = X_test\n",
    "y_test_one_hot = y_test_one_hot"
   ]
  },
  {
   "cell_type": "code",
   "execution_count": 147,
   "metadata": {},
   "outputs": [
    {
     "name": "stdout",
     "output_type": "stream",
     "text": [
      "tensor(1.0855, grad_fn=<DivBackward1>)\n",
      "tensor(1.0789, grad_fn=<DivBackward1>)\n",
      "tensor(1.0698, grad_fn=<DivBackward1>)\n",
      "tensor(1.0585, grad_fn=<DivBackward1>)\n",
      "tensor(1.0450, grad_fn=<DivBackward1>)\n",
      "tensor(1.0297, grad_fn=<DivBackward1>)\n",
      "tensor(1.0129, grad_fn=<DivBackward1>)\n",
      "tensor(0.9951, grad_fn=<DivBackward1>)\n",
      "tensor(0.9768, grad_fn=<DivBackward1>)\n",
      "tensor(0.9587, grad_fn=<DivBackward1>)\n"
     ]
    }
   ],
   "source": [
    "for epoch in range(10):\n",
    "    logits = model(X_train)\n",
    "    loss = criterion(logits,y_train_one_hot)\n",
    "    optimizer.zero_grad()\n",
    "    loss.backward()\n",
    "    optimizer.step()\n",
    "    print(loss)\n",
    "    # train_losses.append(loss.item())\n",
    "    # test_logits = model(X_test)\n",
    "    # test_loss = criterion(test_logits,y_test_one_hot)\n",
    "    # test_losses.append(test_loss.item())"
   ]
  },
  {
   "cell_type": "code",
   "execution_count": null,
   "metadata": {},
   "outputs": [],
   "source": [
    "plt.plot(train_losses)\n",
    "plt.plot(test_losses)"
   ]
  },
  {
   "cell_type": "code",
   "execution_count": null,
   "metadata": {},
   "outputs": [],
   "source": [
    "y_pred_logits = model(X_test)\n",
    "sm = nn.Softmax(dim=1)\n",
    "y_pred = sm(y_pred_logits).argmax(axis=1)"
   ]
  },
  {
   "cell_type": "code",
   "execution_count": null,
   "metadata": {},
   "outputs": [],
   "source": [
    "y_test = y_test.numpy().squeeze()"
   ]
  },
  {
   "cell_type": "code",
   "execution_count": null,
   "metadata": {},
   "outputs": [],
   "source": [
    "cm = ConfusionMatrixDisplay(confusion_matrix(y_test,y_pred.cpu().numpy(),normalize='true'),display_labels=['P','S','W'])\n",
    "cm.plot()"
   ]
  }
 ],
 "metadata": {
  "kernelspec": {
   "display_name": "Python 3.10.6 64-bit",
   "language": "python",
   "name": "python3"
  },
  "language_info": {
   "codemirror_mode": {
    "name": "ipython",
    "version": 3
   },
   "file_extension": ".py",
   "mimetype": "text/x-python",
   "name": "python",
   "nbconvert_exporter": "python",
   "pygments_lexer": "ipython3",
   "version": "3.10.6"
  },
  "orig_nbformat": 4,
  "vscode": {
   "interpreter": {
    "hash": "916dbcbb3f70747c44a77c7bcd40155683ae19c65e1c03b4aa3499c5328201f1"
   }
  }
 },
 "nbformat": 4,
 "nbformat_minor": 2
}
