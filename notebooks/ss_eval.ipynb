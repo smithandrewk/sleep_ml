{
 "cells": [
  {
   "cell_type": "code",
   "execution_count": null,
   "metadata": {},
   "outputs": [],
   "source": [
    "from lib.utils import *\n",
    "from lib.models import *\n",
    "from lib.ekyn import *\n",
    "from lib.env import *\n",
    "from lib.datasets import *"
   ]
  },
  {
   "cell_type": "code",
   "execution_count": null,
   "metadata": {},
   "outputs": [],
   "source": [
    "testloader = DataLoader(Dataset2p0(dir='w9_ss/test',labels='w9_ss/y_test.pt'),batch_size=32,shuffle=True)\n",
    "\n",
    "print(f'testloader: {len(testloader)} batches')"
   ]
  },
  {
   "cell_type": "code",
   "execution_count": null,
   "metadata": {},
   "outputs": [],
   "source": [
    "criterion = torch.nn.CrossEntropyLoss()\n",
    "\n",
    "class Gandalf(nn.Module):\n",
    "    def __init__(self) -> None:\n",
    "        super().__init__()\n",
    "        self.encoder = Frodo(n_features=5000,device=DEVICE).to(DEVICE)\n",
    "        self.lstm = nn.LSTM(16,32)\n",
    "        self.fc1 = nn.Linear(32,3)\n",
    "    def forward(self,x_2d,classification=True):\n",
    "        x_2d = x_2d.view(-1,9,1,5000)\n",
    "        x = torch.Tensor().to(DEVICE)\n",
    "        for t in range(x_2d.size(1)):\n",
    "            xi = self.encoder(x_2d[:,t,:,:],classification=False)\n",
    "            x = torch.cat([x,xi.unsqueeze(0)],dim=0)\n",
    "        out,_ = self.lstm(x)\n",
    "        if(classification):\n",
    "            x = self.fc1(out[-1])\n",
    "        else:\n",
    "            x = out[-1]\n",
    "        return x\n",
    "model = Gandalf()\n",
    "model.load_state_dict(torch.load(f=f'../lstm_w9_ss/best_model.pt'))\n",
    "model.to(DEVICE)"
   ]
  },
  {
   "cell_type": "code",
   "execution_count": null,
   "metadata": {},
   "outputs": [],
   "source": [
    "loss,metrics,y_true,y_pred,_ = evaluate(testloader,model,criterion,DEVICE)"
   ]
  },
  {
   "cell_type": "code",
   "execution_count": null,
   "metadata": {},
   "outputs": [],
   "source": [
    "\n",
    "cm_grid(y_true=y_true,y_pred=y_pred,save_path='cm.pgf')\n",
    "print(metrics)\n",
    "print(loss)"
   ]
  },
  {
   "cell_type": "code",
   "execution_count": null,
   "metadata": {},
   "outputs": [],
   "source": [
    "with torch.no_grad():\n",
    "    y_true = torch.Tensor()\n",
    "    y_pred = torch.Tensor()\n",
    "    y_logits = torch.Tensor()\n",
    "    X_all = torch.Tensor()\n",
    "    loss_total = 0\n",
    "    # for (Xi,yi) in tqdm(testloader):\n",
    "    for i in range(200):\n",
    "        Xi,yi = next(iter(testloader))\n",
    "        y_true = torch.cat([y_true,yi.argmax(axis=1)])\n",
    "\n",
    "        Xi,yi = Xi.to(DEVICE),yi.to(DEVICE)\n",
    "        logits = model(Xi,classification=False)\n",
    "        # loss = criterion(logits,yi)\n",
    "        # loss_total += loss.item()\n",
    "        \n",
    "        # y_logits = torch.cat([y_logits,torch.softmax(logits,dim=1).detach().cpu()])\n",
    "        y_logits = torch.cat([y_logits,logits.detach().cpu()])\n",
    "        X_all = torch.cat([X_all,Xi.detach().cpu()])\n",
    "        # y_pred = torch.cat([y_pred,torch.softmax(logits,dim=1).argmax(axis=1).detach().cpu()])\n"
   ]
  },
  {
   "cell_type": "code",
   "execution_count": null,
   "metadata": {},
   "outputs": [],
   "source": [
    "from sklearn.manifold import TSNE\n",
    "tsne = TSNE(n_components=2,init='pca')\n",
    "logits_tsne = tsne.fit_transform(y_logits.detach().cpu())"
   ]
  },
  {
   "cell_type": "code",
   "execution_count": null,
   "metadata": {},
   "outputs": [],
   "source": [
    "df = pd.DataFrame(logits_tsne)\n",
    "df['y'] = y_true\n",
    "sns.scatterplot(data=df,x=0,y=1,hue='y')\n",
    "plt.savefig('tsne.jpg')"
   ]
  },
  {
   "cell_type": "code",
   "execution_count": null,
   "metadata": {},
   "outputs": [],
   "source": [
    "tsne = TSNE(n_components=2,init='pca')\n",
    "logits_tsne = tsne.fit_transform(X_all.detach().cpu())"
   ]
  },
  {
   "cell_type": "code",
   "execution_count": null,
   "metadata": {},
   "outputs": [],
   "source": [
    "df = pd.DataFrame(logits_tsne)\n",
    "df['y'] = y_true\n",
    "sns.scatterplot(data=df,x=0,y=1,hue='y')\n",
    "plt.savefig('tsne_raw.jpg')"
   ]
  }
 ],
 "metadata": {
  "kernelspec": {
   "display_name": "Python 3.10.6 64-bit",
   "language": "python",
   "name": "python3"
  },
  "language_info": {
   "codemirror_mode": {
    "name": "ipython",
    "version": 3
   },
   "file_extension": ".py",
   "mimetype": "text/x-python",
   "name": "python",
   "nbconvert_exporter": "python",
   "pygments_lexer": "ipython3",
   "version": "3.10.6"
  },
  "orig_nbformat": 4,
  "vscode": {
   "interpreter": {
    "hash": "916dbcbb3f70747c44a77c7bcd40155683ae19c65e1c03b4aa3499c5328201f1"
   }
  }
 },
 "nbformat": 4,
 "nbformat_minor": 2
}
