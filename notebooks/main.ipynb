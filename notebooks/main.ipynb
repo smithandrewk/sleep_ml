{
 "cells": [
  {
   "cell_type": "code",
   "execution_count": null,
   "metadata": {},
   "outputs": [],
   "source": [
    "from lib.utils import load_raw_list\n",
    "import pandas as pd\n",
    "from tqdm import tqdm\n",
    "import torch\n",
    "import os\n",
    "\n",
    "from torch import nn\n",
    "from torch.nn.functional import relu,one_hot\n",
    "from sklearn.model_selection import train_test_split\n",
    "from lib.datasets import WindowedEEGDataset\n",
    "from torch.utils.data import TensorDataset,DataLoader\n",
    "\n",
    "device = 'cuda'"
   ]
  },
  {
   "cell_type": "code",
   "execution_count": null,
   "metadata": {},
   "outputs": [],
   "source": [
    "train_idx,dev_idx = train_test_split(range(len(os.listdir('windowed'))),test_size=.2,shuffle=True,random_state=0)"
   ]
  },
  {
   "cell_type": "code",
   "execution_count": null,
   "metadata": {},
   "outputs": [],
   "source": [
    "trainloader = DataLoader(WindowedEEGDataset(f'windowed',train_idx),batch_size=128,shuffle=True)\n",
    "devloader = DataLoader(WindowedEEGDataset(f'windowed',dev_idx),batch_size=128,shuffle=True)"
   ]
  },
  {
   "cell_type": "code",
   "execution_count": null,
   "metadata": {},
   "outputs": [],
   "source": [
    "class MLP(nn.Module):\n",
    "    def __init__(self) -> None:\n",
    "        super().__init__()\n",
    "        self.fc1 = nn.Linear(15000,128)\n",
    "        self.fc2 = nn.Linear(128,3)\n",
    "    def forward(self,x):\n",
    "        x = self.fc1(x)\n",
    "        x = relu(x)\n",
    "        x = self.fc2(x)\n",
    "        return x"
   ]
  },
  {
   "cell_type": "code",
   "execution_count": null,
   "metadata": {},
   "outputs": [],
   "source": [
    "model = MLP().to(device=device)\n",
    "criterion = nn.CrossEntropyLoss()\n",
    "optimizer = torch.optim.Adam(model.parameters(),lr=3e-4)"
   ]
  },
  {
   "cell_type": "code",
   "execution_count": null,
   "metadata": {},
   "outputs": [],
   "source": [
    "loss_tr = []\n",
    "loss_dev = []"
   ]
  },
  {
   "cell_type": "code",
   "execution_count": null,
   "metadata": {},
   "outputs": [],
   "source": [
    "for i in tqdm(range(100)):\n",
    "    model.train()\n",
    "    loss_tr_total = 0\n",
    "    for (X_tr,y_tr) in trainloader:\n",
    "        X_tr,y_tr = X_tr.to(device),y_tr.to(device)\n",
    "        logits = model(X_tr)\n",
    "        loss = criterion(logits,y_tr)\n",
    "        optimizer.zero_grad()\n",
    "        loss.backward()\n",
    "        optimizer.step()\n",
    "        loss_tr_total += loss.item()\n",
    "    loss_tr.append(loss_tr_total/len(trainloader))\n",
    "    model.eval()\n",
    "    loss_dev_total = 0\n",
    "    for (X_dv,y_dv) in devloader:\n",
    "        X_dv,y_dv = X_dv.to(device),y_dv.to(device)\n",
    "        logits = model(X_dv)\n",
    "        loss = criterion(logits,y_dv)\n",
    "        optimizer.zero_grad()\n",
    "        loss.backward()\n",
    "        optimizer.step()\n",
    "        loss_dev_total += loss.item()\n",
    "    loss_dev.append(loss_dev_total/len(devloader))"
   ]
  },
  {
   "cell_type": "code",
   "execution_count": null,
   "metadata": {},
   "outputs": [],
   "source": [
    "import matplotlib.pyplot as plt\n",
    "plt.plot(loss_tr)\n",
    "plt.plot(loss_dev)"
   ]
  }
 ],
 "metadata": {
  "kernelspec": {
   "display_name": "Python 3.10.6 64-bit",
   "language": "python",
   "name": "python3"
  },
  "language_info": {
   "codemirror_mode": {
    "name": "ipython",
    "version": 3
   },
   "file_extension": ".py",
   "mimetype": "text/x-python",
   "name": "python",
   "nbconvert_exporter": "python",
   "pygments_lexer": "ipython3",
   "version": "3.10.6"
  },
  "orig_nbformat": 4,
  "vscode": {
   "interpreter": {
    "hash": "916dbcbb3f70747c44a77c7bcd40155683ae19c65e1c03b4aa3499c5328201f1"
   }
  }
 },
 "nbformat": 4,
 "nbformat_minor": 2
}
