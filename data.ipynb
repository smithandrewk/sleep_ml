{
 "cells": [
  {
   "cell_type": "code",
   "execution_count": 2,
   "metadata": {},
   "outputs": [
    {
     "data": {
      "text/plain": [
       "(torch.Size([8640, 5000]), torch.Size([8640, 3]))"
      ]
     },
     "execution_count": 2,
     "metadata": {},
     "output_type": "execute_result"
    }
   ],
   "source": [
    "from lib.ekyn import *\n",
    "from sage.utils import *\n",
    "from sage.models import *\n",
    "\n",
    "sequence_length = 3\n",
    "id = 'A1-1'\n",
    "condition = 'Vehicle'\n",
    "\n",
    "X,y = load_ekyn_pt(id=id,condition=condition)\n",
    "X.shape,y.shape"
   ]
  },
  {
   "cell_type": "code",
   "execution_count": 6,
   "metadata": {},
   "outputs": [],
   "source": [
    "# Assuming X.shape is (num_samples, num_features) and y.shape is (num_samples, num_classes)\n",
    "num_features = X.shape[1]\n",
    "num_classes = y.shape[1]"
   ]
  },
  {
   "cell_type": "code",
   "execution_count": 7,
   "metadata": {},
   "outputs": [],
   "source": [
    "# Pad the sequence\n",
    "X = torch.cat([torch.zeros(sequence_length // 2, num_features), X, torch.zeros(sequence_length // 2, num_features)]).unsqueeze(1)\n",
    "y = torch.cat([torch.zeros(sequence_length // 2, num_classes), y, torch.zeros(sequence_length // 2, num_classes)])"
   ]
  },
  {
   "cell_type": "code",
   "execution_count": 8,
   "metadata": {},
   "outputs": [
    {
     "data": {
      "text/plain": [
       "(torch.Size([8642, 1, 5000]), torch.Size([8642, 3]))"
      ]
     },
     "execution_count": 8,
     "metadata": {},
     "output_type": "execute_result"
    }
   ],
   "source": [
    "X.shape,y.shape"
   ]
  },
  {
   "cell_type": "code",
   "execution_count": null,
   "metadata": {},
   "outputs": [],
   "source": [
    "from lib.ekyn import *\n",
    "from sage.utils import *\n",
    "from sage.models import *\n",
    "\n",
    "class SequencedDatasetv2(torch.utils.data.Dataset):\n",
    "    def __init__(self, id, condition, sequence_length, stride=1):\n",
    "        self.sequence_length = sequence_length\n",
    "        # X, y = load_ekyn_pt_robust(id=id, condition=condition, downsampled=True)\n",
    "        X,y = load_ekyn_pt(id=id,condition=condition)\n",
    "        \n",
    "        # Assuming X.shape is (num_samples, num_features) and y.shape is (num_samples, num_classes)\n",
    "        num_features = X.shape[1]\n",
    "        num_classes = y.shape[1]\n",
    "        \n",
    "        # Pad the sequence\n",
    "        self.X = torch.cat([torch.zeros(sequence_length // 2, num_features), X, torch.zeros(sequence_length // 2, num_features)]).unsqueeze(1)\n",
    "        self.y = torch.cat([torch.zeros(sequence_length // 2, num_classes), y, torch.zeros(sequence_length // 2, num_classes)])\n",
    "        \n",
    "        self.stride = stride\n",
    "        self.sequences = []\n",
    "        self.labels = []\n",
    "        for i in range(0, len(self.y) - sequence_length, stride):\n",
    "            self.sequences.append(self.X[i:i + sequence_length])\n",
    "            self.labels.append(self.y[i + sequence_length // 2])\n",
    "        \n",
    "        self.sequences = torch.stack(self.sequences)\n",
    "        self.labels = torch.stack(self.labels)\n",
    "        \n",
    "    def __len__(self):\n",
    "        return len(self.labels)\n",
    "    \n",
    "    def __getitem__(self, idx):\n",
    "        return self.sequences[idx], self.labels[idx]\n",
    "    \n",
    "def get_sequenced_dataloaders(batch_size=512,shuffle_train=True,shuffle_test=False,sequence_length=3,stride=1):\n",
    "    from sklearn.model_selection import train_test_split\n",
    "    ekyn_ids = get_ekyn_ids()\n",
    "\n",
    "    train_ids,test_ids = train_test_split(ekyn_ids,test_size=.2,shuffle=True,random_state=0)\n",
    "\n",
    "    from torch.utils.data import DataLoader,ConcatDataset\n",
    "    trainloader = DataLoader(\n",
    "            dataset=ConcatDataset(\n",
    "            [SequencedDatasetv2(id=id,condition=condition,sequence_length=sequence_length,stride=stride) for id in train_ids for condition in ['Vehicle','PF']] \n",
    "            ),\n",
    "            batch_size=batch_size,\n",
    "            shuffle=shuffle_train,\n",
    "            num_workers=1\n",
    "        )\n",
    "    testloader = DataLoader(\n",
    "            dataset=ConcatDataset(\n",
    "            [SequencedDatasetv2(id=id,condition=condition,sequence_length=sequence_length,stride=1) for id in test_ids for condition in ['Vehicle','PF']] \n",
    "            ),\n",
    "            batch_size=batch_size,\n",
    "            shuffle=shuffle_test,\n",
    "            num_workers=1\n",
    "        )\n",
    "    return trainloader,testloader\n",
    "\n",
    "trainloader,testloader = get_sequenced_dataloaders(batch_size=512,sequence_length=3,stride=1)"
   ]
  }
 ],
 "metadata": {
  "kernelspec": {
   "display_name": "Python 3",
   "language": "python",
   "name": "python3"
  },
  "language_info": {
   "codemirror_mode": {
    "name": "ipython",
    "version": 3
   },
   "file_extension": ".py",
   "mimetype": "text/x-python",
   "name": "python",
   "nbconvert_exporter": "python",
   "pygments_lexer": "ipython3",
   "version": "3.10.12"
  }
 },
 "nbformat": 4,
 "nbformat_minor": 2
}
