{
 "cells": [
  {
   "cell_type": "code",
   "execution_count": 40,
   "metadata": {},
   "outputs": [],
   "source": [
    "from lib.ekyn import *\n",
    "from lib.utils import *\n",
    "from lib.env import *\n",
    "from lib.models import MLP\n",
    "\n",
    "from sklearn.model_selection import train_test_split\n",
    "import joblib\n",
    "\n",
    "from lib.datasets import Dataset2p0\n",
    "from torch.utils.data import DataLoader,TensorDataset\n",
    "import torch\n",
    "from torch import nn\n",
    "from tqdm import tqdm\n",
    "import matplotlib.pyplot as plt\n",
    "import pandas as pd\n",
    "from sklearn.neural_network import MLPClassifier\n",
    "from lib.utils import UniformRandomClassifier,ProportionalRandomClassifier"
   ]
  },
  {
   "cell_type": "code",
   "execution_count": 42,
   "metadata": {},
   "outputs": [],
   "source": [
    "X,y = load_psd_label_pairs_windowed(get_ekyn_ids())\n",
    "X_train,X_test,y_train,y_test = train_test_split(X,y,test_size=.2,shuffle=True,random_state=0)\n",
    "X_train,X_dev,y_train,y_dev = train_test_split(X_train,y_train,test_size=.25,shuffle=True,random_state=0)\n",
    "trainloader = DataLoader(TensorDataset(X_train,y_train),batch_size=32,shuffle=True)\n",
    "devloader = DataLoader(TensorDataset(X_dev,y_dev),batch_size=32,shuffle=True)\n",
    "testloader = DataLoader(TensorDataset(X_test,y_test),batch_size=32,shuffle=True)"
   ]
  },
  {
   "cell_type": "code",
   "execution_count": 43,
   "metadata": {},
   "outputs": [],
   "source": [
    "class CustomMLP(nn.Module):\n",
    "    \"\"\"\n",
    "    MLP according to Wang et. al (proposed as \n",
    "    a baseline architecture for TSC)\n",
    "    \"\"\"\n",
    "    def __init__(self,input_size=5000,hidden_sizes=(500,500,500)) -> None:\n",
    "        super().__init__()\n",
    "        self.fc1 = nn.Linear(input_size,hidden_sizes[0])\n",
    "        self.fc2 = nn.Linear(hidden_sizes[0],3)\n",
    "\n",
    "    def forward(self,x):\n",
    "        x = self.fc1(x)\n",
    "        x = relu(x)\n",
    "        x = self.fc2(x)\n",
    "        return x"
   ]
  },
  {
   "cell_type": "code",
   "execution_count": 66,
   "metadata": {},
   "outputs": [],
   "source": [
    "model = CustomMLP(input_size=210,hidden_sizes=(512,)).to(DEVICE)\n",
    "criterion = nn.CrossEntropyLoss()\n",
    "optimizer = torch.optim.Adam(model.parameters(),lr=3e-4)"
   ]
  },
  {
   "cell_type": "code",
   "execution_count": 67,
   "metadata": {},
   "outputs": [],
   "source": [
    "loss_tr = []\n",
    "loss_dev = []"
   ]
  },
  {
   "cell_type": "code",
   "execution_count": 68,
   "metadata": {},
   "outputs": [
    {
     "name": "stderr",
     "output_type": "stream",
     "text": [
      "100%|██████████| 5184/5184 [00:05<00:00, 882.79it/s] \n",
      "100%|██████████| 5184/5184 [00:04<00:00, 1157.65it/s]\n",
      "100%|██████████| 5184/5184 [00:04<00:00, 1142.67it/s]\n",
      "100%|██████████| 5184/5184 [00:03<00:00, 1382.87it/s]\n",
      "100%|██████████| 5184/5184 [00:03<00:00, 1418.69it/s]\n",
      "100%|██████████| 5184/5184 [00:03<00:00, 1419.55it/s]\n",
      "100%|██████████| 5184/5184 [00:03<00:00, 1419.56it/s]\n",
      "100%|██████████| 5184/5184 [00:03<00:00, 1418.19it/s]\n",
      "100%|██████████| 5184/5184 [00:04<00:00, 1125.09it/s]\n",
      "100%|██████████| 5184/5184 [00:04<00:00, 1122.80it/s]\n",
      "100%|██████████| 5184/5184 [00:03<00:00, 1346.18it/s]\n",
      "100%|██████████| 5184/5184 [00:03<00:00, 1343.22it/s]\n",
      "100%|██████████| 5184/5184 [00:03<00:00, 1329.00it/s]\n",
      "100%|██████████| 5184/5184 [00:04<00:00, 1293.82it/s]\n",
      "100%|██████████| 5184/5184 [00:03<00:00, 1359.10it/s]\n",
      "100%|██████████| 5184/5184 [00:03<00:00, 1400.63it/s]\n",
      "100%|██████████| 5184/5184 [00:03<00:00, 1416.65it/s]\n",
      "100%|██████████| 5184/5184 [00:03<00:00, 1411.69it/s]\n",
      "100%|██████████| 5184/5184 [00:03<00:00, 1427.77it/s]\n",
      "100%|██████████| 5184/5184 [00:03<00:00, 1415.64it/s]\n",
      "100%|██████████| 5184/5184 [00:03<00:00, 1433.30it/s]\n",
      "100%|██████████| 5184/5184 [00:03<00:00, 1428.04it/s]\n",
      "100%|██████████| 5184/5184 [00:03<00:00, 1408.34it/s]\n",
      "100%|██████████| 5184/5184 [00:03<00:00, 1389.12it/s]\n",
      "100%|██████████| 5184/5184 [00:03<00:00, 1353.40it/s]\n",
      "100%|██████████| 5184/5184 [00:03<00:00, 1397.36it/s]\n",
      "100%|██████████| 5184/5184 [00:03<00:00, 1408.88it/s]\n",
      "100%|██████████| 5184/5184 [00:03<00:00, 1405.45it/s]\n",
      "100%|██████████| 5184/5184 [00:03<00:00, 1412.83it/s]\n",
      "100%|██████████| 5184/5184 [00:03<00:00, 1407.59it/s]\n",
      "100%|██████████| 5184/5184 [00:03<00:00, 1404.99it/s]\n",
      "100%|██████████| 5184/5184 [00:03<00:00, 1411.08it/s]\n",
      "100%|██████████| 5184/5184 [00:03<00:00, 1435.04it/s]\n",
      "100%|██████████| 5184/5184 [00:03<00:00, 1424.40it/s]\n",
      "100%|██████████| 5184/5184 [00:03<00:00, 1412.03it/s]\n",
      "100%|██████████| 5184/5184 [00:03<00:00, 1364.65it/s]\n",
      "100%|██████████| 5184/5184 [00:03<00:00, 1391.80it/s]\n",
      "100%|██████████| 5184/5184 [00:03<00:00, 1446.68it/s]\n",
      "100%|██████████| 5184/5184 [00:03<00:00, 1393.17it/s]\n",
      "100%|██████████| 5184/5184 [00:03<00:00, 1408.44it/s]\n",
      "100%|██████████| 5184/5184 [00:03<00:00, 1437.93it/s]\n",
      "100%|██████████| 5184/5184 [00:03<00:00, 1403.63it/s]\n",
      "100%|██████████| 5184/5184 [00:03<00:00, 1419.02it/s]\n",
      "100%|██████████| 5184/5184 [00:03<00:00, 1367.87it/s]\n",
      "100%|██████████| 5184/5184 [00:03<00:00, 1408.86it/s]\n",
      "100%|██████████| 5184/5184 [00:03<00:00, 1319.45it/s]\n",
      "100%|██████████| 5184/5184 [00:03<00:00, 1439.52it/s]\n",
      "100%|██████████| 5184/5184 [00:03<00:00, 1403.09it/s]\n",
      "100%|██████████| 5184/5184 [00:04<00:00, 1131.82it/s]\n",
      "100%|██████████| 5184/5184 [00:04<00:00, 1130.37it/s]\n",
      "100%|██████████| 5184/5184 [00:03<00:00, 1369.83it/s]\n",
      "100%|██████████| 5184/5184 [00:03<00:00, 1324.02it/s]\n",
      "100%|██████████| 5184/5184 [00:03<00:00, 1350.54it/s]\n",
      "100%|██████████| 5184/5184 [00:03<00:00, 1331.91it/s]\n",
      "100%|██████████| 5184/5184 [00:03<00:00, 1377.20it/s]\n",
      "100%|██████████| 5184/5184 [00:03<00:00, 1378.63it/s]\n",
      "100%|██████████| 5184/5184 [00:03<00:00, 1330.85it/s]\n",
      "100%|██████████| 5184/5184 [00:03<00:00, 1396.95it/s]\n",
      "100%|██████████| 5184/5184 [00:03<00:00, 1388.17it/s]\n",
      "100%|██████████| 5184/5184 [00:03<00:00, 1386.31it/s]\n",
      "100%|██████████| 5184/5184 [00:03<00:00, 1388.02it/s]\n",
      "100%|██████████| 5184/5184 [00:03<00:00, 1383.12it/s]\n",
      "100%|██████████| 5184/5184 [00:03<00:00, 1368.83it/s]\n",
      "100%|██████████| 5184/5184 [00:03<00:00, 1354.27it/s]\n",
      "100%|██████████| 5184/5184 [00:03<00:00, 1348.54it/s]\n",
      "100%|██████████| 5184/5184 [00:03<00:00, 1374.73it/s]\n",
      "100%|██████████| 5184/5184 [00:03<00:00, 1357.05it/s]\n",
      "100%|██████████| 5184/5184 [00:03<00:00, 1363.83it/s]\n",
      "100%|██████████| 5184/5184 [00:03<00:00, 1368.78it/s]\n",
      "100%|██████████| 5184/5184 [00:03<00:00, 1376.56it/s]\n",
      "100%|██████████| 5184/5184 [00:03<00:00, 1377.00it/s]\n",
      "100%|██████████| 5184/5184 [00:03<00:00, 1365.24it/s]\n",
      "100%|██████████| 5184/5184 [00:03<00:00, 1390.79it/s]\n",
      "100%|██████████| 5184/5184 [00:03<00:00, 1356.75it/s]\n",
      "100%|██████████| 5184/5184 [00:03<00:00, 1319.31it/s]\n",
      "100%|██████████| 5184/5184 [00:03<00:00, 1359.14it/s]\n",
      "100%|██████████| 5184/5184 [00:04<00:00, 1252.70it/s]\n",
      "100%|██████████| 5184/5184 [00:04<00:00, 1283.10it/s]\n",
      "100%|██████████| 5184/5184 [00:03<00:00, 1377.33it/s]\n",
      "100%|██████████| 5184/5184 [00:04<00:00, 1088.46it/s]\n",
      "100%|██████████| 5184/5184 [00:04<00:00, 1263.10it/s]\n",
      "100%|██████████| 5184/5184 [00:04<00:00, 1187.06it/s]\n",
      "100%|██████████| 5184/5184 [00:03<00:00, 1369.27it/s]\n",
      "100%|██████████| 5184/5184 [00:03<00:00, 1301.04it/s]\n",
      "100%|██████████| 5184/5184 [00:03<00:00, 1360.33it/s]\n",
      "100%|██████████| 5184/5184 [00:04<00:00, 1240.09it/s]\n",
      "100%|██████████| 5184/5184 [00:03<00:00, 1404.65it/s]\n",
      "100%|██████████| 5184/5184 [00:03<00:00, 1330.00it/s]\n",
      "100%|██████████| 5184/5184 [00:03<00:00, 1381.78it/s]\n",
      "100%|██████████| 5184/5184 [00:03<00:00, 1402.26it/s]\n",
      "100%|██████████| 5184/5184 [00:03<00:00, 1427.83it/s]\n",
      "100%|██████████| 5184/5184 [00:03<00:00, 1365.95it/s]\n",
      "100%|██████████| 5184/5184 [00:04<00:00, 1244.46it/s]\n",
      "100%|██████████| 5184/5184 [00:03<00:00, 1348.65it/s]\n",
      "100%|██████████| 5184/5184 [00:03<00:00, 1386.67it/s]\n",
      "100%|██████████| 5184/5184 [00:03<00:00, 1358.82it/s]\n",
      "100%|██████████| 5184/5184 [00:04<00:00, 1295.74it/s]\n",
      "100%|██████████| 5184/5184 [00:03<00:00, 1366.11it/s]\n",
      "100%|██████████| 5184/5184 [00:04<00:00, 1171.75it/s]\n",
      "100%|██████████| 5184/5184 [00:04<00:00, 1208.53it/s]\n"
     ]
    }
   ],
   "source": [
    "model.train()\n",
    "\n",
    "for i in range(100):\n",
    "    loss_tr_total = 0\n",
    "\n",
    "    for (X_tr,y_tr) in tqdm(trainloader):\n",
    "        X_tr,y_tr = X_tr.to(DEVICE),y_tr.to(DEVICE)\n",
    "        logits = model(X_tr)\n",
    "        loss = criterion(logits,y_tr)\n",
    "        optimizer.zero_grad()\n",
    "        loss.backward()\n",
    "        optimizer.step()\n",
    "        loss_tr_total += loss.item()\n",
    "    loss_tr.append(loss_tr_total/len(trainloader))\n",
    "\n",
    "    with torch.no_grad():\n",
    "        loss_dev_total = 0\n",
    "        for (X_dv,y_dv) in devloader:\n",
    "            X_dv,y_dv = X_dv.to(DEVICE),y_dv.to(DEVICE)\n",
    "            logits = model(X_dv)\n",
    "            loss = criterion(logits,y_dv)\n",
    "            loss_dev_total += loss.item()\n",
    "        loss_dev.append(loss_dev_total/len(devloader))\n",
    "    plt.plot(loss_tr[-20:])\n",
    "    plt.plot(loss_dev[-20:])\n",
    "    plt.savefig('loss.jpg')\n",
    "    plt.close()"
   ]
  },
  {
   "cell_type": "code",
   "execution_count": 58,
   "metadata": {},
   "outputs": [
    {
     "name": "stdout",
     "output_type": "stream",
     "text": [
      "0.29031763265676863\n"
     ]
    },
    {
     "data": {
      "text/plain": [
       "{'precision': 0.869121553299911,\n",
       " 'recall': 0.8400740661947728,\n",
       " 'f1': 0.8534581417780625}"
      ]
     },
     "execution_count": 58,
     "metadata": {},
     "output_type": "execute_result"
    },
    {
     "data": {
      "image/png": "[encoded data removed]",
      "text/plain": [
       "<Figure size 500x500 with 4 Axes>"
      ]
     },
     "metadata": {},
     "output_type": "display_data"
    }
   ],
   "source": [
    "loss,metrics,y_true,y_pred,y_logits = evaluate(testloader,model,criterion)\n",
    "cm_grid(y_true,y_pred)\n",
    "# {'precision': 0.869121553299911,\n",
    "#  'recall': 0.8400740661947728,\n",
    "#  'f1': 0.8534581417780625}\n",
    "print(loss)\n",
    "metrics"
   ]
  },
  {
   "cell_type": "code",
   "execution_count": 59,
   "metadata": {},
   "outputs": [
    {
     "data": {
      "text/plain": [
       "['psd_MLP_shuffle_split.joblib']"
      ]
     },
     "execution_count": 59,
     "metadata": {},
     "output_type": "execute_result"
    }
   ],
   "source": [
    "joblib.dump(model,'psd_MLP_shuffle_split.joblib')"
   ]
  }
 ],
 "metadata": {
  "kernelspec": {
   "display_name": "Python 3.10.6 64-bit",
   "language": "python",
   "name": "python3"
  },
  "language_info": {
   "codemirror_mode": {
    "name": "ipython",
    "version": 3
   },
   "file_extension": ".py",
   "mimetype": "text/x-python",
   "name": "python",
   "nbconvert_exporter": "python",
   "pygments_lexer": "ipython3",
   "version": "3.10.6"
  },
  "orig_nbformat": 4,
  "vscode": {
   "interpreter": {
    "hash": "916dbcbb3f70747c44a77c7bcd40155683ae19c65e1c03b4aa3499c5328201f1"
   }
  }
 },
 "nbformat": 4,
 "nbformat_minor": 2
}
