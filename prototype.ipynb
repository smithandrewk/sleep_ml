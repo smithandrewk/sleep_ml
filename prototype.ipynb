{
 "cells": [
  {
   "cell_type": "code",
   "execution_count": null,
   "metadata": {},
   "outputs": [],
   "source": [
    "from lib.utils import *\n",
    "from lib.models import *\n",
    "from lib.ekyn import *\n",
    "from lib.env import *\n",
    "from lib.datasets import *"
   ]
  },
  {
   "cell_type": "code",
   "execution_count": null,
   "metadata": {},
   "outputs": [],
   "source": [
    "trainloader = DataLoader(Dataset2p0(dir='w9_ss/train',labels='w9_ss/y_train.pt'),batch_size=32,shuffle=True)\n",
    "devloader = DataLoader(Dataset2p0(dir='w9_ss/dev',labels='w9_ss/y_dev.pt'),batch_size=32,shuffle=True)"
   ]
  },
  {
   "cell_type": "code",
   "execution_count": null,
   "metadata": {},
   "outputs": [],
   "source": [
    "class Andrew(nn.Module):\n",
    "    def __init__(self,device,windowsize) -> None:\n",
    "        super().__init__()\n",
    "        self.device = device\n",
    "        self.windowsize = windowsize\n",
    "        self.encoder = Frodo(n_features=5000,device=device).to(device)\n",
    "        self.lstm = nn.LSTM(16,32,bidirectional=True)\n",
    "        self.fc1 = nn.Linear(64,3)\n",
    "    def forward(self,x_2d,classification=True):\n",
    "        x_2d = x_2d.view(-1,self.windowsize,1,5000)\n",
    "        x = torch.Tensor().to(self.device)\n",
    "        for t in range(x_2d.size(1)):\n",
    "            xi = self.encoder(x_2d[:,t,:,:],classification=False)\n",
    "            x = torch.cat([x,xi.unsqueeze(0)],dim=0)\n",
    "        out,_ = self.lstm(x)\n",
    "        if(classification):\n",
    "            x = self.fc1(out[-1])\n",
    "        else:\n",
    "            x = out[-1]\n",
    "        return x\n",
    "model = Andrew(device=DEVICE,windowsize=9).to(DEVICE)"
   ]
  },
  {
   "cell_type": "code",
   "execution_count": null,
   "metadata": {},
   "outputs": [],
   "source": [
    "X,y = next(iter(devloader))\n",
    "X,y = X.to(DEVICE),y.to(DEVICE)\n",
    "X = X.view(-1,9,1,5000)\n",
    "x = torch.Tensor().to(DEVICE)\n",
    "for t in range(X.size(1)):\n",
    "    xi = model.encoder(X[:,t,:,:],classification=False)\n",
    "    x = torch.cat([x,xi.unsqueeze(0)],dim=0)\n",
    "o,_ = model.lstm(x)\n",
    "o[-1].shape"
   ]
  },
  {
   "cell_type": "code",
   "execution_count": null,
   "metadata": {},
   "outputs": [],
   "source": [
    "criterion = torch.nn.CrossEntropyLoss()\n",
    "optimizer = torch.optim.Adam(model.parameters(),lr=3e-4)\n",
    "params = sum([p.flatten().size()[0] for p in list(model.parameters())])\n",
    "print(\"Params: \",params)"
   ]
  },
  {
   "cell_type": "code",
   "execution_count": null,
   "metadata": {},
   "outputs": [],
   "source": [
    "model.train()\n",
    "for (X_tr,y_tr) in tqdm(trainloader):\n",
    "    X_tr,y_tr = X_tr.to(DEVICE),y_tr.to(DEVICE)\n",
    "    logits = model(X_tr)\n",
    "    loss = criterion(logits,y_tr)\n",
    "    optimizer.zero_grad()\n",
    "    loss.backward()\n",
    "    optimizer.step()"
   ]
  },
  {
   "cell_type": "code",
   "execution_count": null,
   "metadata": {},
   "outputs": [],
   "source": [
    "loss"
   ]
  },
  {
   "cell_type": "code",
   "execution_count": null,
   "metadata": {},
   "outputs": [],
   "source": [
    "optimization_loop(model,trainloader,devloader,criterion,optimizer,epochs=20,DEVICE=DEVICE)"
   ]
  },
  {
   "cell_type": "code",
   "execution_count": null,
   "metadata": {},
   "outputs": [],
   "source": [
    "loss,metrics,y_true,y_pred,logits = evaluate(devloader,model,criterion,DEVICE)\n",
    "cm_grid(y_true=y_true,y_pred=y_pred)\n",
    "print(metrics) \n",
    "print(loss)"
   ]
  },
  {
   "cell_type": "code",
   "execution_count": null,
   "metadata": {},
   "outputs": [],
   "source": [
    "with torch.no_grad():\n",
    "    y_true = torch.Tensor()\n",
    "    y_pred = torch.Tensor()\n",
    "    y_logits = torch.Tensor()\n",
    "    loss_total = 0\n",
    "    for (Xi,yi) in devloader:\n",
    "        y_true = torch.cat([y_true,yi.argmax(axis=1)])\n",
    "\n",
    "        Xi,yi = Xi.to(DEVICE),yi.to(DEVICE)\n",
    "        logits = model(Xi,classification=False)\n",
    "        # loss = criterion(logits,yi)\n",
    "        # loss_total += loss.item()\n",
    "        \n",
    "        y_logits = torch.cat([y_logits,torch.softmax(logits,dim=1).detach().cpu()])\n",
    "        # y_pred = torch.cat([y_pred,torch.softmax(logits,dim=1).argmax(axis=1).detach().cpu()])\n"
   ]
  },
  {
   "cell_type": "code",
   "execution_count": null,
   "metadata": {},
   "outputs": [],
   "source": [
    "from sklearn.manifold import TSNE\n",
    "tsne = TSNE(n_components=2)\n",
    "# logits_tsne = tsne.fit_transform(X_dev)\n",
    "logits_tsne = tsne.fit_transform(y_logits.detach().cpu())\n",
    "df = pd.DataFrame(logits_tsne)\n",
    "df['y'] = y_true\n",
    "sns.scatterplot(data=df,x=0,y=1,hue='y')"
   ]
  }
 ],
 "metadata": {
  "kernelspec": {
   "display_name": "Python 3.10.6 64-bit",
   "language": "python",
   "name": "python3"
  },
  "language_info": {
   "codemirror_mode": {
    "name": "ipython",
    "version": 3
   },
   "file_extension": ".py",
   "mimetype": "text/x-python",
   "name": "python",
   "nbconvert_exporter": "python",
   "pygments_lexer": "ipython3",
   "version": "3.10.6"
  },
  "orig_nbformat": 4,
  "vscode": {
   "interpreter": {
    "hash": "916dbcbb3f70747c44a77c7bcd40155683ae19c65e1c03b4aa3499c5328201f1"
   }
  }
 },
 "nbformat": 4,
 "nbformat_minor": 2
}
