{
 "cells": [
  {
   "cell_type": "code",
   "execution_count": 9,
   "metadata": {},
   "outputs": [],
   "source": [
    "# from lib.ekyn import *\n",
    "\"\"\"\n",
    "Modify DATA_PATH\n",
    "\"\"\"\n",
    "from os import listdir\n",
    "from torch import load\n",
    "\n",
    "DATA_PATH = f'/home/andrew/.aurora'\n",
    "\n",
    "def get_ekyn_ids():\n",
    "    return sorted(list(set([id.split('_')[0] for id in listdir(f'{DATA_PATH}/pt_ekyn')])))\n",
    "\n",
    "def load_ekyn_pt(idx,condition):\n",
    "    return load(f'{DATA_PATH}/pt_ekyn/{idx}_{condition}.pt')\n",
    "\n",
    "def load_ekyn_pt_standardized(idx,condition):\n",
    "    return load(f'{DATA_PATH}/pt_ekyn_standardized/{idx}_{condition}.pt')\n",
    "\n",
    "def load_ekyn_pt_robust_scaled(idx,condition):\n",
    "    return load(f'{DATA_PATH}/robust_scaled/{idx}_{condition}.pt')"
   ]
  },
  {
   "cell_type": "code",
   "execution_count": 15,
   "metadata": {},
   "outputs": [
    {
     "name": "stdout",
     "output_type": "stream",
     "text": [
      "['A1-0', 'A1-1', 'A4-0', 'B1-0', 'B3-1', 'C1-0', 'C4-0', 'C4-1', 'D1-0', 'E1-0', 'E2-1', 'E4-0', 'E4-1', 'F1-0', 'F1-1', 'F5-1']\n"
     ]
    }
   ],
   "source": [
    "ids = get_ekyn_ids()\n",
    "conditions = ['Vehicle','PF']\n",
    "print(ids)"
   ]
  },
  {
   "cell_type": "code",
   "execution_count": 14,
   "metadata": {},
   "outputs": [
    {
     "name": "stdout",
     "output_type": "stream",
     "text": [
      "tensor([[-9.0791e-06,  5.8747e-06,  1.8540e-05,  ..., -3.3494e-05,\n",
      "         -1.1368e-05,  6.6377e-06],\n",
      "        [ 3.1510e-05,  3.9445e-05,  6.4851e-06,  ..., -2.5559e-05,\n",
      "         -3.7766e-05, -2.6780e-05],\n",
      "        [ 1.1444e-06,  1.9760e-05,  1.4267e-05,  ..., -7.6295e-08,\n",
      "         -7.6295e-08, -7.6295e-08],\n",
      "        ...,\n",
      "        [ 4.5243e-05,  6.2943e-05,  5.7450e-05,  ..., -9.9565e-05,\n",
      "         -7.0878e-05, -4.1123e-05],\n",
      "        [-3.7156e-05, -5.0736e-05, -6.1112e-05,  ...,  1.0964e-04,\n",
      "          1.1086e-04,  1.2383e-04],\n",
      "        [ 1.4595e-04,  1.6457e-04,  1.6732e-04,  ..., -4.5396e-05,\n",
      "         -6.6148e-05, -6.7979e-05]]) tensor([[0., 0., 1.],\n",
      "        [0., 0., 1.],\n",
      "        [0., 0., 1.],\n",
      "        ...,\n",
      "        [0., 0., 1.],\n",
      "        [0., 0., 1.],\n",
      "        [0., 0., 1.]])\n",
      "torch.Size([8640, 5000]) torch.Size([8640, 3])\n"
     ]
    }
   ],
   "source": [
    "X,y = load_ekyn_pt(idx=ids[0],condition=conditions[0])\n",
    "print(X,y)\n",
    "print(X.shape,y.shape)"
   ]
  },
  {
   "cell_type": "code",
   "execution_count": null,
   "metadata": {},
   "outputs": [],
   "source": [
    "from torch.utils.data import DataLoader,ConcatDataset\n",
    "from lib.datasets import EpochedDataset\n",
    "from sklearn.model_selection import train_test_split\n",
    "\n",
    "train_idx,test_idx = train_test_split(get_ekyn_ids(),test_size=.25,random_state=0)\n",
    "trainloader = DataLoader(ConcatDataset([EpochedDataset(idx=idx,condition=condition) for idx in train_idx for condition in ['Vehicle','PF']]),batch_size=512,shuffle=True)\n",
    "devloader = DataLoader(ConcatDataset([EpochedDataset(idx=idx,condition=condition) for idx in test_idx for condition in ['Vehicle','PF']]),batch_size=512,shuffle=True)"
   ]
  }
 ],
 "metadata": {
  "kernelspec": {
   "display_name": "Python 3.10.6 64-bit",
   "language": "python",
   "name": "python3"
  },
  "language_info": {
   "codemirror_mode": {
    "name": "ipython",
    "version": 3
   },
   "file_extension": ".py",
   "mimetype": "text/x-python",
   "name": "python",
   "nbconvert_exporter": "python",
   "pygments_lexer": "ipython3",
   "version": "3.10.12"
  },
  "orig_nbformat": 4,
  "vscode": {
   "interpreter": {
    "hash": "916dbcbb3f70747c44a77c7bcd40155683ae19c65e1c03b4aa3499c5328201f1"
   }
  }
 },
 "nbformat": 4,
 "nbformat_minor": 2
}
