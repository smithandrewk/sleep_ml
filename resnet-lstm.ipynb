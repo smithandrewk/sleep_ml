{
 "cells": [
  {
   "cell_type": "code",
   "execution_count": 18,
   "metadata": {},
   "outputs": [],
   "source": [
    "from lib.models import ResNet\n",
    "import torch\n",
    "from torch import nn\n",
    "from tqdm import tqdm\n",
    "class CNNLSTM(nn.Module):\n",
    "    def __init__(self) -> None:\n",
    "        super().__init__()\n",
    "        self.resnet = ResNet().cuda()\n",
    "        self.lstm = nn.LSTM(3,32)\n",
    "        self.fc1 = nn.Linear(32,3)\n",
    "    def forward(self,x_2d):\n",
    "        x = torch.Tensor().cuda()\n",
    "        for t in range(x_2d.size(1)):\n",
    "            x_i = self.resnet(x_2d[:,t,:,:])\n",
    "            x = torch.cat([x,x_i.unsqueeze(0)])\n",
    "        out,_ = self.lstm(x)\n",
    "        x = self.fc1(out)        \n",
    "        # return x.view(-1,3,3)\n",
    "        return x"
   ]
  },
  {
   "cell_type": "code",
   "execution_count": 17,
   "metadata": {},
   "outputs": [
    {
     "name": "stdout",
     "output_type": "stream",
     "text": [
      "Params:  10534\n"
     ]
    }
   ],
   "source": [
    "model = CNNLSTM().cuda()\n",
    "params = sum([p.flatten().size()[0] for p in list(model.parameters())])\n",
    "print(\"Params: \",params)\n",
    "# model = ResNet().cuda()\n",
    "criterion = nn.CrossEntropyLoss()\n",
    "optimizer = torch.optim.Adam(model.parameters(),lr=3e-4)\n",
    "train_losses = []\n",
    "dev_losses = []\n",
    "from lib.datasets import Dataset2p0\n",
    "from torch.utils.data import DataLoader\n",
    "data_dir = 'w3_small_balanced_normalized'\n",
    "trainloader = DataLoader(Dataset2p0(dir=f'{data_dir}/train/',labels=f'{data_dir}/y_train.pt'),batch_size=64,shuffle=True)\n",
    "devloader = DataLoader(Dataset2p0(dir=f'{data_dir}/test/',labels=f'{data_dir}/y_test.pt'),batch_size=64,shuffle=True)"
   ]
  },
  {
   "cell_type": "code",
   "execution_count": 20,
   "metadata": {},
   "outputs": [
    {
     "name": "stderr",
     "output_type": "stream",
     "text": [
      "100%|██████████| 828/828 [00:26<00:00, 30.94it/s]\n"
     ]
    }
   ],
   "source": [
    "for (X,y) in tqdm(trainloader):\n",
    "    logits = model(X.view(-1,3,1,5000).cuda())"
   ]
  }
 ],
 "metadata": {
  "kernelspec": {
   "display_name": "Python 3.10.6 64-bit",
   "language": "python",
   "name": "python3"
  },
  "language_info": {
   "codemirror_mode": {
    "name": "ipython",
    "version": 3
   },
   "file_extension": ".py",
   "mimetype": "text/x-python",
   "name": "python",
   "nbconvert_exporter": "python",
   "pygments_lexer": "ipython3",
   "version": "3.10.6"
  },
  "orig_nbformat": 4,
  "vscode": {
   "interpreter": {
    "hash": "916dbcbb3f70747c44a77c7bcd40155683ae19c65e1c03b4aa3499c5328201f1"
   }
  }
 },
 "nbformat": 4,
 "nbformat_minor": 2
}
