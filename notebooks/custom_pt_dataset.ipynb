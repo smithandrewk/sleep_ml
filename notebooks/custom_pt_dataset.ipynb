{
 "cells": [
  {
   "cell_type": "code",
   "execution_count": null,
   "metadata": {},
   "outputs": [],
   "source": [
    "import torch\n",
    "from lib.utils import load_raw_list,load_psd,load_raw\n",
    "from torch.nn.functional import one_hot\n",
    "idx = 0"
   ]
  },
  {
   "cell_type": "code",
   "execution_count": null,
   "metadata": {},
   "outputs": [],
   "source": [
    "## Run this cell with range from 0 to 10, 10 to 20, 20 to 30, 30 to 32\n",
    "import pandas as pd\n",
    "import numpy as np\n",
    "ret = pd.DataFrame()\n",
    "idxs = list(range(30,32))\n",
    "raw = load_raw(idxs[0])\n",
    "df = load_psd(idxs[0])\n",
    "eeg = raw.get_data(picks='EEG')[0]\n",
    "X = pd.DataFrame(eeg.reshape(-1,5000))\n",
    "y = df['label']\n",
    "\n",
    "append = pd.concat([y,X],axis=1)\n",
    "ret = pd.concat([ret,append])\n",
    "for i in idxs[1:]:\n",
    "    raw = load_raw(i)\n",
    "    df = load_psd(i)\n",
    "    eeg = raw.get_data(picks='EEG')[0]\n",
    "    X = pd.DataFrame(eeg.reshape(-1,5000))\n",
    "    y = df['label']\n",
    "\n",
    "    append = pd.concat([y,X],axis=1)\n",
    "    ret = pd.concat([ret,append])\n",
    "\n",
    "ret = ret.reset_index(drop=True)\n",
    "ret = ret[ret['label'] != 'X']\n",
    "\n",
    "y = np.array(pd.Categorical(ret.pop('label')).codes)\n",
    "X = ret.to_numpy()\n",
    "\n",
    "X = torch.from_numpy(X).float()\n",
    "y = torch.from_numpy(y).reshape(-1,1).long()\n",
    "for sample in X:\n",
    "    torch.save(sample.clone(),f'data_pt/{idx}.pt')\n",
    "    idx += 1"
   ]
  },
  {
   "cell_type": "code",
   "execution_count": null,
   "metadata": {},
   "outputs": [],
   "source": [
    "## Save y labels for all files\n",
    "import pandas as pd\n",
    "import numpy as np\n",
    "ret = pd.DataFrame()\n",
    "idxs = list(range(0,32))\n",
    "df = load_psd(idxs[0])\n",
    "y = df['label']\n",
    "\n",
    "ret = pd.concat([ret,y])\n",
    "for i in idxs[1:]:\n",
    "    df = load_psd(i)\n",
    "    y = df['label']\n",
    "\n",
    "    ret = pd.concat([ret,y])\n",
    "\n",
    "ret = ret.reset_index(drop=True)\n",
    "ret = ret[ret[0] != 'X']\n",
    "y = np.array(pd.Categorical(ret.pop(0)).codes)\n",
    "y = torch.from_numpy(y).reshape(-1,1).long()\n",
    "y = one_hot(y,num_classes=3).reshape(-1,3).float()\n",
    "torch.save(y,'data_pt/labels.pt')"
   ]
  },
  {
   "cell_type": "code",
   "execution_count": null,
   "metadata": {},
   "outputs": [],
   "source": [
    "import os\n",
    "import pandas as pd\n",
    "from torch.utils.data import Dataset,DataLoader\n",
    "\n",
    "class EEGDataset(Dataset):\n",
    "    def __init__(self,dir,labels):\n",
    "        self.labels = torch.load(f'{labels}')\n",
    "        self.dir = dir\n",
    "\n",
    "    def __len__(self):\n",
    "        return len(self.labels)\n",
    "\n",
    "    def __getitem__(self, idx):\n",
    "        path = os.path.join(self.dir, str(idx)+\".pt\")\n",
    "        print(path)\n",
    "        X = torch.load(path).reshape(-1,5000)\n",
    "        y = self.labels[idx]\n",
    "\n",
    "        return (X,y)\n",
    "train_dataloader = DataLoader(EEGDataset(dir='pt/train',labels='pt/y_train.pt'), batch_size=500, shuffle=False)\n",
    "test_dataloader = DataLoader(EEGDataset(dir='pt/test',labels='pt/y_test.pt'), batch_size=500, shuffle=False)"
   ]
  },
  {
   "cell_type": "code",
   "execution_count": null,
   "metadata": {},
   "outputs": [],
   "source": [
    "from sklearn.model_selection import train_test_split\n",
    "import torch\n",
    "y = torch.load('pt/labels.pt')\n",
    "train_idx,test_idx,_,_ = train_test_split(range(276399),y,shuffle=True,stratify=y,test_size=.2,random_state=0)"
   ]
  },
  {
   "cell_type": "code",
   "execution_count": null,
   "metadata": {},
   "outputs": [],
   "source": [
    "os.system('mkdir pt/train')\n",
    "os.system('mkdir pt/test')\n",
    "\n",
    "for i,idx in enumerate(train_idx):\n",
    "    os.system(f'mv pt/{idx}.pt pt/train/{i}.pt')\n",
    "for i,idx in enumerate(test_idx):\n",
    "    os.system(f'mv pt/{idx}.pt pt/test/{i}.pt')\n",
    "torch.save(y[train_idx],'pt/y_train.pt')\n",
    "torch.save(y[test_idx],'pt/y_test.pt')"
   ]
  }
 ],
 "metadata": {
  "kernelspec": {
   "display_name": "Python 3.10.6 64-bit",
   "language": "python",
   "name": "python3"
  },
  "language_info": {
   "codemirror_mode": {
    "name": "ipython",
    "version": 3
   },
   "file_extension": ".py",
   "mimetype": "text/x-python",
   "name": "python",
   "nbconvert_exporter": "python",
   "pygments_lexer": "ipython3",
   "version": "3.10.6"
  },
  "orig_nbformat": 4,
  "vscode": {
   "interpreter": {
    "hash": "916dbcbb3f70747c44a77c7bcd40155683ae19c65e1c03b4aa3499c5328201f1"
   }
  }
 },
 "nbformat": 4,
 "nbformat_minor": 2
}
