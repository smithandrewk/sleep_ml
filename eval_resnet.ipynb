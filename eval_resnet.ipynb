{
 "cells": [
  {
   "cell_type": "code",
   "execution_count": null,
   "metadata": {},
   "outputs": [],
   "source": [
    "%load_ext autoreload\n",
    "%autoreload 2\n",
    "from lib.ekyn import *\n",
    "from sklearn.model_selection import train_test_split\n",
    "from torch import bincount\n",
    "from lib.utils import plot_eeg_and_labels\n",
    "from lib.models import MLP\n",
    "from tqdm import tqdm\n",
    "from torch import optim\n",
    "from torch import nn\n",
    "import matplotlib.pyplot as plt\n",
    "from torch.utils.data import DataLoader\n",
    "import torch\n",
    "import numpy as np\n",
    "import random\n",
    "from lib.utils import evaluate\n",
    "from sklearn.metrics import ConfusionMatrixDisplay,classification_report\n",
    "from lib.env import DEVICE\n",
    "from lib.utils import Windowset\n",
    "from torch.nn.functional import relu\n",
    "import json\n",
    "from lib.ekyn import *\n",
    "from lib.models import RegNet\n",
    "\n",
    "torch.manual_seed(0)\n",
    "np.random.seed(0)\n",
    "random.seed(0)\n",
    "\n",
    "PROJECT_DIR = f'projects/11'\n",
    "with open(f'{PROJECT_DIR}/config.json','r') as f:\n",
    "    CONFIG = json.load(f)\n",
    "model = RegNet(in_features=CONFIG['WINDOW_SIZE'],in_channels=1,depthi=CONFIG['DEPTHI'],widthi=CONFIG['WIDTHI'])\n",
    "criterion = nn.CrossEntropyLoss(weight=torch.tensor([18.3846,  2.2810,  1.9716]))\n",
    "model.load_state_dict(torch.load(f=f'{PROJECT_DIR}/best.f1.pt', map_location='cpu'))"
   ]
  },
  {
   "cell_type": "code",
   "execution_count": null,
   "metadata": {},
   "outputs": [],
   "source": [
    "from lib.datasets import EpochedDataset\n",
    "from torch.utils.data import ConcatDataset\n",
    "from lib.ekyn import get_ekyn_ids\n",
    "train_idx,test_idx = train_test_split(get_ekyn_ids(),test_size=.25,random_state=0)\n",
    "# trainloader = DataLoader(ConcatDataset([EpochedDataset(idx=idx,condition=condition) for idx in train_idx for condition in ['Vehicle','PF']]),batch_size=512,shuffle=True)\n",
    "devloader = DataLoader(ConcatDataset([EpochedDataset(idx=idx,condition=condition) for idx in test_idx for condition in ['Vehicle','PF']]),batch_size=512,shuffle=True)\n",
    "model = RegNet(in_features=CONFIG['WINDOW_SIZE'],in_channels=1,depthi=CONFIG['DEPTHI'],widthi=CONFIG['WIDTHI'])\n",
    "criterion = nn.CrossEntropyLoss(weight=torch.tensor([18.3846,  2.2810,  1.9716]))\n",
    "model.load_state_dict(torch.load(f=f'{PROJECT_DIR}/best.f1.pt', map_location='cpu'))"
   ]
  },
  {
   "cell_type": "code",
   "execution_count": null,
   "metadata": {},
   "outputs": [],
   "source": [
    "loss,report,y_true,y_pred,y_logits = evaluate(dataloader=devloader,model=model,criterion=criterion,DEVICE=DEVICE)\n",
    "ConfusionMatrixDisplay.from_predictions(y_true,y_pred,normalize='true')\n",
    "print(classification_report(y_true,y_pred))\n",
    "print(loss)"
   ]
  },
  {
   "cell_type": "code",
   "execution_count": null,
   "metadata": {},
   "outputs": [],
   "source": [
    "model.to('cpu')\n",
    "Xi,yi = next(iter(devloader))\n",
    "\n",
    "fig,ax = plt.subplots(nrows=len(model.c1.weight),ncols=2,figsize=(8,10))\n",
    "for i,kernel in enumerate(model.c1.weight.squeeze().detach()):\n",
    "    ax[i,0].plot(kernel)\n",
    "for i,kernel in enumerate(model.c1(Xi.reshape(-1,1,5000)).detach()[0]):\n",
    "    ax[i,1].plot(kernel)"
   ]
  },
  {
   "cell_type": "code",
   "execution_count": null,
   "metadata": {},
   "outputs": [],
   "source": [
    "from torch.utils.data import TensorDataset\n",
    "id = test_idx[3]\n",
    "print(id)\n",
    "X,y = load_ekyn_pt_standardized(idx=id,condition='Vehicle')\n",
    "print(X.shape,y.shape)\n",
    "print(bincount(y.argmax(axis=1)))\n",
    "testloader = DataLoader(TensorDataset(X,y),batch_size=512,shuffle=False)\n",
    "import matplotlib.pyplot as plt\n",
    "loss,report,y_true,y_pred,y_logits = evaluate(dataloader=testloader,model=model,criterion=criterion,DEVICE=DEVICE)\n",
    "ConfusionMatrixDisplay.from_predictions(y_true,y_pred,normalize='true')\n",
    "print(classification_report(y_true,y_pred))\n",
    "print(loss)"
   ]
  },
  {
   "cell_type": "code",
   "execution_count": 28,
   "metadata": {},
   "outputs": [
    {
     "name": "stderr",
     "output_type": "stream",
     "text": [
      "100%|██████████| 17/17 [00:00<00:00, 48.94it/s]\n",
      "100%|██████████| 17/17 [00:00<00:00, 49.87it/s]\n",
      "100%|██████████| 17/17 [00:00<00:00, 50.00it/s]\n",
      "/home/andrew/.local/lib/python3.10/site-packages/sklearn/metrics/_classification.py:1308: UndefinedMetricWarning: Precision is ill-defined and being set to 0.0 in labels with no predicted samples. Use `zero_division` parameter to control this behavior.\n",
      "  _warn_prf(average, modifier, msg_start, len(result))\n",
      "100%|██████████| 17/17 [00:00<00:00, 50.42it/s]\n",
      "/home/andrew/.local/lib/python3.10/site-packages/sklearn/metrics/_classification.py:1308: UndefinedMetricWarning: Precision is ill-defined and being set to 0.0 in labels with no predicted samples. Use `zero_division` parameter to control this behavior.\n",
      "  _warn_prf(average, modifier, msg_start, len(result))\n",
      "100%|██████████| 17/17 [00:00<00:00, 49.42it/s]\n",
      "/home/andrew/.local/lib/python3.10/site-packages/sklearn/metrics/_classification.py:1308: UndefinedMetricWarning: Precision is ill-defined and being set to 0.0 in labels with no predicted samples. Use `zero_division` parameter to control this behavior.\n",
      "  _warn_prf(average, modifier, msg_start, len(result))\n",
      "100%|██████████| 17/17 [00:00<00:00, 47.81it/s]\n",
      "/home/andrew/.local/lib/python3.10/site-packages/sklearn/metrics/_classification.py:1308: UndefinedMetricWarning: Precision is ill-defined and being set to 0.0 in labels with no predicted samples. Use `zero_division` parameter to control this behavior.\n",
      "  _warn_prf(average, modifier, msg_start, len(result))\n",
      "100%|██████████| 17/17 [00:00<00:00, 50.12it/s]\n",
      "100%|██████████| 17/17 [00:00<00:00, 49.71it/s]\n"
     ]
    }
   ],
   "source": [
    "from sklearn.metrics import f1_score\n",
    "\n",
    "criterion = nn.CrossEntropyLoss(weight=torch.tensor([18.3846,  2.2810,  1.9716]))\n",
    "\n",
    "PROJECT_DIR = f'projects/2'\n",
    "with open(f'{PROJECT_DIR}/config.json','r') as f:\n",
    "    CONFIG = json.load(f)\n",
    "modela = RegNet(in_features=CONFIG['WINDOW_SIZE'],in_channels=1,depthi=CONFIG['DEPTHI'],widthi=CONFIG['WIDTHI'])\n",
    "modela.load_state_dict(torch.load(f=f'{PROJECT_DIR}/best.f1.pt', map_location='cpu'))\n",
    "\n",
    "PROJECT_DIR = f'projects/11'\n",
    "with open(f'{PROJECT_DIR}/config.json','r') as f:\n",
    "    CONFIG = json.load(f)\n",
    "modelb = RegNet(in_features=CONFIG['WINDOW_SIZE'],in_channels=1,depthi=CONFIG['DEPTHI'],widthi=CONFIG['WIDTHI'])\n",
    "modelb.load_state_dict(torch.load(f=f'{PROJECT_DIR}/best.f1.pt', map_location='cpu'))\n",
    "\n",
    "f1s_a = []\n",
    "f1s_b = []\n",
    "\n",
    "for id in test_idx:\n",
    "    for condition in ['Vehicle','PF']:\n",
    "        X,y = load_ekyn_pt(idx=id,condition=condition)\n",
    "        testloader = DataLoader(TensorDataset(X,y),batch_size=512,shuffle=False)\n",
    "        loss,report,y_true,y_pred,y_logits = evaluate(dataloader=testloader,model=model,criterion=criterion,DEVICE=DEVICE)\n",
    "        f1s_a.append(f1_score(y_true,y_pred,average='macro'))\n",
    "\n",
    "for id in test_idx:\n",
    "    for condition in ['Vehicle','PF']:\n",
    "        X,y = load_ekyn_pt_standardized(idx=id,condition=condition)\n",
    "        testloader = DataLoader(TensorDataset(X,y),batch_size=512,shuffle=False)\n",
    "        loss,report,y_true,y_pred,y_logits = evaluate(dataloader=testloader,model=modelb,criterion=criterion,DEVICE=DEVICE)\n",
    "        f1s_b.append(f1_score(y_true,y_pred,average='macro'))"
   ]
  },
  {
   "cell_type": "code",
   "execution_count": 29,
   "metadata": {},
   "outputs": [
    {
     "data": {
      "text/plain": [
       "<Axes: ylabel='Proportion'>"
      ]
     },
     "execution_count": 29,
     "metadata": {},
     "output_type": "execute_result"
    },
    {
     "data": {
      "image/png": "[encoded data removed]",
      "text/plain": [
       "<Figure size 640x480 with 1 Axes>"
      ]
     },
     "metadata": {},
     "output_type": "display_data"
    }
   ],
   "source": [
    "import seaborn as sns\n",
    "sns.ecdfplot(f1s)\n",
    "sns.ecdfplot(f1s_b)"
   ]
  },
  {
   "cell_type": "code",
   "execution_count": null,
   "metadata": {},
   "outputs": [],
   "source": [
    "import matplotlib.patches as patches\n",
    "start = 0\n",
    "duration = 1000\n",
    "\n",
    "fig, ax = plt.subplots(nrows=4,ncols=1,figsize=(16,10),dpi=100,sharex=True)\n",
    "\n",
    "colors = ['red','green','blue']\n",
    "epochs = []\n",
    "for i in range(duration):\n",
    "    stage = int(y.argmax(axis=1)[start+i])\n",
    "    ax[3].fill_between([i*5000, (i+1)*5000], y1=-.0003, y2=.0003, color=colors[stage], alpha=0.3)\n",
    "    epochs.append(i*5000+2500)\n",
    "\n",
    "y_logits_tmp = torch.tensor([[val]*CONFIG['WINDOW_SIZE'] for val in list(y_logits[start:start+duration].numpy())]).flatten(0,1)\n",
    "\n",
    "ax[0].stackplot(range(len(y_logits_tmp)),y_logits_tmp[:,0],y_logits_tmp[:,1],y_logits_tmp[:,2],colors=['#FF000080','#00FF0080','#0000FF80'])\n",
    "\n",
    "ax[1].plot(torch.cat([torch.tensor([[val]*CONFIG['WINDOW_SIZE'] for val in list(y_pred[start:start+duration].numpy())]).flatten()]))\n",
    "ax[1].set_yticks([0,1,2],['Paradoxical','Slow-Wave','Wakefulness'])\n",
    "ax[1].margins(0,0)\n",
    "ax[1].set_ylim([-.1,2.1])\n",
    "ax[1].set_title('predicted activity')\n",
    "\n",
    "ax[2].plot(torch.cat([torch.tensor([[val]*CONFIG['WINDOW_SIZE'] for val in list(y_true[start:start+duration].numpy())]).flatten()]))\n",
    "ax[2].set_yticks([0,1,2],['Paradoxical','Slow-Wave','Wakefulness'])\n",
    "ax[2].margins(0,0)\n",
    "ax[2].set_ylim([-.1,2.1])\n",
    "ax[2].set_title('reference activity')\n",
    "\n",
    "ax[3].plot(X[start:start+duration].flatten(),'black',linewidth=.3)\n",
    "ax[3].margins(0,0)\n",
    "ax[3].set_ylim([-.0003,.0003])\n",
    "ax[3].set_ylabel('potential energy (Volts)')\n",
    "ax[3].set_xticks(epochs[::int(duration/20)],range(duration)[::int(duration/20)]);\n",
    "ax[3].set_title('expert labeling')\n",
    "\n",
    "red_patch = patches.Patch(color='red', alpha=0.5, label='Paradoxical')\n",
    "green_patch = patches.Patch(color='green', alpha=0.5, label='Slow-wave')\n",
    "blue_patch = patches.Patch(color='blue', alpha=0.5, label='Wakefulness')\n",
    "\n",
    "plt.legend(handles=[red_patch, green_patch,blue_patch],loc='upper left',bbox_to_anchor=(1.04, 1),fancybox=True, shadow=True, ncol=1)\n",
    "plt.xlabel('epoch (each being 10 seconds)')\n",
    "plt.savefig('Sleep3.jpg',bbox_inches='tight')"
   ]
  }
 ],
 "metadata": {
  "kernelspec": {
   "display_name": "Python 3.10.12 64-bit",
   "language": "python",
   "name": "python3"
  },
  "language_info": {
   "codemirror_mode": {
    "name": "ipython",
    "version": 3
   },
   "file_extension": ".py",
   "mimetype": "text/x-python",
   "name": "python",
   "nbconvert_exporter": "python",
   "pygments_lexer": "ipython3",
   "version": "3.10.12"
  },
  "orig_nbformat": 4,
  "vscode": {
   "interpreter": {
    "hash": "916dbcbb3f70747c44a77c7bcd40155683ae19c65e1c03b4aa3499c5328201f1"
   }
  }
 },
 "nbformat": 4,
 "nbformat_minor": 2
}
