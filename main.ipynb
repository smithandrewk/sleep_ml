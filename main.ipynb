{
 "cells": [
  {
   "cell_type": "code",
   "execution_count": 1,
   "metadata": {},
   "outputs": [
    {
     "name": "stdout",
     "output_type": "stream",
     "text": [
      "['C1-0', 'E4-1'] ['A1-1', 'C4-0', 'D1-0', 'E1-0', 'F1-0', 'B3-1', 'A4-0', 'F1-1', 'E2-1', 'C4-1', 'F5-1', 'E4-0', 'B1-0', 'A1-0']\n"
     ]
    }
   ],
   "source": [
    "from lib.ekyn import *\n",
    "from torch.utils.data import DataLoader,ConcatDataset,TensorDataset\n",
    "from lib.datasets import EpochedDataset\n",
    "from sklearn.model_selection import train_test_split\n",
    "import torch\n",
    "from lib.models import RegNetX\n",
    "import matplotlib.pyplot as plt\n",
    "from tqdm import tqdm\n",
    "from torch import nn\n",
    "from torch.nn.functional import relu\n",
    "\n",
    "def get_loss(model,dataloader,criterion,device):\n",
    "    model.to(device)\n",
    "    criterion.to(device)\n",
    "    with torch.no_grad():\n",
    "        total = 0\n",
    "        for Xi,yi in tqdm(dataloader,leave=False):\n",
    "            Xi,yi = Xi.to(device),yi.to(device)\n",
    "            logits = model(Xi)\n",
    "            loss = criterion(logits,yi)\n",
    "            total += loss.item()\n",
    "    return total/len(dataloader)\n",
    "    \n",
    "CONFIG = {\n",
    "    'BATCH_SIZE':2048,\n",
    "    'WINDOW_SIZE':5000,\n",
    "    'LEARNING_RATE':3e-2,\n",
    "    'TEST_SIZE':.25,\n",
    "    'DEVICE':'cuda',\n",
    "    'DEPTHI':[1],\n",
    "    'WIDTHI':[4],\n",
    "    'STEM_KERNEL_SIZE':3\n",
    "}\n",
    "\n",
    "train_idx,test_idx = train_test_split(get_ekyn_ids(),test_size=.85,random_state=0)\n",
    "print(train_idx,test_idx)\n",
    "trainloader = DataLoader(ConcatDataset([EpochedDataset(idx=idx,condition=condition) for idx in train_idx for condition in ['Vehicle','PF']]),batch_size=512,shuffle=True)\n",
    "devloader = DataLoader(ConcatDataset([EpochedDataset(idx=idx,condition=condition) for idx in test_idx for condition in ['Vehicle','PF']]),batch_size=512,shuffle=True)"
   ]
  },
  {
   "cell_type": "code",
   "execution_count": 3,
   "metadata": {},
   "outputs": [
    {
     "name": "stdout",
     "output_type": "stream",
     "text": [
      "0\n"
     ]
    }
   ],
   "source": [
    "from lib.models import RegNetY\n",
    "model = RegNetY(depth=CONFIG['DEPTHI'],width=CONFIG['WIDTHI'],stem_kernel_size=CONFIG['STEM_KERNEL_SIZE'])\n",
    "criterion = torch.nn.CrossEntropyLoss()\n",
    "optimizer = torch.optim.AdamW(model.parameters(),lr=CONFIG['LEARNING_RATE'])\n",
    "model.to(CONFIG['DEVICE']);"
   ]
  },
  {
   "cell_type": "code",
   "execution_count": 4,
   "metadata": {},
   "outputs": [
    {
     "name": "stderr",
     "output_type": "stream",
     "text": [
      " 61%|██████▏   | 613/1000 [06:49<04:48,  1.34it/s]"
     ]
    }
   ],
   "source": [
    "lossi = []\n",
    "trainlossi = []\n",
    "trainf1 = []\n",
    "devlossi = []\n",
    "devf1 = []\n",
    "model.train()\n",
    "from lib.utils import training_loop,development_loop\n",
    "for i in tqdm(range(1000)):\n",
    "    loss,f1 = training_loop(model=model,trainloader=trainloader,criterion=criterion,optimizer=optimizer,device=CONFIG['DEVICE'])\n",
    "    trainlossi.append(loss)\n",
    "    trainf1.append(f1)\n",
    "\n",
    "    if i % 100 == 0:\n",
    "        loss,f1 = development_loop(model=model,devloader=devloader,criterion=criterion,device=CONFIG['DEVICE'])\n",
    "        devlossi.append(loss)\n",
    "        devf1.append(f1)\n",
    "\n",
    "    fig,ax = plt.subplots(nrows=1,ncols=2,figsize=(20,4))\n",
    "    ax[0].plot(trainlossi)\n",
    "    ax[0].plot(torch.linspace(0,len(trainlossi),len(devlossi)),devlossi)\n",
    "    ax[1].plot(trainf1)\n",
    "    ax[1].plot(torch.linspace(0,len(trainf1),len(devf1)),devf1)\n",
    "    plt.savefig('loss.jpg')\n",
    "    plt.close()"
   ]
  },
  {
   "cell_type": "code",
   "execution_count": null,
   "metadata": {},
   "outputs": [],
   "source": [
    "plt.plot(lossi)"
   ]
  },
  {
   "cell_type": "code",
   "execution_count": null,
   "metadata": {},
   "outputs": [],
   "source": [
    "from lib.utils import evaluate\n",
    "evaluate(devloader,model,criterion,CONFIG['DEVICE'])"
   ]
  }
 ],
 "metadata": {
  "kernelspec": {
   "display_name": "Python 3.10.6 64-bit",
   "language": "python",
   "name": "python3"
  },
  "language_info": {
   "codemirror_mode": {
    "name": "ipython",
    "version": 3
   },
   "file_extension": ".py",
   "mimetype": "text/x-python",
   "name": "python",
   "nbconvert_exporter": "python",
   "pygments_lexer": "ipython3",
   "version": "3.10.12"
  },
  "orig_nbformat": 4,
  "vscode": {
   "interpreter": {
    "hash": "916dbcbb3f70747c44a77c7bcd40155683ae19c65e1c03b4aa3499c5328201f1"
   }
  }
 },
 "nbformat": 4,
 "nbformat_minor": 2
}
