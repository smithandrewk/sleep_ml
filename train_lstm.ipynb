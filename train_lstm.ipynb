{
 "cells": [
  {
   "cell_type": "code",
   "execution_count": 1,
   "metadata": {},
   "outputs": [],
   "source": [
    "import torch\n",
    "from torch import nn\n",
    "import copy\n",
    "from tqdm import tqdm\n",
    "from lib.ekyn import load_ekyn_pt_robust\n",
    "import torch\n",
    "from torch.utils.data import Dataset\n",
    "from lib.ekyn import get_dataloaders,get_ekyn_ids\n",
    "from torch.utils.data import DataLoader\n",
    "\n",
    "class Dumbledore(nn.Module):\n",
    "    def __init__(self,encoder_experiment_name,sequence_length,hidden_size=16,dropout=None) -> None:\n",
    "        super().__init__()\n",
    "        self.frozen = True\n",
    "        self.sequence_length = sequence_length\n",
    "        self.encoder = self.get_encoder(encoder_experiment_name)\n",
    "        self.lstm = nn.LSTM(input_size=3, hidden_size=hidden_size, num_layers=3, batch_first=True, dropout=dropout)\n",
    "        self.classifier = nn.Linear(in_features=hidden_size,out_features=3)\n",
    "    def forward(self,x):\n",
    "        x = x.flatten(0,1)\n",
    "        x = self.encoder(x)\n",
    "        x = x.reshape(-1,self.sequence_length,3)\n",
    "        output, (hn, cn) = self.lstm(x)\n",
    "        x = nn.functional.relu(output[:,-1])\n",
    "        x = self.classifier(x)\n",
    "        return x\n",
    "    def get_encoder(self,encoder_experiment_name):\n",
    "        state = torch.load(f'experiments/{encoder_experiment_name}/state.pt',map_location='cpu')\n",
    "        encoder = copy.deepcopy(state['model'])\n",
    "        encoder.load_state_dict(state['best_model_wts'])\n",
    "        if self.frozen:\n",
    "            print(\"Model is freezing encoder\")\n",
    "            for p in encoder.parameters():\n",
    "                p.requires_grad = False\n",
    "        return encoder\n",
    "class SequencedDatasetv2(Dataset):\n",
    "    def __init__(self, id, condition, sequence_length, stride=1):\n",
    "        self.sequence_length = sequence_length\n",
    "        X, y = load_ekyn_pt_robust(id=id, condition=condition, downsampled=True)\n",
    "        \n",
    "        # Assuming X.shape is (num_samples, num_features) and y.shape is (num_samples, num_classes)\n",
    "        num_features = X.shape[1]\n",
    "        num_classes = y.shape[1]\n",
    "        \n",
    "        # Pad the sequence\n",
    "        self.X = torch.cat([torch.zeros(sequence_length // 2, num_features), X, torch.zeros(sequence_length // 2, num_features)]).unsqueeze(1)\n",
    "        self.y = torch.cat([torch.zeros(sequence_length // 2, num_classes), y, torch.zeros(sequence_length // 2, num_classes)])\n",
    "        \n",
    "        self.stride = stride\n",
    "        self.sequences = []\n",
    "        self.labels = []\n",
    "        \n",
    "        for i in range(0, len(self.y) - sequence_length, stride):\n",
    "            self.sequences.append(self.X[i:i + sequence_length])\n",
    "            self.labels.append(self.y[i + sequence_length // 2])\n",
    "        \n",
    "        self.sequences = torch.stack(self.sequences)\n",
    "        self.labels = torch.stack(self.labels)\n",
    "        \n",
    "    def __len__(self):\n",
    "        return len(self.labels)\n",
    "    \n",
    "    def __getitem__(self, idx):\n",
    "        return self.sequences[idx], self.labels[idx]\n",
    "\n",
    "def get_dataloaders(batch_size=512,shuffle_train=True,shuffle_test=False,sequence_length=3):\n",
    "    from sklearn.model_selection import train_test_split\n",
    "    ekyn_ids = get_ekyn_ids()\n",
    "\n",
    "    train_ids,test_ids = train_test_split(ekyn_ids,test_size=.2,shuffle=True,random_state=0)\n",
    "\n",
    "    from torch.utils.data import DataLoader,ConcatDataset\n",
    "    trainloader = DataLoader(\n",
    "            dataset=ConcatDataset(\n",
    "            [SequencedDatasetv2(id=id,condition=condition,sequence_length=sequence_length,stride=1) for id in train_ids for condition in ['Vehicle','PF']] \n",
    "            ),\n",
    "            batch_size=batch_size,\n",
    "            shuffle=shuffle_train,\n",
    "            num_workers=1\n",
    "        )\n",
    "    testloader = DataLoader(\n",
    "            dataset=ConcatDataset(\n",
    "            [SequencedDatasetv2(id=id,condition=condition,sequence_length=sequence_length,stride=1) for id in test_ids for condition in ['Vehicle','PF']] \n",
    "            ),\n",
    "            batch_size=batch_size,\n",
    "            shuffle=shuffle_test,\n",
    "            num_workers=1\n",
    "        )\n",
    "    return trainloader,testloader"
   ]
  },
  {
   "cell_type": "code",
   "execution_count": 5,
   "metadata": {},
   "outputs": [
    {
     "name": "stderr",
     "output_type": "stream",
     "text": [
      "/home/andrew/sleep/sleep_ml/lib/ekyn.py:27: FutureWarning: You are using `torch.load` with `weights_only=False` (the current default value), which uses the default pickle module implicitly. It is possible to construct malicious pickle data which will execute arbitrary code during unpickling (See https://github.com/pytorch/pytorch/blob/main/SECURITY.md#untrusted-models for more details). In a future release, the default value for `weights_only` will be flipped to `True`. This limits the functions that could be executed during unpickling. Arbitrary objects will no longer be allowed to be loaded via this mode unless they are explicitly allowlisted by the user via `torch.serialization.add_safe_globals`. We recommend you start setting `weights_only=True` for any use case where you don't have full control of the loaded file. Please open an issue on GitHub for any issues related to this experimental feature.\n",
      "  return load(f'{DATA_PATH}/pt_ekyn_robust_50hz/{id}_{condition}.pt')\n"
     ]
    },
    {
     "name": "stdout",
     "output_type": "stream",
     "text": [
      "Model is freezing encoder\n",
      "7230\n"
     ]
    },
    {
     "name": "stderr",
     "output_type": "stream",
     "text": [
      "/tmp/ipykernel_3521652/55438605.py:28: FutureWarning: You are using `torch.load` with `weights_only=False` (the current default value), which uses the default pickle module implicitly. It is possible to construct malicious pickle data which will execute arbitrary code during unpickling (See https://github.com/pytorch/pytorch/blob/main/SECURITY.md#untrusted-models for more details). In a future release, the default value for `weights_only` will be flipped to `True`. This limits the functions that could be executed during unpickling. Arbitrary objects will no longer be allowed to be loaded via this mode unless they are explicitly allowlisted by the user via `torch.serialization.add_safe_globals`. We recommend you start setting `weights_only=True` for any use case where you don't have full control of the loaded file. Please open an issue on GitHub for any issues related to this experimental feature.\n",
      "  state = torch.load(f'experiments/{encoder_experiment_name}/state.pt',map_location='cpu')\n"
     ]
    }
   ],
   "source": [
    "from sage.utils import count_params\n",
    "sequence_length = 3\n",
    "trainloader,testloader = get_dataloaders(batch_size=512,sequence_length=sequence_length)\n",
    "model = Dumbledore(encoder_experiment_name=f'2024_09_08_19_16_06',sequence_length=sequence_length,)\n",
    "print(count_params(model))\n",
    "criterion = nn.CrossEntropyLoss()\n",
    "optimizer = torch.optim.AdamW(model.parameters(),lr=3e-4,weight_decay=1e-1)"
   ]
  },
  {
   "cell_type": "code",
   "execution_count": 6,
   "metadata": {},
   "outputs": [],
   "source": [
    "trainlossi = []\n",
    "testlossi = []\n",
    "best_model_wts = copy.deepcopy(model.state_dict())\n",
    "best_dev_loss = torch.inf\n",
    "lossi = []"
   ]
  },
  {
   "cell_type": "code",
   "execution_count": 7,
   "metadata": {},
   "outputs": [
    {
     "name": "stderr",
     "output_type": "stream",
     "text": [
      "  0%|          | 0/100 [00:00<?, ?it/s]"
     ]
    },
    {
     "name": "stderr",
     "output_type": "stream",
     "text": [
      "  0%|          | 0/100 [00:13<?, ?it/s]\n"
     ]
    },
    {
     "ename": "KeyboardInterrupt",
     "evalue": "",
     "output_type": "error",
     "traceback": [
      "\u001b[0;31m---------------------------------------------------------------------------\u001b[0m",
      "\u001b[0;31mKeyboardInterrupt\u001b[0m                         Traceback (most recent call last)",
      "Cell \u001b[0;32mIn[7], line 11\u001b[0m\n\u001b[1;32m      9\u001b[0m loss \u001b[38;5;241m=\u001b[39m criterion(logits,yi)\n\u001b[1;32m     10\u001b[0m optimizer\u001b[38;5;241m.\u001b[39mzero_grad()\n\u001b[0;32m---> 11\u001b[0m \u001b[43mloss\u001b[49m\u001b[38;5;241;43m.\u001b[39;49m\u001b[43mbackward\u001b[49m\u001b[43m(\u001b[49m\u001b[43m)\u001b[49m\n\u001b[1;32m     12\u001b[0m optimizer\u001b[38;5;241m.\u001b[39mstep()\n\u001b[1;32m     13\u001b[0m loss_total \u001b[38;5;241m+\u001b[39m\u001b[38;5;241m=\u001b[39m loss\u001b[38;5;241m.\u001b[39mitem()\n",
      "File \u001b[0;32m~/.local/lib/python3.10/site-packages/torch/_tensor.py:521\u001b[0m, in \u001b[0;36mTensor.backward\u001b[0;34m(self, gradient, retain_graph, create_graph, inputs)\u001b[0m\n\u001b[1;32m    511\u001b[0m \u001b[38;5;28;01mif\u001b[39;00m has_torch_function_unary(\u001b[38;5;28mself\u001b[39m):\n\u001b[1;32m    512\u001b[0m     \u001b[38;5;28;01mreturn\u001b[39;00m handle_torch_function(\n\u001b[1;32m    513\u001b[0m         Tensor\u001b[38;5;241m.\u001b[39mbackward,\n\u001b[1;32m    514\u001b[0m         (\u001b[38;5;28mself\u001b[39m,),\n\u001b[0;32m   (...)\u001b[0m\n\u001b[1;32m    519\u001b[0m         inputs\u001b[38;5;241m=\u001b[39minputs,\n\u001b[1;32m    520\u001b[0m     )\n\u001b[0;32m--> 521\u001b[0m \u001b[43mtorch\u001b[49m\u001b[38;5;241;43m.\u001b[39;49m\u001b[43mautograd\u001b[49m\u001b[38;5;241;43m.\u001b[39;49m\u001b[43mbackward\u001b[49m\u001b[43m(\u001b[49m\n\u001b[1;32m    522\u001b[0m \u001b[43m    \u001b[49m\u001b[38;5;28;43mself\u001b[39;49m\u001b[43m,\u001b[49m\u001b[43m \u001b[49m\u001b[43mgradient\u001b[49m\u001b[43m,\u001b[49m\u001b[43m \u001b[49m\u001b[43mretain_graph\u001b[49m\u001b[43m,\u001b[49m\u001b[43m \u001b[49m\u001b[43mcreate_graph\u001b[49m\u001b[43m,\u001b[49m\u001b[43m \u001b[49m\u001b[43minputs\u001b[49m\u001b[38;5;241;43m=\u001b[39;49m\u001b[43minputs\u001b[49m\n\u001b[1;32m    523\u001b[0m \u001b[43m\u001b[49m\u001b[43m)\u001b[49m\n",
      "File \u001b[0;32m~/.local/lib/python3.10/site-packages/torch/autograd/__init__.py:289\u001b[0m, in \u001b[0;36mbackward\u001b[0;34m(tensors, grad_tensors, retain_graph, create_graph, grad_variables, inputs)\u001b[0m\n\u001b[1;32m    284\u001b[0m     retain_graph \u001b[38;5;241m=\u001b[39m create_graph\n\u001b[1;32m    286\u001b[0m \u001b[38;5;66;03m# The reason we repeat the same comment below is that\u001b[39;00m\n\u001b[1;32m    287\u001b[0m \u001b[38;5;66;03m# some Python versions print out the first line of a multi-line function\u001b[39;00m\n\u001b[1;32m    288\u001b[0m \u001b[38;5;66;03m# calls in the traceback and some print out the last line\u001b[39;00m\n\u001b[0;32m--> 289\u001b[0m \u001b[43m_engine_run_backward\u001b[49m\u001b[43m(\u001b[49m\n\u001b[1;32m    290\u001b[0m \u001b[43m    \u001b[49m\u001b[43mtensors\u001b[49m\u001b[43m,\u001b[49m\n\u001b[1;32m    291\u001b[0m \u001b[43m    \u001b[49m\u001b[43mgrad_tensors_\u001b[49m\u001b[43m,\u001b[49m\n\u001b[1;32m    292\u001b[0m \u001b[43m    \u001b[49m\u001b[43mretain_graph\u001b[49m\u001b[43m,\u001b[49m\n\u001b[1;32m    293\u001b[0m \u001b[43m    \u001b[49m\u001b[43mcreate_graph\u001b[49m\u001b[43m,\u001b[49m\n\u001b[1;32m    294\u001b[0m \u001b[43m    \u001b[49m\u001b[43minputs\u001b[49m\u001b[43m,\u001b[49m\n\u001b[1;32m    295\u001b[0m \u001b[43m    \u001b[49m\u001b[43mallow_unreachable\u001b[49m\u001b[38;5;241;43m=\u001b[39;49m\u001b[38;5;28;43;01mTrue\u001b[39;49;00m\u001b[43m,\u001b[49m\n\u001b[1;32m    296\u001b[0m \u001b[43m    \u001b[49m\u001b[43maccumulate_grad\u001b[49m\u001b[38;5;241;43m=\u001b[39;49m\u001b[38;5;28;43;01mTrue\u001b[39;49;00m\u001b[43m,\u001b[49m\n\u001b[1;32m    297\u001b[0m \u001b[43m\u001b[49m\u001b[43m)\u001b[49m\n",
      "File \u001b[0;32m~/.local/lib/python3.10/site-packages/torch/autograd/graph.py:768\u001b[0m, in \u001b[0;36m_engine_run_backward\u001b[0;34m(t_outputs, *args, **kwargs)\u001b[0m\n\u001b[1;32m    766\u001b[0m     unregister_hooks \u001b[38;5;241m=\u001b[39m _register_logging_hooks_on_whole_graph(t_outputs)\n\u001b[1;32m    767\u001b[0m \u001b[38;5;28;01mtry\u001b[39;00m:\n\u001b[0;32m--> 768\u001b[0m     \u001b[38;5;28;01mreturn\u001b[39;00m \u001b[43mVariable\u001b[49m\u001b[38;5;241;43m.\u001b[39;49m\u001b[43m_execution_engine\u001b[49m\u001b[38;5;241;43m.\u001b[39;49m\u001b[43mrun_backward\u001b[49m\u001b[43m(\u001b[49m\u001b[43m  \u001b[49m\u001b[38;5;66;43;03m# Calls into the C++ engine to run the backward pass\u001b[39;49;00m\n\u001b[1;32m    769\u001b[0m \u001b[43m        \u001b[49m\u001b[43mt_outputs\u001b[49m\u001b[43m,\u001b[49m\u001b[43m \u001b[49m\u001b[38;5;241;43m*\u001b[39;49m\u001b[43margs\u001b[49m\u001b[43m,\u001b[49m\u001b[43m \u001b[49m\u001b[38;5;241;43m*\u001b[39;49m\u001b[38;5;241;43m*\u001b[39;49m\u001b[43mkwargs\u001b[49m\n\u001b[1;32m    770\u001b[0m \u001b[43m    \u001b[49m\u001b[43m)\u001b[49m  \u001b[38;5;66;03m# Calls into the C++ engine to run the backward pass\u001b[39;00m\n\u001b[1;32m    771\u001b[0m \u001b[38;5;28;01mfinally\u001b[39;00m:\n\u001b[1;32m    772\u001b[0m     \u001b[38;5;28;01mif\u001b[39;00m attach_logging_hooks:\n",
      "\u001b[0;31mKeyboardInterrupt\u001b[0m: "
     ]
    }
   ],
   "source": [
    "model.to('cuda')\n",
    "import matplotlib.pyplot as plt\n",
    "for i in tqdm(range(100)):\n",
    "    model.train()\n",
    "    loss_total = 0\n",
    "    for Xi,yi in trainloader:\n",
    "        Xi,yi = Xi.to('cuda'),yi.to('cuda')\n",
    "        logits = model(Xi)\n",
    "        loss = criterion(logits,yi)\n",
    "        optimizer.zero_grad()\n",
    "        loss.backward()\n",
    "        optimizer.step()\n",
    "        loss_total += loss.item()\n",
    "    trainlossi.append(loss_total/len(trainloader))\n",
    "\n",
    "    model.eval()\n",
    "    with torch.no_grad():\n",
    "        loss_total = 0\n",
    "        for Xi,yi in testloader:\n",
    "            Xi,yi = Xi.to('cuda'),yi.to('cuda')\n",
    "            logits = model(Xi)\n",
    "            loss = criterion(logits,yi)\n",
    "            loss_total += loss.item()\n",
    "        testlossi.append(loss_total/len(testloader))\n",
    "    \n",
    "    if testlossi[-1] < best_dev_loss:\n",
    "        best_dev_loss = testlossi[-1]\n",
    "        best_model_wts = copy.deepcopy(model.state_dict())\n",
    "    \n",
    "    plt.figure()\n",
    "    plt.plot(trainlossi[2:])\n",
    "    plt.plot(testlossi[2:])\n",
    "    plt.yscale('log')\n",
    "    plt.savefig('loss.jpg')\n",
    "    plt.close()"
   ]
  },
  {
   "cell_type": "code",
   "execution_count": 15,
   "metadata": {},
   "outputs": [
    {
     "name": "stdout",
     "output_type": "stream",
     "text": [
      "0.18352652994202978\n",
      "0.20154696548426593\n"
     ]
    },
    {
     "data": {
      "text/plain": [
       "Text(0.5, 1.0, 'testf1 : 0.864')"
      ]
     },
     "execution_count": 15,
     "metadata": {},
     "output_type": "execute_result"
    },
    {
     "data": {
      "image/png": "[encoded data removed]",
      "text/plain": [
       "<Figure size 800x400 with 2 Axes>"
      ]
     },
     "metadata": {},
     "output_type": "display_data"
    }
   ],
   "source": [
    "from sage.utils import *\n",
    "from sklearn.metrics import ConfusionMatrixDisplay\n",
    "fig,axes = plt.subplots(nrows=1,ncols=2,figsize=(8,4))\n",
    "loss,y_true,y_pred = evaluate(dataloader=trainloader,model=model,criterion=criterion,device='cuda')\n",
    "print(loss)\n",
    "ConfusionMatrixDisplay.from_predictions(y_true,y_pred,normalize='true',ax=axes[0],colorbar=False)\n",
    "axes[0].set_title(f'trainf1 : {f1_score(y_true,y_pred,average=\"macro\"):.3f}')\n",
    "loss,y_true,y_pred = evaluate(dataloader=testloader,model=model,criterion=criterion,device='cuda')\n",
    "print(loss)\n",
    "ConfusionMatrixDisplay.from_predictions(y_true,y_pred,normalize='true',ax=axes[1],colorbar=False)\n",
    "axes[1].set_title(f'testf1 : {f1_score(y_true,y_pred,average=\"macro\"):.3f}')\n",
    "# train .886 test .858 seq 3\n",
    "# train .897 test .869 seq 5\n",
    "# train .906 test .872 seq 9"
   ]
  }
 ],
 "metadata": {
  "kernelspec": {
   "display_name": "Python 3",
   "language": "python",
   "name": "python3"
  },
  "language_info": {
   "codemirror_mode": {
    "name": "ipython",
    "version": 3
   },
   "file_extension": ".py",
   "mimetype": "text/x-python",
   "name": "python",
   "nbconvert_exporter": "python",
   "pygments_lexer": "ipython3",
   "version": "3.10.12"
  }
 },
 "nbformat": 4,
 "nbformat_minor": 2
}
