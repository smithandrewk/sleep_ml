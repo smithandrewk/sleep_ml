{
 "cells": [
  {
   "cell_type": "code",
   "execution_count": null,
   "metadata": {},
   "outputs": [],
   "source": [
    "from torch.utils.data import DataLoader,ConcatDataset\n",
    "from lib.datasets import EpochedDataset\n",
    "from sklearn.model_selection import train_test_split\n",
    "from lib.ekyn import *\n",
    "import numpy as np\n",
    "import scipy.signal as signal\n",
    "import matplotlib.pyplot as plt\n",
    "import torch\n",
    "from lib.ekyn import *\n",
    "from torch import nn\n",
    "from torch.nn.functional import relu\n",
    "import torch\n",
    "from lib.env import *\n",
    "import math\n",
    "import json\n",
    "\n",
    "class EpochedDataset(torch.utils.data.Dataset):\n",
    "    \"\"\"\n",
    "    Dataset for training w1 resnets with ekyn data\n",
    "    \"\"\"\n",
    "    def __init__(self,dataset='ekyn',id='A1-1',condition='Vehicle',robust=True,downsampled=True):\n",
    "        if dataset == 'ekyn':\n",
    "            if robust:\n",
    "                X,y = load_ekyn_pt_robust(id=id,condition=condition,downsampled=downsampled)\n",
    "            else:\n",
    "                X,y = load_ekyn_pt(id=id,condition=condition)\n",
    "        elif dataset == 'snezana_mice':\n",
    "            if robust:\n",
    "                X,y = load_snezana_mice_pt_robust(id=id,downsampled=downsampled)\n",
    "            else:\n",
    "                X,y = load_snezana_mice_pt(id=id)\n",
    "\n",
    "        self.X = X\n",
    "        self.y = y\n",
    "        self.id = id\n",
    "\n",
    "    def __len__(self):\n",
    "        return len(self.y)\n",
    "\n",
    "    def __getitem__(self, idx):\n",
    "        return (self.X[idx:idx+1],self.y[idx])"
   ]
  },
  {
   "cell_type": "code",
   "execution_count": null,
   "metadata": {},
   "outputs": [],
   "source": [
    "\n",
    "train_idx,test_idx = train_test_split(get_ekyn_ids(),test_size=.25,random_state=0)\n",
    "trainloader = DataLoader(ConcatDataset([EpochedDataset(id=id,condition=condition,downsampled=True) for id in train_idx[:4] for condition in ['Vehicle','PF']]),batch_size=512,shuffle=True)\n",
    "devloader = DataLoader(ConcatDataset([EpochedDataset(id=id,condition=condition,downsampled=True) for id in test_idx for condition in ['Vehicle','PF']]),batch_size=512,shuffle=True)"
   ]
  },
  {
   "cell_type": "code",
   "execution_count": null,
   "metadata": {},
   "outputs": [],
   "source": [
    "from lib.models import ResidualBlock\n",
    "\n",
    "class Frodo(nn.Module):\n",
    "    \"\"\"\n",
    "    the little wanderer\n",
    "    \"\"\"\n",
    "    def __init__(self,n_features,device='cuda') -> None:\n",
    "        super().__init__()\n",
    "        self.n_features = n_features\n",
    "        self.block1 = ResidualBlock(1,8,n_features)\n",
    "        self.block2 = ResidualBlock(8,16,n_features)\n",
    "        self.block3 = ResidualBlock(16,16,n_features)\n",
    "        self.block4 = ResidualBlock(16,16,n_features)\n",
    "        self.block5 = ResidualBlock(16,16,n_features)\n",
    "\n",
    "        self.gap = nn.AvgPool1d(kernel_size=n_features)\n",
    "        self.fc1 = nn.Linear(in_features=16,out_features=3)\n",
    "    def forward(self,x,classification=True):\n",
    "        x = x.view(-1,1,self.n_features)\n",
    "        x = self.block1(x)\n",
    "        x = self.block2(x)\n",
    "        x = self.block3(x)\n",
    "        x = self.block4(x)\n",
    "        x = self.block5(x)\n",
    "        x = self.gap(x)\n",
    "        if(classification):\n",
    "            x = self.fc1(x.squeeze())\n",
    "            return x\n",
    "        else:\n",
    "            return x.squeeze()"
   ]
  },
  {
   "cell_type": "code",
   "execution_count": null,
   "metadata": {},
   "outputs": [],
   "source": [
    "model = Frodo(n_features=1000).cuda()\n",
    "optimizer = torch.optim.AdamW(model.parameters(),lr=3e-4,weight_decay=1e-2)\n",
    "criterion = torch.nn.CrossEntropyLoss()\n",
    "print(sum([p.flatten().size()[0] for p in list(model.parameters())]))"
   ]
  },
  {
   "cell_type": "code",
   "execution_count": null,
   "metadata": {},
   "outputs": [],
   "source": [
    "lossi = []\n",
    "trainlossi = []\n",
    "trainf1 = []\n",
    "devlossi = []\n",
    "devf1 = []\n",
    "model.train()\n",
    "from tqdm import tqdm\n",
    "from lib.utils import training_loop,development_loop\n",
    "for i in tqdm(range(1000)):\n",
    "    loss,f1 = training_loop(model=model,trainloader=trainloader,criterion=criterion,optimizer=optimizer,device='cuda')\n",
    "    trainlossi.append(loss)\n",
    "    trainf1.append(f1)\n",
    "\n",
    "    loss,f1 = development_loop(model=model,devloader=devloader,criterion=criterion,device='cuda')\n",
    "    devlossi.append(loss)\n",
    "    devf1.append(f1)\n",
    "\n",
    "    fig,ax = plt.subplots(nrows=1,ncols=2,figsize=(20,4))\n",
    "    ax[0].plot(trainlossi)\n",
    "    ax[0].plot(devlossi)\n",
    "    ax[1].plot(trainf1)\n",
    "    ax[1].plot(devf1)\n",
    "    plt.savefig('loss.jpg')\n",
    "    plt.close()"
   ]
  },
  {
   "cell_type": "code",
   "execution_count": null,
   "metadata": {},
   "outputs": [],
   "source": [
    "from lib.utils import evaluate\n",
    "from sklearn.metrics import ConfusionMatrixDisplay,classification_report\n",
    "\n",
    "loss,report,y_true,y_pred,y_logits = evaluate(dataloader=devloader,model=model,criterion=criterion,DEVICE=DEVICE)\n",
    "ConfusionMatrixDisplay.from_predictions(y_true,y_pred,normalize='true')\n",
    "print(classification_report(y_true,y_pred))\n",
    "print(loss)"
   ]
  }
 ],
 "metadata": {
  "kernelspec": {
   "display_name": "Python 3.10.12 64-bit",
   "language": "python",
   "name": "python3"
  },
  "language_info": {
   "codemirror_mode": {
    "name": "ipython",
    "version": 3
   },
   "file_extension": ".py",
   "mimetype": "text/x-python",
   "name": "python",
   "nbconvert_exporter": "python",
   "pygments_lexer": "ipython3",
   "version": "3.10.12"
  },
  "orig_nbformat": 4,
  "vscode": {
   "interpreter": {
    "hash": "916dbcbb3f70747c44a77c7bcd40155683ae19c65e1c03b4aa3499c5328201f1"
   }
  }
 },
 "nbformat": 4,
 "nbformat_minor": 2
}
