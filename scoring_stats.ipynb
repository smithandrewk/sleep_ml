{
 "cells": [
  {
   "cell_type": "code",
   "execution_count": null,
   "metadata": {},
   "outputs": [],
   "source": [
    "import pandas as pd\n",
    "import numpy as np\n",
    "from tqdm import tqdm\n",
    "\n",
    "def get_bout_statistics_for_predictions(pred):\n",
    "    total_0 = pred.value_counts()*10/60 # total duration in minutes\n",
    "    bout_lengths = {\n",
    "    'P':[],\n",
    "    'S':[],\n",
    "    'W':[],\n",
    "    'X':[],\n",
    "    'A':[]\n",
    "    }\n",
    "    transition_matrix = pd.DataFrame(np.zeros((5,5)),columns=['P','S','W','X','A'],index=['P','S','W','X','A'])\n",
    "\n",
    "    current_state = 'A'\n",
    "    current_length = 0\n",
    "    for epoch in pred:\n",
    "        transition_matrix.loc[current_state,epoch] += 1\n",
    "        if(epoch != current_state):\n",
    "            bout_lengths[current_state].append(current_length)\n",
    "            current_state = epoch\n",
    "            current_length = 0\n",
    "        current_length += 1\n",
    "    bout_lengths[current_state].append(current_length)\n",
    "    total_1 = {key:sum(bout_lengths[key])*10/60 for key in bout_lengths}\n",
    "    average = {key:np.mean(bout_lengths[key])*10 for key in bout_lengths}\n",
    "    counts = {key:len(bout_lengths[key]) for key in bout_lengths}\n",
    "    \n",
    "    return pd.Series(total_0,name='total_value_counts'),pd.Series(total_1,name='total_computed'),pd.Series(average,name='average'),pd.Series(counts,name='counts')"
   ]
  },
  {
   "cell_type": "code",
   "execution_count": null,
   "metadata": {},
   "outputs": [],
   "source": [
    "average_bout_duration = pd.DataFrame()\n",
    "total_bout_duration = pd.DataFrame()\n",
    "average_number_of_bouts = pd.DataFrame()\n",
    "for i in tqdm(range(32)):\n",
    "    pred = pd.read_csv(f'data/alpha_sleep/{i}.csv')['label']\n",
    "    total_0,total_1,average,counts = get_bout_statistics_for_predictions(pred)\n",
    "    average_bout_duration = pd.concat([average_bout_duration,average],axis=1)\n",
    "    total_bout_duration = pd.concat([total_bout_duration,total_1],axis=1)\n",
    "    average_number_of_bouts = pd.concat([average_number_of_bouts,counts],axis=1)\n",
    "average_bout_duration = average_bout_duration.drop(['X','A']).T.reset_index(drop=True)\n",
    "total_bout_duration = total_bout_duration.drop(['X','A']).T.reset_index(drop=True)\n",
    "average_number_of_bouts = average_number_of_bouts.drop(['X','A']).T.reset_index(drop=True)"
   ]
  },
  {
   "cell_type": "code",
   "execution_count": null,
   "metadata": {},
   "outputs": [],
   "source": [
    "average_bout_duration = pd.DataFrame()\n",
    "total_bout_duration = pd.DataFrame()\n",
    "average_number_of_bouts = pd.DataFrame()\n",
    "pred = pd.read_csv(f'pred.csv')['0']\n",
    "total_0,total_1,average,counts = get_bout_statistics_for_predictions(pred)\n",
    "average_bout_duration = pd.concat([average_bout_duration,average],axis=1)\n",
    "total_bout_duration = pd.concat([total_bout_duration,total_1],axis=1)\n",
    "average_number_of_bouts = pd.concat([average_number_of_bouts,counts],axis=1)\n",
    "average_bout_duration = average_bout_duration.drop(['X','A']).T.reset_index(drop=True)\n",
    "total_bout_duration = total_bout_duration.drop(['X','A']).T.reset_index(drop=True)\n",
    "average_number_of_bouts = average_number_of_bouts.drop(['X','A']).T.reset_index(drop=True)"
   ]
  },
  {
   "cell_type": "code",
   "execution_count": null,
   "metadata": {},
   "outputs": [],
   "source": [
    "import seaborn as sns\n",
    "import matplotlib.pyplot as plt\n",
    "fig,axes = plt.subplots(nrows=1,ncols=3,sharey=True,figsize=(16,9))\n",
    "sns.histplot(average_bout_duration['P'],bins=32,kde=True,ax=axes[0])\n",
    "sns.histplot(average_bout_duration['S'],bins=32,kde=True,ax=axes[1])\n",
    "sns.histplot(average_bout_duration['W'],bins=32,kde=True,ax=axes[2])\n",
    "axes[0].axvline(average_bout_duration['P'].mean(),color='red')\n",
    "axes[1].axvline(average_bout_duration['S'].mean(),color='red')\n",
    "axes[2].axvline(average_bout_duration['W'].mean(),color='red')"
   ]
  },
  {
   "cell_type": "code",
   "execution_count": null,
   "metadata": {},
   "outputs": [],
   "source": [
    "fig,axes = plt.subplots(nrows=1,ncols=3,sharey=True,figsize=(16,9))\n",
    "sns.histplot(total_bout_duration['P'],bins=32,kde=True,ax=axes[0])\n",
    "sns.histplot(total_bout_duration['S'],bins=32,kde=True,ax=axes[1])\n",
    "sns.histplot(total_bout_duration['W'],bins=32,kde=True,ax=axes[2])\n",
    "axes[0].axvline(total_bout_duration['P'].mean(),color='red')\n",
    "axes[1].axvline(total_bout_duration['S'].mean(),color='red')\n",
    "axes[2].axvline(total_bout_duration['W'].mean(),color='red')"
   ]
  },
  {
   "cell_type": "code",
   "execution_count": null,
   "metadata": {},
   "outputs": [],
   "source": [
    "fig,axes = plt.subplots(nrows=1,ncols=3,sharey=True,figsize=(16,9))\n",
    "sns.histplot(average_number_of_bouts['P'],bins=32,kde=True,ax=axes[0])\n",
    "sns.histplot(average_number_of_bouts['S'],bins=32,kde=True,ax=axes[1])\n",
    "sns.histplot(average_number_of_bouts['W'],bins=32,kde=True,ax=axes[2])\n",
    "axes[0].axvline(average_number_of_bouts['P'].mean(),color='red')\n",
    "axes[1].axvline(average_number_of_bouts['S'].mean(),color='red')\n",
    "axes[2].axvline(average_number_of_bouts['W'].mean(),color='red')"
   ]
  },
  {
   "cell_type": "code",
   "execution_count": null,
   "metadata": {},
   "outputs": [],
   "source": [
    "total_bout_duration"
   ]
  },
  {
   "cell_type": "code",
   "execution_count": null,
   "metadata": {},
   "outputs": [],
   "source": [
    "average_bout_duration"
   ]
  },
  {
   "cell_type": "code",
   "execution_count": null,
   "metadata": {},
   "outputs": [],
   "source": [
    "average_number_of_bouts"
   ]
  },
  {
   "cell_type": "code",
   "execution_count": null,
   "metadata": {},
   "outputs": [],
   "source": [
    "plt.plot(pred.iloc[:9])"
   ]
  },
  {
   "cell_type": "code",
   "execution_count": null,
   "metadata": {},
   "outputs": [],
   "source": [
    "transition_matrix = transition_matrix.drop('X').drop('X',axis=1)"
   ]
  },
  {
   "cell_type": "code",
   "execution_count": null,
   "metadata": {},
   "outputs": [],
   "source": [
    "import seaborn as sns\n",
    "sns.heatmap(transition_matrix/16,annot=True,fmt='.0f')"
   ]
  }
 ],
 "metadata": {
  "kernelspec": {
   "display_name": "Python 3.10.6 64-bit",
   "language": "python",
   "name": "python3"
  },
  "language_info": {
   "codemirror_mode": {
    "name": "ipython",
    "version": 3
   },
   "file_extension": ".py",
   "mimetype": "text/x-python",
   "name": "python",
   "nbconvert_exporter": "python",
   "pygments_lexer": "ipython3",
   "version": "3.10.6"
  },
  "orig_nbformat": 4,
  "vscode": {
   "interpreter": {
    "hash": "916dbcbb3f70747c44a77c7bcd40155683ae19c65e1c03b4aa3499c5328201f1"
   }
  }
 },
 "nbformat": 4,
 "nbformat_minor": 2
}
