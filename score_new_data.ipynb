{
 "cells": [
  {
   "cell_type": "code",
   "execution_count": 1,
   "metadata": {},
   "outputs": [
    {
     "name": "stderr",
     "output_type": "stream",
     "text": [
      "/home/andrew/.local/lib/python3.10/site-packages/tqdm/auto.py:22: TqdmWarning: IProgress not found. Please update jupyter and ipywidgets. See https://ipywidgets.readthedocs.io/en/stable/user_install.html\n",
      "  from .autonotebook import tqdm as notebook_tqdm\n"
     ]
    }
   ],
   "source": [
    "import torch\n",
    "y = torch.load('data_pt/y_train.pt').argmax(axis=1)"
   ]
  },
  {
   "cell_type": "code",
   "execution_count": 2,
   "metadata": {},
   "outputs": [
    {
     "data": {
      "text/plain": [
       "tensor([0.0531, 0.4431, 0.5038])"
      ]
     },
     "execution_count": 2,
     "metadata": {},
     "output_type": "execute_result"
    }
   ],
   "source": [
    "torch.bincount(y)/len(y)"
   ]
  },
  {
   "cell_type": "code",
   "execution_count": null,
   "metadata": {},
   "outputs": [],
   "source": [
    "import os\n",
    "\n",
    "for file in os.listdir('aging'):\n",
    "    if file.endswith('edf'):\n",
    "        continue\n",
    "    name = file.split('.')[1]\n",
    "    os.system(f'mv \"aging/{file}\" aging/{name}.zdb')"
   ]
  },
  {
   "cell_type": "code",
   "execution_count": null,
   "metadata": {},
   "outputs": [],
   "source": [
    "from lib.utils import load_raw_by_path\n",
    "from torch import nn\n",
    "from torch.nn.functional import batch_norm,relu\n",
    "from torch import nn\n",
    "import numpy as np\n",
    "from torch.nn.functional import softmax\n",
    "import torch\n",
    "import sqlite3\n",
    "from sqlite3 import Error\n",
    "import os\n",
    "import pandas as pd\n",
    "from tqdm import tqdm\n",
    "EEG_1 = [1,8,14,15,16]\n",
    "EEG_2 = [3,4,5,6,7,9,10,11,12,13,17]\n",
    "checkpoint = torch.load('model_106_0.3201.pt')\n",
    "model = checkpoint['model_class']\n",
    "model.load_state_dict(checkpoint['model_state_dict'])\n",
    "dists = []\n",
    "for i in tqdm(range(1,18)):\n",
    "    if i==2:\n",
    "        continue\n",
    "    raw = load_raw_by_path(f'aging/22-AGING-{i}.edf').get_data(picks=['EEG','EMG'])\n",
    "    if(i in EEG_1):\n",
    "        eeg = raw[0]\n",
    "    elif(i in EEG_2):\n",
    "        eeg = raw[1]\n",
    "    else:\n",
    "        print(\"error\")\n",
    "    del raw\n",
    "    eeg = eeg.reshape(-1,5000)\n",
    "    print(\"Centering\")\n",
    "    eeg_centered = eeg - eeg.mean(axis=1).reshape(-1,1)\n",
    "    del eeg\n",
    "    std = eeg_centered.std(axis=1)\n",
    "    std[np.where(std==0)[0]] = 1\n",
    "    eeg_norm = eeg_centered/std.reshape(-1,1)\n",
    "    del eeg_centered\n",
    "    del std\n",
    "    X = torch.from_numpy(eeg_norm.reshape(-1,1,5000)).float()\n",
    "    del eeg_norm\n",
    "    print(X.isinf().any())\n",
    "    X = X[:,:,::10]\n",
    "    y_pred = softmax(model(X),dim=1).argmax(axis=1)\n",
    "    del X\n",
    "    pred_expert = np.array(y_pred).copy()\n",
    "    del y_pred\n",
    "    print(\"Experting\")\n",
    "    for j in range(len(pred_expert)-2):\n",
    "        if((pred_expert[j:j+2]==np.array([2,0])).all()):\n",
    "            pred_expert[j+1] = 2\n",
    "    for j in range(len(pred_expert)-2):\n",
    "        if(pred_expert[j+1] != pred_expert[j] and pred_expert[j+1] != pred_expert[j+2]):\n",
    "            pred_expert[j+1] = pred_expert[j]\n",
    "    df = pd.DataFrame(pred_expert)\n",
    "    df[df[0] == 0] = 'P'\n",
    "    df[df[0] == 1] = 'S'\n",
    "    df[df[0] == 2] = 'W'\n",
    "    print(df[0].value_counts(normalize=True))\n",
    "    dists.append(df[0].value_counts(normalize=True))\n",
    "    df.to_csv(f'aging/{i}_pred.csv',index=False)\n",
    "\n",
    "    offset = 10e7       #epoch time period\n",
    "    rename_dict = {'W':'Sleep-Wake', 'S':'Sleep-SWS', 'P':'Sleep-Paradoxical', 'X':''}\n",
    "\n",
    "    csv_filename = f'aging/{i}_pred.csv'\n",
    "    zdb_filename = f'aging/22-AGING-{i}.zdb'\n",
    "\n",
    "    df = pd.read_csv(csv_filename)\n",
    "    try:\n",
    "        conn = sqlite3.connect(zdb_filename)\n",
    "    except Error as e:\n",
    "        print(e)\n",
    "    cur = conn.cursor()\n",
    "\n",
    "    #drop this table - creates issues\n",
    "    query = \"DROP TABLE IF EXISTS temporary_scoring_marker;\"\n",
    "    cur.execute(query)\n",
    "\n",
    "    #get keyid of scoring\n",
    "    query = \"SELECT MAX(id) FROM scoring_revision WHERE name='Machine Data'\"\n",
    "    cur.execute(query)\n",
    "    keyid = cur.fetchall()[0][0]\n",
    "\n",
    "    #get starting point for scoring\n",
    "    query = \"SELECT id FROM scoring_marker WHERE type LIKE 'Sleep%' AND key_id='\"+str(keyid)+\"';\"\n",
    "    cur.execute(query)\n",
    "    startid = cur.fetchall()[0][0]\n",
    "\n",
    "    #get start time to crreate epochs\n",
    "    query = 'SELECT starts_at FROM scoring_marker WHERE id = '+str(startid)+\";\"\n",
    "    cur.execute(query)\n",
    "    start_time = cur.fetchall()[0][0]\n",
    "    stop_time = 0\n",
    "\n",
    "    #delete first score before adding machine data\n",
    "    query = \"DELETE FROM scoring_marker;\"\n",
    "    cur.execute(query)\n",
    "\n",
    "    #insert new epochs with scoring into the table\n",
    "    for i in range(len(df)):\n",
    "        #calculate epoch\n",
    "        if i != 0:\n",
    "            start_time = stop_time\n",
    "        stop_time = start_time+offset\n",
    "\n",
    "        score = rename_dict[df.at[i,'0']]\n",
    "        #insert epoch\n",
    "        query = f\"\"\"\n",
    "                INSERT INTO scoring_marker \n",
    "                (starts_at, ends_at, notes, type, location, is_deleted, key_id)\n",
    "                VALUES \n",
    "                ({start_time}, {stop_time}, '', '{score}', '', 0, {keyid});\n",
    "                \"\"\" \n",
    "        cur.execute(query)\n",
    "\n",
    "    conn.commit()\n",
    "    conn.close()"
   ]
  },
  {
   "cell_type": "code",
   "execution_count": null,
   "metadata": {},
   "outputs": [],
   "source": [
    "tmp = pd.DataFrame()\n",
    "for dist in dists:\n",
    "    tmp = pd.concat([tmp,dist],axis=1)"
   ]
  },
  {
   "cell_type": "code",
   "execution_count": null,
   "metadata": {},
   "outputs": [],
   "source": [
    "import seaborn as sns\n",
    "sns.kdeplot(tmp.T['P'].reset_index(drop=True),fill=True)\n",
    "plt.xlabel(\"Proportion\")\n",
    "plt.title(\"Paradoxical Proportion Distribution Over Aging Cohort\")\n",
    "plt.savefig(\"p.jpg\")"
   ]
  },
  {
   "cell_type": "code",
   "execution_count": null,
   "metadata": {},
   "outputs": [],
   "source": [
    "\n",
    "sns.kdeplot(tmp.T['S'].reset_index(drop=True),color='green',fill=True)\n",
    "plt.xlabel(\"Proportion\")\n",
    "plt.title(\"Slow Wave Proportion Distribution Over Aging Cohort\")\n",
    "plt.savefig(\"s.jpg\")"
   ]
  },
  {
   "cell_type": "code",
   "execution_count": null,
   "metadata": {},
   "outputs": [],
   "source": [
    "\n",
    "sns.kdeplot(tmp.T['W'].reset_index(drop=True),color='red',fill=True)\n",
    "plt.xlabel(\"Proportion\")\n",
    "plt.title(\"Wakefulness Proportion Distribution Over Aging Cohort\")\n",
    "plt.savefig(\"w.jpg\")"
   ]
  },
  {
   "cell_type": "code",
   "execution_count": 18,
   "metadata": {},
   "outputs": [
    {
     "name": "stdout",
     "output_type": "stream",
     "text": [
      "Centering\n",
      "tensor(False)\n"
     ]
    }
   ],
   "source": [
    "import matplotlib.pyplot as plt\n",
    "import plotly.express as px\n",
    "import numpy as np\n",
    "import pandas as pd\n",
    "from lib.utils import load_raw_by_path\n",
    "from torch import nn\n",
    "from torch.nn.functional import batch_norm,relu\n",
    "from torch import nn\n",
    "import numpy as np\n",
    "from torch.nn.functional import softmax\n",
    "import torch\n",
    "import sqlite3\n",
    "from sqlite3 import Error\n",
    "import os\n",
    "import pandas as pd\n",
    "from tqdm import tqdm\n",
    "EEG_1 = [1,8,14,15,16]\n",
    "EEG_2 = [3,4,5,6,7,9,10,11,12,13,17]\n",
    "i = 1\n",
    "y_plot = np.array([])\n",
    "raw = load_raw_by_path(f'aging/22-AGING-{i}.edf').get_data(picks=['EEG','EMG'])\n",
    "if(i in EEG_1):\n",
    "    eeg = raw[0]\n",
    "elif(i in EEG_2):\n",
    "    eeg = raw[1]\n",
    "else:\n",
    "    print(\"error\")\n",
    "del raw\n",
    "eeg = eeg.reshape(-1,5000)\n",
    "print(\"Centering\")\n",
    "eeg_centered = eeg - eeg.mean(axis=1).reshape(-1,1)\n",
    "del eeg\n",
    "std = eeg_centered.std(axis=1)\n",
    "std[np.where(std==0)[0]] = 1\n",
    "eeg_norm = eeg_centered/std.reshape(-1,1)\n",
    "del eeg_centered\n",
    "del std\n",
    "X = torch.from_numpy(eeg_norm.reshape(-1,1,5000)).float()\n",
    "del eeg_norm\n",
    "print(X.isinf().any())\n",
    "X = X[:,:,::10]\n",
    "pred_expert = pd.read_csv(f'aging/{i}_pred.csv')\n",
    "for pred in pred_expert.iloc:\n",
    "    y_plot = np.concatenate([y_plot,np.array([pred[0]]*50)])"
   ]
  },
  {
   "cell_type": "code",
   "execution_count": 6,
   "metadata": {},
   "outputs": [],
   "source": [
    "df = pd.DataFrame([y_plot,X.flatten()[::10]]).T"
   ]
  },
  {
   "cell_type": "code",
   "execution_count": 11,
   "metadata": {},
   "outputs": [
    {
     "data": {
      "text/plain": [
       "torch.Size([13378000])"
      ]
     },
     "execution_count": 11,
     "metadata": {},
     "output_type": "execute_result"
    }
   ],
   "source": [
    "X.flatten().shape"
   ]
  },
  {
   "cell_type": "code",
   "execution_count": 7,
   "metadata": {},
   "outputs": [],
   "source": [
    "fig = px.line(X.flatte.iloc[:50*90])\n",
    "fig.show(renderer='browser')"
   ]
  }
 ],
 "metadata": {
  "kernelspec": {
   "display_name": "Python 3.10.6 64-bit",
   "language": "python",
   "name": "python3"
  },
  "language_info": {
   "codemirror_mode": {
    "name": "ipython",
    "version": 3
   },
   "file_extension": ".py",
   "mimetype": "text/x-python",
   "name": "python",
   "nbconvert_exporter": "python",
   "pygments_lexer": "ipython3",
   "version": "3.10.6"
  },
  "orig_nbformat": 4,
  "vscode": {
   "interpreter": {
    "hash": "916dbcbb3f70747c44a77c7bcd40155683ae19c65e1c03b4aa3499c5328201f1"
   }
  }
 },
 "nbformat": 4,
 "nbformat_minor": 2
}
