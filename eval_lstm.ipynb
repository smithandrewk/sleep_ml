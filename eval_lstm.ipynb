{
 "cells": [
  {
   "cell_type": "code",
   "execution_count": 2,
   "metadata": {},
   "outputs": [
    {
     "ename": "TypeError",
     "evalue": "get_dataloaders() missing 1 required positional argument: 'dataloaders'",
     "output_type": "error",
     "traceback": [
      "\u001b[0;31m---------------------------------------------------------------------------\u001b[0m",
      "\u001b[0;31mTypeError\u001b[0m                                 Traceback (most recent call last)",
      "Cell \u001b[0;32mIn[2], line 13\u001b[0m\n\u001b[1;32m     11\u001b[0m model \u001b[38;5;241m=\u001b[39m copy\u001b[38;5;241m.\u001b[39mdeepcopy(state[\u001b[38;5;124m'\u001b[39m\u001b[38;5;124mmodel\u001b[39m\u001b[38;5;124m'\u001b[39m])\n\u001b[1;32m     12\u001b[0m model\u001b[38;5;241m.\u001b[39mload_state_dict(state[\u001b[38;5;124m'\u001b[39m\u001b[38;5;124mbest_model_wts_dev_loss\u001b[39m\u001b[38;5;124m'\u001b[39m])\n\u001b[0;32m---> 13\u001b[0m dataloaders \u001b[38;5;241m=\u001b[39m \u001b[43mget_dataloaders\u001b[49m\u001b[43m(\u001b[49m\u001b[38;5;241;43m*\u001b[39;49m\u001b[38;5;241;43m*\u001b[39;49m\u001b[43mstate\u001b[49m\u001b[43m)\u001b[49m\n\u001b[1;32m     15\u001b[0m loss,y_true,y_pred \u001b[38;5;241m=\u001b[39m evaluate(dataloader\u001b[38;5;241m=\u001b[39mdataloaders[\u001b[38;5;124m'\u001b[39m\u001b[38;5;124mdevloader\u001b[39m\u001b[38;5;124m'\u001b[39m],model\u001b[38;5;241m=\u001b[39mmodel,criterion\u001b[38;5;241m=\u001b[39mstate[\u001b[38;5;124m'\u001b[39m\u001b[38;5;124mcriterion\u001b[39m\u001b[38;5;124m'\u001b[39m],device\u001b[38;5;241m=\u001b[39m\u001b[38;5;124m'\u001b[39m\u001b[38;5;124mcuda\u001b[39m\u001b[38;5;124m'\u001b[39m)\n\u001b[1;32m     16\u001b[0m fig,axes \u001b[38;5;241m=\u001b[39m plt\u001b[38;5;241m.\u001b[39msubplots(nrows\u001b[38;5;241m=\u001b[39m\u001b[38;5;241m1\u001b[39m,ncols\u001b[38;5;241m=\u001b[39m\u001b[38;5;241m2\u001b[39m,figsize\u001b[38;5;241m=\u001b[39m(\u001b[38;5;241m8\u001b[39m,\u001b[38;5;241m4.5\u001b[39m))\n",
      "\u001b[0;31mTypeError\u001b[0m: get_dataloaders() missing 1 required positional argument: 'dataloaders'"
     ]
    }
   ],
   "source": [
    "from sklearn.model_selection import train_test_split\n",
    "from sklearn.metrics import ConfusionMatrixDisplay\n",
    "from lib.ekyn import *\n",
    "from lib.env import *\n",
    "import copy\n",
    "from sage.utils import *\n",
    "\n",
    "MODEL_ID = f'10'\n",
    "\n",
    "state = torch.load(f'{TMP_EXPERIMENTS_PATH}/{MODEL_ID}/state.pt',map_location='cpu',weights_only=False)\n",
    "model = copy.deepcopy(state['model'])\n",
    "model.load_state_dict(state['best_model_wts_dev_loss'])\n",
    "trainloader,testloader = get_sequenced_dataloaders_loo(**state)\n",
    "\n",
    "\n",
    "loss,y_true,y_pred = evaluate(dataloader=dataloaders['devloader'],model=model,criterion=state['criterion'],device='cuda')\n",
    "fig,axes = plt.subplots(nrows=1,ncols=2,figsize=(8,4.5))\n",
    "ConfusionMatrixDisplay.from_predictions(y_true,y_pred,normalize='true',colorbar=False,ax=axes[0])\n",
    "ConfusionMatrixDisplay.from_predictions(y_true,y_pred,normalize='pred',colorbar=False,ax=axes[1])\n",
    "axes[0].set_title('Recall')\n",
    "axes[1].set_title('Precision')\n",
    "plt.suptitle(f'f1 : {f1_score(y_true,y_pred,average=\"macro\"):.3f}   loss: {loss:.3f}')\n",
    "\n",
    "loss,y_true,y_pred = evaluate(dataloader=dataloaders['testloader'],model=model,criterion=state['criterion'],device='cuda')\n",
    "fig,axes = plt.subplots(nrows=1,ncols=2,figsize=(8,4.5))\n",
    "ConfusionMatrixDisplay.from_predictions(y_true,y_pred,normalize='true',colorbar=False,ax=axes[0])\n",
    "ConfusionMatrixDisplay.from_predictions(y_true,y_pred,normalize='pred',colorbar=False,ax=axes[1])\n",
    "axes[0].set_title('Recall')\n",
    "axes[1].set_title('Precision')\n",
    "plt.suptitle(f'f1 : {f1_score(y_true,y_pred,average=\"macro\"):.3f}   loss: {loss:.3f}')\n",
    "\n",
    "# TODO : add best loss epoch during training\n",
    "plot_loss(state,f'{TMP_EXPERIMENTS_PATH}/{MODEL_ID}')"
   ]
  },
  {
   "cell_type": "code",
   "execution_count": null,
   "metadata": {},
   "outputs": [],
   "source": []
  },
  {
   "cell_type": "code",
   "execution_count": null,
   "metadata": {},
   "outputs": [],
   "source": []
  },
  {
   "cell_type": "code",
   "execution_count": null,
   "metadata": {},
   "outputs": [],
   "source": []
  }
 ],
 "metadata": {
  "kernelspec": {
   "display_name": "Python 3",
   "language": "python",
   "name": "python3"
  },
  "language_info": {
   "codemirror_mode": {
    "name": "ipython",
    "version": 3
   },
   "file_extension": ".py",
   "mimetype": "text/x-python",
   "name": "python",
   "nbconvert_exporter": "python",
   "pygments_lexer": "ipython3",
   "version": "3.10.12"
  }
 },
 "nbformat": 4,
 "nbformat_minor": 2
}
