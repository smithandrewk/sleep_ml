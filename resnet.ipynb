{
 "cells": [
  {
   "cell_type": "code",
   "execution_count": 1,
   "metadata": {},
   "outputs": [
    {
     "name": "stdout",
     "output_type": "stream",
     "text": [
      "train_ids ['F1-0', 'B3-1', 'A4-0', 'F1-1', 'E2-1', 'C4-1', 'F5-1', 'E4-0', 'B1-0', 'A1-0', 'C1-0', 'E4-1']\n",
      "test_ids ['A1-1', 'C4-0', 'D1-0', 'E1-0']\n",
      "n ids 16\n",
      "405 training batches 135 testing batches\n",
      "207360 training samples 69120 testing samples\n",
      "576.00 training hours 192.00 testing hours\n",
      "111219 params\n"
     ]
    },
    {
     "name": "stderr",
     "output_type": "stream",
     "text": [
      "0.2688,0.2594:   0%|          | 2/500 [00:32<2:14:24, 16.19s/it]"
     ]
    }
   ],
   "source": [
    "# TODO : generator\n",
    "from lib.ekyn import get_epoched_dataloaders\n",
    "from sage.utils import *\n",
    "from sage.models import *\n",
    "from time import time\n",
    "import datetime\n",
    "import copy\n",
    "import os\n",
    "\n",
    "hyperparameters = {\n",
    "    'experiment_group_id':'downsampling',\n",
    "    'wd':1e-2,\n",
    "    'lr':3e-4,\n",
    "    'batch_size':512,\n",
    "    'robust':False,\n",
    "    'norm':'batch',\n",
    "    'dropout':.1,\n",
    "    'stem_kernel_size':3,\n",
    "    'widthi':[16,32,64,128],\n",
    "    'depthi':[1,1,1,1],\n",
    "    'patience':100,\n",
    "    'epochs':500\n",
    "}\n",
    "\n",
    "trainloader,testloader = get_epoched_dataloaders(batch_size=hyperparameters['batch_size'],robust=hyperparameters['robust'])\n",
    "model = ResNetv2(ResBlockv2,widthi=hyperparameters['widthi'],depthi=hyperparameters['depthi'],n_output_neurons=3,norm=hyperparameters['norm'],stem_kernel_size=hyperparameters['stem_kernel_size'],dropout=hyperparameters['dropout'])\n",
    "criterion = nn.CrossEntropyLoss()\n",
    "optimizer = torch.optim.AdamW(model.parameters(),lr=hyperparameters['lr'],weight_decay=hyperparameters['wd'])\n",
    "scheduler = torch.optim.lr_scheduler.ReduceLROnPlateau(optimizer, mode='min', factor=0.5, patience=50)\n",
    "\n",
    "state = {\n",
    "    'start_time':datetime.datetime.now().strftime(\"%Y_%d_%m_%H_%M_%S\"),\n",
    "    'execution_time':0,\n",
    "    'device':'cuda',\n",
    "    'trainlossi':[],\n",
    "    'testlossi':[],\n",
    "    'best_dev_loss':torch.inf,\n",
    "    'model':model,\n",
    "    'scheduler':scheduler,\n",
    "    'criterion':criterion,\n",
    "    'optimizer':optimizer,\n",
    "    'best_model_wts':copy.deepcopy(model.state_dict()),\n",
    "}\n",
    "\n",
    "os.makedirs(f'experiments/{state[\"start_time\"]}')\n",
    "\n",
    "for key in hyperparameters:\n",
    "    state[key] = hyperparameters[key]\n",
    "\n",
    "last_time = time()\n",
    "\n",
    "for state in train(state,trainloader,testloader):\n",
    "    plot_loss(state)\n",
    "    state['execution_time'] = (state['execution_time'] + (time() - last_time))/2\n",
    "    last_time = time()\n",
    "    torch.save(state, f'experiments/{state[\"start_time\"]}/state.pt')\n",
    "torch.save(state, f'experiments/{state[\"start_time\"]}/state.pt')\n"
   ]
  }
 ],
 "metadata": {
  "kernelspec": {
   "display_name": "Python 3",
   "language": "python",
   "name": "python3"
  },
  "language_info": {
   "codemirror_mode": {
    "name": "ipython",
    "version": 3
   },
   "file_extension": ".py",
   "mimetype": "text/x-python",
   "name": "python",
   "nbconvert_exporter": "python",
   "pygments_lexer": "ipython3",
   "version": "3.10.12"
  }
 },
 "nbformat": 4,
 "nbformat_minor": 2
}
