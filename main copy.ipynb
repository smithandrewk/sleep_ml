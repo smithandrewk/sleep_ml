{
 "cells": [
  {
   "cell_type": "code",
   "execution_count": null,
   "metadata": {},
   "outputs": [],
   "source": [
    "from lib.ekyn import *\n",
    "import torch\n",
    "from sklearn.model_selection import train_test_split\n",
    "from sklearn.preprocessing import RobustScaler\n",
    "import matplotlib.pyplot as plt\n",
    "import pandas as pd\n",
    "import seaborn as sns\n",
    "from torch import nn\n",
    "from torch.nn.functional import relu\n",
    "from lib.models import *\n",
    "from lib.deep_learning_utils import evaluate\n",
    "from sklearn.metrics import ConfusionMatrixDisplay,classification_report,f1_score\n",
    "\n",
    "ekyn_ids = get_ekyn_ids()\n",
    "snezana_mice_ids = get_snezana_mice_ids()\n",
    "\n",
    "n_samples = len(ekyn_ids) * 17280\n",
    "n_seconds = n_samples * 10\n",
    "n_hours = n_seconds / 3600\n",
    "print(f'{n_hours} hours')"
   ]
  },
  {
   "cell_type": "code",
   "execution_count": null,
   "metadata": {},
   "outputs": [],
   "source": [
    "model = ResNetv2(block=ResBlockv2,widthi=[4,8,16,32],depthi=[2,2,2,2],n_output_neurons=3)\n",
    "criterion = nn.CrossEntropyLoss()\n",
    "optimizer = torch.optim.AdamW(model.parameters(),lr=3e-4, weight_decay=1e-4)\n",
    "scheduler = torch.optim.lr_scheduler.ReduceLROnPlateau(optimizer, mode='min', factor=0.5, patience=10)"
   ]
  },
  {
   "cell_type": "code",
   "execution_count": null,
   "metadata": {},
   "outputs": [],
   "source": [
    "import numpy as np\n",
    "ekyn_ids = np.array(ekyn_ids)\n",
    "snezana_mice_ids = np.array(snezana_mice_ids)"
   ]
  },
  {
   "cell_type": "code",
   "execution_count": null,
   "metadata": {},
   "outputs": [],
   "source": [
    "train_ids = {'ekyn':ekyn_ids[[0,1,2,3,4,5,6,7,8,9]],'snezana_mice':snezana_mice_ids[[0,1,2,3,4]]}\n",
    "test_ids  = {'ekyn':ekyn_ids[[10,11,12,13,14,15]],'snezana_mice':snezana_mice_ids[[5,6,7,8]]}\n",
    "\n",
    "from torch.utils.data import DataLoader,ConcatDataset\n",
    "trainloader = DataLoader(\n",
    "        dataset=ConcatDataset(\n",
    "        [EpochedDataset(id=id,condition=condition,robust=True,downsampled=True) for id in train_ids['ekyn'] for condition in CONDITIONS] \n",
    "        + [EpochedDataset(id=id,snezana_mice=True) for id in train_ids['snezana_mice']]\n",
    "        ),\n",
    "        batch_size=1024,\n",
    "        shuffle=True,\n",
    "        num_workers=0\n",
    "    )\n",
    "\n",
    "testloader = DataLoader(\n",
    "        dataset=ConcatDataset(\n",
    "        [EpochedDataset(id=id,condition=condition,robust=True,downsampled=True) for id in test_ids['ekyn'] for condition in CONDITIONS] \n",
    "        + [EpochedDataset(id=id,snezana_mice=True) for id in test_ids['snezana_mice']]\n",
    "        ),\n",
    "        batch_size=1024,\n",
    "        shuffle=True,\n",
    "        num_workers=0\n",
    "    )\n",
    "print(train_ids,test_ids)\n",
    "print(len(trainloader)*1024,len(testloader)*1024)"
   ]
  },
  {
   "cell_type": "code",
   "execution_count": null,
   "metadata": {},
   "outputs": [],
   "source": [
    "trainlossi = []\n",
    "testlossi = []"
   ]
  },
  {
   "cell_type": "code",
   "execution_count": null,
   "metadata": {},
   "outputs": [],
   "source": [
    "ibatch = 0\n",
    "nbatch = 10000\n",
    "model.to('cuda')\n",
    "from tqdm import tqdm\n",
    "for i in tqdm(range(100)):\n",
    "    model.train()\n",
    "    for Xi,yi in trainloader:\n",
    "        ibatch += 1\n",
    "        Xi,yi = Xi.to('cuda'),yi.to('cuda')\n",
    "        logits = model(Xi)\n",
    "        loss = criterion(logits,yi)\n",
    "        optimizer.zero_grad()\n",
    "        loss.backward()\n",
    "        optimizer.step()\n",
    "        trainlossi.append(loss.item())\n",
    "\n",
    "    model.eval()\n",
    "    with torch.no_grad():\n",
    "        loss_total = 0\n",
    "        for Xi,yi in testloader:\n",
    "            Xi,yi = Xi.to('cuda'),yi.to('cuda')\n",
    "            logits = model(Xi)\n",
    "            loss = criterion(logits,yi)\n",
    "            loss_total += loss.item()\n",
    "        testlossi.append(loss_total/len(testloader))\n",
    "    \n",
    "    plt.figure()\n",
    "    plt.plot(torch.linspace(0,len(testlossi),len(trainlossi)),trainlossi)\n",
    "    plt.plot(torch.linspace(0,len(testlossi),len(testlossi) + 1),[trainlossi[0]] + testlossi)\n",
    "    plt.savefig('loss.jpg')\n",
    "    plt.close()\n",
    "\n",
    "    if ibatch >= nbatch:\n",
    "        break"
   ]
  },
  {
   "cell_type": "code",
   "execution_count": null,
   "metadata": {},
   "outputs": [],
   "source": [
    "fig,axes = plt.subplots(nrows=1,ncols=2,figsize=(8,4))\n",
    "loss,y_true,y_pred = evaluate(dataloader=trainloader,model=model,criterion=criterion,device='cuda')\n",
    "print(loss)\n",
    "ConfusionMatrixDisplay.from_predictions(y_true,y_pred,normalize='true',ax=axes[0],colorbar=False)\n",
    "axes[0].set_title(f'trainf1 : {f1_score(y_true,y_pred,average=\"macro\"):.3f}')\n",
    "loss,y_true,y_pred = evaluate(dataloader=testloader,model=model,criterion=criterion,device='cuda')\n",
    "print(loss)\n",
    "ConfusionMatrixDisplay.from_predictions(y_true,y_pred,normalize='true',ax=axes[1],colorbar=False)\n",
    "axes[1].set_title(f'testf1 : {f1_score(y_true,y_pred,average=\"macro\"):.3f}')"
   ]
  },
  {
   "cell_type": "code",
   "execution_count": null,
   "metadata": {},
   "outputs": [],
   "source": [
    "\n",
    "\n",
    "df = pd.DataFrame()\n",
    "\n",
    "plt.figure(figsize=(14,8))\n",
    "for id in ekyn_ids[:10]:\n",
    "    print(id)\n",
    "    X,y = load_ekyn_pt_robust(id=id,condition='Vehicle')\n",
    "    std,mean = torch.std_mean(X[torch.where(y.argmax(axis=1) == 1)[0]]\n",
    ",dim=1)\n",
    "    sns.ecdfplot(std,linewidth=2,label=id,color='blue')\n",
    "\n",
    "# df_long = df.melt()\n",
    "# df_long[['id','condition']] = df_long.variable.str.split('_',expand=True)\n",
    "# sns.ecdfplot(df_long[df_long.condition == 'Vehicle'],x='value',hue='id',linestyle='-')\n",
    "# sns.ecdfplot(df_long[df_long.condition == 'PF'],x='value',hue='id',linestyle='--')\n",
    "# std,mean = torch.std_mean(eeg,dim=1)\n",
    "\n",
    "plt.legend()\n",
    "plt.xlim([0,2])"
   ]
  },
  {
   "cell_type": "code",
   "execution_count": null,
   "metadata": {},
   "outputs": [],
   "source": [
    "X.shape"
   ]
  },
  {
   "cell_type": "code",
   "execution_count": null,
   "metadata": {},
   "outputs": [],
   "source": [
    "df = pd.DataFrame()\n",
    "\n",
    "plt.figure(figsize=(14,8))\n",
    "for id in idx:\n",
    "    for condition in ['Vehicle','PF']:\n",
    "        X,y = load_ekyn_pt(idx=id,condition=condition)\n",
    "        std,mean = torch.std_mean(X,dim=1)\n",
    "        df[f'{id}_{condition}'] = std\n",
    "df_long = df.melt()\n",
    "df_long[['id','condition']] = df_long.variable.str.split('_',expand=True)\n",
    "sns.ecdfplot(df_long[df_long.condition == 'Vehicle'],x='value',hue='id',linestyle='-')\n",
    "sns.ecdfplot(df_long[df_long.condition == 'PF'],x='value',hue='id',linestyle='--')\n",
    "std,mean = torch.std_mean(eeg,dim=1)\n",
    "sns.ecdfplot(std,linewidth=2)\n",
    "\n",
    "\n",
    "plt.xlim([0,.0002])"
   ]
  },
  {
   "cell_type": "code",
   "execution_count": null,
   "metadata": {},
   "outputs": [],
   "source": [
    "idx = get_ekyn_ids()\n",
    "# train_idx,test_idx = train_test_split(get_ekyn_ids(),test_size=.25,random_state=0)\n",
    "train_idx = get_ekyn_ids()\n",
    "test_idx = [train_idx[12]]\n",
    "train_idx.remove(test_idx[0])\n",
    "print(train_idx,test_idx)\n",
    "print(len(train_idx),len(test_idx))"
   ]
  },
  {
   "cell_type": "code",
   "execution_count": null,
   "metadata": {},
   "outputs": [],
   "source": [
    "df = pd.DataFrame()\n",
    "\n",
    "for id in idx:\n",
    "    for condition in ['Vehicle','PF']:\n",
    "        X,y = load_ekyn_pt(idx=id,condition=condition)\n",
    "        df[f'{id}_{condition}'] = torch.bincount(y.argmax(axis=1))/len(y)"
   ]
  },
  {
   "cell_type": "code",
   "execution_count": null,
   "metadata": {},
   "outputs": [],
   "source": [
    "df = df.T"
   ]
  },
  {
   "cell_type": "code",
   "execution_count": null,
   "metadata": {},
   "outputs": [],
   "source": [
    "plt.figure(figsize=(7.2,7.2),dpi=200)\n",
    "sns.boxplot(data=df)"
   ]
  },
  {
   "cell_type": "code",
   "execution_count": null,
   "metadata": {},
   "outputs": [],
   "source": [
    "s = df.describe()[1]\n",
    "w = df.describe()[2]\n",
    "iqr_s = s['75%'] - s['25%']\n",
    "iqr_w = w['75%'] - w['25%']\n",
    "lower_outlier_s = s['25%'] - (1.5*iqr_s)\n",
    "upper_outlier_w = w['75%'] + (1.5*iqr_w)\n",
    "lower_outlier_s"
   ]
  },
  {
   "cell_type": "code",
   "execution_count": null,
   "metadata": {},
   "outputs": [],
   "source": [
    "df[(df[1] < lower_outlier_s) | (df[2] > upper_outlier_w)]"
   ]
  },
  {
   "cell_type": "code",
   "execution_count": null,
   "metadata": {},
   "outputs": [],
   "source": [
    "from mne.io import read_raw_edf\n",
    "\n",
    "eeg = torch.from_numpy(read_raw_edf(f'./24-AGING-2.edf').get_data(picks=['EEG 1'])[0]).float().reshape(-1,5000)"
   ]
  },
  {
   "cell_type": "code",
   "execution_count": null,
   "metadata": {},
   "outputs": [],
   "source": [
    "df = pd.DataFrame()\n",
    "\n",
    "plt.figure(figsize=(14,8))\n",
    "for id in idx:\n",
    "    for condition in ['Vehicle','PF']:\n",
    "        X,y = load_ekyn_pt(idx=id,condition=condition)\n",
    "        std,mean = torch.std_mean(X,dim=1)\n",
    "        df[f'{id}_{condition}'] = std\n",
    "df_long = df.melt()\n",
    "df_long[['id','condition']] = df_long.variable.str.split('_',expand=True)\n",
    "sns.ecdfplot(df_long[df_long.condition == 'Vehicle'],x='value',hue='id',linestyle='-')\n",
    "sns.ecdfplot(df_long[df_long.condition == 'PF'],x='value',hue='id',linestyle='--')\n",
    "std,mean = torch.std_mean(eeg,dim=1)\n",
    "sns.ecdfplot(std,linewidth=2)\n",
    "\n",
    "\n",
    "plt.xlim([0,.0002])"
   ]
  }
 ],
 "metadata": {
  "kernelspec": {
   "display_name": "Python 3.10.12 64-bit",
   "language": "python",
   "name": "python3"
  },
  "language_info": {
   "codemirror_mode": {
    "name": "ipython",
    "version": 3
   },
   "file_extension": ".py",
   "mimetype": "text/x-python",
   "name": "python",
   "nbconvert_exporter": "python",
   "pygments_lexer": "ipython3",
   "version": "3.12.3"
  },
  "vscode": {
   "interpreter": {
    "hash": "916dbcbb3f70747c44a77c7bcd40155683ae19c65e1c03b4aa3499c5328201f1"
   }
  }
 },
 "nbformat": 4,
 "nbformat_minor": 2
}
