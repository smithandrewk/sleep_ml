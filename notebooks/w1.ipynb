{
 "cells": [
  {
   "cell_type": "code",
   "execution_count": 30,
   "metadata": {},
   "outputs": [
    {
     "name": "stdout",
     "output_type": "stream",
     "text": [
      "Params:  3003003\n"
     ]
    }
   ],
   "source": [
    "from lib.models import MLP\n",
    "from lib.datasets import Dataset2p0\n",
    "from torch.utils.data import DataLoader\n",
    "import torch\n",
    "from torch import nn\n",
    "from tqdm import tqdm\n",
    "from lib.utils import cms,test_evaluation\n",
    "import matplotlib.pyplot as plt\n",
    "from torch.utils.data import TensorDataset,DataLoader\n",
    "import plotly.express as px\n",
    "import pandas as pd\n",
    "from lib.utils import get_bout_statistics_for_predictions\n",
    "import numpy as np\n",
    "device = 'cuda'\n",
    "model = MLP().to(device)\n",
    "\n",
    "params = sum([p.flatten().size()[0] for p in list(model.parameters())])\n",
    "print(\"Params: \",params)\n",
    "data_dir = '../data/w1'\n",
    "trainloader = DataLoader(Dataset2p0(dir=f'{data_dir}/train/',labels=f'{data_dir}/y_train.pt'),batch_size=64,shuffle=True)\n",
    "devloader = DataLoader(Dataset2p0(dir=f'{data_dir}/dev/',labels=f'{data_dir}/y_dev.pt'),batch_size=64,shuffle=True)\n",
    "testloader = DataLoader(Dataset2p0(dir=f'{data_dir}/test/',labels=f'{data_dir}/y_test.pt'),batch_size=64,shuffle=True)\n",
    "criterion = nn.CrossEntropyLoss()\n",
    "optimizer = torch.optim.Adam(model.parameters())"
   ]
  },
  {
   "cell_type": "code",
   "execution_count": 31,
   "metadata": {},
   "outputs": [],
   "source": [
    "lossi = []"
   ]
  },
  {
   "cell_type": "code",
   "execution_count": null,
   "metadata": {},
   "outputs": [],
   "source": [
    "model.train()\n",
    "for i in range(10):\n",
    "    for (X_tr,y_tr) in tqdm(trainloader):\n",
    "        X_tr,y_tr = X_tr.to(device),y_tr.to(device)\n",
    "        logits = model(X_tr)\n",
    "        loss = criterion(logits,y_tr)\n",
    "        optimizer.zero_grad()\n",
    "        loss.backward()\n",
    "        optimizer.step()\n",
    "        lossi.append(loss.item())"
   ]
  },
  {
   "cell_type": "code",
   "execution_count": null,
   "metadata": {},
   "outputs": [],
   "source": [
    "plt.plot(lossi)\n",
    "print(torch.tensor(lossi).mean())"
   ]
  },
  {
   "cell_type": "code",
   "execution_count": null,
   "metadata": {},
   "outputs": [],
   "source": [
    "plt.plot(torch.tensor(lossi[100:len(lossi) - len(lossi)%20]).view(-1,20).mean(axis=1))\n",
    "print(torch.tensor(lossi[100:len(lossi) - len(lossi)%20]).view(-1,20).mean(axis=1)[-1])"
   ]
  },
  {
   "cell_type": "code",
   "execution_count": 32,
   "metadata": {},
   "outputs": [],
   "source": [
    "loss_tr = []\n",
    "loss_dev = []"
   ]
  },
  {
   "cell_type": "code",
   "execution_count": 33,
   "metadata": {},
   "outputs": [
    {
     "name": "stderr",
     "output_type": "stream",
     "text": [
      "100%|██████████| 10/10 [03:08<00:00, 18.82s/it]\n"
     ]
    }
   ],
   "source": [
    "pbar = tqdm(range(10))\n",
    "\n",
    "for epoch in pbar:\n",
    "    # train loop\n",
    "    model.train()\n",
    "    loss_tr_total = 0\n",
    "    for (X_tr,y_tr) in trainloader:\n",
    "        X_tr,y_tr = X_tr.to(device),y_tr.to(device)\n",
    "        logits = model(X_tr)\n",
    "        loss = criterion(logits,y_tr)\n",
    "        optimizer.zero_grad()\n",
    "        loss.backward()\n",
    "        optimizer.step()\n",
    "        loss_tr_total += loss.item()\n",
    "    loss_tr.append(loss_tr_total/len(trainloader))\n",
    "\n",
    "    # dev loop\n",
    "    model.eval()\n",
    "    loss_dev_total = 0\n",
    "    for (X_dv,y_dv) in devloader:\n",
    "        X_dv,y_dv = X_dv.to(device),y_dv.to(device)\n",
    "        logits = model(X_dv)\n",
    "        loss = criterion(logits,y_dv)\n",
    "        loss_dev_total += loss.item()\n",
    "    loss_dev.append(loss_dev_total/len(devloader))"
   ]
  },
  {
   "cell_type": "code",
   "execution_count": 35,
   "metadata": {},
   "outputs": [
    {
     "data": {
      "text/plain": [
       "[0.758230942795227,\n",
       " 0.7182287947079483,\n",
       " 0.723111689941289,\n",
       " 0.7074988385586786,\n",
       " 0.7060464920576265,\n",
       " 0.6750752561113313,\n",
       " 0.6730538325631658,\n",
       " 0.6784493698770206,\n",
       " 0.6386252824548309,\n",
       " 0.6915996422751937]"
      ]
     },
     "execution_count": 35,
     "metadata": {},
     "output_type": "execute_result"
    },
    {
     "data": {
      "image/png": "[encoded data removed]",
      "text/plain": [
       "<Figure size 640x480 with 1 Axes>"
      ]
     },
     "metadata": {},
     "output_type": "display_data"
    }
   ],
   "source": [
    "plt.plot(loss_tr)\n",
    "plt.plot(loss_dev)\n",
    "loss_dev"
   ]
  },
  {
   "cell_type": "code",
   "execution_count": null,
   "metadata": {},
   "outputs": [],
   "source": [
    "test_evaluation(trainloader,model,criterion)\n",
    "# .2348 on w1"
   ]
  },
  {
   "cell_type": "code",
   "execution_count": null,
   "metadata": {},
   "outputs": [],
   "source": [
    "test_evaluation(devloader,model,criterion)\n",
    "#.2483 on w1"
   ]
  },
  {
   "cell_type": "code",
   "execution_count": null,
   "metadata": {},
   "outputs": [],
   "source": [
    "test_evaluation(testloader,model,criterion)\n",
    "#.2475"
   ]
  },
  {
   "cell_type": "code",
   "execution_count": null,
   "metadata": {},
   "outputs": [],
   "source": [
    "# evaluate single holdout\n",
    "X,y = torch.load(f'{data_dir}/holdout_14.pt')\n",
    "holdoutloader = DataLoader(TensorDataset(X,y),batch_size=64)\n",
    "loss,y_true,y_pred = test_evaluation(holdoutloader,model,criterion)\n",
    "pred_expert = np.array(y_pred).copy()\n",
    "print(\"Experting\")\n",
    "\n",
    "for j in range(len(pred_expert)-2):\n",
    "    if(pred_expert[j+1] != pred_expert[j] and pred_expert[j+1] != pred_expert[j+2]):\n",
    "        pred_expert[j+1] = pred_expert[j]\n",
    "df = pd.DataFrame([y_true.numpy(),y_pred.detach().cpu().numpy(),pred_expert],index=['true','pred','expert']).T\n",
    "\n",
    "df.loc[df['true'] == 2,'true'] = 'W'\n",
    "df.loc[df['true'] == 1,'true'] = 'S'\n",
    "df.loc[df['true'] == 0,'true'] = 'P'\n",
    "df.loc[df['pred'] == 2,'pred'] = 'W'\n",
    "df.loc[df['pred'] == 1,'pred'] = 'S'\n",
    "df.loc[df['pred'] == 0,'pred'] = 'P'\n",
    "df.loc[df['expert'] == 2,'expert'] = 'W'\n",
    "df.loc[df['expert'] == 1,'expert'] = 'S'\n",
    "df.loc[df['expert'] == 0,'expert'] = 'P'\n",
    "cms(y_true=y_true,y_pred=pred_expert)"
   ]
  },
  {
   "cell_type": "code",
   "execution_count": null,
   "metadata": {},
   "outputs": [],
   "source": [
    "get_bout_statistics_for_predictions(df['true'])"
   ]
  },
  {
   "cell_type": "code",
   "execution_count": null,
   "metadata": {},
   "outputs": [],
   "source": [
    "get_bout_statistics_for_predictions(df['expert'])"
   ]
  },
  {
   "cell_type": "code",
   "execution_count": null,
   "metadata": {},
   "outputs": [],
   "source": [
    "fig = px.line(data_frame=df,y=['true','pred'])\n",
    "fig.show(renderer='browser')"
   ]
  },
  {
   "cell_type": "code",
   "execution_count": null,
   "metadata": {},
   "outputs": [],
   "source": [
    "# # evaluate single holdout\n",
    "# from sklearn.metrics import recall_score,precision_score,f1_score\n",
    "\n",
    "# holdout_idx = [4,5,7,14,30]\n",
    "# recalls = []\n",
    "# precisions = []\n",
    "# f1s = []\n",
    "# for idx in holdout_idx:\n",
    "#     X,y = torch.load(f'{data_dir}/holdout_{idx}.pt')\n",
    "#     holdoutloader = DataLoader(TensorDataset(X,y),batch_size=64)\n",
    "#     loss,y_true,y_pred = test_evaluation(holdoutloader,model,criterion)\n",
    "#     recall = recall_score(y_true=y_true,y_pred=y_pred,average='macro')\n",
    "#     precision = precision_score(y_true=y_true,y_pred=y_pred,average='macro')\n",
    "#     f1 = f1_score(y_true=y_true,y_pred=y_pred,average='macro')\n",
    "#     recalls.append(recall)\n",
    "#     precisions.append(precision)\n",
    "#     f1s.append(f1)\n",
    "#     print(recall,precision,f1,idx)\n",
    "# import seaborn as sns\n",
    "# sns.kdeplot(recalls)\n",
    "# sns.kdeplot(precisions)\n",
    "# sns.kdeplot(f1s)\n",
    "# torch.tensor(f1s).mean()\n",
    "# torch.tensor(f1s).std()"
   ]
  },
  {
   "cell_type": "code",
   "execution_count": null,
   "metadata": {},
   "outputs": [],
   "source": []
  },
  {
   "cell_type": "code",
   "execution_count": null,
   "metadata": {},
   "outputs": [],
   "source": []
  }
 ],
 "metadata": {
  "kernelspec": {
   "display_name": "Python 3.10.6 64-bit",
   "language": "python",
   "name": "python3"
  },
  "language_info": {
   "codemirror_mode": {
    "name": "ipython",
    "version": 3
   },
   "file_extension": ".py",
   "mimetype": "text/x-python",
   "name": "python",
   "nbconvert_exporter": "python",
   "pygments_lexer": "ipython3",
   "version": "3.10.6"
  },
  "orig_nbformat": 4,
  "vscode": {
   "interpreter": {
    "hash": "916dbcbb3f70747c44a77c7bcd40155683ae19c65e1c03b4aa3499c5328201f1"
   }
  }
 },
 "nbformat": 4,
 "nbformat_minor": 2
}
