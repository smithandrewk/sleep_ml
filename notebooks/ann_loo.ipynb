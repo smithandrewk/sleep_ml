{
 "cells": [
  {
   "cell_type": "code",
   "execution_count": 2,
   "metadata": {},
   "outputs": [
    {
     "name": "stderr",
     "output_type": "stream",
     "text": [
      "2023-02-17 16:11:12.794876: W tensorflow/stream_executor/platform/default/dso_loader.cc:64] Could not load dynamic library 'libcudart.so.11.0'; dlerror: libcudart.so.11.0: cannot open shared object file: No such file or directory\n",
      "2023-02-17 16:11:12.794907: I tensorflow/stream_executor/cuda/cudart_stub.cc:29] Ignore above cudart dlerror if you do not have a GPU set up on your machine.\n"
     ]
    }
   ],
   "source": [
    "from utils import *\n",
    "from sklearn.model_selection import train_test_split\n",
    "from sklearn.ensemble import RandomForestClassifier\n",
    "from sklearn.metrics import balanced_accuracy_score\n",
    "from sklearn.metrics import precision_score\n",
    "from sklearn.metrics import f1_score\n",
    "from sklearn.metrics import roc_auc_score\n",
    "from sklearn.metrics import recall_score\n",
    "from sklearn.metrics import confusion_matrix\n",
    "from sklearn.metrics import ConfusionMatrixDisplay\n",
    "from tqdm import tqdm\n",
    "import tensorflow as tf\n",
    "from tensorflow import keras\n",
    "from keras import layers\n",
    "normalize = True\n",
    "expert_rule = True"
   ]
  },
  {
   "cell_type": "code",
   "execution_count": 3,
   "metadata": {},
   "outputs": [],
   "source": [
    "df,df_left_out = leave_one_out()\n",
    "X_train = df.drop('label',axis=1)\n",
    "y_train = df['label']\n",
    "X_test = df_left_out.drop('label',axis=1)\n",
    "y_test = df_left_out['label']\n",
    "y_test = pd.Categorical(y_test).codes\n",
    "y_train = pd.Categorical(y_train).codes"
   ]
  },
  {
   "cell_type": "code",
   "execution_count": 4,
   "metadata": {},
   "outputs": [],
   "source": [
    "if normalize:\n",
    "    from sklearn.preprocessing import StandardScaler\n",
    "    scaler = StandardScaler()\n",
    "    X_train = scaler.fit_transform(X_train)\n",
    "    X_test = scaler.transform(X_test)"
   ]
  },
  {
   "cell_type": "code",
   "execution_count": 5,
   "metadata": {},
   "outputs": [
    {
     "name": "stderr",
     "output_type": "stream",
     "text": [
      "2023-02-17 16:11:19.156195: I tensorflow/stream_executor/cuda/cuda_gpu_executor.cc:975] successful NUMA node read from SysFS had negative value (-1), but there must be at least one NUMA node, so returning NUMA node zero\n",
      "2023-02-17 16:11:19.156586: W tensorflow/stream_executor/platform/default/dso_loader.cc:64] Could not load dynamic library 'libcudart.so.11.0'; dlerror: libcudart.so.11.0: cannot open shared object file: No such file or directory\n",
      "2023-02-17 16:11:19.156652: W tensorflow/stream_executor/platform/default/dso_loader.cc:64] Could not load dynamic library 'libcublas.so.11'; dlerror: libcublas.so.11: cannot open shared object file: No such file or directory\n",
      "2023-02-17 16:11:19.156697: W tensorflow/stream_executor/platform/default/dso_loader.cc:64] Could not load dynamic library 'libcublasLt.so.11'; dlerror: libcublasLt.so.11: cannot open shared object file: No such file or directory\n",
      "2023-02-17 16:11:19.156751: W tensorflow/stream_executor/platform/default/dso_loader.cc:64] Could not load dynamic library 'libcufft.so.10'; dlerror: libcufft.so.10: cannot open shared object file: No such file or directory\n",
      "2023-02-17 16:11:19.156794: W tensorflow/stream_executor/platform/default/dso_loader.cc:64] Could not load dynamic library 'libcurand.so.10'; dlerror: libcurand.so.10: cannot open shared object file: No such file or directory\n",
      "2023-02-17 16:11:19.156827: W tensorflow/stream_executor/platform/default/dso_loader.cc:64] Could not load dynamic library 'libcusolver.so.11'; dlerror: libcusolver.so.11: cannot open shared object file: No such file or directory\n",
      "2023-02-17 16:11:19.156864: W tensorflow/stream_executor/platform/default/dso_loader.cc:64] Could not load dynamic library 'libcusparse.so.11'; dlerror: libcusparse.so.11: cannot open shared object file: No such file or directory\n",
      "2023-02-17 16:11:19.156897: W tensorflow/stream_executor/platform/default/dso_loader.cc:64] Could not load dynamic library 'libcudnn.so.8'; dlerror: libcudnn.so.8: cannot open shared object file: No such file or directory\n",
      "2023-02-17 16:11:19.156903: W tensorflow/core/common_runtime/gpu/gpu_device.cc:1850] Cannot dlopen some GPU libraries. Please make sure the missing libraries mentioned above are installed properly if you would like to use GPU. Follow the guide at https://www.tensorflow.org/install/gpu for how to download and setup the required libraries for your platform.\n",
      "Skipping registering GPU devices...\n",
      "2023-02-17 16:11:19.157685: I tensorflow/core/platform/cpu_feature_guard.cc:193] This TensorFlow binary is optimized with oneAPI Deep Neural Network Library (oneDNN) to use the following CPU instructions in performance-critical operations:  AVX2 FMA\n",
      "To enable them in other operations, rebuild TensorFlow with the appropriate compiler flags.\n"
     ]
    }
   ],
   "source": [
    "model = keras.Sequential()\n",
    "model.add(layers.Dense(512, activation=\"relu\", input_shape=(X_train.shape[-1],)))\n",
    "model.add(layers.Dense(3, activation=\"softmax\"))"
   ]
  },
  {
   "cell_type": "code",
   "execution_count": 6,
   "metadata": {},
   "outputs": [
    {
     "name": "stdout",
     "output_type": "stream",
     "text": [
      "Epoch 1/3\n",
      "8368/8368 [==============================] - 5s 609us/step - loss: 0.4041\n",
      "Epoch 2/3\n",
      "8368/8368 [==============================] - 5s 611us/step - loss: 0.3739\n",
      "Epoch 3/3\n",
      "8368/8368 [==============================] - 5s 637us/step - loss: 0.3649\n"
     ]
    },
    {
     "data": {
      "text/plain": [
       "<keras.callbacks.History at 0x7f60607dcc40>"
      ]
     },
     "execution_count": 6,
     "metadata": {},
     "output_type": "execute_result"
    }
   ],
   "source": [
    "model.compile(\n",
    "    optimizer=keras.optimizers.Adam(learning_rate=1e-3),\n",
    "    loss=keras.losses.CategoricalCrossentropy()\n",
    "    )\n",
    "model.fit(X_train,tf.one_hot(y_train,3),epochs=3)"
   ]
  },
  {
   "cell_type": "code",
   "execution_count": 7,
   "metadata": {},
   "outputs": [
    {
     "name": "stdout",
     "output_type": "stream",
     "text": [
      "270/270 [==============================] - 0s 353us/step\n",
      "precision:  0.8633202347587732\n",
      "recall:  0.8831071239551438\n",
      "f1:  0.8724589789072201\n"
     ]
    },
    {
     "data": {
      "image/png": "[encoded data removed]",
      "text/plain": [
       "<Figure size 640x480 with 2 Axes>"
      ]
     },
     "metadata": {},
     "output_type": "display_data"
    }
   ],
   "source": [
    "y_pred = np.argmax(model.predict(X_test),axis=1)\n",
    "if expert_rule:\n",
    "    for i in range(len(y_pred)-2):\n",
    "        if y_pred[i] == y_pred[i+2]:\n",
    "            y_pred[i+1] = y_pred[i]\n",
    "        if (y_pred[i:i+3] == [1,2,0]).all():\n",
    "            y_pred[i+1] = 0\n",
    "cm = ConfusionMatrixDisplay(confusion_matrix(y_test,y_pred,normalize='true'),display_labels=['P','S','W'])\n",
    "cm.plot()\n",
    "precision = precision_score(y_pred=y_pred,y_true=y_test,average='macro')\n",
    "recall = recall_score(y_pred=y_pred,y_true=y_test,average='macro')\n",
    "f1 = f1_score(y_pred=y_pred,y_true=y_test,average='macro')\n",
    "print('precision: ',precision)\n",
    "print('recall: ',recall)\n",
    "print('f1: ',f1)"
   ]
  },
  {
   "cell_type": "code",
   "execution_count": 40,
   "metadata": {},
   "outputs": [
    {
     "name": "stdout",
     "output_type": "stream",
     "text": [
      "WARNING *** file size (6907005) not 512 + multiple of sector size (512)\n",
      "WARNING *** OLE2 inconsistency: SSCS size is 0 but SSAT size is non-zero\n"
     ]
    },
    {
     "name": "stderr",
     "output_type": "stream",
     "text": [
      "/home/andrew/.local/lib/python3.10/site-packages/sklearn/base.py:450: UserWarning:\n",
      "\n",
      "X does not have valid feature names, but StandardScaler was fitted with feature names\n",
      "\n"
     ]
    }
   ],
   "source": [
    "df = pd.read_excel(f'386-KO-22 24hr.xls')\n",
    "df = df.drop(0)\n",
    "df\n",
    "for x,y in zip(df.columns[1:-2],np.linspace(0,19.5,40)):\n",
    "    df = df.rename(mapper = {x:str(y)},axis=1)\n",
    "df = df.rename(mapper = {'EEG 1 (Mean, 10s)':'emg'},axis=1)\n",
    "df = df.rename(mapper = {'Activity (Mean, 10s)':'activity'},axis=1)\n",
    "df = df.rename(mapper = {'Rodent Sleep':'label'},axis=1)\n",
    "\n",
    "df = df[df['label']!='X']\n",
    "df = df.drop('0.0',axis=1)\n",
    "X_test = df.drop('label',axis=1).to_numpy()\n",
    "X_test = scaler.transform(X_test)"
   ]
  },
  {
   "cell_type": "code",
   "execution_count": 41,
   "metadata": {},
   "outputs": [
    {
     "name": "stdout",
     "output_type": "stream",
     "text": [
      "270/270 [==============================] - 0s 340us/step\n",
      "precision:  0.901578904060608\n",
      "recall:  0.7191001553125527\n",
      "f1:  0.753699610248018\n"
     ]
    },
    {
     "data": {
      "image/png": "[encoded data removed]",
      "text/plain": [
       "<Figure size 640x480 with 2 Axes>"
      ]
     },
     "metadata": {},
     "output_type": "display_data"
    }
   ],
   "source": [
    "\n",
    "y_test = df['label']\n",
    "y_test = pd.Categorical(y_test).codes\n",
    "\n",
    "y_pred = np.argmax(model.predict(X_test),axis=1)\n",
    "if expert_rule:\n",
    "    for i in range(len(y_pred)-2):\n",
    "        if y_pred[i] == y_pred[i+2]:\n",
    "            y_pred[i+1] = y_pred[i]\n",
    "        if (y_pred[i:i+3] == [1,2,0]).all():\n",
    "            y_pred[i+1] = 0\n",
    "cm = ConfusionMatrixDisplay(confusion_matrix(y_test,y_pred,normalize='true'),display_labels=['P','S','W'])\n",
    "cm.plot()\n",
    "precision = precision_score(y_pred=y_pred,y_true=y_test,average='macro')\n",
    "recall = recall_score(y_pred=y_pred,y_true=y_test,average='macro')\n",
    "f1 = f1_score(y_pred=y_pred,y_true=y_test,average='macro')\n",
    "print('precision: ',precision)\n",
    "print('recall: ',recall)\n",
    "print('f1: ',f1)"
   ]
  },
  {
   "cell_type": "code",
   "execution_count": 42,
   "metadata": {},
   "outputs": [],
   "source": [
    "import plotly.express as px\n",
    "fig = px.line(pd.DataFrame([y_test,y_pred]).T)\n",
    "fig.show(renderer='browser')"
   ]
  }
 ],
 "metadata": {
  "kernelspec": {
   "display_name": "Python 3.10.6 64-bit",
   "language": "python",
   "name": "python3"
  },
  "language_info": {
   "codemirror_mode": {
    "name": "ipython",
    "version": 3
   },
   "file_extension": ".py",
   "mimetype": "text/x-python",
   "name": "python",
   "nbconvert_exporter": "python",
   "pygments_lexer": "ipython3",
   "version": "3.10.6"
  },
  "orig_nbformat": 4,
  "vscode": {
   "interpreter": {
    "hash": "916dbcbb3f70747c44a77c7bcd40155683ae19c65e1c03b4aa3499c5328201f1"
   }
  }
 },
 "nbformat": 4,
 "nbformat_minor": 2
}
