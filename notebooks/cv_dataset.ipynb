{
 "cells": [
  {
   "cell_type": "code",
   "execution_count": 1,
   "metadata": {},
   "outputs": [
    {
     "name": "stderr",
     "output_type": "stream",
     "text": [
      "/home/andrew/.local/lib/python3.10/site-packages/tqdm/auto.py:22: TqdmWarning: IProgress not found. Please update jupyter and ipywidgets. See https://ipywidgets.readthedocs.io/en/stable/user_install.html\n",
      "  from .autonotebook import tqdm as notebook_tqdm\n"
     ]
    }
   ],
   "source": [
    "from lib.utils import *\n",
    "import json\n",
    "from tqdm import tqdm"
   ]
  },
  {
   "cell_type": "code",
   "execution_count": 2,
   "metadata": {},
   "outputs": [],
   "source": [
    "foldi = 3\n",
    "train_size = .95\n",
    "window_size = 1\n",
    "data_dir = f'w{window_size}_cv_{foldi}'\n",
    "x_train_i = 0\n",
    "x_dev_i = 0\n",
    "normalize = False\n",
    "# train_ids,test_ids = get_cross_validation_split_for_fold(foldi=foldi)\n",
    "test_ids,train_ids = get_leave_one_out_cv_ids_for_ekyn()[foldi]\n",
    "\n",
    "os.makedirs(data_dir)\n",
    "os.makedirs(f'{data_dir}/train')\n",
    "os.makedirs(f'{data_dir}/dev')\n",
    "\n",
    "config = {\n",
    "    'TRAIN_SIZE':train_size,\n",
    "    'TRAIN_IDS':train_ids,\n",
    "    'TEST_IDS':test_ids,\n",
    "    'NORMALIZED':normalize,\n",
    "}\n",
    "\n",
    "with open(f'{data_dir}/config.json', 'w') as f:\n",
    "     f.write(json.dumps(config))"
   ]
  },
  {
   "cell_type": "code",
   "execution_count": 3,
   "metadata": {},
   "outputs": [],
   "source": [
    "y_train_all = torch.Tensor()\n",
    "y_dev_all = torch.Tensor()"
   ]
  },
  {
   "cell_type": "code",
   "execution_count": 4,
   "metadata": {},
   "outputs": [
    {
     "name": "stderr",
     "output_type": "stream",
     "text": [
      "100%|██████████| 15/15 [00:45<00:00,  3.06s/it]\n"
     ]
    }
   ],
   "source": [
    "for id in tqdm(train_ids):\n",
    "    for condition in ['PF','Vehicle']:\n",
    "        X,y = load_eeg_label_pair(id=id,condition=condition)\n",
    "        if(normalize):\n",
    "            # center, stretch\n",
    "            X = (X - X.mean(axis=1,keepdim=True))/X.std(axis=1,keepdim=True)\n",
    "            # drop row if any element is inf\n",
    "            not_inf_idx = torch.where(~X.isinf().any(axis=1))[0]\n",
    "            X,y = X[not_inf_idx], y[not_inf_idx]\n",
    "        # train test split for each file, approximates the same for train-test-splitting the entire set\n",
    "        X_train,X_dev,y_train,y_dev = train_test_split(X,y,test_size=(1-train_size),shuffle=True,stratify=y,random_state=0)\n",
    "        for Xi in X_train:\n",
    "            torch.save(Xi.clone(),f'{data_dir}/train/{x_train_i}.pt')\n",
    "            x_train_i += 1\n",
    "        for Xi in X_dev:\n",
    "            torch.save(Xi.clone(),f'{data_dir}/dev/{x_dev_i}.pt')\n",
    "            x_dev_i += 1\n",
    "        y_train_all = torch.cat([y_train_all,y_train])\n",
    "        y_dev_all = torch.cat([y_dev_all,y_dev])"
   ]
  },
  {
   "cell_type": "code",
   "execution_count": 5,
   "metadata": {},
   "outputs": [],
   "source": [
    "torch.save(y_train_all,f'{data_dir}/y_train.pt')\n",
    "torch.save(y_dev_all,f'{data_dir}/y_dev.pt')"
   ]
  },
  {
   "cell_type": "code",
   "execution_count": 6,
   "metadata": {},
   "outputs": [
    {
     "name": "stdout",
     "output_type": "stream",
     "text": [
      "torch.Size([1, 5000]) torch.Size([1, 3])\n",
      "259200\n"
     ]
    }
   ],
   "source": [
    "from lib.datasets import Dataset2p0\n",
    "from torch.utils.data import DataLoader\n",
    "trainloader = DataLoader(Dataset2p0(dir=f'{data_dir}/train/',labels=f'{data_dir}/y_train.pt'),batch_size=1,shuffle=True)\n",
    "devloader = DataLoader(Dataset2p0(dir=f'{data_dir}/dev/',labels=f'{data_dir}/y_dev.pt'),batch_size=1,shuffle=True)\n",
    "X,y = next(iter(trainloader))\n",
    "X,y = next(iter(devloader))\n",
    "print(X.shape,y.shape)\n",
    "print(len(trainloader)+len(devloader))"
   ]
  },
  {
   "cell_type": "code",
   "execution_count": 8,
   "metadata": {},
   "outputs": [
    {
     "data": {
      "text/plain": [
       "'A1-1'"
      ]
     },
     "execution_count": 8,
     "metadata": {},
     "output_type": "execute_result"
    }
   ],
   "source": [
    "test_ids"
   ]
  },
  {
   "cell_type": "code",
   "execution_count": 10,
   "metadata": {},
   "outputs": [],
   "source": [
    "y_test_all = torch.Tensor()\n",
    "os.makedirs(f'{data_dir}/test')\n",
    "x_test_i = 0\n",
    "\n",
    "for condition in ['PF','Vehicle']:\n",
    "    X,y = load_eeg_label_pair(id=test_ids,condition=condition)\n",
    "    if(normalize):\n",
    "        # center, stretch\n",
    "        X = (X - X.mean(axis=1,keepdim=True))/X.std(axis=1,keepdim=True)\n",
    "        # drop row if any element is inf\n",
    "        not_inf_idx = torch.where(~X.isinf().any(axis=1))[0]\n",
    "        X,y = X[not_inf_idx], y[not_inf_idx]\n",
    "    for Xi in X:\n",
    "        torch.save(Xi.clone(),f'{data_dir}/test/{x_test_i}.pt')\n",
    "        x_test_i += 1\n",
    "    y_test_all = torch.cat([y_test_all,y])\n",
    "torch.save(y_test_all,f'{data_dir}/y_test.pt')\n"
   ]
  }
 ],
 "metadata": {
  "kernelspec": {
   "display_name": "Python 3.10.6 64-bit",
   "language": "python",
   "name": "python3"
  },
  "language_info": {
   "codemirror_mode": {
    "name": "ipython",
    "version": 3
   },
   "file_extension": ".py",
   "mimetype": "text/x-python",
   "name": "python",
   "nbconvert_exporter": "python",
   "pygments_lexer": "ipython3",
   "version": "3.10.6"
  },
  "orig_nbformat": 4,
  "vscode": {
   "interpreter": {
    "hash": "916dbcbb3f70747c44a77c7bcd40155683ae19c65e1c03b4aa3499c5328201f1"
   }
  }
 },
 "nbformat": 4,
 "nbformat_minor": 2
}
