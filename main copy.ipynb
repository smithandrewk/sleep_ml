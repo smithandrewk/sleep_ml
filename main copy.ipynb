{
 "cells": [
  {
   "cell_type": "code",
   "execution_count": 1,
   "metadata": {},
   "outputs": [],
   "source": [
    "from lib.ekyn import *\n",
    "from torch.utils.data import DataLoader,ConcatDataset,TensorDataset\n",
    "from lib.datasets import EpochedDataset\n",
    "from sklearn.model_selection import train_test_split\n",
    "import torch\n",
    "from lib.models import RegNetX\n",
    "import matplotlib.pyplot as plt\n",
    "from tqdm import tqdm\n",
    "from torch import nn\n",
    "from torch.nn.functional import relu\n",
    "\n",
    "def get_loss(model,dataloader,criterion,device):\n",
    "    model.to(device)\n",
    "    criterion.to(device)\n",
    "    with torch.no_grad():\n",
    "        total = 0\n",
    "        for Xi,yi in tqdm(dataloader,leave=False):\n",
    "            Xi,yi = Xi.to(device),yi.to(device)\n",
    "            logits = model(Xi)\n",
    "            loss = criterion(logits,yi)\n",
    "            total += loss.item()\n",
    "    return total/len(dataloader)\n",
    "CONFIG = {\n",
    "    'BATCH_SIZE':128,\n",
    "    'WINDOW_SIZE':5000,\n",
    "    'LEARNING_RATE':3e-4,\n",
    "    'TEST_SIZE':.25,\n",
    "    'DEVICE':'cuda',\n",
    "    'DEPTHI':[1],\n",
    "    'WIDTHI':[4]\n",
    "}\n",
    "\n",
    "ids = get_ekyn_ids()\n",
    "X,y = load_ekyn_pt_robust_scaled(idx=ids[0],condition='Vehicle')\n",
    "X_train,X_dev,y_train,y_dev = train_test_split(X,y,shuffle=True,random_state=0)\n",
    "trainloader = DataLoader(TensorDataset(X_train,y_train),batch_size=CONFIG['BATCH_SIZE'],shuffle=True)\n",
    "devloader = DataLoader(TensorDataset(X_dev,y_dev),batch_size=CONFIG['BATCH_SIZE'],shuffle=True)"
   ]
  },
  {
   "cell_type": "code",
   "execution_count": 13,
   "metadata": {},
   "outputs": [
    {
     "name": "stdout",
     "output_type": "stream",
     "text": [
      "0\n",
      "1\n"
     ]
    },
    {
     "data": {
      "text/plain": [
       "RegNetY(\n",
       "  (stem): Sequential(\n",
       "    (0): Conv1d(1, 4, kernel_size=(3,), stride=(2,), padding=(1,), bias=False)\n",
       "    (1): MaxPool1d(kernel_size=2, stride=2, padding=0, dilation=1, ceil_mode=False)\n",
       "    (2): ReLU()\n",
       "  )\n",
       "  (body): Sequential(\n",
       "    (0_0): YBlock(\n",
       "      (block): Sequential(\n",
       "        (0): Conv1d(4, 4, kernel_size=(3,), stride=(1,), padding=same, bias=False)\n",
       "        (1): ReLU()\n",
       "      )\n",
       "    )\n",
       "    (0_1): YBlock(\n",
       "      (block): Sequential(\n",
       "        (0): Conv1d(4, 4, kernel_size=(3,), stride=(1,), padding=same, bias=False)\n",
       "        (1): ReLU()\n",
       "      )\n",
       "    )\n",
       "  )\n",
       "  (classifier): Sequential(\n",
       "    (0): AvgPool1d(kernel_size=(1250,), stride=(1250,), padding=(0,))\n",
       "    (1): Flatten(start_dim=1, end_dim=-1)\n",
       "    (2): Linear(in_features=4, out_features=3, bias=True)\n",
       "  )\n",
       ")"
      ]
     },
     "execution_count": 13,
     "metadata": {},
     "output_type": "execute_result"
    }
   ],
   "source": [
    "class YBlock(nn.Module):\n",
    "    def __init__(self,in_channels,out_channels) -> None:\n",
    "        super().__init__()\n",
    "        self.block = nn.Sequential(\n",
    "            nn.Conv1d(in_channels=in_channels,out_channels=out_channels,kernel_size=3,stride=1,padding='same',bias=False),\n",
    "            nn.ReLU()\n",
    "        )\n",
    "\n",
    "    def forward(self,x):\n",
    "        x = self.block(x)\n",
    "        return x\n",
    "class RegNetY(nn.Module):\n",
    "    def __init__(self,depth,width,stem_kernel_size) -> None:\n",
    "        super().__init__()\n",
    "\n",
    "        self.stem = nn.Sequential(\n",
    "            nn.Conv1d(in_channels=1,out_channels=width[0],kernel_size=stem_kernel_size,stride=2,padding=stem_kernel_size//2,bias=False),\n",
    "            nn.MaxPool1d(kernel_size=2,stride=2),\n",
    "            nn.ReLU()\n",
    "        )\n",
    "\n",
    "        self.body = nn.Sequential()\n",
    "        for stage_i in range(len(width)):\n",
    "            for block_i in range(depth[stage_i]):\n",
    "                print(block_i)\n",
    "                self.body.add_module(name=f'{stage_i}_{block_i}',module=YBlock(in_channels=width[stage_i],out_channels=width[stage_i]))\n",
    "\n",
    "        self.classifier = nn.Sequential(\n",
    "            nn.AvgPool1d(kernel_size=1250),\n",
    "            nn.Flatten(start_dim=1),\n",
    "            nn.Linear(in_features=width[-1],out_features=3)\n",
    "        )\n",
    "\n",
    "    def forward(self,x):\n",
    "        x = x.view(-1,1,5000)\n",
    "        x = self.stem(x)\n",
    "        x = self.body(x)\n",
    "        x = self.classifier(x)\n",
    "        return x\n",
    "model = RegNetY(depth=[2],width=[4],stem_kernel_size=3)\n",
    "criterion = torch.nn.CrossEntropyLoss()\n",
    "optimizer = torch.optim.AdamW(model.parameters(),lr=CONFIG['LEARNING_RATE'])\n",
    "model.to(CONFIG['DEVICE'])"
   ]
  },
  {
   "cell_type": "code",
   "execution_count": 15,
   "metadata": {},
   "outputs": [
    {
     "name": "stderr",
     "output_type": "stream",
     "text": [
      " 68%|██████▊   | 679/1000 [02:45<01:18,  4.09it/s]\n"
     ]
    }
   ],
   "source": [
    "lossi = []\n",
    "trainlossi = []\n",
    "trainf1 = []\n",
    "devlossi = []\n",
    "devf1 = []\n",
    "model.train()\n",
    "from lib.utils import training_loop,development_loop\n",
    "for i in tqdm(range(1000)):\n",
    "    loss,f1 = training_loop(model=model,trainloader=trainloader,criterion=criterion,optimizer=optimizer,device=CONFIG['DEVICE'])\n",
    "    trainlossi.append(loss)\n",
    "    trainf1.append(f1)\n",
    "\n",
    "    loss,f1 = development_loop(model=model,devloader=devloader,criterion=criterion,device=CONFIG['DEVICE'])\n",
    "    devlossi.append(loss)\n",
    "    devf1.append(f1)\n",
    "\n",
    "    fig,ax = plt.subplots(nrows=1,ncols=2,figsize=(20,4))\n",
    "    ax[0].plot(trainlossi)\n",
    "    ax[0].plot(devlossi)\n",
    "    ax[1].plot(trainf1)\n",
    "    ax[1].plot(devf1)\n",
    "    plt.savefig('loss.jpg')\n",
    "    plt.close()"
   ]
  },
  {
   "cell_type": "code",
   "execution_count": null,
   "metadata": {},
   "outputs": [],
   "source": [
    "from lib.utils import evaluate\n",
    "print(evaluate(trainloader,model,criterion,CONFIG['DEVICE']))\n",
    "print(evaluate(devloader,model,criterion,CONFIG['DEVICE']))"
   ]
  },
  {
   "cell_type": "code",
   "execution_count": null,
   "metadata": {},
   "outputs": [],
   "source": [
    "X,y = load_ekyn_pt_robust_scaled(idx=ids[0],condition='PF')\n",
    "testloader = DataLoader(TensorDataset(X,y),batch_size=CONFIG['BATCH_SIZE'],shuffle=False)\n",
    "print(evaluate(testloader,model,criterion,CONFIG['DEVICE']))"
   ]
  },
  {
   "cell_type": "code",
   "execution_count": null,
   "metadata": {},
   "outputs": [],
   "source": [
    "import pandas as pd\n",
    "df = pd.DataFrame()\n",
    "conditions = ['Vehicle','PF']\n",
    "for idx in ids:\n",
    "    for condition in conditions:\n",
    "        dataloader = DataLoader(EpochedDataset(idx=idx,condition=condition),batch_size=512,shuffle=False)\n",
    "        report = evaluate(dataloader,model,criterion,CONFIG['DEVICE'])[1]\n",
    "        df = pd.concat([df,pd.Series(report,name=idx)],axis=1)"
   ]
  },
  {
   "cell_type": "code",
   "execution_count": null,
   "metadata": {},
   "outputs": [],
   "source": [
    "df.T.describe()"
   ]
  },
  {
   "cell_type": "code",
   "execution_count": null,
   "metadata": {},
   "outputs": [],
   "source": [
    "import seaborn as sns\n",
    "sns.pairplot(df.T.reset_index(drop=True))"
   ]
  },
  {
   "cell_type": "code",
   "execution_count": null,
   "metadata": {},
   "outputs": [],
   "source": [
    "testloader = DataLoader(ConcatDataset([EpochedDataset(idx=idx,condition=condition) for idx in ids[1:] for condition in ['Vehicle','PF']]),batch_size=512,shuffle=True)\n",
    "print(evaluate(testloader,model,criterion,CONFIG['DEVICE']))"
   ]
  }
 ],
 "metadata": {
  "kernelspec": {
   "display_name": "Python 3.10.6 64-bit",
   "language": "python",
   "name": "python3"
  },
  "language_info": {
   "codemirror_mode": {
    "name": "ipython",
    "version": 3
   },
   "file_extension": ".py",
   "mimetype": "text/x-python",
   "name": "python",
   "nbconvert_exporter": "python",
   "pygments_lexer": "ipython3",
   "version": "3.10.12"
  },
  "orig_nbformat": 4,
  "vscode": {
   "interpreter": {
    "hash": "916dbcbb3f70747c44a77c7bcd40155683ae19c65e1c03b4aa3499c5328201f1"
   }
  }
 },
 "nbformat": 4,
 "nbformat_minor": 2
}
