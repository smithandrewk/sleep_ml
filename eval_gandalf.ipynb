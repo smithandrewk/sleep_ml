{
 "cells": [
  {
   "cell_type": "code",
   "execution_count": null,
   "metadata": {},
   "outputs": [],
   "source": [
    "from torch import nn\n",
    "from torch.nn.functional import relu\n",
    "import torch\n",
    "import os\n",
    "from sklearn.model_selection import train_test_split\n",
    "\n",
    "import matplotlib.pyplot as plt\n",
    "from lib.models import Gandalf\n",
    "from lib.utils import *\n",
    "\n",
    "from torch.utils.data import DataLoader\n",
    "from sklearn.metrics import ConfusionMatrixDisplay,classification_report"
   ]
  },
  {
   "cell_type": "code",
   "execution_count": null,
   "metadata": {},
   "outputs": [],
   "source": [
    "FOLD = 1\n",
    "\n",
    "folds = get_leave_one_out_cv_ids_for_ekyn()\n",
    "train_ids,test_ids = folds[FOLD]\n",
    "X,y = load_eeg_label_pair(id=train_ids[0],condition='PF')\n",
    "testloader = DataLoader(Windowset(X,y),batch_size=32,shuffle=False)\n",
    "print(f'testloader: {len(testloader)} batches')\n",
    "\n",
    "model = Gandalf()\n",
    "model.load_state_dict(torch.load(f=f'{GANDALFS_PATH}/gandalf_{FOLD}/best_model.pt',map_location='cpu',weights_only=False))\n",
    "model.to(DEVICE)\n",
    "\n",
    "criterion = torch.nn.CrossEntropyLoss()\n",
    "loss,y_true,y_pred = evaluate(testloader,model,criterion,'cuda')\n",
    "ConfusionMatrixDisplay.from_predictions(y_true,y_pred)\n",
    "report = classification_report(y_true,y_pred,output_dict=True)"
   ]
  },
  {
   "cell_type": "code",
   "execution_count": null,
   "metadata": {},
   "outputs": [],
   "source": [
    "report"
   ]
  },
  {
   "cell_type": "code",
   "execution_count": null,
   "metadata": {},
   "outputs": [],
   "source": [
    "from sklearn.metrics import ConfusionMatrixDisplay,classification_report\n",
    "\n",
    "folds = get_leave_one_out_cv_ids_for_ekyn()\n",
    "criterion = torch.nn.CrossEntropyLoss()\n",
    "reports = []\n",
    "\n",
    "for FOLD,(train_ids,test_ids) in tqdm(enumerate(folds)):\n",
    "    model = Gandalf()\n",
    "    model.load_state_dict(torch.load(f=f'{GANDALFS_PATH}/gandalf_{FOLD}/best_model.pt',map_location='cpu',weights_only=False))\n",
    "    model.to(DEVICE)\n",
    "    for condition in ['Vehicle','PF']:\n",
    "        X,y = load_eeg_label_pair(id=test_ids[0],condition=condition)\n",
    "        testloader = DataLoader(Windowset(X,y),batch_size=32,shuffle=False)\n",
    "        loss,y_true,y_pred = evaluate(testloader,model,criterion,'cuda')\n",
    "        report = classification_report(y_true,y_pred,output_dict=True)\n",
    "        reports.append(report)"
   ]
  },
  {
   "cell_type": "code",
   "execution_count": null,
   "metadata": {},
   "outputs": [],
   "source": [
    "[report['macro avg']['f1-score'] for report in reports]"
   ]
  },
  {
   "cell_type": "code",
   "execution_count": null,
   "metadata": {},
   "outputs": [],
   "source": []
  }
 ],
 "metadata": {
  "kernelspec": {
   "display_name": "Python 3",
   "language": "python",
   "name": "python3"
  },
  "language_info": {
   "codemirror_mode": {
    "name": "ipython",
    "version": 3
   },
   "file_extension": ".py",
   "mimetype": "text/x-python",
   "name": "python",
   "nbconvert_exporter": "python",
   "pygments_lexer": "ipython3",
   "version": "3.10.12"
  }
 },
 "nbformat": 4,
 "nbformat_minor": 2
}
