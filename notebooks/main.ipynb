{
 "cells": [
  {
   "cell_type": "code",
   "execution_count": null,
   "metadata": {},
   "outputs": [],
   "source": [
    "from lib.utils import load_eeg_label_pair,test_evaluation,cm_grid\n",
    "from lib.env import *\n",
    "from tqdm import tqdm\n",
    "from lib.models import MLP\n",
    "import torch\n",
    "from torch.utils.data import TensorDataset,DataLoader\n",
    "import matplotlib.pyplot as plt\n",
    "from lib.datasets import Dataset2p0\n",
    "from lib.utils import get_cross_validation_split_for_fold,load_eeg_label_pair,evaluate\n",
    "\n",
    "DATASET = 'w1_cv_0'\n",
    "trainloader = DataLoader(Dataset2p0(dir=f'{DATASET}/train/',labels=f'{DATASET}/y_train.pt'),batch_size=64,shuffle=True)\n",
    "devloader = DataLoader(Dataset2p0(dir=f'{DATASET}/dev/',labels=f'{DATASET}/y_dev.pt'),batch_size=64,shuffle=True)"
   ]
  },
  {
   "cell_type": "code",
   "execution_count": null,
   "metadata": {},
   "outputs": [],
   "source": [
    "model = MLP().to(DEVICE)\n",
    "criterion = torch.nn.CrossEntropyLoss()\n",
    "optimizer = torch.optim.Adam(model.parameters())"
   ]
  },
  {
   "cell_type": "code",
   "execution_count": null,
   "metadata": {},
   "outputs": [],
   "source": [
    "lossi = []\n",
    "\n",
    "model.train()\n",
    "\n",
    "for epoch in tqdm(range(10)):\n",
    "    loss_total = 0\n",
    "    for (Xi,yi) in trainloader:\n",
    "        Xi,yi = Xi.to(DEVICE),yi.to(DEVICE)\n",
    "        logits = model(Xi)\n",
    "        loss = criterion(logits,yi)\n",
    "        optimizer.zero_grad()\n",
    "        loss.backward()\n",
    "        optimizer.step()\n",
    "        loss_total += loss.item()\n",
    "    lossi.append(loss_total/len(trainloader))\n",
    "\n",
    "plt.plot(lossi)\n",
    "print(torch.tensor(lossi[-len(trainloader):]).mean())"
   ]
  },
  {
   "cell_type": "code",
   "execution_count": null,
   "metadata": {},
   "outputs": [],
   "source": [
    "train_ids,test_ids = get_cross_validation_split_for_fold(foldi=0)\n",
    "Xt,yt = load_eeg_label_pair(test_ids[0])\n",
    "dataloader = DataLoader(TensorDataset(Xt,yt),batch_size=256,shuffle=False)\n",
    "loss,y_true,y_pred,y_logits = evaluate(dataloader,model,criterion)"
   ]
  },
  {
   "cell_type": "code",
   "execution_count": null,
   "metadata": {},
   "outputs": [],
   "source": [
    "cm_grid(y_true=y_true,y_pred=y_pred)"
   ]
  },
  {
   "cell_type": "code",
   "execution_count": null,
   "metadata": {},
   "outputs": [],
   "source": [
    "import matplotlib.pyplot as plt\n",
    "plt.stackplot(torch.linspace(0,1,100),y_logits[:100,0],y_logits[:100,1],y_logits[:100,2])\n",
    "import plotly.express as px\n",
    "fig = px.area(y_logits)\n",
    "fig.show(renderer='browser')"
   ]
  }
 ],
 "metadata": {
  "kernelspec": {
   "display_name": "Python 3.10.6 64-bit",
   "language": "python",
   "name": "python3"
  },
  "language_info": {
   "codemirror_mode": {
    "name": "ipython",
    "version": 3
   },
   "file_extension": ".py",
   "mimetype": "text/x-python",
   "name": "python",
   "nbconvert_exporter": "python",
   "pygments_lexer": "ipython3",
   "version": "3.10.6"
  },
  "orig_nbformat": 4,
  "vscode": {
   "interpreter": {
    "hash": "916dbcbb3f70747c44a77c7bcd40155683ae19c65e1c03b4aa3499c5328201f1"
   }
  }
 },
 "nbformat": 4,
 "nbformat_minor": 2
}
