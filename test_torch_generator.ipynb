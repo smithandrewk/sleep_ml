{
 "cells": [
  {
   "cell_type": "code",
   "execution_count": 1,
   "metadata": {},
   "outputs": [
    {
     "name": "stdout",
     "output_type": "stream",
     "text": [
      "tensor([3, 2, 1, 4, 0])\n",
      "tensor([4, 0, 1, 2, 3])\n",
      "tensor([1, 4, 3, 2, 0])\n",
      "tensor([4, 1, 0, 3, 2])\n",
      "tensor([4, 2, 3, 1, 0])\n"
     ]
    }
   ],
   "source": [
    "import torch\n",
    "from torch.utils.data import DataLoader, Dataset\n",
    "\n",
    "# Set the global seed\n",
    "seed = 42\n",
    "\n",
    "class MyDataset(Dataset):\n",
    "    def __len__(self):\n",
    "        return 5\n",
    "    \n",
    "    def __getitem__(self, index):\n",
    "        # Return some data sample\n",
    "        return index\n",
    "torch.manual_seed(seed)  # Reset seed before first pass\n",
    "\n",
    "# Initialize DataLoader with shuffle=True\n",
    "dataset = MyDataset()\n",
    "data_loader = DataLoader(dataset, shuffle=True, batch_size=32)\n",
    "\n",
    "# First pass\n",
    "for epoch in range(5):\n",
    "    for data in data_loader:\n",
    "        print(data)\n",
    "        # Your processing code here\n",
    "        pass"
   ]
  }
 ],
 "metadata": {
  "kernelspec": {
   "display_name": "Python 3",
   "language": "python",
   "name": "python3"
  },
  "language_info": {
   "codemirror_mode": {
    "name": "ipython",
    "version": 3
   },
   "file_extension": ".py",
   "mimetype": "text/x-python",
   "name": "python",
   "nbconvert_exporter": "python",
   "pygments_lexer": "ipython3",
   "version": "3.10.12"
  }
 },
 "nbformat": 4,
 "nbformat_minor": 2
}
