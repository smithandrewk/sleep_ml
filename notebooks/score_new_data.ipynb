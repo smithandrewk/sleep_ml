{
 "cells": [
  {
   "cell_type": "code",
   "execution_count": 1,
   "metadata": {},
   "outputs": [
    {
     "name": "stderr",
     "output_type": "stream",
     "text": [
      "/home/andrew/.local/lib/python3.10/site-packages/tqdm/auto.py:22: TqdmWarning: IProgress not found. Please update jupyter and ipywidgets. See https://ipywidgets.readthedocs.io/en/stable/user_install.html\n",
      "  from .autonotebook import tqdm as notebook_tqdm\n"
     ]
    },
    {
     "name": "stdout",
     "output_type": "stream",
     "text": [
      "Parameter containing:\n",
      "tensor([0.1000, 1.0000, 1.0000], requires_grad=True)\n"
     ]
    }
   ],
   "source": [
    "from lib.utils import load_raw_by_path\n",
    "eeg = load_raw_by_path(f'22-AGING-10.edf').get_data(picks='EEG')[0]\n",
    "import torch\n",
    "X = torch.from_numpy(eeg.reshape(-1,1,5000)).float()\n",
    "from lib.models import CNN_0\n",
    "model = CNN_0()\n",
    "model.load_state_dict(torch.load(f='model_pt_epoch_1000.pt'))\n",
    "from torch.nn.functional import softmax\n",
    "y_pred = softmax(model(X),dim=1).argmax(axis=1)\n",
    "import pandas as pd\n",
    "df = pd.DataFrame(y_pred)\n",
    "df[df[0] == 2] = 'W'\n",
    "df[df[0] == 1] = 'S'\n",
    "df[df[0] == 0] = 'P'\n",
    "df.to_csv('pred.csv',index=False)"
   ]
  },
  {
   "cell_type": "code",
   "execution_count": 2,
   "metadata": {},
   "outputs": [],
   "source": [
    "import sqlite3\n",
    "from sqlite3 import Error\n",
    "import os\n",
    "offset = 10e7       #epoch time period\n",
    "rename_dict = {'W':'Sleep-Wake', 'S':'Sleep-SWS', 'P':'Sleep-Paradoxical', 'X':''}\n",
    "\n",
    "csv_filename = f'pred.csv'\n",
    "zdb_filename = f'22-AGING-10.zdb'\n",
    "\n",
    "df = pd.read_csv(csv_filename)\n",
    "try:\n",
    "    conn = sqlite3.connect(zdb_filename)\n",
    "except Error as e:\n",
    "    print(e)\n",
    "cur = conn.cursor()\n",
    "\n",
    "#drop this table - creates issues\n",
    "query = \"DROP TABLE IF EXISTS temporary_scoring_marker;\"\n",
    "cur.execute(query)\n",
    "\n",
    "#get keyid of scoring\n",
    "query = \"SELECT MAX(id) FROM scoring_revision WHERE name='Machine Data'\"\n",
    "cur.execute(query)\n",
    "keyid = cur.fetchall()[0][0]\n",
    "\n",
    "#get starting point for scoring\n",
    "query = \"SELECT id FROM scoring_marker WHERE type LIKE 'Sleep%' AND key_id='\"+str(keyid)+\"';\"\n",
    "cur.execute(query)\n",
    "startid = cur.fetchall()[0][0]\n",
    "\n",
    "#get start time to crreate epochs\n",
    "query = 'SELECT starts_at FROM scoring_marker WHERE id = '+str(startid)+\";\"\n",
    "cur.execute(query)\n",
    "start_time = cur.fetchall()[0][0]\n",
    "stop_time = 0\n",
    "\n",
    "#delete first score before adding machine data\n",
    "query = \"DELETE FROM scoring_marker;\"\n",
    "cur.execute(query)\n",
    "\n",
    "#insert new epochs with scoring into the table\n",
    "for i in range(len(df)):\n",
    "    #calculate epoch\n",
    "    if i != 0:\n",
    "        start_time = stop_time\n",
    "    stop_time = start_time+offset\n",
    "\n",
    "    score = rename_dict[df.at[i,'0']]\n",
    "    #insert epoch\n",
    "    query = f\"\"\"\n",
    "            INSERT INTO scoring_marker \n",
    "            (starts_at, ends_at, notes, type, location, is_deleted, key_id)\n",
    "            VALUES \n",
    "            ({start_time}, {stop_time}, '', '{score}', '', 0, {keyid});\n",
    "            \"\"\" \n",
    "    cur.execute(query)\n",
    "\n",
    "conn.commit()\n",
    "conn.close()"
   ]
  }
 ],
 "metadata": {
  "kernelspec": {
   "display_name": "Python 3.10.6 64-bit",
   "language": "python",
   "name": "python3"
  },
  "language_info": {
   "codemirror_mode": {
    "name": "ipython",
    "version": 3
   },
   "file_extension": ".py",
   "mimetype": "text/x-python",
   "name": "python",
   "nbconvert_exporter": "python",
   "pygments_lexer": "ipython3",
   "version": "3.10.6"
  },
  "orig_nbformat": 4,
  "vscode": {
   "interpreter": {
    "hash": "916dbcbb3f70747c44a77c7bcd40155683ae19c65e1c03b4aa3499c5328201f1"
   }
  }
 },
 "nbformat": 4,
 "nbformat_minor": 2
}
