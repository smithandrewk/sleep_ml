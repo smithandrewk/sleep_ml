{
 "cells": [
  {
   "cell_type": "code",
   "execution_count": 1,
   "metadata": {},
   "outputs": [],
   "source": [
    "from lib.utils import *\n",
    "from lib.ekyn import *\n",
    "from torch import nn\n",
    "from torch.nn.functional import relu\n",
    "import torch\n",
    "import os\n",
    "from sklearn.model_selection import train_test_split\n",
    "\n",
    "import matplotlib.pyplot as plt\n",
    "from lib.models import Gandalf\n",
    "\n",
    "from torch.utils.data import DataLoader\n",
    "from sklearn.metrics import ConfusionMatrixDisplay,classification_report"
   ]
  },
  {
   "cell_type": "code",
   "execution_count": 2,
   "metadata": {},
   "outputs": [],
   "source": [
    "from sage.utils import *"
   ]
  },
  {
   "cell_type": "code",
   "execution_count": 3,
   "metadata": {},
   "outputs": [],
   "source": [
    "FOLD = 0\n",
    "\n",
    "folds = get_leave_one_out_cv_ids_for_ekyn()\n",
    "train_ids,test_ids = folds[FOLD]"
   ]
  },
  {
   "cell_type": "code",
   "execution_count": 4,
   "metadata": {},
   "outputs": [
    {
     "name": "stdout",
     "output_type": "stream",
     "text": [
      "['F1-1', 'C1-0', 'A1-1', 'E1-0', 'A4-0', 'B1-0', 'E4-0', 'F1-0', 'C4-1', 'D1-0', 'B3-1', 'A1-0', 'C4-0', 'F5-1', 'E4-1'] ['E2-1']\n",
      "testloader: 270 batches\n"
     ]
    },
    {
     "name": "stderr",
     "output_type": "stream",
     "text": [
      "/home/andrew/.local/lib/python3.10/site-packages/torch/nn/modules/conv.py:304: UserWarning: Using padding='same' with even kernel lengths and odd dilation may require a zero-padded copy of the input be created (Triggered internally at ../aten/src/ATen/native/Convolution.cpp:1031.)\n",
      "  return F.conv1d(input, weight, bias, self.stride,\n"
     ]
    },
    {
     "name": "stdout",
     "output_type": "stream",
     "text": [
      "0.9027338947437594\n"
     ]
    },
    {
     "data": {
      "image/png": "[encoded data removed]",
      "text/plain": [
       "<Figure size 640x480 with 2 Axes>"
      ]
     },
     "metadata": {},
     "output_type": "display_data"
    }
   ],
   "source": [
    "print(train_ids,test_ids)\n",
    "X,y = load_eeg_label_pair(id=test_ids[0],condition='PF',zero_pad=False)\n",
    "testloader = DataLoader(Windowset(X,y),batch_size=32,shuffle=False)\n",
    "print(f'testloader: {len(testloader)} batches')\n",
    "\n",
    "model = Gandalf()\n",
    "model.load_state_dict(torch.load(f=f'{GANDALFS_PATH}/gandalf_{FOLD}/best_model.pt',map_location='cpu',weights_only=False))\n",
    "model.to(DEVICE)\n",
    "\n",
    "criterion = torch.nn.CrossEntropyLoss()\n",
    "loss,y_true,y_pred = evaluate(testloader,model,criterion,'cuda')\n",
    "ConfusionMatrixDisplay.from_predictions(y_true,y_pred,normalize='true')\n",
    "report = classification_report(y_true,y_pred,output_dict=True)\n",
    "print(report['macro avg']['f1-score'])"
   ]
  },
  {
   "cell_type": "code",
   "execution_count": null,
   "metadata": {},
   "outputs": [],
   "source": [
    "from sklearn.metrics import ConfusionMatrixDisplay,classification_report\n",
    "\n",
    "folds = get_leave_one_out_cv_ids_for_ekyn()\n",
    "criterion = torch.nn.CrossEntropyLoss()\n",
    "reports = []\n",
    "\n",
    "for FOLD,(train_ids,test_ids) in tqdm(enumerate(folds)):\n",
    "    model = Gandalf()\n",
    "    model.load_state_dict(torch.load(f=f'{GANDALFS_PATH}/gandalf_{FOLD}/best_model.pt',map_location='cpu',weights_only=False))\n",
    "    model.to(DEVICE)\n",
    "    for condition in ['Vehicle','PF']:\n",
    "        X,y = load_eeg_label_pair(id=test_ids[0],condition=condition,zero_pad=False)\n",
    "        testloader = DataLoader(Windowset(X,y),batch_size=32,shuffle=False)\n",
    "        loss,y_true,y_pred = evaluate(testloader,model,criterion,'cuda')\n",
    "        report = classification_report(y_true,y_pred,output_dict=True)\n",
    "        reports.append(report)"
   ]
  },
  {
   "cell_type": "code",
   "execution_count": null,
   "metadata": {},
   "outputs": [],
   "source": [
    "import pandas as pd\n",
    "import seaborn as sns\n",
    "import matplotlib.pyplot as plt\n",
    "# Construct the DataFrame in wide format first\n",
    "wide_df = pd.DataFrame({\n",
    "    'precision': [report['macro avg']['precision'] for report in reports],\n",
    "    'recall': [report['macro avg']['recall'] for report in reports],\n",
    "    'f1-score': [report['macro avg']['f1-score'] for report in reports]\n",
    "})\n",
    "\n",
    "wide_df = wide_df.drop([11,28])\n",
    "\n",
    "# Use melt to convert the wide DataFrame into long format\n",
    "long_df = wide_df.melt(var_name='metric', value_name='value')\n",
    "\n",
    "# Create the boxplot using the long format DataFrame\n",
    "plt.figure(figsize=(8, 6))\n",
    "sns.boxplot(x='metric', y='value', data=long_df)\n",
    "plt.title('Boxplot of Macro Avg Precision, Recall, and F1-Score')\n",
    "plt.show()"
   ]
  }
 ],
 "metadata": {
  "kernelspec": {
   "display_name": "Python 3",
   "language": "python",
   "name": "python3"
  },
  "language_info": {
   "codemirror_mode": {
    "name": "ipython",
    "version": 3
   },
   "file_extension": ".py",
   "mimetype": "text/x-python",
   "name": "python",
   "nbconvert_exporter": "python",
   "pygments_lexer": "ipython3",
   "version": "3.10.12"
  }
 },
 "nbformat": 4,
 "nbformat_minor": 2
}
