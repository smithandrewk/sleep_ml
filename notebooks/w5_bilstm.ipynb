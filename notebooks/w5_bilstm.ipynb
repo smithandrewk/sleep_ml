{
 "cells": [
  {
   "cell_type": "code",
   "execution_count": 1,
   "metadata": {},
   "outputs": [
    {
     "name": "stderr",
     "output_type": "stream",
     "text": [
      "/home/andrew/.local/lib/python3.10/site-packages/tqdm/auto.py:22: TqdmWarning: IProgress not found. Please update jupyter and ipywidgets. See https://ipywidgets.readthedocs.io/en/stable/user_install.html\n",
      "  from .autonotebook import tqdm as notebook_tqdm\n"
     ]
    }
   ],
   "source": [
    "import torch\n",
    "from tqdm import tqdm\n",
    "from lib.utils import load_raw_list\n",
    "import os\n",
    "from sklearn.model_selection import train_test_split\n",
    "normalize = True\n",
    "balance = True\n",
    "X,y = load_raw_list(range(20,27))\n",
    "\n",
    "if(normalize):\n",
    "    # center, stretch\n",
    "    X = (X - X.mean(axis=1,keepdim=True))/X.std(axis=1,keepdim=True)\n",
    "    # drop row if any element is inf\n",
    "    not_inf_idx = torch.where(~X.isinf().any(axis=1))[0]\n",
    "    X,y = X[not_inf_idx], y[not_inf_idx]\n",
    "\n",
    "X = torch.cat([X[:-4],X[1:-3],X[2:-2],X[3:-1],X[4:]],axis=1)\n",
    "y = y[2:-2]\n",
    "\n",
    "X_train,X_test,y_train,y_test = train_test_split(X,y,test_size=.5,shuffle=True,stratify=y,random_state=0)\n",
    "\n",
    "if (balance):\n",
    "    from imblearn.over_sampling import SMOTE\n",
    "    sm = SMOTE(random_state=0)\n",
    "    X_train_res, y_train_res = sm.fit_resample(X_train, y_train.argmax(axis=1))\n",
    "\n",
    "from torch.nn.functional import one_hot\n",
    "X_train_res = torch.from_numpy(X_train_res)\n",
    "y_train_res_oh = one_hot(torch.from_numpy(y_train_res)).float()\n",
    "data_dir = 'w5'\n",
    "os.makedirs(data_dir,exist_ok=True)\n",
    "os.makedirs(f'{data_dir}/train',exist_ok=True)\n",
    "os.makedirs(f'{data_dir}/test',exist_ok=True)\n",
    "torch.save(y_train_res_oh,f'{data_dir}/y_train.pt')\n",
    "torch.save(y_test,f'{data_dir}/y_test.pt')\n",
    "import torch\n",
    "from tqdm import tqdm\n",
    "from lib.utils import load_raw_list\n",
    "import os\n",
    "i = 0\n",
    "for Xi in X_train_res:\n",
    "    torch.save(Xi.clone(),f'{data_dir}/train/{i}.pt')\n",
    "    i += 1\n",
    "i = 0\n",
    "for Xi in X_test:\n",
    "    torch.save(Xi.clone(),f'{data_dir}/test/{i}.pt')\n",
    "    i += 1"
   ]
  },
  {
   "cell_type": "code",
   "execution_count": null,
   "metadata": {},
   "outputs": [],
   "source": []
  }
 ],
 "metadata": {
  "kernelspec": {
   "display_name": "Python 3.10.6 64-bit",
   "language": "python",
   "name": "python3"
  },
  "language_info": {
   "codemirror_mode": {
    "name": "ipython",
    "version": 3
   },
   "file_extension": ".py",
   "mimetype": "text/x-python",
   "name": "python",
   "nbconvert_exporter": "python",
   "pygments_lexer": "ipython3",
   "version": "3.10.6"
  },
  "orig_nbformat": 4,
  "vscode": {
   "interpreter": {
    "hash": "916dbcbb3f70747c44a77c7bcd40155683ae19c65e1c03b4aa3499c5328201f1"
   }
  }
 },
 "nbformat": 4,
 "nbformat_minor": 2
}
