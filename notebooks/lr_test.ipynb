{
 "cells": [
  {
   "cell_type": "code",
   "execution_count": null,
   "metadata": {},
   "outputs": [],
   "source": [
    "# lre = torch.linspace(-6,1,len(trainloader))\n",
    "# lrs = 10**lre\n",
    "# lri = []\n",
    "# lossi = []\n",
    "# model.train()\n",
    "# loss_tr_total = 0\n",
    "# for i,(X_tr,ytr) in tqdm(enumerate(trainloader)):\n",
    "#     optimizer = torch.optim.Adam(model.parameters(),lr=lrs[i])\n",
    "#     X_tr,y_tr = X_tr.to(device),y_tr.to(device)\n",
    "#     logits = model(X_tr)\n",
    "#     loss = criterion(logits,y_tr)\n",
    "#     optimizer.zero_grad()\n",
    "#     loss.backward()\n",
    "#     optimizer.step()\n",
    "#     loss_tr_total += loss.item()\n",
    "#     lri.append(lre[i])\n",
    "#     lossi.append(loss.item())\n",
    "# plt.plot(lri,lossi)\n"
   ]
  }
 ],
 "metadata": {
  "kernelspec": {
   "display_name": "Python 3.10.6 64-bit",
   "language": "python",
   "name": "python3"
  },
  "language_info": {
   "name": "python",
   "version": "3.10.6"
  },
  "orig_nbformat": 4,
  "vscode": {
   "interpreter": {
    "hash": "916dbcbb3f70747c44a77c7bcd40155683ae19c65e1c03b4aa3499c5328201f1"
   }
  }
 },
 "nbformat": 4,
 "nbformat_minor": 2
}
