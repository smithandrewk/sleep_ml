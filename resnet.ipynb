{
 "cells": [
  {
   "cell_type": "code",
   "execution_count": 4,
   "metadata": {},
   "outputs": [
    {
     "name": "stdout",
     "output_type": "stream",
     "text": [
      "train_ids ['F1-0', 'B3-1', 'A4-0', 'F1-1', 'E2-1', 'C4-1', 'F5-1', 'E4-0', 'B1-0', 'A1-0', 'C1-0', 'E4-1']\n",
      "test_ids ['A1-1', 'C4-0', 'D1-0', 'E1-0']\n",
      "n ids 16\n",
      "405 training batches 135 testing batches\n",
      "207360 training samples 69120 testing samples\n",
      "576.00 training hours 192.00 testing hours\n",
      "111219 params\n"
     ]
    },
    {
     "name": "stderr",
     "output_type": "stream",
     "text": [
      "0.1956,0.2348:  11%|█         | 56/500 [14:46<1:57:06, 15.83s/it]\n"
     ]
    },
    {
     "ename": "KeyboardInterrupt",
     "evalue": "",
     "output_type": "error",
     "traceback": [
      "\u001b[0;31m---------------------------------------------------------------------------\u001b[0m",
      "\u001b[0;31mKeyboardInterrupt\u001b[0m                         Traceback (most recent call last)",
      "Cell \u001b[0;32mIn[4], line 53\u001b[0m\n\u001b[1;32m     49\u001b[0m last_time \u001b[38;5;241m=\u001b[39m time()\n\u001b[1;32m     51\u001b[0m os\u001b[38;5;241m.\u001b[39mmakedirs(\u001b[38;5;124mf\u001b[39m\u001b[38;5;124m'\u001b[39m\u001b[38;5;132;01m{\u001b[39;00mstate[\u001b[38;5;124m\"\u001b[39m\u001b[38;5;124mexperiments_path\u001b[39m\u001b[38;5;124m\"\u001b[39m]\u001b[38;5;132;01m}\u001b[39;00m\u001b[38;5;124m/\u001b[39m\u001b[38;5;132;01m{\u001b[39;00mstate[\u001b[38;5;124m\"\u001b[39m\u001b[38;5;124mstart_time\u001b[39m\u001b[38;5;124m\"\u001b[39m]\u001b[38;5;132;01m}\u001b[39;00m\u001b[38;5;124m'\u001b[39m)\n\u001b[0;32m---> 53\u001b[0m \u001b[38;5;28;01mfor\u001b[39;00m state \u001b[38;5;129;01min\u001b[39;00m train(state,trainloader,testloader):\n\u001b[1;32m     54\u001b[0m     plot_loss(state)\n\u001b[1;32m     55\u001b[0m     state[\u001b[38;5;124m'\u001b[39m\u001b[38;5;124mexecution_time\u001b[39m\u001b[38;5;124m'\u001b[39m] \u001b[38;5;241m=\u001b[39m (state[\u001b[38;5;124m'\u001b[39m\u001b[38;5;124mexecution_time\u001b[39m\u001b[38;5;124m'\u001b[39m] \u001b[38;5;241m+\u001b[39m (time() \u001b[38;5;241m-\u001b[39m last_time))\u001b[38;5;241m/\u001b[39m\u001b[38;5;241m2\u001b[39m\n",
      "File \u001b[0;32m~/sleep/sleep_ml/sage/utils.py:55\u001b[0m, in \u001b[0;36mtrain\u001b[0;34m(state, trainloader, testloader)\u001b[0m\n\u001b[1;32m     53\u001b[0m     loss\u001b[38;5;241m.\u001b[39mbackward()\n\u001b[1;32m     54\u001b[0m     state[\u001b[38;5;124m'\u001b[39m\u001b[38;5;124moptimizer\u001b[39m\u001b[38;5;124m'\u001b[39m]\u001b[38;5;241m.\u001b[39mstep()\n\u001b[0;32m---> 55\u001b[0m     loss_total \u001b[38;5;241m+\u001b[39m\u001b[38;5;241m=\u001b[39m \u001b[43mloss\u001b[49m\u001b[38;5;241;43m.\u001b[39;49m\u001b[43mitem\u001b[49m\u001b[43m(\u001b[49m\u001b[43m)\u001b[49m\n\u001b[1;32m     56\u001b[0m state[\u001b[38;5;124m'\u001b[39m\u001b[38;5;124mtrainlossi\u001b[39m\u001b[38;5;124m'\u001b[39m]\u001b[38;5;241m.\u001b[39mappend(loss_total\u001b[38;5;241m/\u001b[39m\u001b[38;5;28mlen\u001b[39m(trainloader))\n\u001b[1;32m     58\u001b[0m state[\u001b[38;5;124m'\u001b[39m\u001b[38;5;124mmodel\u001b[39m\u001b[38;5;124m'\u001b[39m]\u001b[38;5;241m.\u001b[39meval()\n",
      "\u001b[0;31mKeyboardInterrupt\u001b[0m: "
     ]
    }
   ],
   "source": [
    "from lib.ekyn import get_epoched_dataloaders\n",
    "from sage.utils import *\n",
    "from sage.models import *\n",
    "from lib.env import *\n",
    "from time import time\n",
    "import datetime\n",
    "import copy\n",
    "import os\n",
    "\n",
    "hyperparameters = {\n",
    "    'experiment_group_id':'downsampling',\n",
    "    'wd':1e-2,\n",
    "    'lr':3e-4,\n",
    "    'batch_size':512,\n",
    "    'robust':False,\n",
    "    'norm':'batch',\n",
    "    'dropout':.1,\n",
    "    'stem_kernel_size':3,\n",
    "    'widthi':[16,32,64,128],\n",
    "    'depthi':[1,1,1,1],\n",
    "    'patience':100,\n",
    "    'epochs':500\n",
    "}\n",
    "\n",
    "trainloader,testloader = get_epoched_dataloaders(batch_size=hyperparameters['batch_size'],robust=hyperparameters['robust'])\n",
    "model = ResNetv2(ResBlockv2,widthi=hyperparameters['widthi'],depthi=hyperparameters['depthi'],n_output_neurons=3,norm=hyperparameters['norm'],stem_kernel_size=hyperparameters['stem_kernel_size'],dropout=hyperparameters['dropout'])\n",
    "criterion = nn.CrossEntropyLoss()\n",
    "optimizer = torch.optim.AdamW(model.parameters(),lr=hyperparameters['lr'],weight_decay=hyperparameters['wd'])\n",
    "scheduler = torch.optim.lr_scheduler.ReduceLROnPlateau(optimizer, mode='min', factor=0.5, patience=50)\n",
    "\n",
    "state = {\n",
    "    'start_time':datetime.datetime.now().strftime(\"%Y_%d_%m_%H_%M_%S\"),\n",
    "    'execution_time':0,\n",
    "    'device':'cuda',\n",
    "    'trainlossi':[],\n",
    "    'testlossi':[],\n",
    "    'best_dev_loss':torch.inf,\n",
    "    'model':model,\n",
    "    'scheduler':scheduler,\n",
    "    'criterion':criterion,\n",
    "    'optimizer':optimizer,\n",
    "    'best_model_wts':copy.deepcopy(model.state_dict()),\n",
    "}\n",
    "\n",
    "for key in hyperparameters:\n",
    "    state[key] = hyperparameters[key]\n",
    "\n",
    "last_time = time()\n",
    "\n",
    "os.makedirs(f'{EXPERIMENTS_PATH}/{state[\"start_time\"]}')\n",
    "\n",
    "for state in train(state,trainloader,testloader):\n",
    "    plot_loss(state,EXPERIMENTS_PATH)\n",
    "    state['execution_time'] = (state['execution_time'] + (time() - last_time))/2\n",
    "    last_time = time()\n",
    "    torch.save(state, f'{EXPERIMENTS_PATH}/{state[\"start_time\"]}/state.pt')\n",
    "torch.save(state, f'{EXPERIMENTS_PATH}/{state[\"start_time\"]}/state.pt')\n"
   ]
  }
 ],
 "metadata": {
  "kernelspec": {
   "display_name": "Python 3",
   "language": "python",
   "name": "python3"
  },
  "language_info": {
   "codemirror_mode": {
    "name": "ipython",
    "version": 3
   },
   "file_extension": ".py",
   "mimetype": "text/x-python",
   "name": "python",
   "nbconvert_exporter": "python",
   "pygments_lexer": "ipython3",
   "version": "3.10.12"
  }
 },
 "nbformat": 4,
 "nbformat_minor": 2
}
