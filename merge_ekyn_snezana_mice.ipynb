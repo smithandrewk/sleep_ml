{
 "cells": [
  {
   "cell_type": "code",
   "execution_count": null,
   "metadata": {},
   "outputs": [],
   "source": [
    "%load_ext autoreload\n",
    "%autoreload 2\n",
    "from lib.utils import *\n",
    "from lib.ekyn import *"
   ]
  },
  {
   "cell_type": "code",
   "execution_count": null,
   "metadata": {},
   "outputs": [],
   "source": [
    "train_idx,test_idx = get_merged_ekyn_snezana_mice_train_test_ids()\n",
    "trainloader = DataLoader(Windowset(*load_paired_list(ids=train_idx),CONFIG['WINDOW_SIZE']),batch_size=CONFIG['BATCH_SIZE'],shuffle=True)\n",
    "devloader = DataLoader(Windowset(*load_paired_list(ids=test_idx),CONFIG['WINDOW_SIZE']),batch_size=CONFIG['BATCH_SIZE'],shuffle=False)"
   ]
  },
  {
   "cell_type": "code",
   "execution_count": null,
   "metadata": {},
   "outputs": [],
   "source": []
  },
  {
   "cell_type": "code",
   "execution_count": null,
   "metadata": {},
   "outputs": [],
   "source": []
  },
  {
   "cell_type": "code",
   "execution_count": null,
   "metadata": {},
   "outputs": [],
   "source": [
    "import math\n",
    "from torch.nn.functional import relu\n",
    "from lib.models import ResidualBlockv2\n",
    "\n",
    "class RegNet(nn.Module):\n",
    "    def __init__(self, in_features, depthi=[1,1,3,1], widthi=[2,4,16,32], *args, **kwargs) -> None:\n",
    "        super().__init__(*args, **kwargs)\n",
    "        self.in_features = in_features * 5000\n",
    "\n",
    "        kernel_size = 10\n",
    "        padding = 4\n",
    "        in_features = math.floor(((self.in_features+2*padding-1*(kernel_size-1)-1))/2+1)\n",
    "        \n",
    "        self.c1 = nn.Conv1d(in_channels=1,out_channels=widthi[0],kernel_size=kernel_size,stride=2,padding=padding,dilation=1)\n",
    "        self.ln1 = nn.LayerNorm(normalized_shape=(in_features))\n",
    "        self.mp1 = nn.MaxPool1d(kernel_size=2,stride=2)\n",
    "\n",
    "        blocks = []\n",
    "        in_feature_maps = widthi[0]\n",
    "        for stage,depth in enumerate(depthi):\n",
    "            for i in range(depth):\n",
    "                if i == 0:\n",
    "                    in_features = math.floor((in_features-1)/2+1)\n",
    "                    block = ResidualBlockv2(n_features=in_features,in_feature_maps=in_feature_maps,out_feature_maps=widthi[stage])\n",
    "                    in_feature_maps = widthi[stage]\n",
    "                else:\n",
    "                    block = ResidualBlockv2(n_features=in_features,in_feature_maps=widthi[stage],out_feature_maps=widthi[stage])\n",
    "                blocks.append(block)\n",
    "            \n",
    "        self.blocks = nn.Sequential(*blocks)\n",
    "\n",
    "        self.classifier = nn.Sequential(\n",
    "            nn.AvgPool1d(kernel_size=in_features),\n",
    "            nn.Flatten(start_dim=1),\n",
    "            nn.Linear(widthi[-1],3),\n",
    "            # nn.ReLU(),\n",
    "            # nn.Linear(32,3)\n",
    "        )\n",
    "    def forward(self,x):\n",
    "        x = x.reshape(-1,1,self.in_features)\n",
    "        x = self.c1(x)\n",
    "        x = self.ln1(x)\n",
    "        x = relu(x)\n",
    "        x = self.mp1(x)\n",
    "\n",
    "        x = self.blocks(x)\n",
    "        x = self.classifier(x)\n",
    "        return x"
   ]
  },
  {
   "cell_type": "code",
   "execution_count": null,
   "metadata": {},
   "outputs": [],
   "source": [
    "model = RegNet(in_features=1,depthi=[1,1,3,1],widthi=[2,4,16,32])\n",
    "criterion = nn.CrossEntropyLoss(weight=torch.tensor([18.3846,  2.2810,  1.9716])).to(DEVICE)\n",
    "optimizer = optim.Adam(model.parameters(),lr=CONFIG['LEARNING_RATE'])\n",
    "params = sum([p.flatten().size()[0] for p in list(model.parameters())])\n",
    "print(\"Params: \",params)\n",
    "print(model)\n",
    "lossi = []\n",
    "trainlossi = []\n",
    "devlossi = []"
   ]
  },
  {
   "cell_type": "code",
   "execution_count": null,
   "metadata": {},
   "outputs": [],
   "source": [
    "Xi,yi = next(iter(trainloader))"
   ]
  },
  {
   "cell_type": "code",
   "execution_count": null,
   "metadata": {},
   "outputs": [],
   "source": [
    "model(Xi).shape"
   ]
  },
  {
   "cell_type": "code",
   "execution_count": null,
   "metadata": {},
   "outputs": [],
   "source": [
    "model.train()\n",
    "for epoch in tqdm(range(10)):\n",
    "    for Xi,yi in trainloader:\n",
    "        Xi,yi = Xi.to(DEVICE),yi.to(DEVICE)\n",
    "        logits = model(Xi)\n",
    "        loss = criterion(logits,yi)\n",
    "        optimizer.zero_grad()\n",
    "        loss.backward()\n",
    "        optimizer.step()\n",
    "        lossi.append(loss.item())\n",
    "    # if epoch % 1 == 0:\n",
    "    #     plt.plot(torch.tensor(lossi[:len(lossi) - len(lossi)%10]).view(-1,10).mean(axis=1))\n",
    "    #     plt.savefig('loss.jpg')\n",
    "    #     plt.close()\n",
    "\n",
    "    #     loss,_,_,_,_ = evaluate(dataloader=trainloader,model=model,criterion=criterion,DEVICE=DEVICE)\n",
    "    #     trainlossi.append(loss)\n",
    "    #     loss,_,_,_,_ = evaluate(dataloader=devloader,model=model,criterion=criterion,DEVICE=DEVICE)\n",
    "    #     devlossi.append(loss)\n",
    "    #     print(loss)\n",
    "\n",
    "    #     plt.plot(trainlossi)\n",
    "    #     plt.plot(devlossi)\n",
    "    #     plt.savefig('dev.jpg')\n",
    "    #     plt.close()"
   ]
  },
  {
   "cell_type": "code",
   "execution_count": null,
   "metadata": {},
   "outputs": [],
   "source": [
    "plt.plot(lossi)"
   ]
  },
  {
   "cell_type": "code",
   "execution_count": null,
   "metadata": {},
   "outputs": [],
   "source": [
    "print(torch.tensor(lossi[:len(lossi) - len(lossi)%10]).view(-1,10).mean(axis=1)[-1])"
   ]
  },
  {
   "cell_type": "code",
   "execution_count": null,
   "metadata": {},
   "outputs": [],
   "source": [
    "model.to('cpu')\n",
    "Xi,yi = next(iter(trainloader))\n",
    "\n",
    "fig,ax = plt.subplots(nrows=len(model.c1.weight),ncols=2,figsize=(8,10))\n",
    "for i,kernel in enumerate(model.c1.weight.squeeze().detach()):\n",
    "    ax[i,0].plot(kernel)\n",
    "for i,kernel in enumerate(model.c1(Xi.reshape(-1,1,5000)).detach()[0]):\n",
    "    ax[i,1].plot(kernel)"
   ]
  },
  {
   "cell_type": "code",
   "execution_count": null,
   "metadata": {},
   "outputs": [],
   "source": [
    "loss,report,y_true,y_pred,y_logits = evaluate(dataloader=trainloader,model=model,criterion=criterion,DEVICE=DEVICE)\n",
    "ConfusionMatrixDisplay.from_predictions(y_true,y_pred,normalize='true')\n",
    "print(classification_report(y_true,y_pred))\n",
    "print(loss)"
   ]
  },
  {
   "cell_type": "code",
   "execution_count": null,
   "metadata": {},
   "outputs": [],
   "source": [
    "loss,report,y_true,y_pred,y_logits = evaluate(dataloader=devloader,model=model,criterion=criterion,DEVICE=DEVICE)\n",
    "ConfusionMatrixDisplay.from_predictions(y_true,y_pred,normalize='true')\n",
    "print(classification_report(y_true,y_pred))\n",
    "print(loss)"
   ]
  },
  {
   "cell_type": "code",
   "execution_count": null,
   "metadata": {},
   "outputs": [],
   "source": [
    "import matplotlib.patches as patches\n",
    "start = 190\n",
    "duration = 200\n",
    "fig, ax = plt.subplots(nrows=2,ncols=1,figsize=(16,5),dpi=200)\n",
    "\n",
    "ax[1].plot(X[start:start+duration].flatten(),'black',linewidth=.2)\n",
    "colors = ['red','green','blue']\n",
    "epochs = []\n",
    "for i in range(duration):\n",
    "    stage = int(y.argmax(axis=1)[start+i])\n",
    "    ax[1].fill_between([i*5000, (i+1)*5000], y1=-.0003, y2=.0003, color=colors[stage], alpha=0.3)\n",
    "    epochs.append(i*5000+2500)\n",
    "\n",
    "red_patch = patches.Patch(color='red', alpha=0.5, label='Paradoxical')\n",
    "green_patch = patches.Patch(color='green', alpha=0.5, label='Slow-wave')\n",
    "blue_patch = patches.Patch(color='blue', alpha=0.5, label='Wakefulness')\n",
    "ax[1].set_ylim([-.0003,.0003])\n",
    "ax[1].margins(0,0)\n",
    "plt.legend(handles=[red_patch, green_patch,blue_patch],loc='upper left', bbox_to_anchor=(1.04, 1),\n",
    "        fancybox=True, shadow=True, ncol=1)\n",
    "plt.xlabel('epoch (index)')\n",
    "ax[1].set_ylabel('potential energy (Volts)')\n",
    "ax[1].set_xticks(epochs[::int(duration/20)],range(duration)[::int(duration/20)]);\n",
    "\n",
    "ax[0].stackplot(torch.linspace(0,duration-1,duration),y_logits[start:start+duration,0],y_logits[start:start+duration,1],y_logits[start:start+duration,2],colors=['#FF000080','#00FF0080','#0000FF80'])\n",
    "ax[0].margins(0,0)\n",
    "ax[0].set_xticks([])"
   ]
  }
 ],
 "metadata": {
  "kernelspec": {
   "display_name": "Python 3.10.12 64-bit",
   "language": "python",
   "name": "python3"
  },
  "language_info": {
   "codemirror_mode": {
    "name": "ipython",
    "version": 3
   },
   "file_extension": ".py",
   "mimetype": "text/x-python",
   "name": "python",
   "nbconvert_exporter": "python",
   "pygments_lexer": "ipython3",
   "version": "3.10.12"
  },
  "orig_nbformat": 4,
  "vscode": {
   "interpreter": {
    "hash": "916dbcbb3f70747c44a77c7bcd40155683ae19c65e1c03b4aa3499c5328201f1"
   }
  }
 },
 "nbformat": 4,
 "nbformat_minor": 2
}
