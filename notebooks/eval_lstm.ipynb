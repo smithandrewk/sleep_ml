{
 "cells": [
  {
   "cell_type": "code",
   "execution_count": null,
   "metadata": {},
   "outputs": [],
   "source": [
    "from sklearn.model_selection import train_test_split\n",
    "from torch.utils.data import DataLoader,ConcatDataset\n",
    "import math\n",
    "from torch import nn\n",
    "from lib.models import RegNet\n",
    "from torch.nn.functional import relu\n",
    "import matplotlib.pyplot as plt\n",
    "import torch\n",
    "from tqdm import tqdm\n",
    "import numpy as np\n",
    "import random\n",
    "import json\n",
    "\n",
    "torch.manual_seed(0)\n",
    "np.random.seed(0)\n",
    "random.seed(0)\n",
    "\n",
    "PROJECT_DIR = f'projects/17'\n",
    "with open(f'{PROJECT_DIR}/config.json','r') as f:\n",
    "    CONFIG = json.load(f)"
   ]
  },
  {
   "cell_type": "code",
   "execution_count": null,
   "metadata": {},
   "outputs": [],
   "source": [
    "from lib.models import Dumbledorev2\n",
    "from lib.datasets import EpochedDataset,SequencedDatasetv2\n",
    "from lib.ekyn import get_ekyn_ids,load_ekyn_pt\n",
    "\n",
    "train_idx,test_idx = train_test_split(get_ekyn_ids(),test_size=.25,random_state=0)\n",
    "trainloader = DataLoader(ConcatDataset([SequencedDatasetv2(idx=idx,condition=condition,sequence_length=CONFIG['SEQUENCE_LENGTH'],batch_size=CONFIG['BATCH_SIZE']) for idx in train_idx for condition in ['Vehicle','PF']]),batch_size=1,shuffle=True)\n",
    "devloader = DataLoader(ConcatDataset([SequencedDatasetv2(idx=idx,condition=condition,sequence_length=CONFIG['SEQUENCE_LENGTH'],batch_size=CONFIG['BATCH_SIZE']) for idx in test_idx for condition in ['Vehicle','PF']]),batch_size=1,shuffle=True)\n",
    "model = Dumbledorev2(encoder_path=f'projects/6',sequence_length=CONFIG['SEQUENCE_LENGTH'],hidden_dim=CONFIG['HIDDEN_DIM'],layers=CONFIG['LAYERS'],embedding=CONFIG['EMBEDDING'],frozen=CONFIG['FROZEN'],batch_size=CONFIG['BATCH_SIZE'])\n",
    "model.load_state_dict(torch.load(f=f'{PROJECT_DIR}/best.f1.pt', map_location='cpu'))\n",
    "criterion = nn.CrossEntropyLoss()\n",
    "optimizer = torch.optim.AdamW(model.parameters(),lr=CONFIG['LEARNING_RATE'])\n",
    "model.to(CONFIG['DEVICE']);"
   ]
  },
  {
   "cell_type": "code",
   "execution_count": null,
   "metadata": {},
   "outputs": [],
   "source": [
    "lossi = []\n",
    "trainlossi = []\n",
    "trainf1 = []\n",
    "devlossi = []\n",
    "devf1 = []\n",
    "model.train()\n",
    "from lib.utils import training_loop,development_loop\n",
    "for i in tqdm(range(1000)):\n",
    "    loss,f1 = training_loop(model=model,trainloader=trainloader,criterion=criterion,optimizer=optimizer,device=CONFIG['DEVICE'])\n",
    "    trainlossi.append(loss)\n",
    "    trainf1.append(f1)\n",
    "\n",
    "    loss,f1 = development_loop(model=model,devloader=devloader,criterion=criterion,device=CONFIG['DEVICE'])\n",
    "    devlossi.append(loss)\n",
    "    devf1.append(f1)\n",
    "\n",
    "    fig,ax = plt.subplots(nrows=1,ncols=2,figsize=(20,4))\n",
    "    ax[0].plot(trainlossi)\n",
    "    ax[0].plot(devlossi)\n",
    "    ax[1].plot(trainf1)\n",
    "    ax[1].plot(devf1)\n",
    "    plt.savefig('loss.jpg')\n",
    "    plt.close()"
   ]
  },
  {
   "cell_type": "code",
   "execution_count": null,
   "metadata": {},
   "outputs": [],
   "source": [
    "from lib.utils import evaluate\n",
    "evaluate(devloader,model,criterion,CONFIG['DEVICE'])"
   ]
  },
  {
   "cell_type": "code",
   "execution_count": null,
   "metadata": {},
   "outputs": [],
   "source": []
  },
  {
   "cell_type": "code",
   "execution_count": null,
   "metadata": {},
   "outputs": [],
   "source": []
  },
  {
   "cell_type": "code",
   "execution_count": null,
   "metadata": {},
   "outputs": [],
   "source": [
    "devloader = DataLoader(ConcatDataset([SequencedDatasetv2(idx=idx,condition=condition,sequence_length=CONFIG['SEQUENCE_LENGTH'],batch_size=CONFIG['BATCH_SIZE']) for idx in test_idx[:1] for condition in ['Vehicle','PF']]),batch_size=1,shuffle=False)\n",
    "loss,report,y_true,y_pred,y_logits = evaluate(devloader,model,criterion,CONFIG['DEVICE'])\n",
    "from sklearn.metrics import ConfusionMatrixDisplay,classification_report\n",
    "\n",
    "ConfusionMatrixDisplay.from_predictions(y_true,y_pred,normalize='true')\n",
    "print(classification_report(y_true,y_pred))\n",
    "print(loss)"
   ]
  },
  {
   "cell_type": "code",
   "execution_count": null,
   "metadata": {},
   "outputs": [],
   "source": [
    "len(y_true)"
   ]
  },
  {
   "cell_type": "code",
   "execution_count": null,
   "metadata": {},
   "outputs": [],
   "source": [
    "(8640*2)-512"
   ]
  },
  {
   "cell_type": "code",
   "execution_count": null,
   "metadata": {},
   "outputs": [],
   "source": [
    "import matplotlib.patches as patches\n",
    "start = 0\n",
    "duration = 1000\n",
    "\n",
    "fig, ax = plt.subplots(nrows=4,ncols=1,figsize=(16,10),dpi=100,sharex=True)\n",
    "\n",
    "colors = ['red','green','blue']\n",
    "epochs = []\n",
    "for i in range(duration):\n",
    "    stage = int(y.argmax(axis=1)[start+i])\n",
    "    ax[3].fill_between([i*5000, (i+1)*5000], y1=-.0003, y2=.0003, color=colors[stage], alpha=0.3)\n",
    "    epochs.append(i*5000+2500)\n",
    "\n",
    "y_logits_tmp = torch.tensor([[val]*CONFIG['WINDOW_SIZE'] for val in list(y_logits[start:start+duration].numpy())]).flatten(0,1)\n",
    "\n",
    "ax[0].stackplot(range(len(y_logits_tmp)),y_logits_tmp[:,0],y_logits_tmp[:,1],y_logits_tmp[:,2],colors=['#FF000080','#00FF0080','#0000FF80'])\n",
    "\n",
    "ax[1].plot(torch.cat([torch.tensor([[val]*CONFIG['WINDOW_SIZE'] for val in list(y_pred[start:start+duration].numpy())]).flatten()]))\n",
    "ax[1].set_yticks([0,1,2],['Paradoxical','Slow-Wave','Wakefulness'])\n",
    "ax[1].margins(0,0)\n",
    "ax[1].set_ylim([-.1,2.1])\n",
    "ax[1].set_title('predicted activity')\n",
    "\n",
    "ax[2].plot(torch.cat([torch.tensor([[val]*CONFIG['WINDOW_SIZE'] for val in list(y_true[start:start+duration].numpy())]).flatten()]))\n",
    "ax[2].set_yticks([0,1,2],['Paradoxical','Slow-Wave','Wakefulness'])\n",
    "ax[2].margins(0,0)\n",
    "ax[2].set_ylim([-.1,2.1])\n",
    "ax[2].set_title('reference activity')\n",
    "\n",
    "ax[3].plot(X[start:start+duration].flatten(),'black',linewidth=.3)\n",
    "ax[3].margins(0,0)\n",
    "ax[3].set_ylim([-.0003,.0003])\n",
    "ax[3].set_ylabel('potential energy (Volts)')\n",
    "ax[3].set_xticks(epochs[::int(duration/20)],range(duration)[::int(duration/20)]);\n",
    "ax[3].set_title('expert labeling')\n",
    "\n",
    "red_patch = patches.Patch(color='red', alpha=0.5, label='Paradoxical')\n",
    "green_patch = patches.Patch(color='green', alpha=0.5, label='Slow-wave')\n",
    "blue_patch = patches.Patch(color='blue', alpha=0.5, label='Wakefulness')\n",
    "\n",
    "plt.legend(handles=[red_patch, green_patch,blue_patch],loc='upper left',bbox_to_anchor=(1.04, 1),fancybox=True, shadow=True, ncol=1)\n",
    "plt.xlabel('epoch (each being 10 seconds)')\n",
    "plt.savefig('Sleep3.jpg',bbox_inches='tight')"
   ]
  }
 ],
 "metadata": {
  "kernelspec": {
   "display_name": "Python 3.10.12 64-bit",
   "language": "python",
   "name": "python3"
  },
  "language_info": {
   "codemirror_mode": {
    "name": "ipython",
    "version": 3
   },
   "file_extension": ".py",
   "mimetype": "text/x-python",
   "name": "python",
   "nbconvert_exporter": "python",
   "pygments_lexer": "ipython3",
   "version": "3.10.12"
  },
  "vscode": {
   "interpreter": {
    "hash": "916dbcbb3f70747c44a77c7bcd40155683ae19c65e1c03b4aa3499c5328201f1"
   }
  }
 },
 "nbformat": 4,
 "nbformat_minor": 2
}
