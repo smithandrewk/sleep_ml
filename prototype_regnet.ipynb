{
 "cells": [
  {
   "cell_type": "code",
   "execution_count": 61,
   "metadata": {},
   "outputs": [
    {
     "name": "stdout",
     "output_type": "stream",
     "text": [
      "['F1-0', 'B3-1', 'A4-0', 'F1-1', 'E2-1', 'C4-1', 'F5-1', 'E4-0', 'B1-0', 'A1-0', 'C1-0', 'E4-1'] ['A1-1', 'C4-0', 'D1-0', 'E1-0']\n"
     ]
    }
   ],
   "source": [
    "from lib.ekyn import *\n",
    "from torch.utils.data import DataLoader,ConcatDataset,TensorDataset\n",
    "from lib.datasets import EpochedDataset\n",
    "from sklearn.model_selection import train_test_split\n",
    "import torch\n",
    "from lib.models import RegNetX\n",
    "import matplotlib.pyplot as plt\n",
    "from tqdm import tqdm\n",
    "from torch import nn\n",
    "from torch.nn.functional import relu\n",
    "\n",
    "CONFIG = {\n",
    "    'BATCH_SIZE':256,\n",
    "    'WINDOW_SIZE':5000,\n",
    "    'LEARNING_RATE':3e-3,\n",
    "    'TEST_SIZE':.25,\n",
    "    'DEVICE':'cuda',\n",
    "    'DEPTHI':[1,2,4,1],\n",
    "    'WIDTHI':[8,16,32,64],\n",
    "    'STEM_KERNEL_SIZE':3\n",
    "}\n",
    "\n",
    "train_idx,test_idx = train_test_split(get_ekyn_ids(),test_size=.25,random_state=0)\n",
    "print(train_idx,test_idx)\n",
    "trainloader = DataLoader(ConcatDataset([EpochedDataset(idx=idx,condition=condition) for idx in train_idx for condition in ['Vehicle','PF']]),batch_size=CONFIG['BATCH_SIZE'],shuffle=True)\n",
    "devloader = DataLoader(ConcatDataset([EpochedDataset(idx=idx,condition=condition) for idx in test_idx for condition in ['Vehicle','PF']]),batch_size=CONFIG['BATCH_SIZE'],shuffle=True)"
   ]
  },
  {
   "cell_type": "code",
   "execution_count": 62,
   "metadata": {},
   "outputs": [
    {
     "name": "stdout",
     "output_type": "stream",
     "text": [
      "stage 0, depth 1\n",
      "1250\n",
      "block 0 8 8\n",
      "stage 1, depth 2\n",
      "625\n",
      "block 1 8 16\n",
      "625\n",
      "block 1 16 16\n",
      "stage 2, depth 4\n",
      "313\n",
      "block 2 16 32\n",
      "313\n",
      "block 2 32 32\n",
      "313\n",
      "block 2 32 32\n",
      "313\n",
      "block 2 32 32\n",
      "stage 3, depth 1\n",
      "157\n",
      "block 3 32 64\n"
     ]
    }
   ],
   "source": [
    "from lib.models import YBlock\n",
    "import math\n",
    "class YBlock(nn.Module):\n",
    "    def __init__(self,in_channels,out_channels,seq_len) -> None:\n",
    "        super().__init__()\n",
    "        stride = 1\n",
    "        self.seq_len = seq_len\n",
    "        self.in_channels = in_channels\n",
    "        self.out_channels = out_channels\n",
    "        if out_channels > in_channels:\n",
    "            stride = 2\n",
    "            self.seq_len = seq_len // 2 if seq_len % 2 == 0 else seq_len // 2 + 1\n",
    "        print(self.seq_len)\n",
    "        self.block = nn.Sequential(\n",
    "            nn.Conv1d(in_channels=in_channels,out_channels=out_channels,kernel_size=3,stride=stride,padding=1,bias=False),\n",
    "            nn.ReLU()\n",
    "            \n",
    "        )\n",
    "        self.identity = nn.Sequential(\n",
    "            nn.Conv1d(in_channels, out_channels, kernel_size=1, padding=0, stride=stride),\n",
    "            nn.ReLU()\n",
    "        ) if out_channels > in_channels else nn.Identity()\n",
    "        self.relu = nn.ReLU()\n",
    "    def forward(self,x):\n",
    "        x = self.relu(self.block(x) + self.identity(x))\n",
    "        return x\n",
    "class RegNetY(nn.Module):\n",
    "    def __init__(self,depth,width,stem_kernel_size) -> None:\n",
    "        super().__init__()\n",
    "        self.stem = nn.Sequential(\n",
    "            nn.Conv1d(in_channels=1,out_channels=width[0],kernel_size=stem_kernel_size,stride=2,padding=stem_kernel_size//2,bias=False),\n",
    "            nn.MaxPool1d(kernel_size=2,stride=2),\n",
    "            nn.ReLU()\n",
    "        )\n",
    "\n",
    "        self.body = nn.Sequential()\n",
    "        for stage_i in range(len(width)):\n",
    "            print(f'stage {stage_i}, depth {depth[stage_i]}')\n",
    "            for block_i in range(depth[stage_i]):\n",
    "                self.body.add_module(name=f'{stage_i}_{block_i}',module=YBlock(in_channels=width[0] if stage_i == 0 and block_i == 0 else self.body[-1].out_channels,out_channels=width[stage_i],seq_len=self.body[-1].seq_len if stage_i > 0 else 1250))\n",
    "                print(f'block {stage_i} {self.body[-1].in_channels} {self.body[-1].out_channels}')\n",
    "\n",
    "        self.classifier = nn.Sequential(\n",
    "            nn.AvgPool1d(kernel_size=self.body[-1].seq_len),\n",
    "            nn.Flatten(start_dim=1),\n",
    "            nn.Linear(in_features=width[-1],out_features=3)\n",
    "        )\n",
    "\n",
    "    def forward(self,x):\n",
    "        x = x.view(-1,1,5000)\n",
    "        x = self.stem(x)\n",
    "        x = self.body(x)\n",
    "        x = self.classifier(x)\n",
    "        return x\n",
    "model = RegNetY(depth=CONFIG['DEPTHI'],width=CONFIG['WIDTHI'],stem_kernel_size=CONFIG['STEM_KERNEL_SIZE'])\n",
    "criterion = torch.nn.CrossEntropyLoss()\n",
    "optimizer = torch.optim.AdamW(model.parameters(),lr=CONFIG['LEARNING_RATE'])\n",
    "# model.to(CONFIG['DEVICE']);"
   ]
  },
  {
   "cell_type": "code",
   "execution_count": 63,
   "metadata": {},
   "outputs": [],
   "source": [
    "Xi,yi = next(iter(trainloader))"
   ]
  },
  {
   "cell_type": "code",
   "execution_count": 64,
   "metadata": {},
   "outputs": [
    {
     "data": {
      "text/plain": [
       "torch.Size([256, 3])"
      ]
     },
     "execution_count": 64,
     "metadata": {},
     "output_type": "execute_result"
    }
   ],
   "source": [
    "model(Xi).shape"
   ]
  },
  {
   "cell_type": "code",
   "execution_count": 65,
   "metadata": {},
   "outputs": [
    {
     "name": "stderr",
     "output_type": "stream",
     "text": [
      "  1%|          | 9/1000 [01:55<3:31:42, 12.82s/it]\n"
     ]
    },
    {
     "ename": "KeyboardInterrupt",
     "evalue": "",
     "output_type": "error",
     "traceback": [
      "\u001b[0;31m---------------------------------------------------------------------------\u001b[0m",
      "\u001b[0;31mKeyboardInterrupt\u001b[0m                         Traceback (most recent call last)",
      "Cell \u001b[0;32mIn[65], line 9\u001b[0m\n\u001b[1;32m      7\u001b[0m \u001b[38;5;28;01mfrom\u001b[39;00m \u001b[38;5;21;01mlib\u001b[39;00m\u001b[38;5;21;01m.\u001b[39;00m\u001b[38;5;21;01mutils\u001b[39;00m \u001b[38;5;28;01mimport\u001b[39;00m training_loop,development_loop\n\u001b[1;32m      8\u001b[0m \u001b[38;5;28;01mfor\u001b[39;00m i \u001b[38;5;129;01min\u001b[39;00m tqdm(\u001b[38;5;28mrange\u001b[39m(\u001b[38;5;241m1000\u001b[39m)):\n\u001b[0;32m----> 9\u001b[0m     loss,f1 \u001b[38;5;241m=\u001b[39m \u001b[43mtraining_loop\u001b[49m\u001b[43m(\u001b[49m\u001b[43mmodel\u001b[49m\u001b[38;5;241;43m=\u001b[39;49m\u001b[43mmodel\u001b[49m\u001b[43m,\u001b[49m\u001b[43mtrainloader\u001b[49m\u001b[38;5;241;43m=\u001b[39;49m\u001b[43mtrainloader\u001b[49m\u001b[43m,\u001b[49m\u001b[43mcriterion\u001b[49m\u001b[38;5;241;43m=\u001b[39;49m\u001b[43mcriterion\u001b[49m\u001b[43m,\u001b[49m\u001b[43moptimizer\u001b[49m\u001b[38;5;241;43m=\u001b[39;49m\u001b[43moptimizer\u001b[49m\u001b[43m,\u001b[49m\u001b[43mdevice\u001b[49m\u001b[38;5;241;43m=\u001b[39;49m\u001b[43mCONFIG\u001b[49m\u001b[43m[\u001b[49m\u001b[38;5;124;43m'\u001b[39;49m\u001b[38;5;124;43mDEVICE\u001b[39;49m\u001b[38;5;124;43m'\u001b[39;49m\u001b[43m]\u001b[49m\u001b[43m)\u001b[49m\n\u001b[1;32m     10\u001b[0m     trainlossi\u001b[38;5;241m.\u001b[39mappend(loss)\n\u001b[1;32m     11\u001b[0m     trainf1\u001b[38;5;241m.\u001b[39mappend(f1)\n",
      "File \u001b[0;32m~/sleep/sleep_ml/lib/utils.py:444\u001b[0m, in \u001b[0;36mtraining_loop\u001b[0;34m(model, trainloader, criterion, optimizer, device)\u001b[0m\n\u001b[1;32m    442\u001b[0m     loss\u001b[39m.\u001b[39mbackward()\n\u001b[1;32m    443\u001b[0m     optimizer\u001b[39m.\u001b[39mstep()\n\u001b[0;32m--> 444\u001b[0m     loss_tr_total \u001b[39m+\u001b[39m\u001b[39m=\u001b[39m loss\u001b[39m.\u001b[39;49mitem()\n\u001b[1;32m    445\u001b[0m     y_pred\u001b[39m.\u001b[39mappend(torch\u001b[39m.\u001b[39msoftmax(logits,dim\u001b[39m=\u001b[39m\u001b[39m1\u001b[39m)\u001b[39m.\u001b[39margmax(axis\u001b[39m=\u001b[39m\u001b[39m1\u001b[39m)\u001b[39m.\u001b[39mdetach()\u001b[39m.\u001b[39mcpu())\n\u001b[1;32m    446\u001b[0m y_true \u001b[39m=\u001b[39m torch\u001b[39m.\u001b[39mcat(y_true)\n",
      "\u001b[0;31mKeyboardInterrupt\u001b[0m: "
     ]
    }
   ],
   "source": [
    "lossi = []\n",
    "trainlossi = []\n",
    "trainf1 = []\n",
    "devlossi = []\n",
    "devf1 = []\n",
    "model.train()\n",
    "from lib.utils import training_loop,development_loop\n",
    "for i in tqdm(range(1000)):\n",
    "    loss,f1 = training_loop(model=model,trainloader=trainloader,criterion=criterion,optimizer=optimizer,device=CONFIG['DEVICE'])\n",
    "    trainlossi.append(loss)\n",
    "    trainf1.append(f1)\n",
    "\n",
    "    # if i % 100 == 0:\n",
    "    #     loss,f1 = development_loop(model=model,devloader=devloader,criterion=criterion,device=CONFIG['DEVICE'])\n",
    "    #     devlossi.append(loss)\n",
    "    #     devf1.append(f1)\n",
    "\n",
    "    fig,ax = plt.subplots(nrows=1,ncols=2,figsize=(20,4))\n",
    "    ax[0].plot(trainlossi)\n",
    "    ax[0].plot(torch.linspace(0,len(trainlossi),len(devlossi)),devlossi)\n",
    "    ax[1].plot(trainf1)\n",
    "    ax[1].plot(torch.linspace(0,len(trainf1),len(devf1)),devf1)\n",
    "    plt.savefig('loss.jpg')\n",
    "    plt.close()"
   ]
  },
  {
   "cell_type": "code",
   "execution_count": 66,
   "metadata": {},
   "outputs": [
    {
     "name": "stderr",
     "output_type": "stream",
     "text": [
      "100%|██████████| 270/270 [00:01<00:00, 169.00it/s]\n"
     ]
    },
    {
     "data": {
      "text/plain": [
       "(0.26000638328216696,\n",
       " {'precision': 0.8113643714116306,\n",
       "  'recall': 0.8448450140676802,\n",
       "  'f1': 0.8258637231317404},\n",
       " tensor([1., 1., 1.,  ..., 1., 1., 2.]),\n",
       " tensor([1., 1., 1.,  ..., 2., 1., 2.]),\n",
       " tensor([[3.6073e-06, 9.8673e-01, 1.3270e-02],\n",
       "         [6.9646e-10, 9.9950e-01, 5.0115e-04],\n",
       "         [1.8734e-06, 9.9287e-01, 7.1251e-03],\n",
       "         ...,\n",
       "         [4.0691e-02, 9.7651e-02, 8.6166e-01],\n",
       "         [1.1035e-08, 9.9757e-01, 2.4299e-03],\n",
       "         [8.5303e-04, 1.5289e-01, 8.4626e-01]]))"
      ]
     },
     "execution_count": 66,
     "metadata": {},
     "output_type": "execute_result"
    }
   ],
   "source": [
    "from lib.utils import evaluate\n",
    "evaluate(devloader,model,criterion,CONFIG['DEVICE'])"
   ]
  }
 ],
 "metadata": {
  "kernelspec": {
   "display_name": "Python 3.10.6 64-bit",
   "language": "python",
   "name": "python3"
  },
  "language_info": {
   "codemirror_mode": {
    "name": "ipython",
    "version": 3
   },
   "file_extension": ".py",
   "mimetype": "text/x-python",
   "name": "python",
   "nbconvert_exporter": "python",
   "pygments_lexer": "ipython3",
   "version": "3.10.12"
  },
  "orig_nbformat": 4,
  "vscode": {
   "interpreter": {
    "hash": "916dbcbb3f70747c44a77c7bcd40155683ae19c65e1c03b4aa3499c5328201f1"
   }
  }
 },
 "nbformat": 4,
 "nbformat_minor": 2
}
