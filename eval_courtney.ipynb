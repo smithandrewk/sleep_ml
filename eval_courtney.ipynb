{
 "cells": [
  {
   "cell_type": "code",
   "execution_count": 37,
   "metadata": {},
   "outputs": [],
   "source": [
    "from lib.utils import *\n",
    "from lib.models import *\n",
    "from lib.ekyn import *\n",
    "from lib.env import *\n",
    "from lib.datasets import *"
   ]
  },
  {
   "cell_type": "code",
   "execution_count": 38,
   "metadata": {},
   "outputs": [],
   "source": [
    "def fix_gaps(df):\n",
    "    df = df.reset_index(drop=True)\n",
    "    gaps = df[df['Time Stamp'].diff() > datetime.timedelta(seconds=10)]\n",
    "    if len(gaps) == 0:\n",
    "        return df\n",
    "    gap = gaps.iloc[0]\n",
    "    start = df.iloc[gap.name - 1,0]\n",
    "    end = df.iloc[gap.name,0]\n",
    "    upper = df.iloc[:gap.name]\n",
    "    lower = df.iloc[gap.name:]\n",
    "    start_ts = start.timestamp()\n",
    "    end_ts = end.timestamp()\n",
    "    number_of_epochs_to_add = int((end_ts-start_ts) // 10) - 1\n",
    "    for i in range(number_of_epochs_to_add):\n",
    "        upper = pd.concat([upper,pd.DataFrame([start + datetime.timedelta(seconds=(i+1)*10),'X'],index=df.columns).T])\n",
    "    return pd.concat([upper,fix_gaps(lower)]).reset_index(drop=True)"
   ]
  },
  {
   "cell_type": "code",
   "execution_count": 43,
   "metadata": {},
   "outputs": [],
   "source": [
    "def load_feature_label_pair_snezana(filename):\n",
    "    fs = 500\n",
    "    raw = read_raw_edf((f'../data/snezana_mice/{filename}.edf'),verbose=False)\n",
    "    measurement_date = raw.info[\"meas_date\"]\n",
    "    eeg = raw.get_data(picks='EEG 1')[0]\n",
    "    df = pd.read_excel(f'../data/snezana_mice/{filename}.xlsx')\n",
    "    df = df.drop(0).reset_index(drop=True)\n",
    "    df = fix_gaps(df)\n",
    "    df.loc[df['Rodent Sleep'] == 'X','Rodent Sleep'] = NA\n",
    "    df = df.fillna(method='ffill')\n",
    "    start_time = df['Time Stamp'][0]\n",
    "    end_time = df.iloc[-1,0]\n",
    "    length = (end_time - start_time)\n",
    "    times = [start_time + datetime.timedelta(seconds=10*i) for  i in range(int((length.days*86400 + length.seconds)/10)+1)]\n",
    "    measurement_date = measurement_date.replace(tzinfo=None)\n",
    "    offset = df.iloc[0,0] - measurement_date\n",
    "    eeg = eeg[offset.seconds*500:]\n",
    "    eeg = eeg[:len(times)*5000]\n",
    "    eeg = from_numpy(eeg.reshape(-1, 5000)).float()\n",
    "    y = one_hot(from_numpy(Categorical(df['Rodent Sleep']).codes.copy()).long()).float()\n",
    "    return eeg,y"
   ]
  },
  {
   "cell_type": "code",
   "execution_count": 44,
   "metadata": {},
   "outputs": [
    {
     "name": "stderr",
     "output_type": "stream",
     "text": [
      "/opt/homebrew/lib/python3.11/site-packages/openpyxl/styles/stylesheet.py:226: UserWarning: Workbook contains no default style, apply openpyxl's default\n",
      "  warn(\"Workbook contains no default style, apply openpyxl's default\")\n"
     ]
    }
   ],
   "source": [
    "X,y = load_feature_label_pair_snezana('21-WT-1')"
   ]
  },
  {
   "cell_type": "code",
   "execution_count": 45,
   "metadata": {},
   "outputs": [
    {
     "name": "stderr",
     "output_type": "stream",
     "text": [
      "100%|██████████| 540/540 [00:20<00:00, 26.15it/s]\n",
      "/opt/homebrew/lib/python3.11/site-packages/sklearn/metrics/_classification.py:1344: UndefinedMetricWarning: Precision is ill-defined and being set to 0.0 in labels with no predicted samples. Use `zero_division` parameter to control this behavior.\n",
      "  _warn_prf(average, modifier, msg_start, len(result))\n"
     ]
    }
   ],
   "source": [
    "model = Gandalf()\n",
    "model.load_state_dict(torch.load(f=f'../models/spindle_gandalfs/gandalf_spindle_fold_00/best_model.pt',map_location='cpu'))\n",
    "model.to(DEVICE)\n",
    "criterion = torch.nn.CrossEntropyLoss()\n",
    "dataloader = DataLoader(Windowset(X,y),batch_size=32,shuffle=False)\n",
    "loss,report,y_true,y_pred,logits = evaluate(dataloader,model,criterion,DEVICE)"
   ]
  },
  {
   "cell_type": "code",
   "execution_count": 47,
   "metadata": {},
   "outputs": [
    {
     "data": {
      "text/plain": [
       "{'precision': 0.1681520061728395,\n",
       " 'recall': 0.3333333333333333,\n",
       " 'f1': 0.2235386134297547}"
      ]
     },
     "execution_count": 47,
     "metadata": {},
     "output_type": "execute_result"
    }
   ],
   "source": [
    "report"
   ]
  },
  {
   "cell_type": "code",
   "execution_count": null,
   "metadata": {},
   "outputs": [],
   "source": [
    "cm_grid(y_true,y_pred)"
   ]
  },
  {
   "cell_type": "code",
   "execution_count": null,
   "metadata": {},
   "outputs": [],
   "source": [
    "\n",
    "# all_metrics = pd.concat([all_metrics,pd.Series(metrics,name=f'{filename}')],axis=1)"
   ]
  },
  {
   "cell_type": "code",
   "execution_count": null,
   "metadata": {},
   "outputs": [],
   "source": [
    "y_true.dtype"
   ]
  },
  {
   "cell_type": "code",
   "execution_count": null,
   "metadata": {},
   "outputs": [],
   "source": [
    "def get_bout_statistics_for_predictions(pred):\n",
    "    if pred.dtype is torch.float32:\n",
    "        pred = pd.DataFrame(pred)\n",
    "        pred.loc[pred[0] == 2,0] = 'W'\n",
    "        pred.loc[pred[0] == 1,0] = 'S'\n",
    "        pred.loc[pred[0] == 0,0] = 'P'\n",
    "        pred = pred[0]\n",
    "    bout_lengths = {\n",
    "    'P':[],\n",
    "    'S':[],\n",
    "    'W':[],\n",
    "    'X':[],\n",
    "    'A':[]\n",
    "    }\n",
    "    transition_matrix = pd.DataFrame(np.zeros((5,5)),columns=['P','S','W','X','A'],index=['P','S','W','X','A'])\n",
    "\n",
    "    current_state = 'A'\n",
    "    current_length = 0\n",
    "    for epoch in pred:\n",
    "        transition_matrix.loc[current_state,epoch] += 1\n",
    "        if(epoch != current_state):\n",
    "            bout_lengths[current_state].append(current_length)\n",
    "            current_state = epoch\n",
    "            current_length = 0\n",
    "        current_length += 1\n",
    "    bout_lengths[current_state].append(current_length)\n",
    "    bout_lengths.pop('X')\n",
    "    bout_lengths.pop('A')\n",
    "    total = {key:sum(bout_lengths[key])*10/60 for key in bout_lengths}\n",
    "    average = {key:np.mean(bout_lengths[key])*10 for key in bout_lengths}\n",
    "    counts = {key:len(bout_lengths[key]) for key in bout_lengths}\n",
    "    \n",
    "    return pd.DataFrame([pd.Series(total,name='total'),pd.Series(average,name='average'),pd.Series(counts,name='counts')])"
   ]
  },
  {
   "cell_type": "code",
   "execution_count": null,
   "metadata": {},
   "outputs": [],
   "source": [
    "stats = get_bout_statistics_for_predictions(y_true)\n",
    "stats"
   ]
  },
  {
   "cell_type": "code",
   "execution_count": null,
   "metadata": {},
   "outputs": [],
   "source": [
    "stats = get_bout_statistics_for_predictions(y_pred)\n",
    "stats"
   ]
  },
  {
   "cell_type": "code",
   "execution_count": null,
   "metadata": {},
   "outputs": [],
   "source": [
    "import plotly.express as px\n",
    "fig = px.line(data_frame=pd.DataFrame([y_pred.numpy(),y_true.numpy()]).T)\n",
    "fig.show(renderer='browser')"
   ]
  },
  {
   "cell_type": "code",
   "execution_count": null,
   "metadata": {},
   "outputs": [],
   "source": [
    "for filename in ids:\n",
    "    print(filename)\n",
    "    if filename == '22-Oct-A':\n",
    "        continue\n",
    "    fs = 500\n",
    "    raw = read_raw_edf((f'../data/courtney_aug_oct_2022_baseline_recordings/1_raw_edf/{filename}.edf'),verbose=False)\n",
    "    measurement_date = raw.info[\"meas_date\"]\n",
    "    eeg = raw.get_data(picks='EEG 1')[0]\n",
    "    df = pd.read_excel(f'../data/courtney_aug_oct_2022_baseline_recordings/2_labels/CW {filename} Baseline.xls')\n",
    "    df = df.drop(0).reset_index(drop=True)\n",
    "    df = fix_gaps(df)\n",
    "    df.loc[df['Label'] == 'X','Label'] = NA\n",
    "    df = df.fillna(method='ffill')\n",
    "    print(df['Start Time'].diff().value_counts())\n",
    "    print(df['Label'].value_counts())\n",
    "    start_time = df['Start Time'][0]\n",
    "    end_time = df.iloc[-1,0]\n",
    "    length = (end_time - start_time)\n",
    "    times = [start_time + datetime.timedelta(seconds=10*i) for  i in range(int((length.days*86400 + length.seconds)/10)+1)]\n",
    "    print(len(times))\n",
    "    print(times[0])\n",
    "    print(times[-1])\n",
    "    eeg = raw.get_data(picks='EEG 1')[0]\n",
    "    print(eeg.shape[0]/500)\n",
    "    measurement_date = measurement_date.replace(tzinfo=None)\n",
    "    offset = df.iloc[0,0] - measurement_date\n",
    "    eeg = eeg[offset.seconds*500:]\n",
    "    print(eeg.shape[0]/500)\n",
    "    eeg = eeg[:len(times)*5000]\n",
    "    print(eeg.shape[0]/500)\n",
    "    eeg = from_numpy(eeg.reshape(-1, 5000)).float()\n",
    "    print(eeg.shape)\n",
    "    y = one_hot(from_numpy(Categorical(df['Label']).codes.copy()).long()).float()\n",
    "    dataloader = DataLoader(Windowset(eeg,y),batch_size=32,shuffle=False)\n",
    "    loss,metrics,y_true,y_pred,logits = evaluate(dataloader,model,criterion,DEVICE)\n",
    "    all_metrics = pd.concat([all_metrics,pd.Series(metrics,name=f'{filename}')],axis=1)"
   ]
  }
 ],
 "metadata": {
  "kernelspec": {
   "display_name": "Python 3.10.6 64-bit",
   "language": "python",
   "name": "python3"
  },
  "language_info": {
   "codemirror_mode": {
    "name": "ipython",
    "version": 3
   },
   "file_extension": ".py",
   "mimetype": "text/x-python",
   "name": "python",
   "nbconvert_exporter": "python",
   "pygments_lexer": "ipython3",
   "version": "3.11.4"
  },
  "orig_nbformat": 4,
  "vscode": {
   "interpreter": {
    "hash": "916dbcbb3f70747c44a77c7bcd40155683ae19c65e1c03b4aa3499c5328201f1"
   }
  }
 },
 "nbformat": 4,
 "nbformat_minor": 2
}
